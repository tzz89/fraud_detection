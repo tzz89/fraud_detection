{
 "cells": [
  {
   "cell_type": "markdown",
   "id": "5440382f",
   "metadata": {},
   "source": [
    "## In this notebook, we will create the golden test size to prevent data leakage\n",
    "\n",
    "In this dataset, there are not much preprocessing that is needed and since the columns are anonymized, we cannot do much feature engineering on the data except for feature crosses/polynomial features"
   ]
  },
  {
   "cell_type": "code",
   "execution_count": 3,
   "id": "02b9756e",
   "metadata": {},
   "outputs": [],
   "source": [
    "import os\n",
    "os.chdir(\"..\")"
   ]
  },
  {
   "cell_type": "code",
   "execution_count": 7,
   "id": "507f8a69",
   "metadata": {},
   "outputs": [],
   "source": [
    "from src.transform import generate_golden_test\n",
    "import pandas as pd"
   ]
  },
  {
   "cell_type": "code",
   "execution_count": 5,
   "id": "4f8ea003",
   "metadata": {},
   "outputs": [],
   "source": [
    "generate_golden_test(\"data/creditcard.csv\", \"Class\", \"data\")"
   ]
  },
  {
   "cell_type": "code",
   "execution_count": 8,
   "id": "4d547eb7",
   "metadata": {},
   "outputs": [],
   "source": [
    "## Checking split\n",
    "train_df=pd.read_csv(\"data/train.csv\", index_col=0)\n",
    "golden_df=pd.read_csv(\"data/golden.csv\", index_col=0)"
   ]
  },
  {
   "cell_type": "code",
   "execution_count": 16,
   "id": "417f5c50",
   "metadata": {},
   "outputs": [
    {
     "name": "stdout",
     "output_type": "stream",
     "text": [
      "Training Set: 242085 Percentage 0.8499966644078271\n",
      "0    241667\n",
      "1       418\n",
      "Name: Class, dtype: int64\n",
      "Percentage fraud 0.0017266662535886156\n",
      "\n",
      "Golden Set: 242085 Percentage 0.15000333559217294\n",
      "0    42648\n",
      "1       74\n",
      "Name: Class, dtype: int64\n",
      "Percentage fraud 0.0017321286456626562\n"
     ]
    }
   ],
   "source": [
    "print(f\"Training Set: {len(train_df)} Percentage {len(train_df)/(len(train_df)+len(golden_df))}\")\n",
    "print(train_df[\"Class\"].value_counts())\n",
    "print(f\"Percentage fraud {train_df['Class'].sum()/len(train_df)}\")\n",
    "print()\n",
    "print(f\"Golden Set: {len(train_df)} Percentage {len(golden_df)/(len(train_df)+len(golden_df))}\")\n",
    "print(golden_df[\"Class\"].value_counts())\n",
    "print(f\"Percentage fraud {golden_df['Class'].sum()/len(golden_df)}\")\n"
   ]
  },
  {
   "cell_type": "code",
   "execution_count": null,
   "id": "ec231be7",
   "metadata": {},
   "outputs": [],
   "source": []
  }
 ],
 "metadata": {
  "kernelspec": {
   "display_name": "Python 3 (ipykernel)",
   "language": "python",
   "name": "python3"
  },
  "language_info": {
   "codemirror_mode": {
    "name": "ipython",
    "version": 3
   },
   "file_extension": ".py",
   "mimetype": "text/x-python",
   "name": "python",
   "nbconvert_exporter": "python",
   "pygments_lexer": "ipython3",
   "version": "3.8.6"
  },
  "varInspector": {
   "cols": {
    "lenName": 16,
    "lenType": 16,
    "lenVar": 40
   },
   "kernels_config": {
    "python": {
     "delete_cmd_postfix": "",
     "delete_cmd_prefix": "del ",
     "library": "var_list.py",
     "varRefreshCmd": "print(var_dic_list())"
    },
    "r": {
     "delete_cmd_postfix": ") ",
     "delete_cmd_prefix": "rm(",
     "library": "var_list.r",
     "varRefreshCmd": "cat(var_dic_list()) "
    }
   },
   "types_to_exclude": [
    "module",
    "function",
    "builtin_function_or_method",
    "instance",
    "_Feature"
   ],
   "window_display": false
  }
 },
 "nbformat": 4,
 "nbformat_minor": 5
}
