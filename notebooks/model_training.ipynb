{
 "cells": [
  {
   "cell_type": "code",
   "execution_count": 1,
   "id": "cdffbeb6",
   "metadata": {},
   "outputs": [],
   "source": [
    "%load_ext autoreload\n",
    "%autoreload 2"
   ]
  },
  {
   "cell_type": "code",
   "execution_count": 2,
   "id": "d701fb1f",
   "metadata": {},
   "outputs": [],
   "source": [
    "import os\n",
    "os.chdir(\"..\")"
   ]
  },
  {
   "cell_type": "code",
   "execution_count": 18,
   "id": "6ed52f96",
   "metadata": {},
   "outputs": [],
   "source": [
    "from src.model_trainer import trainer, production_trainer"
   ]
  },
  {
   "cell_type": "code",
   "execution_count": 12,
   "id": "11ea350a",
   "metadata": {},
   "outputs": [],
   "source": [
    "# trainer()"
   ]
  },
  {
   "cell_type": "code",
   "execution_count": 15,
   "id": "bca3a216",
   "metadata": {},
   "outputs": [
    {
     "name": "stderr",
     "output_type": "stream",
     "text": [
      "\u001b[32m[I 2022-04-15 15:27:31,316]\u001b[0m A new study created in memory with name: no-name-5247ea56-8acd-4fee-a098-9ef712282ba3\u001b[0m\n"
     ]
    },
    {
     "name": "stdout",
     "output_type": "stream",
     "text": [
      "\n",
      "Performing training on model LGBMClassifier\n"
     ]
    },
    {
     "data": {
      "text/html": [
       "Finishing last run (ID:3oa99kj3) before initializing another..."
      ],
      "text/plain": [
       "<IPython.core.display.HTML object>"
      ]
     },
     "metadata": {},
     "output_type": "display_data"
    },
    {
     "name": "stdout",
     "output_type": "stream",
     "text": [
      "\n"
     ]
    },
    {
     "data": {
      "text/html": [
       "Waiting for W&B process to finish... <strong style=\"color:green\">(success).</strong>"
      ],
      "text/plain": [
       "<IPython.core.display.HTML object>"
      ]
     },
     "metadata": {},
     "output_type": "display_data"
    },
    {
     "data": {
      "text/html": [
       "Synced <strong style=\"color:#cdcd00\">azure-haze-218</strong>: <a href=\"https://wandb.ai/zuozhe/fraud_detection/runs/3oa99kj3\" target=\"_blank\">https://wandb.ai/zuozhe/fraud_detection/runs/3oa99kj3</a><br/>Synced 5 W&B file(s), 0 media file(s), 0 artifact file(s) and 0 other file(s)"
      ],
      "text/plain": [
       "<IPython.core.display.HTML object>"
      ]
     },
     "metadata": {},
     "output_type": "display_data"
    },
    {
     "data": {
      "text/html": [
       "Find logs at: <code>.\\wandb\\run-20220415_152420-3oa99kj3\\logs</code>"
      ],
      "text/plain": [
       "<IPython.core.display.HTML object>"
      ]
     },
     "metadata": {},
     "output_type": "display_data"
    },
    {
     "data": {
      "text/html": [
       "Successfully finished last run (ID:3oa99kj3). Initializing new run:<br/>"
      ],
      "text/plain": [
       "<IPython.core.display.HTML object>"
      ]
     },
     "metadata": {},
     "output_type": "display_data"
    },
    {
     "data": {
      "text/html": [
       "wandb version 0.12.14 is available!  To upgrade, please run:\n",
       " $ pip install wandb --upgrade"
      ],
      "text/plain": [
       "<IPython.core.display.HTML object>"
      ]
     },
     "metadata": {},
     "output_type": "display_data"
    },
    {
     "data": {
      "text/html": [
       "Tracking run with wandb version 0.12.12"
      ],
      "text/plain": [
       "<IPython.core.display.HTML object>"
      ]
     },
     "metadata": {},
     "output_type": "display_data"
    },
    {
     "data": {
      "text/html": [
       "Run data is saved locally in <code>C:\\Users\\teozz\\OneDrive\\Desktop\\vscode_workspace\\projects\\credit_card_fraud_detection\\wandb\\run-20220415_152731-ycl6wa1m</code>"
      ],
      "text/plain": [
       "<IPython.core.display.HTML object>"
      ]
     },
     "metadata": {},
     "output_type": "display_data"
    },
    {
     "data": {
      "text/html": [
       "Syncing run <strong><a href=\"https://wandb.ai/zuozhe/fraud_detection/runs/ycl6wa1m\" target=\"_blank\">stilted-field-219</a></strong> to <a href=\"https://wandb.ai/zuozhe/fraud_detection\" target=\"_blank\">Weights & Biases</a> (<a href=\"https://wandb.me/run\" target=\"_blank\">docs</a>)<br/>"
      ],
      "text/plain": [
       "<IPython.core.display.HTML object>"
      ]
     },
     "metadata": {},
     "output_type": "display_data"
    },
    {
     "name": "stderr",
     "output_type": "stream",
     "text": [
      "\u001b[32m[I 2022-04-15 15:35:16,080]\u001b[0m Trial 0 finished with value: 0.8460075794994977 and parameters: {'n_estimators': 1406, 'learning_rate': 0.010470140212838184, 'min_split_gain': 0.036037212632367574, 'objective': 'binary', 'metric': 'average_precision', 'is_unbalance': True}. Best is trial 0 with value: 0.8460075794994977.\u001b[0m\n"
     ]
    },
    {
     "data": {
      "text/html": [
       "Finishing last run (ID:ycl6wa1m) before initializing another..."
      ],
      "text/plain": [
       "<IPython.core.display.HTML object>"
      ]
     },
     "metadata": {},
     "output_type": "display_data"
    },
    {
     "name": "stdout",
     "output_type": "stream",
     "text": [
      "\n"
     ]
    },
    {
     "data": {
      "text/html": [
       "Waiting for W&B process to finish... <strong style=\"color:green\">(success).</strong>"
      ],
      "text/plain": [
       "<IPython.core.display.HTML object>"
      ]
     },
     "metadata": {},
     "output_type": "display_data"
    },
    {
     "data": {
      "text/html": [
       "<style>\n",
       "    table.wandb td:nth-child(1) { padding: 0 10px; text-align: right }\n",
       "    .wandb-row { display: flex; flex-direction: row; flex-wrap: wrap; width: 100% }\n",
       "    .wandb-col { display: flex; flex-direction: column; flex-basis: 100%; flex: 1; padding: 10px; }\n",
       "    </style>\n",
       "<div class=\"wandb-row\"><div class=\"wandb-col\"><h3>Run history:</h3><br/><table class=\"wandb\"><tr><td>fit_time</td><td>▁</td></tr><tr><td>is_unbalance</td><td>▁</td></tr><tr><td>learning_rate</td><td>▁</td></tr><tr><td>min_split_gain</td><td>▁</td></tr><tr><td>n_estimators</td><td>▁</td></tr><tr><td>on_golden_test</td><td>▁</td></tr><tr><td>score_time</td><td>▁</td></tr><tr><td>test_accuracy</td><td>▁</td></tr><tr><td>test_average_precision</td><td>▁</td></tr><tr><td>test_f1</td><td>▁</td></tr><tr><td>test_precision</td><td>▁</td></tr><tr><td>test_recall</td><td>▁</td></tr><tr><td>test_roc_auc</td><td>▁</td></tr><tr><td>train_accuracy</td><td>▁</td></tr><tr><td>train_average_precision</td><td>▁</td></tr><tr><td>train_f1</td><td>▁</td></tr><tr><td>train_precision</td><td>▁</td></tr><tr><td>train_recall</td><td>▁</td></tr><tr><td>train_roc_auc</td><td>▁</td></tr></table><br/></div><div class=\"wandb-col\"><h3>Run summary:</h3><br/><table class=\"wandb\"><tr><td>fit_time</td><td>78.78801</td></tr><tr><td>is_unbalance</td><td>True</td></tr><tr><td>learning_rate</td><td>0.01047</td></tr><tr><td>metric</td><td>average_precision</td></tr><tr><td>min_split_gain</td><td>0.03604</td></tr><tr><td>model_name</td><td>LGBMClassifier</td></tr><tr><td>n_estimators</td><td>1406</td></tr><tr><td>objective</td><td>binary</td></tr><tr><td>on_golden_test</td><td>False</td></tr><tr><td>score_time</td><td>39.8628</td></tr><tr><td>test_accuracy</td><td>0.9995</td></tr><tr><td>test_average_precision</td><td>0.84601</td></tr><tr><td>test_f1</td><td>0.84714</td></tr><tr><td>test_precision</td><td>0.90114</td></tr><tr><td>test_recall</td><td>0.80158</td></tr><tr><td>test_roc_auc</td><td>0.97207</td></tr><tr><td>train_accuracy</td><td>1.0</td></tr><tr><td>train_average_precision</td><td>1.0</td></tr><tr><td>train_f1</td><td>1.0</td></tr><tr><td>train_precision</td><td>1.0</td></tr><tr><td>train_recall</td><td>1.0</td></tr><tr><td>train_roc_auc</td><td>1.0</td></tr></table><br/></div></div>"
      ],
      "text/plain": [
       "<IPython.core.display.HTML object>"
      ]
     },
     "metadata": {},
     "output_type": "display_data"
    },
    {
     "data": {
      "text/html": [
       "Synced <strong style=\"color:#cdcd00\">stilted-field-219</strong>: <a href=\"https://wandb.ai/zuozhe/fraud_detection/runs/ycl6wa1m\" target=\"_blank\">https://wandb.ai/zuozhe/fraud_detection/runs/ycl6wa1m</a><br/>Synced 5 W&B file(s), 0 media file(s), 0 artifact file(s) and 0 other file(s)"
      ],
      "text/plain": [
       "<IPython.core.display.HTML object>"
      ]
     },
     "metadata": {},
     "output_type": "display_data"
    },
    {
     "data": {
      "text/html": [
       "Find logs at: <code>.\\wandb\\run-20220415_152731-ycl6wa1m\\logs</code>"
      ],
      "text/plain": [
       "<IPython.core.display.HTML object>"
      ]
     },
     "metadata": {},
     "output_type": "display_data"
    },
    {
     "data": {
      "text/html": [
       "Successfully finished last run (ID:ycl6wa1m). Initializing new run:<br/>"
      ],
      "text/plain": [
       "<IPython.core.display.HTML object>"
      ]
     },
     "metadata": {},
     "output_type": "display_data"
    },
    {
     "data": {
      "text/html": [
       "wandb version 0.12.14 is available!  To upgrade, please run:\n",
       " $ pip install wandb --upgrade"
      ],
      "text/plain": [
       "<IPython.core.display.HTML object>"
      ]
     },
     "metadata": {},
     "output_type": "display_data"
    },
    {
     "data": {
      "text/html": [
       "Tracking run with wandb version 0.12.12"
      ],
      "text/plain": [
       "<IPython.core.display.HTML object>"
      ]
     },
     "metadata": {},
     "output_type": "display_data"
    },
    {
     "data": {
      "text/html": [
       "Run data is saved locally in <code>C:\\Users\\teozz\\OneDrive\\Desktop\\vscode_workspace\\projects\\credit_card_fraud_detection\\wandb\\run-20220415_153516-df1a898o</code>"
      ],
      "text/plain": [
       "<IPython.core.display.HTML object>"
      ]
     },
     "metadata": {},
     "output_type": "display_data"
    },
    {
     "data": {
      "text/html": [
       "Syncing run <strong><a href=\"https://wandb.ai/zuozhe/fraud_detection/runs/df1a898o\" target=\"_blank\">different-armadillo-220</a></strong> to <a href=\"https://wandb.ai/zuozhe/fraud_detection\" target=\"_blank\">Weights & Biases</a> (<a href=\"https://wandb.me/run\" target=\"_blank\">docs</a>)<br/>"
      ],
      "text/plain": [
       "<IPython.core.display.HTML object>"
      ]
     },
     "metadata": {},
     "output_type": "display_data"
    },
    {
     "name": "stderr",
     "output_type": "stream",
     "text": [
      "\u001b[32m[I 2022-04-15 15:44:17,507]\u001b[0m Trial 1 finished with value: 0.848877719078416 and parameters: {'n_estimators': 1609, 'learning_rate': 0.006709793247975232, 'min_split_gain': 0.03388341557212988, 'objective': 'binary', 'metric': 'average_precision', 'is_unbalance': True}. Best is trial 1 with value: 0.848877719078416.\u001b[0m\n"
     ]
    },
    {
     "data": {
      "text/html": [
       "Finishing last run (ID:df1a898o) before initializing another..."
      ],
      "text/plain": [
       "<IPython.core.display.HTML object>"
      ]
     },
     "metadata": {},
     "output_type": "display_data"
    },
    {
     "name": "stdout",
     "output_type": "stream",
     "text": [
      "\n"
     ]
    },
    {
     "data": {
      "text/html": [
       "Waiting for W&B process to finish... <strong style=\"color:green\">(success).</strong>"
      ],
      "text/plain": [
       "<IPython.core.display.HTML object>"
      ]
     },
     "metadata": {},
     "output_type": "display_data"
    },
    {
     "data": {
      "text/html": [
       "<style>\n",
       "    table.wandb td:nth-child(1) { padding: 0 10px; text-align: right }\n",
       "    .wandb-row { display: flex; flex-direction: row; flex-wrap: wrap; width: 100% }\n",
       "    .wandb-col { display: flex; flex-direction: column; flex-basis: 100%; flex: 1; padding: 10px; }\n",
       "    </style>\n",
       "<div class=\"wandb-row\"><div class=\"wandb-col\"><h3>Run history:</h3><br/><table class=\"wandb\"><tr><td>fit_time</td><td>▁</td></tr><tr><td>is_unbalance</td><td>▁</td></tr><tr><td>learning_rate</td><td>▁</td></tr><tr><td>min_split_gain</td><td>▁</td></tr><tr><td>n_estimators</td><td>▁</td></tr><tr><td>on_golden_test</td><td>▁</td></tr><tr><td>score_time</td><td>▁</td></tr><tr><td>test_accuracy</td><td>▁</td></tr><tr><td>test_average_precision</td><td>▁</td></tr><tr><td>test_f1</td><td>▁</td></tr><tr><td>test_precision</td><td>▁</td></tr><tr><td>test_recall</td><td>▁</td></tr><tr><td>test_roc_auc</td><td>▁</td></tr><tr><td>train_accuracy</td><td>▁</td></tr><tr><td>train_average_precision</td><td>▁</td></tr><tr><td>train_f1</td><td>▁</td></tr><tr><td>train_precision</td><td>▁</td></tr><tr><td>train_recall</td><td>▁</td></tr><tr><td>train_roc_auc</td><td>▁</td></tr></table><br/></div><div class=\"wandb-col\"><h3>Run summary:</h3><br/><table class=\"wandb\"><tr><td>fit_time</td><td>90.42901</td></tr><tr><td>is_unbalance</td><td>True</td></tr><tr><td>learning_rate</td><td>0.00671</td></tr><tr><td>metric</td><td>average_precision</td></tr><tr><td>min_split_gain</td><td>0.03388</td></tr><tr><td>model_name</td><td>LGBMClassifier</td></tr><tr><td>n_estimators</td><td>1609</td></tr><tr><td>objective</td><td>binary</td></tr><tr><td>on_golden_test</td><td>False</td></tr><tr><td>score_time</td><td>50.42461</td></tr><tr><td>test_accuracy</td><td>0.9995</td></tr><tr><td>test_average_precision</td><td>0.84888</td></tr><tr><td>test_f1</td><td>0.84825</td></tr><tr><td>test_precision</td><td>0.88612</td></tr><tr><td>test_recall</td><td>0.81592</td></tr><tr><td>test_roc_auc</td><td>0.97556</td></tr><tr><td>train_accuracy</td><td>1.0</td></tr><tr><td>train_average_precision</td><td>1.0</td></tr><tr><td>train_f1</td><td>1.0</td></tr><tr><td>train_precision</td><td>1.0</td></tr><tr><td>train_recall</td><td>1.0</td></tr><tr><td>train_roc_auc</td><td>1.0</td></tr></table><br/></div></div>"
      ],
      "text/plain": [
       "<IPython.core.display.HTML object>"
      ]
     },
     "metadata": {},
     "output_type": "display_data"
    },
    {
     "data": {
      "text/html": [
       "Synced <strong style=\"color:#cdcd00\">different-armadillo-220</strong>: <a href=\"https://wandb.ai/zuozhe/fraud_detection/runs/df1a898o\" target=\"_blank\">https://wandb.ai/zuozhe/fraud_detection/runs/df1a898o</a><br/>Synced 5 W&B file(s), 0 media file(s), 0 artifact file(s) and 0 other file(s)"
      ],
      "text/plain": [
       "<IPython.core.display.HTML object>"
      ]
     },
     "metadata": {},
     "output_type": "display_data"
    },
    {
     "data": {
      "text/html": [
       "Find logs at: <code>.\\wandb\\run-20220415_153516-df1a898o\\logs</code>"
      ],
      "text/plain": [
       "<IPython.core.display.HTML object>"
      ]
     },
     "metadata": {},
     "output_type": "display_data"
    },
    {
     "data": {
      "text/html": [
       "Successfully finished last run (ID:df1a898o). Initializing new run:<br/>"
      ],
      "text/plain": [
       "<IPython.core.display.HTML object>"
      ]
     },
     "metadata": {},
     "output_type": "display_data"
    },
    {
     "data": {
      "text/html": [
       "wandb version 0.12.14 is available!  To upgrade, please run:\n",
       " $ pip install wandb --upgrade"
      ],
      "text/plain": [
       "<IPython.core.display.HTML object>"
      ]
     },
     "metadata": {},
     "output_type": "display_data"
    },
    {
     "data": {
      "text/html": [
       "Tracking run with wandb version 0.12.12"
      ],
      "text/plain": [
       "<IPython.core.display.HTML object>"
      ]
     },
     "metadata": {},
     "output_type": "display_data"
    },
    {
     "data": {
      "text/html": [
       "Run data is saved locally in <code>C:\\Users\\teozz\\OneDrive\\Desktop\\vscode_workspace\\projects\\credit_card_fraud_detection\\wandb\\run-20220415_154417-3kiplzo1</code>"
      ],
      "text/plain": [
       "<IPython.core.display.HTML object>"
      ]
     },
     "metadata": {},
     "output_type": "display_data"
    },
    {
     "data": {
      "text/html": [
       "Syncing run <strong><a href=\"https://wandb.ai/zuozhe/fraud_detection/runs/3kiplzo1\" target=\"_blank\">stilted-sky-221</a></strong> to <a href=\"https://wandb.ai/zuozhe/fraud_detection\" target=\"_blank\">Weights & Biases</a> (<a href=\"https://wandb.me/run\" target=\"_blank\">docs</a>)<br/>"
      ],
      "text/plain": [
       "<IPython.core.display.HTML object>"
      ]
     },
     "metadata": {},
     "output_type": "display_data"
    },
    {
     "name": "stderr",
     "output_type": "stream",
     "text": [
      "\u001b[32m[I 2022-04-15 15:47:17,094]\u001b[0m Trial 2 finished with value: 0.8280037057890406 and parameters: {'n_estimators': 1588, 'learning_rate': 0.019637685975407916, 'min_split_gain': 0.05825243804680699, 'objective': 'binary', 'metric': 'average_precision', 'is_unbalance': True}. Best is trial 1 with value: 0.848877719078416.\u001b[0m\n"
     ]
    },
    {
     "data": {
      "text/html": [
       "Finishing last run (ID:3kiplzo1) before initializing another..."
      ],
      "text/plain": [
       "<IPython.core.display.HTML object>"
      ]
     },
     "metadata": {},
     "output_type": "display_data"
    },
    {
     "name": "stdout",
     "output_type": "stream",
     "text": [
      "\n"
     ]
    },
    {
     "data": {
      "text/html": [
       "Waiting for W&B process to finish... <strong style=\"color:green\">(success).</strong>"
      ],
      "text/plain": [
       "<IPython.core.display.HTML object>"
      ]
     },
     "metadata": {},
     "output_type": "display_data"
    },
    {
     "data": {
      "text/html": [
       "<style>\n",
       "    table.wandb td:nth-child(1) { padding: 0 10px; text-align: right }\n",
       "    .wandb-row { display: flex; flex-direction: row; flex-wrap: wrap; width: 100% }\n",
       "    .wandb-col { display: flex; flex-direction: column; flex-basis: 100%; flex: 1; padding: 10px; }\n",
       "    </style>\n",
       "<div class=\"wandb-row\"><div class=\"wandb-col\"><h3>Run history:</h3><br/><table class=\"wandb\"><tr><td>fit_time</td><td>▁</td></tr><tr><td>is_unbalance</td><td>▁</td></tr><tr><td>learning_rate</td><td>▁</td></tr><tr><td>min_split_gain</td><td>▁</td></tr><tr><td>n_estimators</td><td>▁</td></tr><tr><td>on_golden_test</td><td>▁</td></tr><tr><td>score_time</td><td>▁</td></tr><tr><td>test_accuracy</td><td>▁</td></tr><tr><td>test_average_precision</td><td>▁</td></tr><tr><td>test_f1</td><td>▁</td></tr><tr><td>test_precision</td><td>▁</td></tr><tr><td>test_recall</td><td>▁</td></tr><tr><td>test_roc_auc</td><td>▁</td></tr><tr><td>train_accuracy</td><td>▁</td></tr><tr><td>train_average_precision</td><td>▁</td></tr><tr><td>train_f1</td><td>▁</td></tr><tr><td>train_precision</td><td>▁</td></tr><tr><td>train_recall</td><td>▁</td></tr><tr><td>train_roc_auc</td><td>▁</td></tr></table><br/></div><div class=\"wandb-col\"><h3>Run summary:</h3><br/><table class=\"wandb\"><tr><td>fit_time</td><td>53.1858</td></tr><tr><td>is_unbalance</td><td>True</td></tr><tr><td>learning_rate</td><td>0.01964</td></tr><tr><td>metric</td><td>average_precision</td></tr><tr><td>min_split_gain</td><td>0.05825</td></tr><tr><td>model_name</td><td>LGBMClassifier</td></tr><tr><td>n_estimators</td><td>1588</td></tr><tr><td>objective</td><td>binary</td></tr><tr><td>on_golden_test</td><td>False</td></tr><tr><td>score_time</td><td>12.93541</td></tr><tr><td>test_accuracy</td><td>0.99948</td></tr><tr><td>test_average_precision</td><td>0.828</td></tr><tr><td>test_f1</td><td>0.84335</td></tr><tr><td>test_precision</td><td>0.88962</td></tr><tr><td>test_recall</td><td>0.80399</td></tr><tr><td>test_roc_auc</td><td>0.95208</td></tr><tr><td>train_accuracy</td><td>1.0</td></tr><tr><td>train_average_precision</td><td>1.0</td></tr><tr><td>train_f1</td><td>1.0</td></tr><tr><td>train_precision</td><td>1.0</td></tr><tr><td>train_recall</td><td>1.0</td></tr><tr><td>train_roc_auc</td><td>1.0</td></tr></table><br/></div></div>"
      ],
      "text/plain": [
       "<IPython.core.display.HTML object>"
      ]
     },
     "metadata": {},
     "output_type": "display_data"
    },
    {
     "data": {
      "text/html": [
       "Synced <strong style=\"color:#cdcd00\">stilted-sky-221</strong>: <a href=\"https://wandb.ai/zuozhe/fraud_detection/runs/3kiplzo1\" target=\"_blank\">https://wandb.ai/zuozhe/fraud_detection/runs/3kiplzo1</a><br/>Synced 5 W&B file(s), 0 media file(s), 0 artifact file(s) and 0 other file(s)"
      ],
      "text/plain": [
       "<IPython.core.display.HTML object>"
      ]
     },
     "metadata": {},
     "output_type": "display_data"
    },
    {
     "data": {
      "text/html": [
       "Find logs at: <code>.\\wandb\\run-20220415_154417-3kiplzo1\\logs</code>"
      ],
      "text/plain": [
       "<IPython.core.display.HTML object>"
      ]
     },
     "metadata": {},
     "output_type": "display_data"
    },
    {
     "data": {
      "text/html": [
       "Successfully finished last run (ID:3kiplzo1). Initializing new run:<br/>"
      ],
      "text/plain": [
       "<IPython.core.display.HTML object>"
      ]
     },
     "metadata": {},
     "output_type": "display_data"
    },
    {
     "data": {
      "text/html": [
       "wandb version 0.12.14 is available!  To upgrade, please run:\n",
       " $ pip install wandb --upgrade"
      ],
      "text/plain": [
       "<IPython.core.display.HTML object>"
      ]
     },
     "metadata": {},
     "output_type": "display_data"
    },
    {
     "data": {
      "text/html": [
       "Tracking run with wandb version 0.12.12"
      ],
      "text/plain": [
       "<IPython.core.display.HTML object>"
      ]
     },
     "metadata": {},
     "output_type": "display_data"
    },
    {
     "data": {
      "text/html": [
       "Run data is saved locally in <code>C:\\Users\\teozz\\OneDrive\\Desktop\\vscode_workspace\\projects\\credit_card_fraud_detection\\wandb\\run-20220415_154717-4kmzdcsj</code>"
      ],
      "text/plain": [
       "<IPython.core.display.HTML object>"
      ]
     },
     "metadata": {},
     "output_type": "display_data"
    },
    {
     "data": {
      "text/html": [
       "Syncing run <strong><a href=\"https://wandb.ai/zuozhe/fraud_detection/runs/4kmzdcsj\" target=\"_blank\">divine-grass-222</a></strong> to <a href=\"https://wandb.ai/zuozhe/fraud_detection\" target=\"_blank\">Weights & Biases</a> (<a href=\"https://wandb.me/run\" target=\"_blank\">docs</a>)<br/>"
      ],
      "text/plain": [
       "<IPython.core.display.HTML object>"
      ]
     },
     "metadata": {},
     "output_type": "display_data"
    },
    {
     "name": "stderr",
     "output_type": "stream",
     "text": [
      "\u001b[32m[I 2022-04-15 15:49:45,037]\u001b[0m Trial 3 finished with value: 0.8081798135610946 and parameters: {'n_estimators': 2034, 'learning_rate': 0.024352425368644345, 'min_split_gain': 0.06941653804564617, 'objective': 'binary', 'metric': 'average_precision', 'is_unbalance': True}. Best is trial 1 with value: 0.848877719078416.\u001b[0m\n"
     ]
    },
    {
     "data": {
      "text/html": [
       "Finishing last run (ID:4kmzdcsj) before initializing another..."
      ],
      "text/plain": [
       "<IPython.core.display.HTML object>"
      ]
     },
     "metadata": {},
     "output_type": "display_data"
    },
    {
     "name": "stdout",
     "output_type": "stream",
     "text": [
      "\n"
     ]
    },
    {
     "data": {
      "text/html": [
       "Waiting for W&B process to finish... <strong style=\"color:green\">(success).</strong>"
      ],
      "text/plain": [
       "<IPython.core.display.HTML object>"
      ]
     },
     "metadata": {},
     "output_type": "display_data"
    },
    {
     "data": {
      "text/html": [
       "<style>\n",
       "    table.wandb td:nth-child(1) { padding: 0 10px; text-align: right }\n",
       "    .wandb-row { display: flex; flex-direction: row; flex-wrap: wrap; width: 100% }\n",
       "    .wandb-col { display: flex; flex-direction: column; flex-basis: 100%; flex: 1; padding: 10px; }\n",
       "    </style>\n",
       "<div class=\"wandb-row\"><div class=\"wandb-col\"><h3>Run history:</h3><br/><table class=\"wandb\"><tr><td>fit_time</td><td>▁</td></tr><tr><td>is_unbalance</td><td>▁</td></tr><tr><td>learning_rate</td><td>▁</td></tr><tr><td>min_split_gain</td><td>▁</td></tr><tr><td>n_estimators</td><td>▁</td></tr><tr><td>on_golden_test</td><td>▁</td></tr><tr><td>score_time</td><td>▁</td></tr><tr><td>test_accuracy</td><td>▁</td></tr><tr><td>test_average_precision</td><td>▁</td></tr><tr><td>test_f1</td><td>▁</td></tr><tr><td>test_precision</td><td>▁</td></tr><tr><td>test_recall</td><td>▁</td></tr><tr><td>test_roc_auc</td><td>▁</td></tr><tr><td>train_accuracy</td><td>▁</td></tr><tr><td>train_average_precision</td><td>▁</td></tr><tr><td>train_f1</td><td>▁</td></tr><tr><td>train_precision</td><td>▁</td></tr><tr><td>train_recall</td><td>▁</td></tr><tr><td>train_roc_auc</td><td>▁</td></tr></table><br/></div><div class=\"wandb-col\"><h3>Run summary:</h3><br/><table class=\"wandb\"><tr><td>fit_time</td><td>52.0296</td></tr><tr><td>is_unbalance</td><td>True</td></tr><tr><td>learning_rate</td><td>0.02435</td></tr><tr><td>metric</td><td>average_precision</td></tr><tr><td>min_split_gain</td><td>0.06942</td></tr><tr><td>model_name</td><td>LGBMClassifier</td></tr><tr><td>n_estimators</td><td>2034</td></tr><tr><td>objective</td><td>binary</td></tr><tr><td>on_golden_test</td><td>False</td></tr><tr><td>score_time</td><td>6.86901</td></tr><tr><td>test_accuracy</td><td>0.99936</td></tr><tr><td>test_average_precision</td><td>0.80818</td></tr><tr><td>test_f1</td><td>0.80851</td></tr><tr><td>test_precision</td><td>0.83613</td></tr><tr><td>test_recall</td><td>0.78488</td></tr><tr><td>test_roc_auc</td><td>0.9289</td></tr><tr><td>train_accuracy</td><td>1.0</td></tr><tr><td>train_average_precision</td><td>1.0</td></tr><tr><td>train_f1</td><td>1.0</td></tr><tr><td>train_precision</td><td>1.0</td></tr><tr><td>train_recall</td><td>1.0</td></tr><tr><td>train_roc_auc</td><td>1.0</td></tr></table><br/></div></div>"
      ],
      "text/plain": [
       "<IPython.core.display.HTML object>"
      ]
     },
     "metadata": {},
     "output_type": "display_data"
    },
    {
     "data": {
      "text/html": [
       "Synced <strong style=\"color:#cdcd00\">divine-grass-222</strong>: <a href=\"https://wandb.ai/zuozhe/fraud_detection/runs/4kmzdcsj\" target=\"_blank\">https://wandb.ai/zuozhe/fraud_detection/runs/4kmzdcsj</a><br/>Synced 5 W&B file(s), 0 media file(s), 0 artifact file(s) and 0 other file(s)"
      ],
      "text/plain": [
       "<IPython.core.display.HTML object>"
      ]
     },
     "metadata": {},
     "output_type": "display_data"
    },
    {
     "data": {
      "text/html": [
       "Find logs at: <code>.\\wandb\\run-20220415_154717-4kmzdcsj\\logs</code>"
      ],
      "text/plain": [
       "<IPython.core.display.HTML object>"
      ]
     },
     "metadata": {},
     "output_type": "display_data"
    },
    {
     "data": {
      "text/html": [
       "Successfully finished last run (ID:4kmzdcsj). Initializing new run:<br/>"
      ],
      "text/plain": [
       "<IPython.core.display.HTML object>"
      ]
     },
     "metadata": {},
     "output_type": "display_data"
    },
    {
     "data": {
      "text/html": [
       "wandb version 0.12.14 is available!  To upgrade, please run:\n",
       " $ pip install wandb --upgrade"
      ],
      "text/plain": [
       "<IPython.core.display.HTML object>"
      ]
     },
     "metadata": {},
     "output_type": "display_data"
    },
    {
     "data": {
      "text/html": [
       "Tracking run with wandb version 0.12.12"
      ],
      "text/plain": [
       "<IPython.core.display.HTML object>"
      ]
     },
     "metadata": {},
     "output_type": "display_data"
    },
    {
     "data": {
      "text/html": [
       "Run data is saved locally in <code>C:\\Users\\teozz\\OneDrive\\Desktop\\vscode_workspace\\projects\\credit_card_fraud_detection\\wandb\\run-20220415_154945-5jwmq45s</code>"
      ],
      "text/plain": [
       "<IPython.core.display.HTML object>"
      ]
     },
     "metadata": {},
     "output_type": "display_data"
    },
    {
     "data": {
      "text/html": [
       "Syncing run <strong><a href=\"https://wandb.ai/zuozhe/fraud_detection/runs/5jwmq45s\" target=\"_blank\">dry-sunset-223</a></strong> to <a href=\"https://wandb.ai/zuozhe/fraud_detection\" target=\"_blank\">Weights & Biases</a> (<a href=\"https://wandb.me/run\" target=\"_blank\">docs</a>)<br/>"
      ],
      "text/plain": [
       "<IPython.core.display.HTML object>"
      ]
     },
     "metadata": {},
     "output_type": "display_data"
    },
    {
     "name": "stderr",
     "output_type": "stream",
     "text": [
      "\u001b[32m[I 2022-04-15 15:58:32,400]\u001b[0m Trial 4 finished with value: 0.7952242744101822 and parameters: {'n_estimators': 1473, 'learning_rate': 0.003980707725531646, 'min_split_gain': 0.05125888335462397, 'objective': 'binary', 'metric': 'average_precision', 'is_unbalance': True}. Best is trial 1 with value: 0.848877719078416.\u001b[0m\n"
     ]
    },
    {
     "data": {
      "text/html": [
       "Finishing last run (ID:5jwmq45s) before initializing another..."
      ],
      "text/plain": [
       "<IPython.core.display.HTML object>"
      ]
     },
     "metadata": {},
     "output_type": "display_data"
    },
    {
     "name": "stdout",
     "output_type": "stream",
     "text": [
      "\n"
     ]
    },
    {
     "data": {
      "text/html": [
       "Waiting for W&B process to finish... <strong style=\"color:green\">(success).</strong>"
      ],
      "text/plain": [
       "<IPython.core.display.HTML object>"
      ]
     },
     "metadata": {},
     "output_type": "display_data"
    },
    {
     "data": {
      "text/html": [
       "<style>\n",
       "    table.wandb td:nth-child(1) { padding: 0 10px; text-align: right }\n",
       "    .wandb-row { display: flex; flex-direction: row; flex-wrap: wrap; width: 100% }\n",
       "    .wandb-col { display: flex; flex-direction: column; flex-basis: 100%; flex: 1; padding: 10px; }\n",
       "    </style>\n",
       "<div class=\"wandb-row\"><div class=\"wandb-col\"><h3>Run history:</h3><br/><table class=\"wandb\"><tr><td>fit_time</td><td>▁</td></tr><tr><td>is_unbalance</td><td>▁</td></tr><tr><td>learning_rate</td><td>▁</td></tr><tr><td>min_split_gain</td><td>▁</td></tr><tr><td>n_estimators</td><td>▁</td></tr><tr><td>on_golden_test</td><td>▁</td></tr><tr><td>score_time</td><td>▁</td></tr><tr><td>test_accuracy</td><td>▁</td></tr><tr><td>test_average_precision</td><td>▁</td></tr><tr><td>test_f1</td><td>▁</td></tr><tr><td>test_precision</td><td>▁</td></tr><tr><td>test_recall</td><td>▁</td></tr><tr><td>test_roc_auc</td><td>▁</td></tr><tr><td>train_accuracy</td><td>▁</td></tr><tr><td>train_average_precision</td><td>▁</td></tr><tr><td>train_f1</td><td>▁</td></tr><tr><td>train_precision</td><td>▁</td></tr><tr><td>train_recall</td><td>▁</td></tr><tr><td>train_roc_auc</td><td>▁</td></tr></table><br/></div><div class=\"wandb-col\"><h3>Run summary:</h3><br/><table class=\"wandb\"><tr><td>fit_time</td><td>95.1568</td></tr><tr><td>is_unbalance</td><td>True</td></tr><tr><td>learning_rate</td><td>0.00398</td></tr><tr><td>metric</td><td>average_precision</td></tr><tr><td>min_split_gain</td><td>0.05126</td></tr><tr><td>model_name</td><td>LGBMClassifier</td></tr><tr><td>n_estimators</td><td>1473</td></tr><tr><td>objective</td><td>binary</td></tr><tr><td>on_golden_test</td><td>False</td></tr><tr><td>score_time</td><td>49.45755</td></tr><tr><td>test_accuracy</td><td>0.99933</td></tr><tr><td>test_average_precision</td><td>0.79522</td></tr><tr><td>test_f1</td><td>0.81066</td></tr><tr><td>test_precision</td><td>0.79205</td></tr><tr><td>test_recall</td><td>0.83273</td></tr><tr><td>test_roc_auc</td><td>0.97789</td></tr><tr><td>train_accuracy</td><td>0.99975</td></tr><tr><td>train_average_precision</td><td>0.95712</td></tr><tr><td>train_f1</td><td>0.93256</td></tr><tr><td>train_precision</td><td>0.87371</td></tr><tr><td>train_recall</td><td>1.0</td></tr><tr><td>train_roc_auc</td><td>0.99996</td></tr></table><br/></div></div>"
      ],
      "text/plain": [
       "<IPython.core.display.HTML object>"
      ]
     },
     "metadata": {},
     "output_type": "display_data"
    },
    {
     "data": {
      "text/html": [
       "Synced <strong style=\"color:#cdcd00\">dry-sunset-223</strong>: <a href=\"https://wandb.ai/zuozhe/fraud_detection/runs/5jwmq45s\" target=\"_blank\">https://wandb.ai/zuozhe/fraud_detection/runs/5jwmq45s</a><br/>Synced 5 W&B file(s), 0 media file(s), 0 artifact file(s) and 0 other file(s)"
      ],
      "text/plain": [
       "<IPython.core.display.HTML object>"
      ]
     },
     "metadata": {},
     "output_type": "display_data"
    },
    {
     "data": {
      "text/html": [
       "Find logs at: <code>.\\wandb\\run-20220415_154945-5jwmq45s\\logs</code>"
      ],
      "text/plain": [
       "<IPython.core.display.HTML object>"
      ]
     },
     "metadata": {},
     "output_type": "display_data"
    },
    {
     "data": {
      "text/html": [
       "Successfully finished last run (ID:5jwmq45s). Initializing new run:<br/>"
      ],
      "text/plain": [
       "<IPython.core.display.HTML object>"
      ]
     },
     "metadata": {},
     "output_type": "display_data"
    },
    {
     "data": {
      "text/html": [
       "wandb version 0.12.14 is available!  To upgrade, please run:\n",
       " $ pip install wandb --upgrade"
      ],
      "text/plain": [
       "<IPython.core.display.HTML object>"
      ]
     },
     "metadata": {},
     "output_type": "display_data"
    },
    {
     "data": {
      "text/html": [
       "Tracking run with wandb version 0.12.12"
      ],
      "text/plain": [
       "<IPython.core.display.HTML object>"
      ]
     },
     "metadata": {},
     "output_type": "display_data"
    },
    {
     "data": {
      "text/html": [
       "Run data is saved locally in <code>C:\\Users\\teozz\\OneDrive\\Desktop\\vscode_workspace\\projects\\credit_card_fraud_detection\\wandb\\run-20220415_155832-2nkzmdkd</code>"
      ],
      "text/plain": [
       "<IPython.core.display.HTML object>"
      ]
     },
     "metadata": {},
     "output_type": "display_data"
    },
    {
     "data": {
      "text/html": [
       "Syncing run <strong><a href=\"https://wandb.ai/zuozhe/fraud_detection/runs/2nkzmdkd\" target=\"_blank\">revived-totem-224</a></strong> to <a href=\"https://wandb.ai/zuozhe/fraud_detection\" target=\"_blank\">Weights & Biases</a> (<a href=\"https://wandb.me/run\" target=\"_blank\">docs</a>)<br/>"
      ],
      "text/plain": [
       "<IPython.core.display.HTML object>"
      ]
     },
     "metadata": {},
     "output_type": "display_data"
    },
    {
     "name": "stderr",
     "output_type": "stream",
     "text": [
      "\u001b[32m[I 2022-04-15 16:07:04,446]\u001b[0m Trial 5 finished with value: 0.8465509418328192 and parameters: {'n_estimators': 1895, 'learning_rate': 0.011068689006818073, 'min_split_gain': 0.023948498121164133, 'objective': 'binary', 'metric': 'average_precision', 'is_unbalance': True}. Best is trial 1 with value: 0.848877719078416.\u001b[0m\n"
     ]
    },
    {
     "data": {
      "text/html": [
       "Finishing last run (ID:2nkzmdkd) before initializing another..."
      ],
      "text/plain": [
       "<IPython.core.display.HTML object>"
      ]
     },
     "metadata": {},
     "output_type": "display_data"
    },
    {
     "name": "stdout",
     "output_type": "stream",
     "text": [
      "\n"
     ]
    },
    {
     "data": {
      "text/html": [
       "Waiting for W&B process to finish... <strong style=\"color:green\">(success).</strong>"
      ],
      "text/plain": [
       "<IPython.core.display.HTML object>"
      ]
     },
     "metadata": {},
     "output_type": "display_data"
    },
    {
     "data": {
      "text/html": [
       "<style>\n",
       "    table.wandb td:nth-child(1) { padding: 0 10px; text-align: right }\n",
       "    .wandb-row { display: flex; flex-direction: row; flex-wrap: wrap; width: 100% }\n",
       "    .wandb-col { display: flex; flex-direction: column; flex-basis: 100%; flex: 1; padding: 10px; }\n",
       "    </style>\n",
       "<div class=\"wandb-row\"><div class=\"wandb-col\"><h3>Run history:</h3><br/><table class=\"wandb\"><tr><td>fit_time</td><td>▁</td></tr><tr><td>is_unbalance</td><td>▁</td></tr><tr><td>learning_rate</td><td>▁</td></tr><tr><td>min_split_gain</td><td>▁</td></tr><tr><td>n_estimators</td><td>▁</td></tr><tr><td>on_golden_test</td><td>▁</td></tr><tr><td>score_time</td><td>▁</td></tr><tr><td>test_accuracy</td><td>▁</td></tr><tr><td>test_average_precision</td><td>▁</td></tr><tr><td>test_f1</td><td>▁</td></tr><tr><td>test_precision</td><td>▁</td></tr><tr><td>test_recall</td><td>▁</td></tr><tr><td>test_roc_auc</td><td>▁</td></tr><tr><td>train_accuracy</td><td>▁</td></tr><tr><td>train_average_precision</td><td>▁</td></tr><tr><td>train_f1</td><td>▁</td></tr><tr><td>train_precision</td><td>▁</td></tr><tr><td>train_recall</td><td>▁</td></tr><tr><td>train_roc_auc</td><td>▁</td></tr></table><br/></div><div class=\"wandb-col\"><h3>Run summary:</h3><br/><table class=\"wandb\"><tr><td>fit_time</td><td>91.44325</td></tr><tr><td>is_unbalance</td><td>True</td></tr><tr><td>learning_rate</td><td>0.01107</td></tr><tr><td>metric</td><td>average_precision</td></tr><tr><td>min_split_gain</td><td>0.02395</td></tr><tr><td>model_name</td><td>LGBMClassifier</td></tr><tr><td>n_estimators</td><td>1895</td></tr><tr><td>objective</td><td>binary</td></tr><tr><td>on_golden_test</td><td>False</td></tr><tr><td>score_time</td><td>43.91522</td></tr><tr><td>test_accuracy</td><td>0.99954</td></tr><tr><td>test_average_precision</td><td>0.84655</td></tr><tr><td>test_f1</td><td>0.85813</td></tr><tr><td>test_precision</td><td>0.91277</td></tr><tr><td>test_recall</td><td>0.81113</td></tr><tr><td>test_roc_auc</td><td>0.97086</td></tr><tr><td>train_accuracy</td><td>1.0</td></tr><tr><td>train_average_precision</td><td>1.0</td></tr><tr><td>train_f1</td><td>1.0</td></tr><tr><td>train_precision</td><td>1.0</td></tr><tr><td>train_recall</td><td>1.0</td></tr><tr><td>train_roc_auc</td><td>1.0</td></tr></table><br/></div></div>"
      ],
      "text/plain": [
       "<IPython.core.display.HTML object>"
      ]
     },
     "metadata": {},
     "output_type": "display_data"
    },
    {
     "data": {
      "text/html": [
       "Synced <strong style=\"color:#cdcd00\">revived-totem-224</strong>: <a href=\"https://wandb.ai/zuozhe/fraud_detection/runs/2nkzmdkd\" target=\"_blank\">https://wandb.ai/zuozhe/fraud_detection/runs/2nkzmdkd</a><br/>Synced 5 W&B file(s), 0 media file(s), 0 artifact file(s) and 0 other file(s)"
      ],
      "text/plain": [
       "<IPython.core.display.HTML object>"
      ]
     },
     "metadata": {},
     "output_type": "display_data"
    },
    {
     "data": {
      "text/html": [
       "Find logs at: <code>.\\wandb\\run-20220415_155832-2nkzmdkd\\logs</code>"
      ],
      "text/plain": [
       "<IPython.core.display.HTML object>"
      ]
     },
     "metadata": {},
     "output_type": "display_data"
    },
    {
     "data": {
      "text/html": [
       "Successfully finished last run (ID:2nkzmdkd). Initializing new run:<br/>"
      ],
      "text/plain": [
       "<IPython.core.display.HTML object>"
      ]
     },
     "metadata": {},
     "output_type": "display_data"
    },
    {
     "data": {
      "text/html": [
       "wandb version 0.12.14 is available!  To upgrade, please run:\n",
       " $ pip install wandb --upgrade"
      ],
      "text/plain": [
       "<IPython.core.display.HTML object>"
      ]
     },
     "metadata": {},
     "output_type": "display_data"
    },
    {
     "data": {
      "text/html": [
       "Tracking run with wandb version 0.12.12"
      ],
      "text/plain": [
       "<IPython.core.display.HTML object>"
      ]
     },
     "metadata": {},
     "output_type": "display_data"
    },
    {
     "data": {
      "text/html": [
       "Run data is saved locally in <code>C:\\Users\\teozz\\OneDrive\\Desktop\\vscode_workspace\\projects\\credit_card_fraud_detection\\wandb\\run-20220415_160704-thrmcy44</code>"
      ],
      "text/plain": [
       "<IPython.core.display.HTML object>"
      ]
     },
     "metadata": {},
     "output_type": "display_data"
    },
    {
     "data": {
      "text/html": [
       "Syncing run <strong><a href=\"https://wandb.ai/zuozhe/fraud_detection/runs/thrmcy44\" target=\"_blank\">skilled-glade-225</a></strong> to <a href=\"https://wandb.ai/zuozhe/fraud_detection\" target=\"_blank\">Weights & Biases</a> (<a href=\"https://wandb.me/run\" target=\"_blank\">docs</a>)<br/>"
      ],
      "text/plain": [
       "<IPython.core.display.HTML object>"
      ]
     },
     "metadata": {},
     "output_type": "display_data"
    },
    {
     "name": "stderr",
     "output_type": "stream",
     "text": [
      "\u001b[32m[I 2022-04-15 16:15:16,612]\u001b[0m Trial 6 finished with value: 0.8450655030793088 and parameters: {'n_estimators': 1621, 'learning_rate': 0.010211175618571385, 'min_split_gain': 0.046570960222403306, 'objective': 'binary', 'metric': 'average_precision', 'is_unbalance': True}. Best is trial 1 with value: 0.848877719078416.\u001b[0m\n"
     ]
    },
    {
     "data": {
      "text/html": [
       "Finishing last run (ID:thrmcy44) before initializing another..."
      ],
      "text/plain": [
       "<IPython.core.display.HTML object>"
      ]
     },
     "metadata": {},
     "output_type": "display_data"
    },
    {
     "name": "stdout",
     "output_type": "stream",
     "text": [
      "\n"
     ]
    },
    {
     "data": {
      "text/html": [
       "Waiting for W&B process to finish... <strong style=\"color:green\">(success).</strong>"
      ],
      "text/plain": [
       "<IPython.core.display.HTML object>"
      ]
     },
     "metadata": {},
     "output_type": "display_data"
    },
    {
     "data": {
      "text/html": [
       "<style>\n",
       "    table.wandb td:nth-child(1) { padding: 0 10px; text-align: right }\n",
       "    .wandb-row { display: flex; flex-direction: row; flex-wrap: wrap; width: 100% }\n",
       "    .wandb-col { display: flex; flex-direction: column; flex-basis: 100%; flex: 1; padding: 10px; }\n",
       "    </style>\n",
       "<div class=\"wandb-row\"><div class=\"wandb-col\"><h3>Run history:</h3><br/><table class=\"wandb\"><tr><td>fit_time</td><td>▁</td></tr><tr><td>is_unbalance</td><td>▁</td></tr><tr><td>learning_rate</td><td>▁</td></tr><tr><td>min_split_gain</td><td>▁</td></tr><tr><td>n_estimators</td><td>▁</td></tr><tr><td>on_golden_test</td><td>▁</td></tr><tr><td>score_time</td><td>▁</td></tr><tr><td>test_accuracy</td><td>▁</td></tr><tr><td>test_average_precision</td><td>▁</td></tr><tr><td>test_f1</td><td>▁</td></tr><tr><td>test_precision</td><td>▁</td></tr><tr><td>test_recall</td><td>▁</td></tr><tr><td>test_roc_auc</td><td>▁</td></tr><tr><td>train_accuracy</td><td>▁</td></tr><tr><td>train_average_precision</td><td>▁</td></tr><tr><td>train_f1</td><td>▁</td></tr><tr><td>train_precision</td><td>▁</td></tr><tr><td>train_recall</td><td>▁</td></tr><tr><td>train_roc_auc</td><td>▁</td></tr></table><br/></div><div class=\"wandb-col\"><h3>Run summary:</h3><br/><table class=\"wandb\"><tr><td>fit_time</td><td>83.545</td></tr><tr><td>is_unbalance</td><td>True</td></tr><tr><td>learning_rate</td><td>0.01021</td></tr><tr><td>metric</td><td>average_precision</td></tr><tr><td>min_split_gain</td><td>0.04657</td></tr><tr><td>model_name</td><td>LGBMClassifier</td></tr><tr><td>n_estimators</td><td>1621</td></tr><tr><td>objective</td><td>binary</td></tr><tr><td>on_golden_test</td><td>False</td></tr><tr><td>score_time</td><td>44.09241</td></tr><tr><td>test_accuracy</td><td>0.9995</td></tr><tr><td>test_average_precision</td><td>0.84507</td></tr><tr><td>test_f1</td><td>0.84646</td></tr><tr><td>test_precision</td><td>0.89584</td></tr><tr><td>test_recall</td><td>0.80396</td></tr><tr><td>test_roc_auc</td><td>0.97224</td></tr><tr><td>train_accuracy</td><td>1.0</td></tr><tr><td>train_average_precision</td><td>1.0</td></tr><tr><td>train_f1</td><td>1.0</td></tr><tr><td>train_precision</td><td>1.0</td></tr><tr><td>train_recall</td><td>1.0</td></tr><tr><td>train_roc_auc</td><td>1.0</td></tr></table><br/></div></div>"
      ],
      "text/plain": [
       "<IPython.core.display.HTML object>"
      ]
     },
     "metadata": {},
     "output_type": "display_data"
    },
    {
     "data": {
      "text/html": [
       "Synced <strong style=\"color:#cdcd00\">skilled-glade-225</strong>: <a href=\"https://wandb.ai/zuozhe/fraud_detection/runs/thrmcy44\" target=\"_blank\">https://wandb.ai/zuozhe/fraud_detection/runs/thrmcy44</a><br/>Synced 5 W&B file(s), 0 media file(s), 0 artifact file(s) and 0 other file(s)"
      ],
      "text/plain": [
       "<IPython.core.display.HTML object>"
      ]
     },
     "metadata": {},
     "output_type": "display_data"
    },
    {
     "data": {
      "text/html": [
       "Find logs at: <code>.\\wandb\\run-20220415_160704-thrmcy44\\logs</code>"
      ],
      "text/plain": [
       "<IPython.core.display.HTML object>"
      ]
     },
     "metadata": {},
     "output_type": "display_data"
    },
    {
     "data": {
      "text/html": [
       "Successfully finished last run (ID:thrmcy44). Initializing new run:<br/>"
      ],
      "text/plain": [
       "<IPython.core.display.HTML object>"
      ]
     },
     "metadata": {},
     "output_type": "display_data"
    },
    {
     "data": {
      "text/html": [
       "wandb version 0.12.14 is available!  To upgrade, please run:\n",
       " $ pip install wandb --upgrade"
      ],
      "text/plain": [
       "<IPython.core.display.HTML object>"
      ]
     },
     "metadata": {},
     "output_type": "display_data"
    },
    {
     "data": {
      "text/html": [
       "Tracking run with wandb version 0.12.12"
      ],
      "text/plain": [
       "<IPython.core.display.HTML object>"
      ]
     },
     "metadata": {},
     "output_type": "display_data"
    },
    {
     "data": {
      "text/html": [
       "Run data is saved locally in <code>C:\\Users\\teozz\\OneDrive\\Desktop\\vscode_workspace\\projects\\credit_card_fraud_detection\\wandb\\run-20220415_161516-1gzvmo8l</code>"
      ],
      "text/plain": [
       "<IPython.core.display.HTML object>"
      ]
     },
     "metadata": {},
     "output_type": "display_data"
    },
    {
     "data": {
      "text/html": [
       "Syncing run <strong><a href=\"https://wandb.ai/zuozhe/fraud_detection/runs/1gzvmo8l\" target=\"_blank\">confused-butterfly-226</a></strong> to <a href=\"https://wandb.ai/zuozhe/fraud_detection\" target=\"_blank\">Weights & Biases</a> (<a href=\"https://wandb.me/run\" target=\"_blank\">docs</a>)<br/>"
      ],
      "text/plain": [
       "<IPython.core.display.HTML object>"
      ]
     },
     "metadata": {},
     "output_type": "display_data"
    },
    {
     "name": "stderr",
     "output_type": "stream",
     "text": [
      "\u001b[32m[I 2022-04-15 16:19:53,555]\u001b[0m Trial 7 finished with value: 0.8359797297014666 and parameters: {'n_estimators': 2204, 'learning_rate': 0.017006973260378054, 'min_split_gain': 0.04653990734528035, 'objective': 'binary', 'metric': 'average_precision', 'is_unbalance': True}. Best is trial 1 with value: 0.848877719078416.\u001b[0m\n"
     ]
    },
    {
     "data": {
      "text/html": [
       "Finishing last run (ID:1gzvmo8l) before initializing another..."
      ],
      "text/plain": [
       "<IPython.core.display.HTML object>"
      ]
     },
     "metadata": {},
     "output_type": "display_data"
    },
    {
     "name": "stdout",
     "output_type": "stream",
     "text": [
      "\n"
     ]
    },
    {
     "data": {
      "text/html": [
       "Waiting for W&B process to finish... <strong style=\"color:green\">(success).</strong>"
      ],
      "text/plain": [
       "<IPython.core.display.HTML object>"
      ]
     },
     "metadata": {},
     "output_type": "display_data"
    },
    {
     "data": {
      "text/html": [
       "<style>\n",
       "    table.wandb td:nth-child(1) { padding: 0 10px; text-align: right }\n",
       "    .wandb-row { display: flex; flex-direction: row; flex-wrap: wrap; width: 100% }\n",
       "    .wandb-col { display: flex; flex-direction: column; flex-basis: 100%; flex: 1; padding: 10px; }\n",
       "    </style>\n",
       "<div class=\"wandb-row\"><div class=\"wandb-col\"><h3>Run history:</h3><br/><table class=\"wandb\"><tr><td>fit_time</td><td>▁</td></tr><tr><td>is_unbalance</td><td>▁</td></tr><tr><td>learning_rate</td><td>▁</td></tr><tr><td>min_split_gain</td><td>▁</td></tr><tr><td>n_estimators</td><td>▁</td></tr><tr><td>on_golden_test</td><td>▁</td></tr><tr><td>score_time</td><td>▁</td></tr><tr><td>test_accuracy</td><td>▁</td></tr><tr><td>test_average_precision</td><td>▁</td></tr><tr><td>test_f1</td><td>▁</td></tr><tr><td>test_precision</td><td>▁</td></tr><tr><td>test_recall</td><td>▁</td></tr><tr><td>test_roc_auc</td><td>▁</td></tr><tr><td>train_accuracy</td><td>▁</td></tr><tr><td>train_average_precision</td><td>▁</td></tr><tr><td>train_f1</td><td>▁</td></tr><tr><td>train_precision</td><td>▁</td></tr><tr><td>train_recall</td><td>▁</td></tr><tr><td>train_roc_auc</td><td>▁</td></tr></table><br/></div><div class=\"wandb-col\"><h3>Run summary:</h3><br/><table class=\"wandb\"><tr><td>fit_time</td><td>74.0486</td></tr><tr><td>is_unbalance</td><td>True</td></tr><tr><td>learning_rate</td><td>0.01701</td></tr><tr><td>metric</td><td>average_precision</td></tr><tr><td>min_split_gain</td><td>0.04654</td></tr><tr><td>model_name</td><td>LGBMClassifier</td></tr><tr><td>n_estimators</td><td>2204</td></tr><tr><td>objective</td><td>binary</td></tr><tr><td>on_golden_test</td><td>False</td></tr><tr><td>score_time</td><td>19.1354</td></tr><tr><td>test_accuracy</td><td>0.9995</td></tr><tr><td>test_average_precision</td><td>0.83598</td></tr><tr><td>test_f1</td><td>0.84738</td></tr><tr><td>test_precision</td><td>0.90073</td></tr><tr><td>test_recall</td><td>0.80158</td></tr><tr><td>test_roc_auc</td><td>0.96019</td></tr><tr><td>train_accuracy</td><td>1.0</td></tr><tr><td>train_average_precision</td><td>1.0</td></tr><tr><td>train_f1</td><td>1.0</td></tr><tr><td>train_precision</td><td>1.0</td></tr><tr><td>train_recall</td><td>1.0</td></tr><tr><td>train_roc_auc</td><td>1.0</td></tr></table><br/></div></div>"
      ],
      "text/plain": [
       "<IPython.core.display.HTML object>"
      ]
     },
     "metadata": {},
     "output_type": "display_data"
    },
    {
     "data": {
      "text/html": [
       "Synced <strong style=\"color:#cdcd00\">confused-butterfly-226</strong>: <a href=\"https://wandb.ai/zuozhe/fraud_detection/runs/1gzvmo8l\" target=\"_blank\">https://wandb.ai/zuozhe/fraud_detection/runs/1gzvmo8l</a><br/>Synced 5 W&B file(s), 0 media file(s), 0 artifact file(s) and 0 other file(s)"
      ],
      "text/plain": [
       "<IPython.core.display.HTML object>"
      ]
     },
     "metadata": {},
     "output_type": "display_data"
    },
    {
     "data": {
      "text/html": [
       "Find logs at: <code>.\\wandb\\run-20220415_161516-1gzvmo8l\\logs</code>"
      ],
      "text/plain": [
       "<IPython.core.display.HTML object>"
      ]
     },
     "metadata": {},
     "output_type": "display_data"
    },
    {
     "data": {
      "text/html": [
       "Successfully finished last run (ID:1gzvmo8l). Initializing new run:<br/>"
      ],
      "text/plain": [
       "<IPython.core.display.HTML object>"
      ]
     },
     "metadata": {},
     "output_type": "display_data"
    },
    {
     "data": {
      "text/html": [
       "wandb version 0.12.14 is available!  To upgrade, please run:\n",
       " $ pip install wandb --upgrade"
      ],
      "text/plain": [
       "<IPython.core.display.HTML object>"
      ]
     },
     "metadata": {},
     "output_type": "display_data"
    },
    {
     "data": {
      "text/html": [
       "Tracking run with wandb version 0.12.12"
      ],
      "text/plain": [
       "<IPython.core.display.HTML object>"
      ]
     },
     "metadata": {},
     "output_type": "display_data"
    },
    {
     "data": {
      "text/html": [
       "Run data is saved locally in <code>C:\\Users\\teozz\\OneDrive\\Desktop\\vscode_workspace\\projects\\credit_card_fraud_detection\\wandb\\run-20220415_161953-2enc422f</code>"
      ],
      "text/plain": [
       "<IPython.core.display.HTML object>"
      ]
     },
     "metadata": {},
     "output_type": "display_data"
    },
    {
     "data": {
      "text/html": [
       "Syncing run <strong><a href=\"https://wandb.ai/zuozhe/fraud_detection/runs/2enc422f\" target=\"_blank\">lucky-forest-227</a></strong> to <a href=\"https://wandb.ai/zuozhe/fraud_detection\" target=\"_blank\">Weights & Biases</a> (<a href=\"https://wandb.me/run\" target=\"_blank\">docs</a>)<br/>"
      ],
      "text/plain": [
       "<IPython.core.display.HTML object>"
      ]
     },
     "metadata": {},
     "output_type": "display_data"
    },
    {
     "name": "stderr",
     "output_type": "stream",
     "text": [
      "\u001b[32m[I 2022-04-15 16:25:21,448]\u001b[0m Trial 8 finished with value: 0.8433735443205016 and parameters: {'n_estimators': 1609, 'learning_rate': 0.014186115294410486, 'min_split_gain': 0.04274194165289364, 'objective': 'binary', 'metric': 'average_precision', 'is_unbalance': True}. Best is trial 1 with value: 0.848877719078416.\u001b[0m\n"
     ]
    },
    {
     "data": {
      "text/html": [
       "Finishing last run (ID:2enc422f) before initializing another..."
      ],
      "text/plain": [
       "<IPython.core.display.HTML object>"
      ]
     },
     "metadata": {},
     "output_type": "display_data"
    },
    {
     "name": "stdout",
     "output_type": "stream",
     "text": [
      "\n"
     ]
    },
    {
     "data": {
      "text/html": [
       "Waiting for W&B process to finish... <strong style=\"color:green\">(success).</strong>"
      ],
      "text/plain": [
       "<IPython.core.display.HTML object>"
      ]
     },
     "metadata": {},
     "output_type": "display_data"
    },
    {
     "data": {
      "text/html": [
       "<style>\n",
       "    table.wandb td:nth-child(1) { padding: 0 10px; text-align: right }\n",
       "    .wandb-row { display: flex; flex-direction: row; flex-wrap: wrap; width: 100% }\n",
       "    .wandb-col { display: flex; flex-direction: column; flex-basis: 100%; flex: 1; padding: 10px; }\n",
       "    </style>\n",
       "<div class=\"wandb-row\"><div class=\"wandb-col\"><h3>Run history:</h3><br/><table class=\"wandb\"><tr><td>fit_time</td><td>▁</td></tr><tr><td>is_unbalance</td><td>▁</td></tr><tr><td>learning_rate</td><td>▁</td></tr><tr><td>min_split_gain</td><td>▁</td></tr><tr><td>n_estimators</td><td>▁</td></tr><tr><td>on_golden_test</td><td>▁</td></tr><tr><td>score_time</td><td>▁</td></tr><tr><td>test_accuracy</td><td>▁</td></tr><tr><td>test_average_precision</td><td>▁</td></tr><tr><td>test_f1</td><td>▁</td></tr><tr><td>test_precision</td><td>▁</td></tr><tr><td>test_recall</td><td>▁</td></tr><tr><td>test_roc_auc</td><td>▁</td></tr><tr><td>train_accuracy</td><td>▁</td></tr><tr><td>train_average_precision</td><td>▁</td></tr><tr><td>train_f1</td><td>▁</td></tr><tr><td>train_precision</td><td>▁</td></tr><tr><td>train_recall</td><td>▁</td></tr><tr><td>train_roc_auc</td><td>▁</td></tr></table><br/></div><div class=\"wandb-col\"><h3>Run summary:</h3><br/><table class=\"wandb\"><tr><td>fit_time</td><td>72.9322</td></tr><tr><td>is_unbalance</td><td>True</td></tr><tr><td>learning_rate</td><td>0.01419</td></tr><tr><td>metric</td><td>average_precision</td></tr><tr><td>min_split_gain</td><td>0.04274</td></tr><tr><td>model_name</td><td>LGBMClassifier</td></tr><tr><td>n_estimators</td><td>1609</td></tr><tr><td>objective</td><td>binary</td></tr><tr><td>on_golden_test</td><td>False</td></tr><tr><td>score_time</td><td>26.134</td></tr><tr><td>test_accuracy</td><td>0.99952</td></tr><tr><td>test_average_precision</td><td>0.84337</td></tr><tr><td>test_f1</td><td>0.85373</td></tr><tr><td>test_precision</td><td>0.9027</td></tr><tr><td>test_recall</td><td>0.81113</td></tr><tr><td>test_roc_auc</td><td>0.96471</td></tr><tr><td>train_accuracy</td><td>1.0</td></tr><tr><td>train_average_precision</td><td>1.0</td></tr><tr><td>train_f1</td><td>1.0</td></tr><tr><td>train_precision</td><td>1.0</td></tr><tr><td>train_recall</td><td>1.0</td></tr><tr><td>train_roc_auc</td><td>1.0</td></tr></table><br/></div></div>"
      ],
      "text/plain": [
       "<IPython.core.display.HTML object>"
      ]
     },
     "metadata": {},
     "output_type": "display_data"
    },
    {
     "data": {
      "text/html": [
       "Synced <strong style=\"color:#cdcd00\">lucky-forest-227</strong>: <a href=\"https://wandb.ai/zuozhe/fraud_detection/runs/2enc422f\" target=\"_blank\">https://wandb.ai/zuozhe/fraud_detection/runs/2enc422f</a><br/>Synced 5 W&B file(s), 0 media file(s), 0 artifact file(s) and 0 other file(s)"
      ],
      "text/plain": [
       "<IPython.core.display.HTML object>"
      ]
     },
     "metadata": {},
     "output_type": "display_data"
    },
    {
     "data": {
      "text/html": [
       "Find logs at: <code>.\\wandb\\run-20220415_161953-2enc422f\\logs</code>"
      ],
      "text/plain": [
       "<IPython.core.display.HTML object>"
      ]
     },
     "metadata": {},
     "output_type": "display_data"
    },
    {
     "data": {
      "text/html": [
       "Successfully finished last run (ID:2enc422f). Initializing new run:<br/>"
      ],
      "text/plain": [
       "<IPython.core.display.HTML object>"
      ]
     },
     "metadata": {},
     "output_type": "display_data"
    },
    {
     "data": {
      "text/html": [
       "wandb version 0.12.14 is available!  To upgrade, please run:\n",
       " $ pip install wandb --upgrade"
      ],
      "text/plain": [
       "<IPython.core.display.HTML object>"
      ]
     },
     "metadata": {},
     "output_type": "display_data"
    },
    {
     "data": {
      "text/html": [
       "Tracking run with wandb version 0.12.12"
      ],
      "text/plain": [
       "<IPython.core.display.HTML object>"
      ]
     },
     "metadata": {},
     "output_type": "display_data"
    },
    {
     "data": {
      "text/html": [
       "Run data is saved locally in <code>C:\\Users\\teozz\\OneDrive\\Desktop\\vscode_workspace\\projects\\credit_card_fraud_detection\\wandb\\run-20220415_162521-iminqvoh</code>"
      ],
      "text/plain": [
       "<IPython.core.display.HTML object>"
      ]
     },
     "metadata": {},
     "output_type": "display_data"
    },
    {
     "data": {
      "text/html": [
       "Syncing run <strong><a href=\"https://wandb.ai/zuozhe/fraud_detection/runs/iminqvoh\" target=\"_blank\">comic-snowflake-228</a></strong> to <a href=\"https://wandb.ai/zuozhe/fraud_detection\" target=\"_blank\">Weights & Biases</a> (<a href=\"https://wandb.me/run\" target=\"_blank\">docs</a>)<br/>"
      ],
      "text/plain": [
       "<IPython.core.display.HTML object>"
      ]
     },
     "metadata": {},
     "output_type": "display_data"
    },
    {
     "name": "stderr",
     "output_type": "stream",
     "text": [
      "\u001b[32m[I 2022-04-15 16:31:45,920]\u001b[0m Trial 9 finished with value: 0.8349221937256116 and parameters: {'n_estimators': 2075, 'learning_rate': 0.0208527285747039, 'min_split_gain': 0.0021082564769721993, 'objective': 'binary', 'metric': 'average_precision', 'is_unbalance': True}. Best is trial 1 with value: 0.848877719078416.\u001b[0m\n"
     ]
    },
    {
     "data": {
      "text/html": [
       "Finishing last run (ID:iminqvoh) before initializing another..."
      ],
      "text/plain": [
       "<IPython.core.display.HTML object>"
      ]
     },
     "metadata": {},
     "output_type": "display_data"
    },
    {
     "name": "stdout",
     "output_type": "stream",
     "text": [
      "\n"
     ]
    },
    {
     "data": {
      "text/html": [
       "Waiting for W&B process to finish... <strong style=\"color:green\">(success).</strong>"
      ],
      "text/plain": [
       "<IPython.core.display.HTML object>"
      ]
     },
     "metadata": {},
     "output_type": "display_data"
    },
    {
     "data": {
      "text/html": [
       "<style>\n",
       "    table.wandb td:nth-child(1) { padding: 0 10px; text-align: right }\n",
       "    .wandb-row { display: flex; flex-direction: row; flex-wrap: wrap; width: 100% }\n",
       "    .wandb-col { display: flex; flex-direction: column; flex-basis: 100%; flex: 1; padding: 10px; }\n",
       "    </style>\n",
       "<div class=\"wandb-row\"><div class=\"wandb-col\"><h3>Run history:</h3><br/><table class=\"wandb\"><tr><td>fit_time</td><td>▁</td></tr><tr><td>is_unbalance</td><td>▁</td></tr><tr><td>learning_rate</td><td>▁</td></tr><tr><td>min_split_gain</td><td>▁</td></tr><tr><td>n_estimators</td><td>▁</td></tr><tr><td>on_golden_test</td><td>▁</td></tr><tr><td>score_time</td><td>▁</td></tr><tr><td>test_accuracy</td><td>▁</td></tr><tr><td>test_average_precision</td><td>▁</td></tr><tr><td>test_f1</td><td>▁</td></tr><tr><td>test_precision</td><td>▁</td></tr><tr><td>test_recall</td><td>▁</td></tr><tr><td>test_roc_auc</td><td>▁</td></tr><tr><td>train_accuracy</td><td>▁</td></tr><tr><td>train_average_precision</td><td>▁</td></tr><tr><td>train_f1</td><td>▁</td></tr><tr><td>train_precision</td><td>▁</td></tr><tr><td>train_recall</td><td>▁</td></tr><tr><td>train_roc_auc</td><td>▁</td></tr></table><br/></div><div class=\"wandb-col\"><h3>Run summary:</h3><br/><table class=\"wandb\"><tr><td>fit_time</td><td>86.47171</td></tr><tr><td>is_unbalance</td><td>True</td></tr><tr><td>learning_rate</td><td>0.02085</td></tr><tr><td>metric</td><td>average_precision</td></tr><tr><td>min_split_gain</td><td>0.00211</td></tr><tr><td>model_name</td><td>LGBMClassifier</td></tr><tr><td>n_estimators</td><td>2075</td></tr><tr><td>objective</td><td>binary</td></tr><tr><td>on_golden_test</td><td>False</td></tr><tr><td>score_time</td><td>34.04565</td></tr><tr><td>test_accuracy</td><td>0.99954</td></tr><tr><td>test_average_precision</td><td>0.83492</td></tr><tr><td>test_f1</td><td>0.85794</td></tr><tr><td>test_precision</td><td>0.9216</td></tr><tr><td>test_recall</td><td>0.80399</td></tr><tr><td>test_roc_auc</td><td>0.95493</td></tr><tr><td>train_accuracy</td><td>1.0</td></tr><tr><td>train_average_precision</td><td>1.0</td></tr><tr><td>train_f1</td><td>1.0</td></tr><tr><td>train_precision</td><td>1.0</td></tr><tr><td>train_recall</td><td>1.0</td></tr><tr><td>train_roc_auc</td><td>1.0</td></tr></table><br/></div></div>"
      ],
      "text/plain": [
       "<IPython.core.display.HTML object>"
      ]
     },
     "metadata": {},
     "output_type": "display_data"
    },
    {
     "data": {
      "text/html": [
       "Synced <strong style=\"color:#cdcd00\">comic-snowflake-228</strong>: <a href=\"https://wandb.ai/zuozhe/fraud_detection/runs/iminqvoh\" target=\"_blank\">https://wandb.ai/zuozhe/fraud_detection/runs/iminqvoh</a><br/>Synced 5 W&B file(s), 0 media file(s), 0 artifact file(s) and 0 other file(s)"
      ],
      "text/plain": [
       "<IPython.core.display.HTML object>"
      ]
     },
     "metadata": {},
     "output_type": "display_data"
    },
    {
     "data": {
      "text/html": [
       "Find logs at: <code>.\\wandb\\run-20220415_162521-iminqvoh\\logs</code>"
      ],
      "text/plain": [
       "<IPython.core.display.HTML object>"
      ]
     },
     "metadata": {},
     "output_type": "display_data"
    },
    {
     "data": {
      "text/html": [
       "Successfully finished last run (ID:iminqvoh). Initializing new run:<br/>"
      ],
      "text/plain": [
       "<IPython.core.display.HTML object>"
      ]
     },
     "metadata": {},
     "output_type": "display_data"
    },
    {
     "data": {
      "text/html": [
       "wandb version 0.12.14 is available!  To upgrade, please run:\n",
       " $ pip install wandb --upgrade"
      ],
      "text/plain": [
       "<IPython.core.display.HTML object>"
      ]
     },
     "metadata": {},
     "output_type": "display_data"
    },
    {
     "data": {
      "text/html": [
       "Tracking run with wandb version 0.12.12"
      ],
      "text/plain": [
       "<IPython.core.display.HTML object>"
      ]
     },
     "metadata": {},
     "output_type": "display_data"
    },
    {
     "data": {
      "text/html": [
       "Run data is saved locally in <code>C:\\Users\\teozz\\OneDrive\\Desktop\\vscode_workspace\\projects\\credit_card_fraud_detection\\wandb\\run-20220415_163145-1wthhnc8</code>"
      ],
      "text/plain": [
       "<IPython.core.display.HTML object>"
      ]
     },
     "metadata": {},
     "output_type": "display_data"
    },
    {
     "data": {
      "text/html": [
       "Syncing run <strong><a href=\"https://wandb.ai/zuozhe/fraud_detection/runs/1wthhnc8\" target=\"_blank\">elated-leaf-229</a></strong> to <a href=\"https://wandb.ai/zuozhe/fraud_detection\" target=\"_blank\">Weights & Biases</a> (<a href=\"https://wandb.me/run\" target=\"_blank\">docs</a>)<br/>"
      ],
      "text/plain": [
       "<IPython.core.display.HTML object>"
      ]
     },
     "metadata": {},
     "output_type": "display_data"
    },
    {
     "name": "stderr",
     "output_type": "stream",
     "text": [
      "\u001b[32m[I 2022-04-15 16:42:12,959]\u001b[0m Trial 10 finished with value: 0.7366573920867563 and parameters: {'n_estimators': 1789, 'learning_rate': 0.000289430063990119, 'min_split_gain': 0.020401739412055087, 'objective': 'binary', 'metric': 'average_precision', 'is_unbalance': True}. Best is trial 1 with value: 0.848877719078416.\u001b[0m\n"
     ]
    },
    {
     "data": {
      "text/html": [
       "Finishing last run (ID:1wthhnc8) before initializing another..."
      ],
      "text/plain": [
       "<IPython.core.display.HTML object>"
      ]
     },
     "metadata": {},
     "output_type": "display_data"
    },
    {
     "name": "stdout",
     "output_type": "stream",
     "text": [
      "\n"
     ]
    },
    {
     "data": {
      "text/html": [
       "Waiting for W&B process to finish... <strong style=\"color:green\">(success).</strong>"
      ],
      "text/plain": [
       "<IPython.core.display.HTML object>"
      ]
     },
     "metadata": {},
     "output_type": "display_data"
    },
    {
     "data": {
      "text/html": [
       "<style>\n",
       "    table.wandb td:nth-child(1) { padding: 0 10px; text-align: right }\n",
       "    .wandb-row { display: flex; flex-direction: row; flex-wrap: wrap; width: 100% }\n",
       "    .wandb-col { display: flex; flex-direction: column; flex-basis: 100%; flex: 1; padding: 10px; }\n",
       "    </style>\n",
       "<div class=\"wandb-row\"><div class=\"wandb-col\"><h3>Run history:</h3><br/><table class=\"wandb\"><tr><td>fit_time</td><td>▁</td></tr><tr><td>is_unbalance</td><td>▁</td></tr><tr><td>learning_rate</td><td>▁</td></tr><tr><td>min_split_gain</td><td>▁</td></tr><tr><td>n_estimators</td><td>▁</td></tr><tr><td>on_golden_test</td><td>▁</td></tr><tr><td>score_time</td><td>▁</td></tr><tr><td>test_accuracy</td><td>▁</td></tr><tr><td>test_average_precision</td><td>▁</td></tr><tr><td>test_f1</td><td>▁</td></tr><tr><td>test_precision</td><td>▁</td></tr><tr><td>test_recall</td><td>▁</td></tr><tr><td>test_roc_auc</td><td>▁</td></tr><tr><td>train_accuracy</td><td>▁</td></tr><tr><td>train_average_precision</td><td>▁</td></tr><tr><td>train_f1</td><td>▁</td></tr><tr><td>train_precision</td><td>▁</td></tr><tr><td>train_recall</td><td>▁</td></tr><tr><td>train_roc_auc</td><td>▁</td></tr></table><br/></div><div class=\"wandb-col\"><h3>Run summary:</h3><br/><table class=\"wandb\"><tr><td>fit_time</td><td>115.02738</td></tr><tr><td>is_unbalance</td><td>True</td></tr><tr><td>learning_rate</td><td>0.00029</td></tr><tr><td>metric</td><td>average_precision</td></tr><tr><td>min_split_gain</td><td>0.0204</td></tr><tr><td>model_name</td><td>LGBMClassifier</td></tr><tr><td>n_estimators</td><td>1789</td></tr><tr><td>objective</td><td>binary</td></tr><tr><td>on_golden_test</td><td>False</td></tr><tr><td>score_time</td><td>49.79734</td></tr><tr><td>test_accuracy</td><td>0.99827</td></tr><tr><td>test_average_precision</td><td>0.73666</td></tr><tr><td>test_f1</td><td>0.0</td></tr><tr><td>test_precision</td><td>0.0</td></tr><tr><td>test_recall</td><td>0.0</td></tr><tr><td>test_roc_auc</td><td>0.97801</td></tr><tr><td>train_accuracy</td><td>0.99827</td></tr><tr><td>train_average_precision</td><td>0.89397</td></tr><tr><td>train_f1</td><td>0.0</td></tr><tr><td>train_precision</td><td>0.0</td></tr><tr><td>train_recall</td><td>0.0</td></tr><tr><td>train_roc_auc</td><td>0.9999</td></tr></table><br/></div></div>"
      ],
      "text/plain": [
       "<IPython.core.display.HTML object>"
      ]
     },
     "metadata": {},
     "output_type": "display_data"
    },
    {
     "data": {
      "text/html": [
       "Synced <strong style=\"color:#cdcd00\">elated-leaf-229</strong>: <a href=\"https://wandb.ai/zuozhe/fraud_detection/runs/1wthhnc8\" target=\"_blank\">https://wandb.ai/zuozhe/fraud_detection/runs/1wthhnc8</a><br/>Synced 5 W&B file(s), 0 media file(s), 0 artifact file(s) and 0 other file(s)"
      ],
      "text/plain": [
       "<IPython.core.display.HTML object>"
      ]
     },
     "metadata": {},
     "output_type": "display_data"
    },
    {
     "data": {
      "text/html": [
       "Find logs at: <code>.\\wandb\\run-20220415_163145-1wthhnc8\\logs</code>"
      ],
      "text/plain": [
       "<IPython.core.display.HTML object>"
      ]
     },
     "metadata": {},
     "output_type": "display_data"
    },
    {
     "data": {
      "text/html": [
       "Successfully finished last run (ID:1wthhnc8). Initializing new run:<br/>"
      ],
      "text/plain": [
       "<IPython.core.display.HTML object>"
      ]
     },
     "metadata": {},
     "output_type": "display_data"
    },
    {
     "data": {
      "text/html": [
       "wandb version 0.12.14 is available!  To upgrade, please run:\n",
       " $ pip install wandb --upgrade"
      ],
      "text/plain": [
       "<IPython.core.display.HTML object>"
      ]
     },
     "metadata": {},
     "output_type": "display_data"
    },
    {
     "data": {
      "text/html": [
       "Tracking run with wandb version 0.12.12"
      ],
      "text/plain": [
       "<IPython.core.display.HTML object>"
      ]
     },
     "metadata": {},
     "output_type": "display_data"
    },
    {
     "data": {
      "text/html": [
       "Run data is saved locally in <code>C:\\Users\\teozz\\OneDrive\\Desktop\\vscode_workspace\\projects\\credit_card_fraud_detection\\wandb\\run-20220415_164213-3aoeg3rn</code>"
      ],
      "text/plain": [
       "<IPython.core.display.HTML object>"
      ]
     },
     "metadata": {},
     "output_type": "display_data"
    },
    {
     "data": {
      "text/html": [
       "Syncing run <strong><a href=\"https://wandb.ai/zuozhe/fraud_detection/runs/3aoeg3rn\" target=\"_blank\">decent-valley-230</a></strong> to <a href=\"https://wandb.ai/zuozhe/fraud_detection\" target=\"_blank\">Weights & Biases</a> (<a href=\"https://wandb.me/run\" target=\"_blank\">docs</a>)<br/>"
      ],
      "text/plain": [
       "<IPython.core.display.HTML object>"
      ]
     },
     "metadata": {},
     "output_type": "display_data"
    },
    {
     "name": "stderr",
     "output_type": "stream",
     "text": [
      "\u001b[32m[I 2022-04-15 16:54:22,159]\u001b[0m Trial 11 finished with value: 0.850339269471322 and parameters: {'n_estimators': 1839, 'learning_rate': 0.006391470669734899, 'min_split_gain': 0.019946743747357852, 'objective': 'binary', 'metric': 'average_precision', 'is_unbalance': True}. Best is trial 11 with value: 0.850339269471322.\u001b[0m\n"
     ]
    },
    {
     "data": {
      "text/html": [
       "Finishing last run (ID:3aoeg3rn) before initializing another..."
      ],
      "text/plain": [
       "<IPython.core.display.HTML object>"
      ]
     },
     "metadata": {},
     "output_type": "display_data"
    },
    {
     "name": "stdout",
     "output_type": "stream",
     "text": [
      "\n"
     ]
    },
    {
     "data": {
      "text/html": [
       "Waiting for W&B process to finish... <strong style=\"color:green\">(success).</strong>"
      ],
      "text/plain": [
       "<IPython.core.display.HTML object>"
      ]
     },
     "metadata": {},
     "output_type": "display_data"
    },
    {
     "data": {
      "text/html": [
       "<style>\n",
       "    table.wandb td:nth-child(1) { padding: 0 10px; text-align: right }\n",
       "    .wandb-row { display: flex; flex-direction: row; flex-wrap: wrap; width: 100% }\n",
       "    .wandb-col { display: flex; flex-direction: column; flex-basis: 100%; flex: 1; padding: 10px; }\n",
       "    </style>\n",
       "<div class=\"wandb-row\"><div class=\"wandb-col\"><h3>Run history:</h3><br/><table class=\"wandb\"><tr><td>fit_time</td><td>▁</td></tr><tr><td>is_unbalance</td><td>▁</td></tr><tr><td>learning_rate</td><td>▁</td></tr><tr><td>min_split_gain</td><td>▁</td></tr><tr><td>n_estimators</td><td>▁</td></tr><tr><td>on_golden_test</td><td>▁</td></tr><tr><td>score_time</td><td>▁</td></tr><tr><td>test_accuracy</td><td>▁</td></tr><tr><td>test_average_precision</td><td>▁</td></tr><tr><td>test_f1</td><td>▁</td></tr><tr><td>test_precision</td><td>▁</td></tr><tr><td>test_recall</td><td>▁</td></tr><tr><td>test_roc_auc</td><td>▁</td></tr><tr><td>train_accuracy</td><td>▁</td></tr><tr><td>train_average_precision</td><td>▁</td></tr><tr><td>train_f1</td><td>▁</td></tr><tr><td>train_precision</td><td>▁</td></tr><tr><td>train_recall</td><td>▁</td></tr><tr><td>train_roc_auc</td><td>▁</td></tr></table><br/></div><div class=\"wandb-col\"><h3>Run summary:</h3><br/><table class=\"wandb\"><tr><td>fit_time</td><td>114.45758</td></tr><tr><td>is_unbalance</td><td>True</td></tr><tr><td>learning_rate</td><td>0.00639</td></tr><tr><td>metric</td><td>average_precision</td></tr><tr><td>min_split_gain</td><td>0.01995</td></tr><tr><td>model_name</td><td>LGBMClassifier</td></tr><tr><td>n_estimators</td><td>1839</td></tr><tr><td>objective</td><td>binary</td></tr><tr><td>on_golden_test</td><td>False</td></tr><tr><td>score_time</td><td>76.96054</td></tr><tr><td>test_accuracy</td><td>0.99952</td></tr><tr><td>test_average_precision</td><td>0.85034</td></tr><tr><td>test_f1</td><td>0.85326</td></tr><tr><td>test_precision</td><td>0.89859</td></tr><tr><td>test_recall</td><td>0.81354</td></tr><tr><td>test_roc_auc</td><td>0.97632</td></tr><tr><td>train_accuracy</td><td>1.0</td></tr><tr><td>train_average_precision</td><td>1.0</td></tr><tr><td>train_f1</td><td>1.0</td></tr><tr><td>train_precision</td><td>1.0</td></tr><tr><td>train_recall</td><td>1.0</td></tr><tr><td>train_roc_auc</td><td>1.0</td></tr></table><br/></div></div>"
      ],
      "text/plain": [
       "<IPython.core.display.HTML object>"
      ]
     },
     "metadata": {},
     "output_type": "display_data"
    },
    {
     "data": {
      "text/html": [
       "Synced <strong style=\"color:#cdcd00\">decent-valley-230</strong>: <a href=\"https://wandb.ai/zuozhe/fraud_detection/runs/3aoeg3rn\" target=\"_blank\">https://wandb.ai/zuozhe/fraud_detection/runs/3aoeg3rn</a><br/>Synced 5 W&B file(s), 0 media file(s), 0 artifact file(s) and 0 other file(s)"
      ],
      "text/plain": [
       "<IPython.core.display.HTML object>"
      ]
     },
     "metadata": {},
     "output_type": "display_data"
    },
    {
     "data": {
      "text/html": [
       "Find logs at: <code>.\\wandb\\run-20220415_164213-3aoeg3rn\\logs</code>"
      ],
      "text/plain": [
       "<IPython.core.display.HTML object>"
      ]
     },
     "metadata": {},
     "output_type": "display_data"
    },
    {
     "data": {
      "text/html": [
       "Successfully finished last run (ID:3aoeg3rn). Initializing new run:<br/>"
      ],
      "text/plain": [
       "<IPython.core.display.HTML object>"
      ]
     },
     "metadata": {},
     "output_type": "display_data"
    },
    {
     "data": {
      "text/html": [
       "wandb version 0.12.14 is available!  To upgrade, please run:\n",
       " $ pip install wandb --upgrade"
      ],
      "text/plain": [
       "<IPython.core.display.HTML object>"
      ]
     },
     "metadata": {},
     "output_type": "display_data"
    },
    {
     "data": {
      "text/html": [
       "Tracking run with wandb version 0.12.12"
      ],
      "text/plain": [
       "<IPython.core.display.HTML object>"
      ]
     },
     "metadata": {},
     "output_type": "display_data"
    },
    {
     "data": {
      "text/html": [
       "Run data is saved locally in <code>C:\\Users\\teozz\\OneDrive\\Desktop\\vscode_workspace\\projects\\credit_card_fraud_detection\\wandb\\run-20220415_165422-3bf6pwtz</code>"
      ],
      "text/plain": [
       "<IPython.core.display.HTML object>"
      ]
     },
     "metadata": {},
     "output_type": "display_data"
    },
    {
     "data": {
      "text/html": [
       "Syncing run <strong><a href=\"https://wandb.ai/zuozhe/fraud_detection/runs/3bf6pwtz\" target=\"_blank\">desert-rain-231</a></strong> to <a href=\"https://wandb.ai/zuozhe/fraud_detection\" target=\"_blank\">Weights & Biases</a> (<a href=\"https://wandb.me/run\" target=\"_blank\">docs</a>)<br/>"
      ],
      "text/plain": [
       "<IPython.core.display.HTML object>"
      ]
     },
     "metadata": {},
     "output_type": "display_data"
    },
    {
     "name": "stderr",
     "output_type": "stream",
     "text": [
      "\u001b[32m[I 2022-04-15 17:05:13,872]\u001b[0m Trial 12 finished with value: 0.8491745274159502 and parameters: {'n_estimators': 1833, 'learning_rate': 0.005895372606613192, 'min_split_gain': 0.021447156559850553, 'objective': 'binary', 'metric': 'average_precision', 'is_unbalance': True}. Best is trial 11 with value: 0.850339269471322.\u001b[0m\n"
     ]
    },
    {
     "data": {
      "text/html": [
       "Finishing last run (ID:3bf6pwtz) before initializing another..."
      ],
      "text/plain": [
       "<IPython.core.display.HTML object>"
      ]
     },
     "metadata": {},
     "output_type": "display_data"
    },
    {
     "name": "stdout",
     "output_type": "stream",
     "text": [
      "\n"
     ]
    },
    {
     "data": {
      "text/html": [
       "Waiting for W&B process to finish... <strong style=\"color:green\">(success).</strong>"
      ],
      "text/plain": [
       "<IPython.core.display.HTML object>"
      ]
     },
     "metadata": {},
     "output_type": "display_data"
    },
    {
     "data": {
      "text/html": [
       "<style>\n",
       "    table.wandb td:nth-child(1) { padding: 0 10px; text-align: right }\n",
       "    .wandb-row { display: flex; flex-direction: row; flex-wrap: wrap; width: 100% }\n",
       "    .wandb-col { display: flex; flex-direction: column; flex-basis: 100%; flex: 1; padding: 10px; }\n",
       "    </style>\n",
       "<div class=\"wandb-row\"><div class=\"wandb-col\"><h3>Run history:</h3><br/><table class=\"wandb\"><tr><td>fit_time</td><td>▁</td></tr><tr><td>is_unbalance</td><td>▁</td></tr><tr><td>learning_rate</td><td>▁</td></tr><tr><td>min_split_gain</td><td>▁</td></tr><tr><td>n_estimators</td><td>▁</td></tr><tr><td>on_golden_test</td><td>▁</td></tr><tr><td>score_time</td><td>▁</td></tr><tr><td>test_accuracy</td><td>▁</td></tr><tr><td>test_average_precision</td><td>▁</td></tr><tr><td>test_f1</td><td>▁</td></tr><tr><td>test_precision</td><td>▁</td></tr><tr><td>test_recall</td><td>▁</td></tr><tr><td>test_roc_auc</td><td>▁</td></tr><tr><td>train_accuracy</td><td>▁</td></tr><tr><td>train_average_precision</td><td>▁</td></tr><tr><td>train_f1</td><td>▁</td></tr><tr><td>train_precision</td><td>▁</td></tr><tr><td>train_recall</td><td>▁</td></tr><tr><td>train_roc_auc</td><td>▁</td></tr></table><br/></div><div class=\"wandb-col\"><h3>Run summary:</h3><br/><table class=\"wandb\"><tr><td>fit_time</td><td>107.3055</td></tr><tr><td>is_unbalance</td><td>True</td></tr><tr><td>learning_rate</td><td>0.0059</td></tr><tr><td>metric</td><td>average_precision</td></tr><tr><td>min_split_gain</td><td>0.02145</td></tr><tr><td>model_name</td><td>LGBMClassifier</td></tr><tr><td>n_estimators</td><td>1833</td></tr><tr><td>objective</td><td>binary</td></tr><tr><td>on_golden_test</td><td>False</td></tr><tr><td>score_time</td><td>57.779</td></tr><tr><td>test_accuracy</td><td>0.99949</td></tr><tr><td>test_average_precision</td><td>0.84917</td></tr><tr><td>test_f1</td><td>0.84779</td></tr><tr><td>test_precision</td><td>0.88447</td></tr><tr><td>test_recall</td><td>0.81595</td></tr><tr><td>test_roc_auc</td><td>0.97455</td></tr><tr><td>train_accuracy</td><td>1.0</td></tr><tr><td>train_average_precision</td><td>1.0</td></tr><tr><td>train_f1</td><td>1.0</td></tr><tr><td>train_precision</td><td>1.0</td></tr><tr><td>train_recall</td><td>1.0</td></tr><tr><td>train_roc_auc</td><td>1.0</td></tr></table><br/></div></div>"
      ],
      "text/plain": [
       "<IPython.core.display.HTML object>"
      ]
     },
     "metadata": {},
     "output_type": "display_data"
    },
    {
     "data": {
      "text/html": [
       "Synced <strong style=\"color:#cdcd00\">desert-rain-231</strong>: <a href=\"https://wandb.ai/zuozhe/fraud_detection/runs/3bf6pwtz\" target=\"_blank\">https://wandb.ai/zuozhe/fraud_detection/runs/3bf6pwtz</a><br/>Synced 5 W&B file(s), 0 media file(s), 0 artifact file(s) and 0 other file(s)"
      ],
      "text/plain": [
       "<IPython.core.display.HTML object>"
      ]
     },
     "metadata": {},
     "output_type": "display_data"
    },
    {
     "data": {
      "text/html": [
       "Find logs at: <code>.\\wandb\\run-20220415_165422-3bf6pwtz\\logs</code>"
      ],
      "text/plain": [
       "<IPython.core.display.HTML object>"
      ]
     },
     "metadata": {},
     "output_type": "display_data"
    },
    {
     "data": {
      "text/html": [
       "Successfully finished last run (ID:3bf6pwtz). Initializing new run:<br/>"
      ],
      "text/plain": [
       "<IPython.core.display.HTML object>"
      ]
     },
     "metadata": {},
     "output_type": "display_data"
    },
    {
     "data": {
      "text/html": [
       "wandb version 0.12.14 is available!  To upgrade, please run:\n",
       " $ pip install wandb --upgrade"
      ],
      "text/plain": [
       "<IPython.core.display.HTML object>"
      ]
     },
     "metadata": {},
     "output_type": "display_data"
    },
    {
     "data": {
      "text/html": [
       "Tracking run with wandb version 0.12.12"
      ],
      "text/plain": [
       "<IPython.core.display.HTML object>"
      ]
     },
     "metadata": {},
     "output_type": "display_data"
    },
    {
     "data": {
      "text/html": [
       "Run data is saved locally in <code>C:\\Users\\teozz\\OneDrive\\Desktop\\vscode_workspace\\projects\\credit_card_fraud_detection\\wandb\\run-20220415_170513-x3ttysfd</code>"
      ],
      "text/plain": [
       "<IPython.core.display.HTML object>"
      ]
     },
     "metadata": {},
     "output_type": "display_data"
    },
    {
     "data": {
      "text/html": [
       "Syncing run <strong><a href=\"https://wandb.ai/zuozhe/fraud_detection/runs/x3ttysfd\" target=\"_blank\">clean-planet-232</a></strong> to <a href=\"https://wandb.ai/zuozhe/fraud_detection\" target=\"_blank\">Weights & Biases</a> (<a href=\"https://wandb.me/run\" target=\"_blank\">docs</a>)<br/>"
      ],
      "text/plain": [
       "<IPython.core.display.HTML object>"
      ]
     },
     "metadata": {},
     "output_type": "display_data"
    },
    {
     "name": "stderr",
     "output_type": "stream",
     "text": [
      "\u001b[32m[I 2022-04-15 17:16:16,774]\u001b[0m Trial 13 finished with value: 0.8458463334482694 and parameters: {'n_estimators': 1829, 'learning_rate': 0.004909022718192087, 'min_split_gain': 0.012024678819256968, 'objective': 'binary', 'metric': 'average_precision', 'is_unbalance': True}. Best is trial 11 with value: 0.850339269471322.\u001b[0m\n"
     ]
    },
    {
     "data": {
      "text/html": [
       "Finishing last run (ID:x3ttysfd) before initializing another..."
      ],
      "text/plain": [
       "<IPython.core.display.HTML object>"
      ]
     },
     "metadata": {},
     "output_type": "display_data"
    },
    {
     "name": "stdout",
     "output_type": "stream",
     "text": [
      "\n"
     ]
    },
    {
     "data": {
      "text/html": [
       "Waiting for W&B process to finish... <strong style=\"color:green\">(success).</strong>"
      ],
      "text/plain": [
       "<IPython.core.display.HTML object>"
      ]
     },
     "metadata": {},
     "output_type": "display_data"
    },
    {
     "data": {
      "text/html": [
       "<style>\n",
       "    table.wandb td:nth-child(1) { padding: 0 10px; text-align: right }\n",
       "    .wandb-row { display: flex; flex-direction: row; flex-wrap: wrap; width: 100% }\n",
       "    .wandb-col { display: flex; flex-direction: column; flex-basis: 100%; flex: 1; padding: 10px; }\n",
       "    </style>\n",
       "<div class=\"wandb-row\"><div class=\"wandb-col\"><h3>Run history:</h3><br/><table class=\"wandb\"><tr><td>fit_time</td><td>▁</td></tr><tr><td>is_unbalance</td><td>▁</td></tr><tr><td>learning_rate</td><td>▁</td></tr><tr><td>min_split_gain</td><td>▁</td></tr><tr><td>n_estimators</td><td>▁</td></tr><tr><td>on_golden_test</td><td>▁</td></tr><tr><td>score_time</td><td>▁</td></tr><tr><td>test_accuracy</td><td>▁</td></tr><tr><td>test_average_precision</td><td>▁</td></tr><tr><td>test_f1</td><td>▁</td></tr><tr><td>test_precision</td><td>▁</td></tr><tr><td>test_recall</td><td>▁</td></tr><tr><td>test_roc_auc</td><td>▁</td></tr><tr><td>train_accuracy</td><td>▁</td></tr><tr><td>train_average_precision</td><td>▁</td></tr><tr><td>train_f1</td><td>▁</td></tr><tr><td>train_precision</td><td>▁</td></tr><tr><td>train_recall</td><td>▁</td></tr><tr><td>train_roc_auc</td><td>▁</td></tr></table><br/></div><div class=\"wandb-col\"><h3>Run summary:</h3><br/><table class=\"wandb\"><tr><td>fit_time</td><td>110.4368</td></tr><tr><td>is_unbalance</td><td>True</td></tr><tr><td>learning_rate</td><td>0.00491</td></tr><tr><td>metric</td><td>average_precision</td></tr><tr><td>min_split_gain</td><td>0.01202</td></tr><tr><td>model_name</td><td>LGBMClassifier</td></tr><tr><td>n_estimators</td><td>1829</td></tr><tr><td>objective</td><td>binary</td></tr><tr><td>on_golden_test</td><td>False</td></tr><tr><td>score_time</td><td>70.329</td></tr><tr><td>test_accuracy</td><td>0.99948</td></tr><tr><td>test_average_precision</td><td>0.84585</td></tr><tr><td>test_f1</td><td>0.84412</td></tr><tr><td>test_precision</td><td>0.87124</td></tr><tr><td>test_recall</td><td>0.82071</td></tr><tr><td>test_roc_auc</td><td>0.97681</td></tr><tr><td>train_accuracy</td><td>0.99997</td></tr><tr><td>train_average_precision</td><td>1.0</td></tr><tr><td>train_f1</td><td>0.99142</td></tr><tr><td>train_precision</td><td>0.98299</td></tr><tr><td>train_recall</td><td>1.0</td></tr><tr><td>train_roc_auc</td><td>1.0</td></tr></table><br/></div></div>"
      ],
      "text/plain": [
       "<IPython.core.display.HTML object>"
      ]
     },
     "metadata": {},
     "output_type": "display_data"
    },
    {
     "data": {
      "text/html": [
       "Synced <strong style=\"color:#cdcd00\">clean-planet-232</strong>: <a href=\"https://wandb.ai/zuozhe/fraud_detection/runs/x3ttysfd\" target=\"_blank\">https://wandb.ai/zuozhe/fraud_detection/runs/x3ttysfd</a><br/>Synced 5 W&B file(s), 0 media file(s), 0 artifact file(s) and 0 other file(s)"
      ],
      "text/plain": [
       "<IPython.core.display.HTML object>"
      ]
     },
     "metadata": {},
     "output_type": "display_data"
    },
    {
     "data": {
      "text/html": [
       "Find logs at: <code>.\\wandb\\run-20220415_170513-x3ttysfd\\logs</code>"
      ],
      "text/plain": [
       "<IPython.core.display.HTML object>"
      ]
     },
     "metadata": {},
     "output_type": "display_data"
    },
    {
     "data": {
      "text/html": [
       "Successfully finished last run (ID:x3ttysfd). Initializing new run:<br/>"
      ],
      "text/plain": [
       "<IPython.core.display.HTML object>"
      ]
     },
     "metadata": {},
     "output_type": "display_data"
    },
    {
     "data": {
      "text/html": [
       "wandb version 0.12.14 is available!  To upgrade, please run:\n",
       " $ pip install wandb --upgrade"
      ],
      "text/plain": [
       "<IPython.core.display.HTML object>"
      ]
     },
     "metadata": {},
     "output_type": "display_data"
    },
    {
     "data": {
      "text/html": [
       "Tracking run with wandb version 0.12.12"
      ],
      "text/plain": [
       "<IPython.core.display.HTML object>"
      ]
     },
     "metadata": {},
     "output_type": "display_data"
    },
    {
     "data": {
      "text/html": [
       "Run data is saved locally in <code>C:\\Users\\teozz\\OneDrive\\Desktop\\vscode_workspace\\projects\\credit_card_fraud_detection\\wandb\\run-20220415_171616-1gle300k</code>"
      ],
      "text/plain": [
       "<IPython.core.display.HTML object>"
      ]
     },
     "metadata": {},
     "output_type": "display_data"
    },
    {
     "data": {
      "text/html": [
       "Syncing run <strong><a href=\"https://wandb.ai/zuozhe/fraud_detection/runs/1gle300k\" target=\"_blank\">grateful-yogurt-233</a></strong> to <a href=\"https://wandb.ai/zuozhe/fraud_detection\" target=\"_blank\">Weights & Biases</a> (<a href=\"https://wandb.me/run\" target=\"_blank\">docs</a>)<br/>"
      ],
      "text/plain": [
       "<IPython.core.display.HTML object>"
      ]
     },
     "metadata": {},
     "output_type": "display_data"
    },
    {
     "name": "stderr",
     "output_type": "stream",
     "text": [
      "\u001b[32m[I 2022-04-15 17:25:51,863]\u001b[0m Trial 14 finished with value: 0.7438674504950382 and parameters: {'n_estimators': 1955, 'learning_rate': 0.00041220821264578104, 'min_split_gain': 0.016689837931351738, 'objective': 'binary', 'metric': 'average_precision', 'is_unbalance': True}. Best is trial 11 with value: 0.850339269471322.\u001b[0m\n"
     ]
    },
    {
     "data": {
      "text/html": [
       "Finishing last run (ID:1gle300k) before initializing another..."
      ],
      "text/plain": [
       "<IPython.core.display.HTML object>"
      ]
     },
     "metadata": {},
     "output_type": "display_data"
    },
    {
     "name": "stdout",
     "output_type": "stream",
     "text": [
      "\n"
     ]
    },
    {
     "data": {
      "text/html": [
       "Waiting for W&B process to finish... <strong style=\"color:green\">(success).</strong>"
      ],
      "text/plain": [
       "<IPython.core.display.HTML object>"
      ]
     },
     "metadata": {},
     "output_type": "display_data"
    },
    {
     "data": {
      "text/html": [
       "<style>\n",
       "    table.wandb td:nth-child(1) { padding: 0 10px; text-align: right }\n",
       "    .wandb-row { display: flex; flex-direction: row; flex-wrap: wrap; width: 100% }\n",
       "    .wandb-col { display: flex; flex-direction: column; flex-basis: 100%; flex: 1; padding: 10px; }\n",
       "    </style>\n",
       "<div class=\"wandb-row\"><div class=\"wandb-col\"><h3>Run history:</h3><br/><table class=\"wandb\"><tr><td>fit_time</td><td>▁</td></tr><tr><td>is_unbalance</td><td>▁</td></tr><tr><td>learning_rate</td><td>▁</td></tr><tr><td>min_split_gain</td><td>▁</td></tr><tr><td>n_estimators</td><td>▁</td></tr><tr><td>on_golden_test</td><td>▁</td></tr><tr><td>score_time</td><td>▁</td></tr><tr><td>test_accuracy</td><td>▁</td></tr><tr><td>test_average_precision</td><td>▁</td></tr><tr><td>test_f1</td><td>▁</td></tr><tr><td>test_precision</td><td>▁</td></tr><tr><td>test_recall</td><td>▁</td></tr><tr><td>test_roc_auc</td><td>▁</td></tr><tr><td>train_accuracy</td><td>▁</td></tr><tr><td>train_average_precision</td><td>▁</td></tr><tr><td>train_f1</td><td>▁</td></tr><tr><td>train_precision</td><td>▁</td></tr><tr><td>train_recall</td><td>▁</td></tr><tr><td>train_roc_auc</td><td>▁</td></tr></table><br/></div><div class=\"wandb-col\"><h3>Run summary:</h3><br/><table class=\"wandb\"><tr><td>fit_time</td><td>109.07441</td></tr><tr><td>is_unbalance</td><td>True</td></tr><tr><td>learning_rate</td><td>0.00041</td></tr><tr><td>metric</td><td>average_precision</td></tr><tr><td>min_split_gain</td><td>0.01669</td></tr><tr><td>model_name</td><td>LGBMClassifier</td></tr><tr><td>n_estimators</td><td>1955</td></tr><tr><td>objective</td><td>binary</td></tr><tr><td>on_golden_test</td><td>False</td></tr><tr><td>score_time</td><td>51.1064</td></tr><tr><td>test_accuracy</td><td>0.99934</td></tr><tr><td>test_average_precision</td><td>0.74387</td></tr><tr><td>test_f1</td><td>0.79919</td></tr><tr><td>test_precision</td><td>0.84594</td></tr><tr><td>test_recall</td><td>0.75849</td></tr><tr><td>test_roc_auc</td><td>0.97598</td></tr><tr><td>train_accuracy</td><td>0.99976</td></tr><tr><td>train_average_precision</td><td>0.89612</td></tr><tr><td>train_f1</td><td>0.93594</td></tr><tr><td>train_precision</td><td>0.88013</td></tr><tr><td>train_recall</td><td>0.9994</td></tr><tr><td>train_roc_auc</td><td>0.9999</td></tr></table><br/></div></div>"
      ],
      "text/plain": [
       "<IPython.core.display.HTML object>"
      ]
     },
     "metadata": {},
     "output_type": "display_data"
    },
    {
     "data": {
      "text/html": [
       "Synced <strong style=\"color:#cdcd00\">grateful-yogurt-233</strong>: <a href=\"https://wandb.ai/zuozhe/fraud_detection/runs/1gle300k\" target=\"_blank\">https://wandb.ai/zuozhe/fraud_detection/runs/1gle300k</a><br/>Synced 5 W&B file(s), 0 media file(s), 0 artifact file(s) and 0 other file(s)"
      ],
      "text/plain": [
       "<IPython.core.display.HTML object>"
      ]
     },
     "metadata": {},
     "output_type": "display_data"
    },
    {
     "data": {
      "text/html": [
       "Find logs at: <code>.\\wandb\\run-20220415_171616-1gle300k\\logs</code>"
      ],
      "text/plain": [
       "<IPython.core.display.HTML object>"
      ]
     },
     "metadata": {},
     "output_type": "display_data"
    },
    {
     "data": {
      "text/html": [
       "Successfully finished last run (ID:1gle300k). Initializing new run:<br/>"
      ],
      "text/plain": [
       "<IPython.core.display.HTML object>"
      ]
     },
     "metadata": {},
     "output_type": "display_data"
    },
    {
     "data": {
      "text/html": [
       "wandb version 0.12.14 is available!  To upgrade, please run:\n",
       " $ pip install wandb --upgrade"
      ],
      "text/plain": [
       "<IPython.core.display.HTML object>"
      ]
     },
     "metadata": {},
     "output_type": "display_data"
    },
    {
     "data": {
      "text/html": [
       "Tracking run with wandb version 0.12.12"
      ],
      "text/plain": [
       "<IPython.core.display.HTML object>"
      ]
     },
     "metadata": {},
     "output_type": "display_data"
    },
    {
     "data": {
      "text/html": [
       "Run data is saved locally in <code>C:\\Users\\teozz\\OneDrive\\Desktop\\vscode_workspace\\projects\\credit_card_fraud_detection\\wandb\\run-20220415_172551-2p6wc8pm</code>"
      ],
      "text/plain": [
       "<IPython.core.display.HTML object>"
      ]
     },
     "metadata": {},
     "output_type": "display_data"
    },
    {
     "data": {
      "text/html": [
       "Syncing run <strong><a href=\"https://wandb.ai/zuozhe/fraud_detection/runs/2p6wc8pm\" target=\"_blank\">splendid-rain-234</a></strong> to <a href=\"https://wandb.ai/zuozhe/fraud_detection\" target=\"_blank\">Weights & Biases</a> (<a href=\"https://wandb.me/run\" target=\"_blank\">docs</a>)<br/>"
      ],
      "text/plain": [
       "<IPython.core.display.HTML object>"
      ]
     },
     "metadata": {},
     "output_type": "display_data"
    },
    {
     "name": "stderr",
     "output_type": "stream",
     "text": [
      "\u001b[32m[I 2022-04-15 17:35:23,841]\u001b[0m Trial 15 finished with value: 0.8510402547582203 and parameters: {'n_estimators': 1741, 'learning_rate': 0.006900083819986452, 'min_split_gain': 0.028046542134618276, 'objective': 'binary', 'metric': 'average_precision', 'is_unbalance': True}. Best is trial 15 with value: 0.8510402547582203.\u001b[0m\n"
     ]
    },
    {
     "data": {
      "text/html": [
       "Finishing last run (ID:2p6wc8pm) before initializing another..."
      ],
      "text/plain": [
       "<IPython.core.display.HTML object>"
      ]
     },
     "metadata": {},
     "output_type": "display_data"
    },
    {
     "name": "stdout",
     "output_type": "stream",
     "text": [
      "\n"
     ]
    },
    {
     "data": {
      "text/html": [
       "Waiting for W&B process to finish... <strong style=\"color:green\">(success).</strong>"
      ],
      "text/plain": [
       "<IPython.core.display.HTML object>"
      ]
     },
     "metadata": {},
     "output_type": "display_data"
    },
    {
     "data": {
      "text/html": [
       "<style>\n",
       "    table.wandb td:nth-child(1) { padding: 0 10px; text-align: right }\n",
       "    .wandb-row { display: flex; flex-direction: row; flex-wrap: wrap; width: 100% }\n",
       "    .wandb-col { display: flex; flex-direction: column; flex-basis: 100%; flex: 1; padding: 10px; }\n",
       "    </style>\n",
       "<div class=\"wandb-row\"><div class=\"wandb-col\"><h3>Run history:</h3><br/><table class=\"wandb\"><tr><td>fit_time</td><td>▁</td></tr><tr><td>is_unbalance</td><td>▁</td></tr><tr><td>learning_rate</td><td>▁</td></tr><tr><td>min_split_gain</td><td>▁</td></tr><tr><td>n_estimators</td><td>▁</td></tr><tr><td>on_golden_test</td><td>▁</td></tr><tr><td>score_time</td><td>▁</td></tr><tr><td>test_accuracy</td><td>▁</td></tr><tr><td>test_average_precision</td><td>▁</td></tr><tr><td>test_f1</td><td>▁</td></tr><tr><td>test_precision</td><td>▁</td></tr><tr><td>test_recall</td><td>▁</td></tr><tr><td>test_roc_auc</td><td>▁</td></tr><tr><td>train_accuracy</td><td>▁</td></tr><tr><td>train_average_precision</td><td>▁</td></tr><tr><td>train_f1</td><td>▁</td></tr><tr><td>train_precision</td><td>▁</td></tr><tr><td>train_recall</td><td>▁</td></tr><tr><td>train_roc_auc</td><td>▁</td></tr></table><br/></div><div class=\"wandb-col\"><h3>Run summary:</h3><br/><table class=\"wandb\"><tr><td>fit_time</td><td>93.7626</td></tr><tr><td>is_unbalance</td><td>True</td></tr><tr><td>learning_rate</td><td>0.0069</td></tr><tr><td>metric</td><td>average_precision</td></tr><tr><td>min_split_gain</td><td>0.02805</td></tr><tr><td>model_name</td><td>LGBMClassifier</td></tr><tr><td>n_estimators</td><td>1741</td></tr><tr><td>objective</td><td>binary</td></tr><tr><td>on_golden_test</td><td>False</td></tr><tr><td>score_time</td><td>52.0778</td></tr><tr><td>test_accuracy</td><td>0.9995</td></tr><tr><td>test_average_precision</td><td>0.85104</td></tr><tr><td>test_f1</td><td>0.84759</td></tr><tr><td>test_precision</td><td>0.88887</td></tr><tr><td>test_recall</td><td>0.81116</td></tr><tr><td>test_roc_auc</td><td>0.97598</td></tr><tr><td>train_accuracy</td><td>1.0</td></tr><tr><td>train_average_precision</td><td>1.0</td></tr><tr><td>train_f1</td><td>1.0</td></tr><tr><td>train_precision</td><td>1.0</td></tr><tr><td>train_recall</td><td>1.0</td></tr><tr><td>train_roc_auc</td><td>1.0</td></tr></table><br/></div></div>"
      ],
      "text/plain": [
       "<IPython.core.display.HTML object>"
      ]
     },
     "metadata": {},
     "output_type": "display_data"
    },
    {
     "data": {
      "text/html": [
       "Synced <strong style=\"color:#cdcd00\">splendid-rain-234</strong>: <a href=\"https://wandb.ai/zuozhe/fraud_detection/runs/2p6wc8pm\" target=\"_blank\">https://wandb.ai/zuozhe/fraud_detection/runs/2p6wc8pm</a><br/>Synced 5 W&B file(s), 0 media file(s), 0 artifact file(s) and 0 other file(s)"
      ],
      "text/plain": [
       "<IPython.core.display.HTML object>"
      ]
     },
     "metadata": {},
     "output_type": "display_data"
    },
    {
     "data": {
      "text/html": [
       "Find logs at: <code>.\\wandb\\run-20220415_172551-2p6wc8pm\\logs</code>"
      ],
      "text/plain": [
       "<IPython.core.display.HTML object>"
      ]
     },
     "metadata": {},
     "output_type": "display_data"
    },
    {
     "data": {
      "text/html": [
       "Successfully finished last run (ID:2p6wc8pm). Initializing new run:<br/>"
      ],
      "text/plain": [
       "<IPython.core.display.HTML object>"
      ]
     },
     "metadata": {},
     "output_type": "display_data"
    },
    {
     "data": {
      "text/html": [
       "wandb version 0.12.14 is available!  To upgrade, please run:\n",
       " $ pip install wandb --upgrade"
      ],
      "text/plain": [
       "<IPython.core.display.HTML object>"
      ]
     },
     "metadata": {},
     "output_type": "display_data"
    },
    {
     "data": {
      "text/html": [
       "Tracking run with wandb version 0.12.12"
      ],
      "text/plain": [
       "<IPython.core.display.HTML object>"
      ]
     },
     "metadata": {},
     "output_type": "display_data"
    },
    {
     "data": {
      "text/html": [
       "Run data is saved locally in <code>C:\\Users\\teozz\\OneDrive\\Desktop\\vscode_workspace\\projects\\credit_card_fraud_detection\\wandb\\run-20220415_173523-373ej3bs</code>"
      ],
      "text/plain": [
       "<IPython.core.display.HTML object>"
      ]
     },
     "metadata": {},
     "output_type": "display_data"
    },
    {
     "data": {
      "text/html": [
       "Syncing run <strong><a href=\"https://wandb.ai/zuozhe/fraud_detection/runs/373ej3bs\" target=\"_blank\">vibrant-cloud-235</a></strong> to <a href=\"https://wandb.ai/zuozhe/fraud_detection\" target=\"_blank\">Weights & Biases</a> (<a href=\"https://wandb.me/run\" target=\"_blank\">docs</a>)<br/>"
      ],
      "text/plain": [
       "<IPython.core.display.HTML object>"
      ]
     },
     "metadata": {},
     "output_type": "display_data"
    },
    {
     "name": "stderr",
     "output_type": "stream",
     "text": [
      "\u001b[32m[I 2022-04-15 17:44:12,304]\u001b[0m Trial 16 finished with value: 0.8483369631492368 and parameters: {'n_estimators': 1713, 'learning_rate': 0.009239178828180558, 'min_split_gain': 0.030100356941594623, 'objective': 'binary', 'metric': 'average_precision', 'is_unbalance': True}. Best is trial 15 with value: 0.8510402547582203.\u001b[0m\n"
     ]
    },
    {
     "data": {
      "text/html": [
       "Finishing last run (ID:373ej3bs) before initializing another..."
      ],
      "text/plain": [
       "<IPython.core.display.HTML object>"
      ]
     },
     "metadata": {},
     "output_type": "display_data"
    },
    {
     "name": "stdout",
     "output_type": "stream",
     "text": [
      "\n"
     ]
    },
    {
     "data": {
      "text/html": [
       "Waiting for W&B process to finish... <strong style=\"color:green\">(success).</strong>"
      ],
      "text/plain": [
       "<IPython.core.display.HTML object>"
      ]
     },
     "metadata": {},
     "output_type": "display_data"
    },
    {
     "data": {
      "text/html": [
       "<style>\n",
       "    table.wandb td:nth-child(1) { padding: 0 10px; text-align: right }\n",
       "    .wandb-row { display: flex; flex-direction: row; flex-wrap: wrap; width: 100% }\n",
       "    .wandb-col { display: flex; flex-direction: column; flex-basis: 100%; flex: 1; padding: 10px; }\n",
       "    </style>\n",
       "<div class=\"wandb-row\"><div class=\"wandb-col\"><h3>Run history:</h3><br/><table class=\"wandb\"><tr><td>fit_time</td><td>▁</td></tr><tr><td>is_unbalance</td><td>▁</td></tr><tr><td>learning_rate</td><td>▁</td></tr><tr><td>min_split_gain</td><td>▁</td></tr><tr><td>n_estimators</td><td>▁</td></tr><tr><td>on_golden_test</td><td>▁</td></tr><tr><td>score_time</td><td>▁</td></tr><tr><td>test_accuracy</td><td>▁</td></tr><tr><td>test_average_precision</td><td>▁</td></tr><tr><td>test_f1</td><td>▁</td></tr><tr><td>test_precision</td><td>▁</td></tr><tr><td>test_recall</td><td>▁</td></tr><tr><td>test_roc_auc</td><td>▁</td></tr><tr><td>train_accuracy</td><td>▁</td></tr><tr><td>train_average_precision</td><td>▁</td></tr><tr><td>train_f1</td><td>▁</td></tr><tr><td>train_precision</td><td>▁</td></tr><tr><td>train_recall</td><td>▁</td></tr><tr><td>train_roc_auc</td><td>▁</td></tr></table><br/></div><div class=\"wandb-col\"><h3>Run summary:</h3><br/><table class=\"wandb\"><tr><td>fit_time</td><td>88.7766</td></tr><tr><td>is_unbalance</td><td>True</td></tr><tr><td>learning_rate</td><td>0.00924</td></tr><tr><td>metric</td><td>average_precision</td></tr><tr><td>min_split_gain</td><td>0.0301</td></tr><tr><td>model_name</td><td>LGBMClassifier</td></tr><tr><td>n_estimators</td><td>1713</td></tr><tr><td>objective</td><td>binary</td></tr><tr><td>on_golden_test</td><td>False</td></tr><tr><td>score_time</td><td>48.703</td></tr><tr><td>test_accuracy</td><td>0.99951</td></tr><tr><td>test_average_precision</td><td>0.84834</td></tr><tr><td>test_f1</td><td>0.85129</td></tr><tr><td>test_precision</td><td>0.90353</td></tr><tr><td>test_recall</td><td>0.80637</td></tr><tr><td>test_roc_auc</td><td>0.97514</td></tr><tr><td>train_accuracy</td><td>1.0</td></tr><tr><td>train_average_precision</td><td>1.0</td></tr><tr><td>train_f1</td><td>1.0</td></tr><tr><td>train_precision</td><td>1.0</td></tr><tr><td>train_recall</td><td>1.0</td></tr><tr><td>train_roc_auc</td><td>1.0</td></tr></table><br/></div></div>"
      ],
      "text/plain": [
       "<IPython.core.display.HTML object>"
      ]
     },
     "metadata": {},
     "output_type": "display_data"
    },
    {
     "data": {
      "text/html": [
       "Synced <strong style=\"color:#cdcd00\">vibrant-cloud-235</strong>: <a href=\"https://wandb.ai/zuozhe/fraud_detection/runs/373ej3bs\" target=\"_blank\">https://wandb.ai/zuozhe/fraud_detection/runs/373ej3bs</a><br/>Synced 5 W&B file(s), 0 media file(s), 0 artifact file(s) and 0 other file(s)"
      ],
      "text/plain": [
       "<IPython.core.display.HTML object>"
      ]
     },
     "metadata": {},
     "output_type": "display_data"
    },
    {
     "data": {
      "text/html": [
       "Find logs at: <code>.\\wandb\\run-20220415_173523-373ej3bs\\logs</code>"
      ],
      "text/plain": [
       "<IPython.core.display.HTML object>"
      ]
     },
     "metadata": {},
     "output_type": "display_data"
    },
    {
     "data": {
      "text/html": [
       "Successfully finished last run (ID:373ej3bs). Initializing new run:<br/>"
      ],
      "text/plain": [
       "<IPython.core.display.HTML object>"
      ]
     },
     "metadata": {},
     "output_type": "display_data"
    },
    {
     "data": {
      "text/html": [
       "wandb version 0.12.14 is available!  To upgrade, please run:\n",
       " $ pip install wandb --upgrade"
      ],
      "text/plain": [
       "<IPython.core.display.HTML object>"
      ]
     },
     "metadata": {},
     "output_type": "display_data"
    },
    {
     "data": {
      "text/html": [
       "Tracking run with wandb version 0.12.12"
      ],
      "text/plain": [
       "<IPython.core.display.HTML object>"
      ]
     },
     "metadata": {},
     "output_type": "display_data"
    },
    {
     "data": {
      "text/html": [
       "Run data is saved locally in <code>C:\\Users\\teozz\\OneDrive\\Desktop\\vscode_workspace\\projects\\credit_card_fraud_detection\\wandb\\run-20220415_174412-2w1mj2k8</code>"
      ],
      "text/plain": [
       "<IPython.core.display.HTML object>"
      ]
     },
     "metadata": {},
     "output_type": "display_data"
    },
    {
     "data": {
      "text/html": [
       "Syncing run <strong><a href=\"https://wandb.ai/zuozhe/fraud_detection/runs/2w1mj2k8\" target=\"_blank\">sunny-morning-236</a></strong> to <a href=\"https://wandb.ai/zuozhe/fraud_detection\" target=\"_blank\">Weights & Biases</a> (<a href=\"https://wandb.me/run\" target=\"_blank\">docs</a>)<br/>"
      ],
      "text/plain": [
       "<IPython.core.display.HTML object>"
      ]
     },
     "metadata": {},
     "output_type": "display_data"
    },
    {
     "name": "stderr",
     "output_type": "stream",
     "text": [
      "\u001b[32m[I 2022-04-15 17:50:19,000]\u001b[0m Trial 17 finished with value: 0.8451933333205457 and parameters: {'n_estimators': 1731, 'learning_rate': 0.014064491729936377, 'min_split_gain': 0.008822852121321223, 'objective': 'binary', 'metric': 'average_precision', 'is_unbalance': True}. Best is trial 15 with value: 0.8510402547582203.\u001b[0m\n"
     ]
    },
    {
     "data": {
      "text/html": [
       "Finishing last run (ID:2w1mj2k8) before initializing another..."
      ],
      "text/plain": [
       "<IPython.core.display.HTML object>"
      ]
     },
     "metadata": {},
     "output_type": "display_data"
    },
    {
     "name": "stdout",
     "output_type": "stream",
     "text": [
      "\n"
     ]
    },
    {
     "data": {
      "text/html": [
       "Waiting for W&B process to finish... <strong style=\"color:green\">(success).</strong>"
      ],
      "text/plain": [
       "<IPython.core.display.HTML object>"
      ]
     },
     "metadata": {},
     "output_type": "display_data"
    },
    {
     "data": {
      "text/html": [
       "<style>\n",
       "    table.wandb td:nth-child(1) { padding: 0 10px; text-align: right }\n",
       "    .wandb-row { display: flex; flex-direction: row; flex-wrap: wrap; width: 100% }\n",
       "    .wandb-col { display: flex; flex-direction: column; flex-basis: 100%; flex: 1; padding: 10px; }\n",
       "    </style>\n",
       "<div class=\"wandb-row\"><div class=\"wandb-col\"><h3>Run history:</h3><br/><table class=\"wandb\"><tr><td>fit_time</td><td>▁</td></tr><tr><td>is_unbalance</td><td>▁</td></tr><tr><td>learning_rate</td><td>▁</td></tr><tr><td>min_split_gain</td><td>▁</td></tr><tr><td>n_estimators</td><td>▁</td></tr><tr><td>on_golden_test</td><td>▁</td></tr><tr><td>score_time</td><td>▁</td></tr><tr><td>test_accuracy</td><td>▁</td></tr><tr><td>test_average_precision</td><td>▁</td></tr><tr><td>test_f1</td><td>▁</td></tr><tr><td>test_precision</td><td>▁</td></tr><tr><td>test_recall</td><td>▁</td></tr><tr><td>test_roc_auc</td><td>▁</td></tr><tr><td>train_accuracy</td><td>▁</td></tr><tr><td>train_average_precision</td><td>▁</td></tr><tr><td>train_f1</td><td>▁</td></tr><tr><td>train_precision</td><td>▁</td></tr><tr><td>train_recall</td><td>▁</td></tr><tr><td>train_roc_auc</td><td>▁</td></tr></table><br/></div><div class=\"wandb-col\"><h3>Run summary:</h3><br/><table class=\"wandb\"><tr><td>fit_time</td><td>75.4106</td></tr><tr><td>is_unbalance</td><td>True</td></tr><tr><td>learning_rate</td><td>0.01406</td></tr><tr><td>metric</td><td>average_precision</td></tr><tr><td>min_split_gain</td><td>0.00882</td></tr><tr><td>model_name</td><td>LGBMClassifier</td></tr><tr><td>n_estimators</td><td>1731</td></tr><tr><td>objective</td><td>binary</td></tr><tr><td>on_golden_test</td><td>False</td></tr><tr><td>score_time</td><td>31.5936</td></tr><tr><td>test_accuracy</td><td>0.99954</td></tr><tr><td>test_average_precision</td><td>0.84519</td></tr><tr><td>test_f1</td><td>0.85841</td></tr><tr><td>test_precision</td><td>0.9196</td></tr><tr><td>test_recall</td><td>0.80634</td></tr><tr><td>test_roc_auc</td><td>0.96736</td></tr><tr><td>train_accuracy</td><td>1.0</td></tr><tr><td>train_average_precision</td><td>1.0</td></tr><tr><td>train_f1</td><td>1.0</td></tr><tr><td>train_precision</td><td>1.0</td></tr><tr><td>train_recall</td><td>1.0</td></tr><tr><td>train_roc_auc</td><td>1.0</td></tr></table><br/></div></div>"
      ],
      "text/plain": [
       "<IPython.core.display.HTML object>"
      ]
     },
     "metadata": {},
     "output_type": "display_data"
    },
    {
     "data": {
      "text/html": [
       "Synced <strong style=\"color:#cdcd00\">sunny-morning-236</strong>: <a href=\"https://wandb.ai/zuozhe/fraud_detection/runs/2w1mj2k8\" target=\"_blank\">https://wandb.ai/zuozhe/fraud_detection/runs/2w1mj2k8</a><br/>Synced 5 W&B file(s), 0 media file(s), 0 artifact file(s) and 0 other file(s)"
      ],
      "text/plain": [
       "<IPython.core.display.HTML object>"
      ]
     },
     "metadata": {},
     "output_type": "display_data"
    },
    {
     "data": {
      "text/html": [
       "Find logs at: <code>.\\wandb\\run-20220415_174412-2w1mj2k8\\logs</code>"
      ],
      "text/plain": [
       "<IPython.core.display.HTML object>"
      ]
     },
     "metadata": {},
     "output_type": "display_data"
    },
    {
     "data": {
      "text/html": [
       "Successfully finished last run (ID:2w1mj2k8). Initializing new run:<br/>"
      ],
      "text/plain": [
       "<IPython.core.display.HTML object>"
      ]
     },
     "metadata": {},
     "output_type": "display_data"
    },
    {
     "data": {
      "text/html": [
       "wandb version 0.12.14 is available!  To upgrade, please run:\n",
       " $ pip install wandb --upgrade"
      ],
      "text/plain": [
       "<IPython.core.display.HTML object>"
      ]
     },
     "metadata": {},
     "output_type": "display_data"
    },
    {
     "data": {
      "text/html": [
       "Tracking run with wandb version 0.12.12"
      ],
      "text/plain": [
       "<IPython.core.display.HTML object>"
      ]
     },
     "metadata": {},
     "output_type": "display_data"
    },
    {
     "data": {
      "text/html": [
       "Run data is saved locally in <code>C:\\Users\\teozz\\OneDrive\\Desktop\\vscode_workspace\\projects\\credit_card_fraud_detection\\wandb\\run-20220415_175019-209nb8yj</code>"
      ],
      "text/plain": [
       "<IPython.core.display.HTML object>"
      ]
     },
     "metadata": {},
     "output_type": "display_data"
    },
    {
     "data": {
      "text/html": [
       "Syncing run <strong><a href=\"https://wandb.ai/zuozhe/fraud_detection/runs/209nb8yj\" target=\"_blank\">logical-fire-237</a></strong> to <a href=\"https://wandb.ai/zuozhe/fraud_detection\" target=\"_blank\">Weights & Biases</a> (<a href=\"https://wandb.me/run\" target=\"_blank\">docs</a>)<br/>"
      ],
      "text/plain": [
       "<IPython.core.display.HTML object>"
      ]
     },
     "metadata": {},
     "output_type": "display_data"
    },
    {
     "name": "stderr",
     "output_type": "stream",
     "text": [
      "\u001b[32m[I 2022-04-15 18:01:00,397]\u001b[0m Trial 18 finished with value: 0.8492198162105586 and parameters: {'n_estimators': 2225, 'learning_rate': 0.007970558242905566, 'min_split_gain': 0.0284855483771712, 'objective': 'binary', 'metric': 'average_precision', 'is_unbalance': True}. Best is trial 15 with value: 0.8510402547582203.\u001b[0m\n"
     ]
    },
    {
     "data": {
      "text/html": [
       "Finishing last run (ID:209nb8yj) before initializing another..."
      ],
      "text/plain": [
       "<IPython.core.display.HTML object>"
      ]
     },
     "metadata": {},
     "output_type": "display_data"
    },
    {
     "name": "stdout",
     "output_type": "stream",
     "text": [
      "\n"
     ]
    },
    {
     "data": {
      "text/html": [
       "Waiting for W&B process to finish... <strong style=\"color:green\">(success).</strong>"
      ],
      "text/plain": [
       "<IPython.core.display.HTML object>"
      ]
     },
     "metadata": {},
     "output_type": "display_data"
    },
    {
     "data": {
      "text/html": [
       "<style>\n",
       "    table.wandb td:nth-child(1) { padding: 0 10px; text-align: right }\n",
       "    .wandb-row { display: flex; flex-direction: row; flex-wrap: wrap; width: 100% }\n",
       "    .wandb-col { display: flex; flex-direction: column; flex-basis: 100%; flex: 1; padding: 10px; }\n",
       "    </style>\n",
       "<div class=\"wandb-row\"><div class=\"wandb-col\"><h3>Run history:</h3><br/><table class=\"wandb\"><tr><td>fit_time</td><td>▁</td></tr><tr><td>is_unbalance</td><td>▁</td></tr><tr><td>learning_rate</td><td>▁</td></tr><tr><td>min_split_gain</td><td>▁</td></tr><tr><td>n_estimators</td><td>▁</td></tr><tr><td>on_golden_test</td><td>▁</td></tr><tr><td>score_time</td><td>▁</td></tr><tr><td>test_accuracy</td><td>▁</td></tr><tr><td>test_average_precision</td><td>▁</td></tr><tr><td>test_f1</td><td>▁</td></tr><tr><td>test_precision</td><td>▁</td></tr><tr><td>test_recall</td><td>▁</td></tr><tr><td>test_roc_auc</td><td>▁</td></tr><tr><td>train_accuracy</td><td>▁</td></tr><tr><td>train_average_precision</td><td>▁</td></tr><tr><td>train_f1</td><td>▁</td></tr><tr><td>train_precision</td><td>▁</td></tr><tr><td>train_recall</td><td>▁</td></tr><tr><td>train_roc_auc</td><td>▁</td></tr></table><br/></div><div class=\"wandb-col\"><h3>Run summary:</h3><br/><table class=\"wandb\"><tr><td>fit_time</td><td>107.904</td></tr><tr><td>is_unbalance</td><td>True</td></tr><tr><td>learning_rate</td><td>0.00797</td></tr><tr><td>metric</td><td>average_precision</td></tr><tr><td>min_split_gain</td><td>0.02849</td></tr><tr><td>model_name</td><td>LGBMClassifier</td></tr><tr><td>n_estimators</td><td>2225</td></tr><tr><td>objective</td><td>binary</td></tr><tr><td>on_golden_test</td><td>False</td></tr><tr><td>score_time</td><td>58.4374</td></tr><tr><td>test_accuracy</td><td>0.99951</td></tr><tr><td>test_average_precision</td><td>0.84922</td></tr><tr><td>test_f1</td><td>0.85032</td></tr><tr><td>test_precision</td><td>0.89863</td></tr><tr><td>test_recall</td><td>0.80878</td></tr><tr><td>test_roc_auc</td><td>0.97592</td></tr><tr><td>train_accuracy</td><td>1.0</td></tr><tr><td>train_average_precision</td><td>1.0</td></tr><tr><td>train_f1</td><td>1.0</td></tr><tr><td>train_precision</td><td>1.0</td></tr><tr><td>train_recall</td><td>1.0</td></tr><tr><td>train_roc_auc</td><td>1.0</td></tr></table><br/></div></div>"
      ],
      "text/plain": [
       "<IPython.core.display.HTML object>"
      ]
     },
     "metadata": {},
     "output_type": "display_data"
    },
    {
     "data": {
      "text/html": [
       "Synced <strong style=\"color:#cdcd00\">logical-fire-237</strong>: <a href=\"https://wandb.ai/zuozhe/fraud_detection/runs/209nb8yj\" target=\"_blank\">https://wandb.ai/zuozhe/fraud_detection/runs/209nb8yj</a><br/>Synced 5 W&B file(s), 0 media file(s), 0 artifact file(s) and 0 other file(s)"
      ],
      "text/plain": [
       "<IPython.core.display.HTML object>"
      ]
     },
     "metadata": {},
     "output_type": "display_data"
    },
    {
     "data": {
      "text/html": [
       "Find logs at: <code>.\\wandb\\run-20220415_175019-209nb8yj\\logs</code>"
      ],
      "text/plain": [
       "<IPython.core.display.HTML object>"
      ]
     },
     "metadata": {},
     "output_type": "display_data"
    },
    {
     "data": {
      "text/html": [
       "Successfully finished last run (ID:209nb8yj). Initializing new run:<br/>"
      ],
      "text/plain": [
       "<IPython.core.display.HTML object>"
      ]
     },
     "metadata": {},
     "output_type": "display_data"
    },
    {
     "data": {
      "text/html": [
       "wandb version 0.12.14 is available!  To upgrade, please run:\n",
       " $ pip install wandb --upgrade"
      ],
      "text/plain": [
       "<IPython.core.display.HTML object>"
      ]
     },
     "metadata": {},
     "output_type": "display_data"
    },
    {
     "data": {
      "text/html": [
       "Tracking run with wandb version 0.12.12"
      ],
      "text/plain": [
       "<IPython.core.display.HTML object>"
      ]
     },
     "metadata": {},
     "output_type": "display_data"
    },
    {
     "data": {
      "text/html": [
       "Run data is saved locally in <code>C:\\Users\\teozz\\OneDrive\\Desktop\\vscode_workspace\\projects\\credit_card_fraud_detection\\wandb\\run-20220415_180100-1jrfbsc1</code>"
      ],
      "text/plain": [
       "<IPython.core.display.HTML object>"
      ]
     },
     "metadata": {},
     "output_type": "display_data"
    },
    {
     "data": {
      "text/html": [
       "Syncing run <strong><a href=\"https://wandb.ai/zuozhe/fraud_detection/runs/1jrfbsc1\" target=\"_blank\">eager-snow-238</a></strong> to <a href=\"https://wandb.ai/zuozhe/fraud_detection\" target=\"_blank\">Weights & Biases</a> (<a href=\"https://wandb.me/run\" target=\"_blank\">docs</a>)<br/>"
      ],
      "text/plain": [
       "<IPython.core.display.HTML object>"
      ]
     },
     "metadata": {},
     "output_type": "display_data"
    },
    {
     "name": "stderr",
     "output_type": "stream",
     "text": [
      "\u001b[32m[I 2022-04-15 18:11:38,893]\u001b[0m Trial 19 finished with value: 0.8234987273071986 and parameters: {'n_estimators': 1959, 'learning_rate': 0.0034549160906596115, 'min_split_gain': 0.0012423721346843594, 'objective': 'binary', 'metric': 'average_precision', 'is_unbalance': True}. Best is trial 15 with value: 0.8510402547582203.\u001b[0m\n"
     ]
    },
    {
     "data": {
      "text/html": [
       "Finishing last run (ID:1jrfbsc1) before initializing another..."
      ],
      "text/plain": [
       "<IPython.core.display.HTML object>"
      ]
     },
     "metadata": {},
     "output_type": "display_data"
    },
    {
     "name": "stdout",
     "output_type": "stream",
     "text": [
      "\n"
     ]
    },
    {
     "data": {
      "text/html": [
       "Waiting for W&B process to finish... <strong style=\"color:green\">(success).</strong>"
      ],
      "text/plain": [
       "<IPython.core.display.HTML object>"
      ]
     },
     "metadata": {},
     "output_type": "display_data"
    },
    {
     "data": {
      "text/html": [
       "<style>\n",
       "    table.wandb td:nth-child(1) { padding: 0 10px; text-align: right }\n",
       "    .wandb-row { display: flex; flex-direction: row; flex-wrap: wrap; width: 100% }\n",
       "    .wandb-col { display: flex; flex-direction: column; flex-basis: 100%; flex: 1; padding: 10px; }\n",
       "    </style>\n",
       "<div class=\"wandb-row\"><div class=\"wandb-col\"><h3>Run history:</h3><br/><table class=\"wandb\"><tr><td>fit_time</td><td>▁</td></tr><tr><td>is_unbalance</td><td>▁</td></tr><tr><td>learning_rate</td><td>▁</td></tr><tr><td>min_split_gain</td><td>▁</td></tr><tr><td>n_estimators</td><td>▁</td></tr><tr><td>on_golden_test</td><td>▁</td></tr><tr><td>score_time</td><td>▁</td></tr><tr><td>test_accuracy</td><td>▁</td></tr><tr><td>test_average_precision</td><td>▁</td></tr><tr><td>test_f1</td><td>▁</td></tr><tr><td>test_precision</td><td>▁</td></tr><tr><td>test_recall</td><td>▁</td></tr><tr><td>test_roc_auc</td><td>▁</td></tr><tr><td>train_accuracy</td><td>▁</td></tr><tr><td>train_average_precision</td><td>▁</td></tr><tr><td>train_f1</td><td>▁</td></tr><tr><td>train_precision</td><td>▁</td></tr><tr><td>train_recall</td><td>▁</td></tr><tr><td>train_roc_auc</td><td>▁</td></tr></table><br/></div><div class=\"wandb-col\"><h3>Run summary:</h3><br/><table class=\"wandb\"><tr><td>fit_time</td><td>110.111</td></tr><tr><td>is_unbalance</td><td>True</td></tr><tr><td>learning_rate</td><td>0.00345</td></tr><tr><td>metric</td><td>average_precision</td></tr><tr><td>min_split_gain</td><td>0.00124</td></tr><tr><td>model_name</td><td>LGBMClassifier</td></tr><tr><td>n_estimators</td><td>1959</td></tr><tr><td>objective</td><td>binary</td></tr><tr><td>on_golden_test</td><td>False</td></tr><tr><td>score_time</td><td>57.204</td></tr><tr><td>test_accuracy</td><td>0.99937</td></tr><tr><td>test_average_precision</td><td>0.8235</td></tr><tr><td>test_f1</td><td>0.82091</td></tr><tr><td>test_precision</td><td>0.80958</td></tr><tr><td>test_recall</td><td>0.83511</td></tr><tr><td>test_roc_auc</td><td>0.97893</td></tr><tr><td>train_accuracy</td><td>0.99981</td></tr><tr><td>train_average_precision</td><td>0.97818</td></tr><tr><td>train_f1</td><td>0.94813</td></tr><tr><td>train_precision</td><td>0.90141</td></tr><tr><td>train_recall</td><td>1.0</td></tr><tr><td>train_roc_auc</td><td>0.99998</td></tr></table><br/></div></div>"
      ],
      "text/plain": [
       "<IPython.core.display.HTML object>"
      ]
     },
     "metadata": {},
     "output_type": "display_data"
    },
    {
     "data": {
      "text/html": [
       "Synced <strong style=\"color:#cdcd00\">eager-snow-238</strong>: <a href=\"https://wandb.ai/zuozhe/fraud_detection/runs/1jrfbsc1\" target=\"_blank\">https://wandb.ai/zuozhe/fraud_detection/runs/1jrfbsc1</a><br/>Synced 5 W&B file(s), 0 media file(s), 0 artifact file(s) and 0 other file(s)"
      ],
      "text/plain": [
       "<IPython.core.display.HTML object>"
      ]
     },
     "metadata": {},
     "output_type": "display_data"
    },
    {
     "data": {
      "text/html": [
       "Find logs at: <code>.\\wandb\\run-20220415_180100-1jrfbsc1\\logs</code>"
      ],
      "text/plain": [
       "<IPython.core.display.HTML object>"
      ]
     },
     "metadata": {},
     "output_type": "display_data"
    },
    {
     "data": {
      "text/html": [
       "Successfully finished last run (ID:1jrfbsc1). Initializing new run:<br/>"
      ],
      "text/plain": [
       "<IPython.core.display.HTML object>"
      ]
     },
     "metadata": {},
     "output_type": "display_data"
    },
    {
     "data": {
      "text/html": [
       "wandb version 0.12.14 is available!  To upgrade, please run:\n",
       " $ pip install wandb --upgrade"
      ],
      "text/plain": [
       "<IPython.core.display.HTML object>"
      ]
     },
     "metadata": {},
     "output_type": "display_data"
    },
    {
     "data": {
      "text/html": [
       "Tracking run with wandb version 0.12.12"
      ],
      "text/plain": [
       "<IPython.core.display.HTML object>"
      ]
     },
     "metadata": {},
     "output_type": "display_data"
    },
    {
     "data": {
      "text/html": [
       "Run data is saved locally in <code>C:\\Users\\teozz\\OneDrive\\Desktop\\vscode_workspace\\projects\\credit_card_fraud_detection\\wandb\\run-20220415_181138-1oiruso1</code>"
      ],
      "text/plain": [
       "<IPython.core.display.HTML object>"
      ]
     },
     "metadata": {},
     "output_type": "display_data"
    },
    {
     "data": {
      "text/html": [
       "Syncing run <strong><a href=\"https://wandb.ai/zuozhe/fraud_detection/runs/1oiruso1\" target=\"_blank\">wild-surf-239</a></strong> to <a href=\"https://wandb.ai/zuozhe/fraud_detection\" target=\"_blank\">Weights & Biases</a> (<a href=\"https://wandb.me/run\" target=\"_blank\">docs</a>)<br/>"
      ],
      "text/plain": [
       "<IPython.core.display.HTML object>"
      ]
     },
     "metadata": {},
     "output_type": "display_data"
    },
    {
     "name": "stderr",
     "output_type": "stream",
     "text": [
      "\u001b[32m[I 2022-04-15 18:23:11,420]\u001b[0m Trial 20 finished with value: 0.7987337519738279 and parameters: {'n_estimators': 2103, 'learning_rate': 0.0028171928620945802, 'min_split_gain': 0.038970361467720045, 'objective': 'binary', 'metric': 'average_precision', 'is_unbalance': True}. Best is trial 15 with value: 0.8510402547582203.\u001b[0m\n"
     ]
    },
    {
     "data": {
      "text/html": [
       "Finishing last run (ID:1oiruso1) before initializing another..."
      ],
      "text/plain": [
       "<IPython.core.display.HTML object>"
      ]
     },
     "metadata": {},
     "output_type": "display_data"
    },
    {
     "name": "stdout",
     "output_type": "stream",
     "text": [
      "\n"
     ]
    },
    {
     "data": {
      "text/html": [
       "Waiting for W&B process to finish... <strong style=\"color:green\">(success).</strong>"
      ],
      "text/plain": [
       "<IPython.core.display.HTML object>"
      ]
     },
     "metadata": {},
     "output_type": "display_data"
    },
    {
     "data": {
      "text/html": [
       "<style>\n",
       "    table.wandb td:nth-child(1) { padding: 0 10px; text-align: right }\n",
       "    .wandb-row { display: flex; flex-direction: row; flex-wrap: wrap; width: 100% }\n",
       "    .wandb-col { display: flex; flex-direction: column; flex-basis: 100%; flex: 1; padding: 10px; }\n",
       "    </style>\n",
       "<div class=\"wandb-row\"><div class=\"wandb-col\"><h3>Run history:</h3><br/><table class=\"wandb\"><tr><td>fit_time</td><td>▁</td></tr><tr><td>is_unbalance</td><td>▁</td></tr><tr><td>learning_rate</td><td>▁</td></tr><tr><td>min_split_gain</td><td>▁</td></tr><tr><td>n_estimators</td><td>▁</td></tr><tr><td>on_golden_test</td><td>▁</td></tr><tr><td>score_time</td><td>▁</td></tr><tr><td>test_accuracy</td><td>▁</td></tr><tr><td>test_average_precision</td><td>▁</td></tr><tr><td>test_f1</td><td>▁</td></tr><tr><td>test_precision</td><td>▁</td></tr><tr><td>test_recall</td><td>▁</td></tr><tr><td>test_roc_auc</td><td>▁</td></tr><tr><td>train_accuracy</td><td>▁</td></tr><tr><td>train_average_precision</td><td>▁</td></tr><tr><td>train_f1</td><td>▁</td></tr><tr><td>train_precision</td><td>▁</td></tr><tr><td>train_recall</td><td>▁</td></tr><tr><td>train_roc_auc</td><td>▁</td></tr></table><br/></div><div class=\"wandb-col\"><h3>Run summary:</h3><br/><table class=\"wandb\"><tr><td>fit_time</td><td>118.9312</td></tr><tr><td>is_unbalance</td><td>True</td></tr><tr><td>learning_rate</td><td>0.00282</td></tr><tr><td>metric</td><td>average_precision</td></tr><tr><td>min_split_gain</td><td>0.03897</td></tr><tr><td>model_name</td><td>LGBMClassifier</td></tr><tr><td>n_estimators</td><td>2103</td></tr><tr><td>objective</td><td>binary</td></tr><tr><td>on_golden_test</td><td>False</td></tr><tr><td>score_time</td><td>61.838</td></tr><tr><td>test_accuracy</td><td>0.99935</td></tr><tr><td>test_average_precision</td><td>0.79873</td></tr><tr><td>test_f1</td><td>0.81675</td></tr><tr><td>test_precision</td><td>0.8011</td></tr><tr><td>test_recall</td><td>0.83511</td></tr><tr><td>test_roc_auc</td><td>0.97783</td></tr><tr><td>train_accuracy</td><td>0.99976</td></tr><tr><td>train_average_precision</td><td>0.95152</td></tr><tr><td>train_f1</td><td>0.93436</td></tr><tr><td>train_precision</td><td>0.87685</td></tr><tr><td>train_recall</td><td>1.0</td></tr><tr><td>train_roc_auc</td><td>0.99995</td></tr></table><br/></div></div>"
      ],
      "text/plain": [
       "<IPython.core.display.HTML object>"
      ]
     },
     "metadata": {},
     "output_type": "display_data"
    },
    {
     "data": {
      "text/html": [
       "Synced <strong style=\"color:#cdcd00\">wild-surf-239</strong>: <a href=\"https://wandb.ai/zuozhe/fraud_detection/runs/1oiruso1\" target=\"_blank\">https://wandb.ai/zuozhe/fraud_detection/runs/1oiruso1</a><br/>Synced 5 W&B file(s), 0 media file(s), 0 artifact file(s) and 0 other file(s)"
      ],
      "text/plain": [
       "<IPython.core.display.HTML object>"
      ]
     },
     "metadata": {},
     "output_type": "display_data"
    },
    {
     "data": {
      "text/html": [
       "Find logs at: <code>.\\wandb\\run-20220415_181138-1oiruso1\\logs</code>"
      ],
      "text/plain": [
       "<IPython.core.display.HTML object>"
      ]
     },
     "metadata": {},
     "output_type": "display_data"
    },
    {
     "data": {
      "text/html": [
       "Successfully finished last run (ID:1oiruso1). Initializing new run:<br/>"
      ],
      "text/plain": [
       "<IPython.core.display.HTML object>"
      ]
     },
     "metadata": {},
     "output_type": "display_data"
    },
    {
     "data": {
      "text/html": [
       "wandb version 0.12.14 is available!  To upgrade, please run:\n",
       " $ pip install wandb --upgrade"
      ],
      "text/plain": [
       "<IPython.core.display.HTML object>"
      ]
     },
     "metadata": {},
     "output_type": "display_data"
    },
    {
     "data": {
      "text/html": [
       "Tracking run with wandb version 0.12.12"
      ],
      "text/plain": [
       "<IPython.core.display.HTML object>"
      ]
     },
     "metadata": {},
     "output_type": "display_data"
    },
    {
     "data": {
      "text/html": [
       "Run data is saved locally in <code>C:\\Users\\teozz\\OneDrive\\Desktop\\vscode_workspace\\projects\\credit_card_fraud_detection\\wandb\\run-20220415_182311-3r3xa9rl</code>"
      ],
      "text/plain": [
       "<IPython.core.display.HTML object>"
      ]
     },
     "metadata": {},
     "output_type": "display_data"
    },
    {
     "data": {
      "text/html": [
       "Syncing run <strong><a href=\"https://wandb.ai/zuozhe/fraud_detection/runs/3r3xa9rl\" target=\"_blank\">snowy-sound-240</a></strong> to <a href=\"https://wandb.ai/zuozhe/fraud_detection\" target=\"_blank\">Weights & Biases</a> (<a href=\"https://wandb.me/run\" target=\"_blank\">docs</a>)<br/>"
      ],
      "text/plain": [
       "<IPython.core.display.HTML object>"
      ]
     },
     "metadata": {},
     "output_type": "display_data"
    },
    {
     "name": "stderr",
     "output_type": "stream",
     "text": [
      "\u001b[32m[I 2022-04-15 18:34:55,899]\u001b[0m Trial 21 finished with value: 0.8515321958315992 and parameters: {'n_estimators': 2284, 'learning_rate': 0.007591711688352671, 'min_split_gain': 0.025209537102797865, 'objective': 'binary', 'metric': 'average_precision', 'is_unbalance': True}. Best is trial 21 with value: 0.8515321958315992.\u001b[0m\n"
     ]
    },
    {
     "data": {
      "text/html": [
       "Finishing last run (ID:3r3xa9rl) before initializing another..."
      ],
      "text/plain": [
       "<IPython.core.display.HTML object>"
      ]
     },
     "metadata": {},
     "output_type": "display_data"
    },
    {
     "name": "stdout",
     "output_type": "stream",
     "text": [
      "\n"
     ]
    },
    {
     "data": {
      "text/html": [
       "Waiting for W&B process to finish... <strong style=\"color:green\">(success).</strong>"
      ],
      "text/plain": [
       "<IPython.core.display.HTML object>"
      ]
     },
     "metadata": {},
     "output_type": "display_data"
    },
    {
     "data": {
      "text/html": [
       "<style>\n",
       "    table.wandb td:nth-child(1) { padding: 0 10px; text-align: right }\n",
       "    .wandb-row { display: flex; flex-direction: row; flex-wrap: wrap; width: 100% }\n",
       "    .wandb-col { display: flex; flex-direction: column; flex-basis: 100%; flex: 1; padding: 10px; }\n",
       "    </style>\n",
       "<div class=\"wandb-row\"><div class=\"wandb-col\"><h3>Run history:</h3><br/><table class=\"wandb\"><tr><td>fit_time</td><td>▁</td></tr><tr><td>is_unbalance</td><td>▁</td></tr><tr><td>learning_rate</td><td>▁</td></tr><tr><td>min_split_gain</td><td>▁</td></tr><tr><td>n_estimators</td><td>▁</td></tr><tr><td>on_golden_test</td><td>▁</td></tr><tr><td>score_time</td><td>▁</td></tr><tr><td>test_accuracy</td><td>▁</td></tr><tr><td>test_average_precision</td><td>▁</td></tr><tr><td>test_f1</td><td>▁</td></tr><tr><td>test_precision</td><td>▁</td></tr><tr><td>test_recall</td><td>▁</td></tr><tr><td>test_roc_auc</td><td>▁</td></tr><tr><td>train_accuracy</td><td>▁</td></tr><tr><td>train_average_precision</td><td>▁</td></tr><tr><td>train_f1</td><td>▁</td></tr><tr><td>train_precision</td><td>▁</td></tr><tr><td>train_recall</td><td>▁</td></tr><tr><td>train_roc_auc</td><td>▁</td></tr></table><br/></div><div class=\"wandb-col\"><h3>Run summary:</h3><br/><table class=\"wandb\"><tr><td>fit_time</td><td>115.3072</td></tr><tr><td>is_unbalance</td><td>True</td></tr><tr><td>learning_rate</td><td>0.00759</td></tr><tr><td>metric</td><td>average_precision</td></tr><tr><td>min_split_gain</td><td>0.02521</td></tr><tr><td>model_name</td><td>LGBMClassifier</td></tr><tr><td>n_estimators</td><td>2284</td></tr><tr><td>objective</td><td>binary</td></tr><tr><td>on_golden_test</td><td>False</td></tr><tr><td>score_time</td><td>62.55761</td></tr><tr><td>test_accuracy</td><td>0.99952</td></tr><tr><td>test_average_precision</td><td>0.85153</td></tr><tr><td>test_f1</td><td>0.85398</td></tr><tr><td>test_precision</td><td>0.90344</td></tr><tr><td>test_recall</td><td>0.81113</td></tr><tr><td>test_roc_auc</td><td>0.97673</td></tr><tr><td>train_accuracy</td><td>1.0</td></tr><tr><td>train_average_precision</td><td>1.0</td></tr><tr><td>train_f1</td><td>1.0</td></tr><tr><td>train_precision</td><td>1.0</td></tr><tr><td>train_recall</td><td>1.0</td></tr><tr><td>train_roc_auc</td><td>1.0</td></tr></table><br/></div></div>"
      ],
      "text/plain": [
       "<IPython.core.display.HTML object>"
      ]
     },
     "metadata": {},
     "output_type": "display_data"
    },
    {
     "data": {
      "text/html": [
       "Synced <strong style=\"color:#cdcd00\">snowy-sound-240</strong>: <a href=\"https://wandb.ai/zuozhe/fraud_detection/runs/3r3xa9rl\" target=\"_blank\">https://wandb.ai/zuozhe/fraud_detection/runs/3r3xa9rl</a><br/>Synced 5 W&B file(s), 0 media file(s), 0 artifact file(s) and 0 other file(s)"
      ],
      "text/plain": [
       "<IPython.core.display.HTML object>"
      ]
     },
     "metadata": {},
     "output_type": "display_data"
    },
    {
     "data": {
      "text/html": [
       "Find logs at: <code>.\\wandb\\run-20220415_182311-3r3xa9rl\\logs</code>"
      ],
      "text/plain": [
       "<IPython.core.display.HTML object>"
      ]
     },
     "metadata": {},
     "output_type": "display_data"
    },
    {
     "data": {
      "text/html": [
       "Successfully finished last run (ID:3r3xa9rl). Initializing new run:<br/>"
      ],
      "text/plain": [
       "<IPython.core.display.HTML object>"
      ]
     },
     "metadata": {},
     "output_type": "display_data"
    },
    {
     "data": {
      "text/html": [
       "wandb version 0.12.14 is available!  To upgrade, please run:\n",
       " $ pip install wandb --upgrade"
      ],
      "text/plain": [
       "<IPython.core.display.HTML object>"
      ]
     },
     "metadata": {},
     "output_type": "display_data"
    },
    {
     "data": {
      "text/html": [
       "Tracking run with wandb version 0.12.12"
      ],
      "text/plain": [
       "<IPython.core.display.HTML object>"
      ]
     },
     "metadata": {},
     "output_type": "display_data"
    },
    {
     "data": {
      "text/html": [
       "Run data is saved locally in <code>C:\\Users\\teozz\\OneDrive\\Desktop\\vscode_workspace\\projects\\credit_card_fraud_detection\\wandb\\run-20220415_183455-2wwkhgev</code>"
      ],
      "text/plain": [
       "<IPython.core.display.HTML object>"
      ]
     },
     "metadata": {},
     "output_type": "display_data"
    },
    {
     "data": {
      "text/html": [
       "Syncing run <strong><a href=\"https://wandb.ai/zuozhe/fraud_detection/runs/2wwkhgev\" target=\"_blank\">ruby-wave-241</a></strong> to <a href=\"https://wandb.ai/zuozhe/fraud_detection\" target=\"_blank\">Weights & Biases</a> (<a href=\"https://wandb.me/run\" target=\"_blank\">docs</a>)<br/>"
      ],
      "text/plain": [
       "<IPython.core.display.HTML object>"
      ]
     },
     "metadata": {},
     "output_type": "display_data"
    },
    {
     "name": "stderr",
     "output_type": "stream",
     "text": [
      "\u001b[32m[I 2022-04-15 18:47:31,202]\u001b[0m Trial 22 finished with value: 0.8543757574662607 and parameters: {'n_estimators': 2280, 'learning_rate': 0.006792412746921899, 'min_split_gain': 0.02711473591531178, 'objective': 'binary', 'metric': 'average_precision', 'is_unbalance': True}. Best is trial 22 with value: 0.8543757574662607.\u001b[0m\n"
     ]
    },
    {
     "data": {
      "text/html": [
       "Finishing last run (ID:2wwkhgev) before initializing another..."
      ],
      "text/plain": [
       "<IPython.core.display.HTML object>"
      ]
     },
     "metadata": {},
     "output_type": "display_data"
    },
    {
     "name": "stdout",
     "output_type": "stream",
     "text": [
      "\n"
     ]
    },
    {
     "data": {
      "text/html": [
       "Waiting for W&B process to finish... <strong style=\"color:green\">(success).</strong>"
      ],
      "text/plain": [
       "<IPython.core.display.HTML object>"
      ]
     },
     "metadata": {},
     "output_type": "display_data"
    },
    {
     "data": {
      "text/html": [
       "<style>\n",
       "    table.wandb td:nth-child(1) { padding: 0 10px; text-align: right }\n",
       "    .wandb-row { display: flex; flex-direction: row; flex-wrap: wrap; width: 100% }\n",
       "    .wandb-col { display: flex; flex-direction: column; flex-basis: 100%; flex: 1; padding: 10px; }\n",
       "    </style>\n",
       "<div class=\"wandb-row\"><div class=\"wandb-col\"><h3>Run history:</h3><br/><table class=\"wandb\"><tr><td>fit_time</td><td>▁</td></tr><tr><td>is_unbalance</td><td>▁</td></tr><tr><td>learning_rate</td><td>▁</td></tr><tr><td>min_split_gain</td><td>▁</td></tr><tr><td>n_estimators</td><td>▁</td></tr><tr><td>on_golden_test</td><td>▁</td></tr><tr><td>score_time</td><td>▁</td></tr><tr><td>test_accuracy</td><td>▁</td></tr><tr><td>test_average_precision</td><td>▁</td></tr><tr><td>test_f1</td><td>▁</td></tr><tr><td>test_precision</td><td>▁</td></tr><tr><td>test_recall</td><td>▁</td></tr><tr><td>test_roc_auc</td><td>▁</td></tr><tr><td>train_accuracy</td><td>▁</td></tr><tr><td>train_average_precision</td><td>▁</td></tr><tr><td>train_f1</td><td>▁</td></tr><tr><td>train_precision</td><td>▁</td></tr><tr><td>train_recall</td><td>▁</td></tr><tr><td>train_roc_auc</td><td>▁</td></tr></table><br/></div><div class=\"wandb-col\"><h3>Run summary:</h3><br/><table class=\"wandb\"><tr><td>fit_time</td><td>126.48629</td></tr><tr><td>is_unbalance</td><td>True</td></tr><tr><td>learning_rate</td><td>0.00679</td></tr><tr><td>metric</td><td>average_precision</td></tr><tr><td>min_split_gain</td><td>0.02711</td></tr><tr><td>model_name</td><td>LGBMClassifier</td></tr><tr><td>n_estimators</td><td>2280</td></tr><tr><td>objective</td><td>binary</td></tr><tr><td>on_golden_test</td><td>False</td></tr><tr><td>score_time</td><td>67.78027</td></tr><tr><td>test_accuracy</td><td>0.99953</td></tr><tr><td>test_average_precision</td><td>0.85438</td></tr><tr><td>test_f1</td><td>0.85739</td></tr><tr><td>test_precision</td><td>0.9084</td></tr><tr><td>test_recall</td><td>0.81354</td></tr><tr><td>test_roc_auc</td><td>0.97777</td></tr><tr><td>train_accuracy</td><td>1.0</td></tr><tr><td>train_average_precision</td><td>1.0</td></tr><tr><td>train_f1</td><td>1.0</td></tr><tr><td>train_precision</td><td>1.0</td></tr><tr><td>train_recall</td><td>1.0</td></tr><tr><td>train_roc_auc</td><td>1.0</td></tr></table><br/></div></div>"
      ],
      "text/plain": [
       "<IPython.core.display.HTML object>"
      ]
     },
     "metadata": {},
     "output_type": "display_data"
    },
    {
     "data": {
      "text/html": [
       "Synced <strong style=\"color:#cdcd00\">ruby-wave-241</strong>: <a href=\"https://wandb.ai/zuozhe/fraud_detection/runs/2wwkhgev\" target=\"_blank\">https://wandb.ai/zuozhe/fraud_detection/runs/2wwkhgev</a><br/>Synced 5 W&B file(s), 0 media file(s), 0 artifact file(s) and 0 other file(s)"
      ],
      "text/plain": [
       "<IPython.core.display.HTML object>"
      ]
     },
     "metadata": {},
     "output_type": "display_data"
    },
    {
     "data": {
      "text/html": [
       "Find logs at: <code>.\\wandb\\run-20220415_183455-2wwkhgev\\logs</code>"
      ],
      "text/plain": [
       "<IPython.core.display.HTML object>"
      ]
     },
     "metadata": {},
     "output_type": "display_data"
    },
    {
     "data": {
      "text/html": [
       "Successfully finished last run (ID:2wwkhgev). Initializing new run:<br/>"
      ],
      "text/plain": [
       "<IPython.core.display.HTML object>"
      ]
     },
     "metadata": {},
     "output_type": "display_data"
    },
    {
     "data": {
      "text/html": [
       "wandb version 0.12.14 is available!  To upgrade, please run:\n",
       " $ pip install wandb --upgrade"
      ],
      "text/plain": [
       "<IPython.core.display.HTML object>"
      ]
     },
     "metadata": {},
     "output_type": "display_data"
    },
    {
     "data": {
      "text/html": [
       "Tracking run with wandb version 0.12.12"
      ],
      "text/plain": [
       "<IPython.core.display.HTML object>"
      ]
     },
     "metadata": {},
     "output_type": "display_data"
    },
    {
     "data": {
      "text/html": [
       "Run data is saved locally in <code>C:\\Users\\teozz\\OneDrive\\Desktop\\vscode_workspace\\projects\\credit_card_fraud_detection\\wandb\\run-20220415_184731-2i31stjk</code>"
      ],
      "text/plain": [
       "<IPython.core.display.HTML object>"
      ]
     },
     "metadata": {},
     "output_type": "display_data"
    },
    {
     "data": {
      "text/html": [
       "Syncing run <strong><a href=\"https://wandb.ai/zuozhe/fraud_detection/runs/2i31stjk\" target=\"_blank\">vague-monkey-242</a></strong> to <a href=\"https://wandb.ai/zuozhe/fraud_detection\" target=\"_blank\">Weights & Biases</a> (<a href=\"https://wandb.me/run\" target=\"_blank\">docs</a>)<br/>"
      ],
      "text/plain": [
       "<IPython.core.display.HTML object>"
      ]
     },
     "metadata": {},
     "output_type": "display_data"
    },
    {
     "name": "stderr",
     "output_type": "stream",
     "text": [
      "\u001b[32m[I 2022-04-15 18:53:51,698]\u001b[0m Trial 23 finished with value: 0.8417566652956177 and parameters: {'n_estimators': 2134, 'learning_rate': 0.012635922547330588, 'min_split_gain': 0.027154499220334638, 'objective': 'binary', 'metric': 'average_precision', 'is_unbalance': True}. Best is trial 22 with value: 0.8543757574662607.\u001b[0m\n"
     ]
    },
    {
     "data": {
      "text/html": [
       "Finishing last run (ID:2i31stjk) before initializing another..."
      ],
      "text/plain": [
       "<IPython.core.display.HTML object>"
      ]
     },
     "metadata": {},
     "output_type": "display_data"
    },
    {
     "name": "stdout",
     "output_type": "stream",
     "text": [
      "\n"
     ]
    },
    {
     "data": {
      "text/html": [
       "Waiting for W&B process to finish... <strong style=\"color:green\">(success).</strong>"
      ],
      "text/plain": [
       "<IPython.core.display.HTML object>"
      ]
     },
     "metadata": {},
     "output_type": "display_data"
    },
    {
     "data": {
      "text/html": [
       "<style>\n",
       "    table.wandb td:nth-child(1) { padding: 0 10px; text-align: right }\n",
       "    .wandb-row { display: flex; flex-direction: row; flex-wrap: wrap; width: 100% }\n",
       "    .wandb-col { display: flex; flex-direction: column; flex-basis: 100%; flex: 1; padding: 10px; }\n",
       "    </style>\n",
       "<div class=\"wandb-row\"><div class=\"wandb-col\"><h3>Run history:</h3><br/><table class=\"wandb\"><tr><td>fit_time</td><td>▁</td></tr><tr><td>is_unbalance</td><td>▁</td></tr><tr><td>learning_rate</td><td>▁</td></tr><tr><td>min_split_gain</td><td>▁</td></tr><tr><td>n_estimators</td><td>▁</td></tr><tr><td>on_golden_test</td><td>▁</td></tr><tr><td>score_time</td><td>▁</td></tr><tr><td>test_accuracy</td><td>▁</td></tr><tr><td>test_average_precision</td><td>▁</td></tr><tr><td>test_f1</td><td>▁</td></tr><tr><td>test_precision</td><td>▁</td></tr><tr><td>test_recall</td><td>▁</td></tr><tr><td>test_roc_auc</td><td>▁</td></tr><tr><td>train_accuracy</td><td>▁</td></tr><tr><td>train_average_precision</td><td>▁</td></tr><tr><td>train_f1</td><td>▁</td></tr><tr><td>train_precision</td><td>▁</td></tr><tr><td>train_recall</td><td>▁</td></tr><tr><td>train_roc_auc</td><td>▁</td></tr></table><br/></div><div class=\"wandb-col\"><h3>Run summary:</h3><br/><table class=\"wandb\"><tr><td>fit_time</td><td>81.93025</td></tr><tr><td>is_unbalance</td><td>True</td></tr><tr><td>learning_rate</td><td>0.01264</td></tr><tr><td>metric</td><td>average_precision</td></tr><tr><td>min_split_gain</td><td>0.02715</td></tr><tr><td>model_name</td><td>LGBMClassifier</td></tr><tr><td>n_estimators</td><td>2134</td></tr><tr><td>objective</td><td>binary</td></tr><tr><td>on_golden_test</td><td>False</td></tr><tr><td>score_time</td><td>31.31533</td></tr><tr><td>test_accuracy</td><td>0.99952</td></tr><tr><td>test_average_precision</td><td>0.84176</td></tr><tr><td>test_f1</td><td>0.85249</td></tr><tr><td>test_precision</td><td>0.90996</td></tr><tr><td>test_recall</td><td>0.80396</td></tr><tr><td>test_roc_auc</td><td>0.9687</td></tr><tr><td>train_accuracy</td><td>1.0</td></tr><tr><td>train_average_precision</td><td>1.0</td></tr><tr><td>train_f1</td><td>1.0</td></tr><tr><td>train_precision</td><td>1.0</td></tr><tr><td>train_recall</td><td>1.0</td></tr><tr><td>train_roc_auc</td><td>1.0</td></tr></table><br/></div></div>"
      ],
      "text/plain": [
       "<IPython.core.display.HTML object>"
      ]
     },
     "metadata": {},
     "output_type": "display_data"
    },
    {
     "data": {
      "text/html": [
       "Synced <strong style=\"color:#cdcd00\">vague-monkey-242</strong>: <a href=\"https://wandb.ai/zuozhe/fraud_detection/runs/2i31stjk\" target=\"_blank\">https://wandb.ai/zuozhe/fraud_detection/runs/2i31stjk</a><br/>Synced 5 W&B file(s), 0 media file(s), 0 artifact file(s) and 0 other file(s)"
      ],
      "text/plain": [
       "<IPython.core.display.HTML object>"
      ]
     },
     "metadata": {},
     "output_type": "display_data"
    },
    {
     "data": {
      "text/html": [
       "Find logs at: <code>.\\wandb\\run-20220415_184731-2i31stjk\\logs</code>"
      ],
      "text/plain": [
       "<IPython.core.display.HTML object>"
      ]
     },
     "metadata": {},
     "output_type": "display_data"
    },
    {
     "data": {
      "text/html": [
       "Successfully finished last run (ID:2i31stjk). Initializing new run:<br/>"
      ],
      "text/plain": [
       "<IPython.core.display.HTML object>"
      ]
     },
     "metadata": {},
     "output_type": "display_data"
    },
    {
     "data": {
      "text/html": [
       "wandb version 0.12.14 is available!  To upgrade, please run:\n",
       " $ pip install wandb --upgrade"
      ],
      "text/plain": [
       "<IPython.core.display.HTML object>"
      ]
     },
     "metadata": {},
     "output_type": "display_data"
    },
    {
     "data": {
      "text/html": [
       "Tracking run with wandb version 0.12.12"
      ],
      "text/plain": [
       "<IPython.core.display.HTML object>"
      ]
     },
     "metadata": {},
     "output_type": "display_data"
    },
    {
     "data": {
      "text/html": [
       "Run data is saved locally in <code>C:\\Users\\teozz\\OneDrive\\Desktop\\vscode_workspace\\projects\\credit_card_fraud_detection\\wandb\\run-20220415_185351-2izi69qz</code>"
      ],
      "text/plain": [
       "<IPython.core.display.HTML object>"
      ]
     },
     "metadata": {},
     "output_type": "display_data"
    },
    {
     "data": {
      "text/html": [
       "Syncing run <strong><a href=\"https://wandb.ai/zuozhe/fraud_detection/runs/2izi69qz\" target=\"_blank\">leafy-universe-243</a></strong> to <a href=\"https://wandb.ai/zuozhe/fraud_detection\" target=\"_blank\">Weights & Biases</a> (<a href=\"https://wandb.me/run\" target=\"_blank\">docs</a>)<br/>"
      ],
      "text/plain": [
       "<IPython.core.display.HTML object>"
      ]
     },
     "metadata": {},
     "output_type": "display_data"
    },
    {
     "name": "stderr",
     "output_type": "stream",
     "text": [
      "\u001b[32m[I 2022-04-15 19:05:10,209]\u001b[0m Trial 24 finished with value: 0.8496477027070227 and parameters: {'n_estimators': 2298, 'learning_rate': 0.008178416065618525, 'min_split_gain': 0.013373709918188821, 'objective': 'binary', 'metric': 'average_precision', 'is_unbalance': True}. Best is trial 22 with value: 0.8543757574662607.\u001b[0m\n"
     ]
    },
    {
     "data": {
      "text/html": [
       "Finishing last run (ID:2izi69qz) before initializing another..."
      ],
      "text/plain": [
       "<IPython.core.display.HTML object>"
      ]
     },
     "metadata": {},
     "output_type": "display_data"
    },
    {
     "name": "stdout",
     "output_type": "stream",
     "text": [
      "\n"
     ]
    },
    {
     "data": {
      "text/html": [
       "Waiting for W&B process to finish... <strong style=\"color:green\">(success).</strong>"
      ],
      "text/plain": [
       "<IPython.core.display.HTML object>"
      ]
     },
     "metadata": {},
     "output_type": "display_data"
    },
    {
     "data": {
      "text/html": [
       "<style>\n",
       "    table.wandb td:nth-child(1) { padding: 0 10px; text-align: right }\n",
       "    .wandb-row { display: flex; flex-direction: row; flex-wrap: wrap; width: 100% }\n",
       "    .wandb-col { display: flex; flex-direction: column; flex-basis: 100%; flex: 1; padding: 10px; }\n",
       "    </style>\n",
       "<div class=\"wandb-row\"><div class=\"wandb-col\"><h3>Run history:</h3><br/><table class=\"wandb\"><tr><td>fit_time</td><td>▁</td></tr><tr><td>is_unbalance</td><td>▁</td></tr><tr><td>learning_rate</td><td>▁</td></tr><tr><td>min_split_gain</td><td>▁</td></tr><tr><td>n_estimators</td><td>▁</td></tr><tr><td>on_golden_test</td><td>▁</td></tr><tr><td>score_time</td><td>▁</td></tr><tr><td>test_accuracy</td><td>▁</td></tr><tr><td>test_average_precision</td><td>▁</td></tr><tr><td>test_f1</td><td>▁</td></tr><tr><td>test_precision</td><td>▁</td></tr><tr><td>test_recall</td><td>▁</td></tr><tr><td>test_roc_auc</td><td>▁</td></tr><tr><td>train_accuracy</td><td>▁</td></tr><tr><td>train_average_precision</td><td>▁</td></tr><tr><td>train_f1</td><td>▁</td></tr><tr><td>train_precision</td><td>▁</td></tr><tr><td>train_recall</td><td>▁</td></tr><tr><td>train_roc_auc</td><td>▁</td></tr></table><br/></div><div class=\"wandb-col\"><h3>Run summary:</h3><br/><table class=\"wandb\"><tr><td>fit_time</td><td>119.03597</td></tr><tr><td>is_unbalance</td><td>True</td></tr><tr><td>learning_rate</td><td>0.00818</td></tr><tr><td>metric</td><td>average_precision</td></tr><tr><td>min_split_gain</td><td>0.01337</td></tr><tr><td>model_name</td><td>LGBMClassifier</td></tr><tr><td>n_estimators</td><td>2298</td></tr><tr><td>objective</td><td>binary</td></tr><tr><td>on_golden_test</td><td>False</td></tr><tr><td>score_time</td><td>60.56679</td></tr><tr><td>test_accuracy</td><td>0.99954</td></tr><tr><td>test_average_precision</td><td>0.84965</td></tr><tr><td>test_f1</td><td>0.85827</td></tr><tr><td>test_precision</td><td>0.91303</td></tr><tr><td>test_recall</td><td>0.81116</td></tr><tr><td>test_roc_auc</td><td>0.97798</td></tr><tr><td>train_accuracy</td><td>1.0</td></tr><tr><td>train_average_precision</td><td>1.0</td></tr><tr><td>train_f1</td><td>1.0</td></tr><tr><td>train_precision</td><td>1.0</td></tr><tr><td>train_recall</td><td>1.0</td></tr><tr><td>train_roc_auc</td><td>1.0</td></tr></table><br/></div></div>"
      ],
      "text/plain": [
       "<IPython.core.display.HTML object>"
      ]
     },
     "metadata": {},
     "output_type": "display_data"
    },
    {
     "data": {
      "text/html": [
       "Synced <strong style=\"color:#cdcd00\">leafy-universe-243</strong>: <a href=\"https://wandb.ai/zuozhe/fraud_detection/runs/2izi69qz\" target=\"_blank\">https://wandb.ai/zuozhe/fraud_detection/runs/2izi69qz</a><br/>Synced 5 W&B file(s), 0 media file(s), 0 artifact file(s) and 0 other file(s)"
      ],
      "text/plain": [
       "<IPython.core.display.HTML object>"
      ]
     },
     "metadata": {},
     "output_type": "display_data"
    },
    {
     "data": {
      "text/html": [
       "Find logs at: <code>.\\wandb\\run-20220415_185351-2izi69qz\\logs</code>"
      ],
      "text/plain": [
       "<IPython.core.display.HTML object>"
      ]
     },
     "metadata": {},
     "output_type": "display_data"
    },
    {
     "data": {
      "text/html": [
       "Successfully finished last run (ID:2izi69qz). Initializing new run:<br/>"
      ],
      "text/plain": [
       "<IPython.core.display.HTML object>"
      ]
     },
     "metadata": {},
     "output_type": "display_data"
    },
    {
     "data": {
      "text/html": [
       "wandb version 0.12.14 is available!  To upgrade, please run:\n",
       " $ pip install wandb --upgrade"
      ],
      "text/plain": [
       "<IPython.core.display.HTML object>"
      ]
     },
     "metadata": {},
     "output_type": "display_data"
    },
    {
     "data": {
      "text/html": [
       "Tracking run with wandb version 0.12.12"
      ],
      "text/plain": [
       "<IPython.core.display.HTML object>"
      ]
     },
     "metadata": {},
     "output_type": "display_data"
    },
    {
     "data": {
      "text/html": [
       "Run data is saved locally in <code>C:\\Users\\teozz\\OneDrive\\Desktop\\vscode_workspace\\projects\\credit_card_fraud_detection\\wandb\\run-20220415_190510-16oh0lep</code>"
      ],
      "text/plain": [
       "<IPython.core.display.HTML object>"
      ]
     },
     "metadata": {},
     "output_type": "display_data"
    },
    {
     "data": {
      "text/html": [
       "Syncing run <strong><a href=\"https://wandb.ai/zuozhe/fraud_detection/runs/16oh0lep\" target=\"_blank\">clear-universe-244</a></strong> to <a href=\"https://wandb.ai/zuozhe/fraud_detection\" target=\"_blank\">Weights & Biases</a> (<a href=\"https://wandb.me/run\" target=\"_blank\">docs</a>)<br/>"
      ],
      "text/plain": [
       "<IPython.core.display.HTML object>"
      ]
     },
     "metadata": {},
     "output_type": "display_data"
    },
    {
     "name": "stderr",
     "output_type": "stream",
     "text": [
      "\u001b[32m[I 2022-04-15 19:15:37,166]\u001b[0m Trial 25 finished with value: 0.8490606358649924 and parameters: {'n_estimators': 2264, 'learning_rate': 0.008121312034293867, 'min_split_gain': 0.03257771510338774, 'objective': 'binary', 'metric': 'average_precision', 'is_unbalance': True}. Best is trial 22 with value: 0.8543757574662607.\u001b[0m\n"
     ]
    },
    {
     "data": {
      "text/html": [
       "Finishing last run (ID:16oh0lep) before initializing another..."
      ],
      "text/plain": [
       "<IPython.core.display.HTML object>"
      ]
     },
     "metadata": {},
     "output_type": "display_data"
    },
    {
     "name": "stdout",
     "output_type": "stream",
     "text": [
      "\n"
     ]
    },
    {
     "data": {
      "text/html": [
       "Waiting for W&B process to finish... <strong style=\"color:green\">(success).</strong>"
      ],
      "text/plain": [
       "<IPython.core.display.HTML object>"
      ]
     },
     "metadata": {},
     "output_type": "display_data"
    },
    {
     "data": {
      "text/html": [
       "<style>\n",
       "    table.wandb td:nth-child(1) { padding: 0 10px; text-align: right }\n",
       "    .wandb-row { display: flex; flex-direction: row; flex-wrap: wrap; width: 100% }\n",
       "    .wandb-col { display: flex; flex-direction: column; flex-basis: 100%; flex: 1; padding: 10px; }\n",
       "    </style>\n",
       "<div class=\"wandb-row\"><div class=\"wandb-col\"><h3>Run history:</h3><br/><table class=\"wandb\"><tr><td>fit_time</td><td>▁</td></tr><tr><td>is_unbalance</td><td>▁</td></tr><tr><td>learning_rate</td><td>▁</td></tr><tr><td>min_split_gain</td><td>▁</td></tr><tr><td>n_estimators</td><td>▁</td></tr><tr><td>on_golden_test</td><td>▁</td></tr><tr><td>score_time</td><td>▁</td></tr><tr><td>test_accuracy</td><td>▁</td></tr><tr><td>test_average_precision</td><td>▁</td></tr><tr><td>test_f1</td><td>▁</td></tr><tr><td>test_precision</td><td>▁</td></tr><tr><td>test_recall</td><td>▁</td></tr><tr><td>test_roc_auc</td><td>▁</td></tr><tr><td>train_accuracy</td><td>▁</td></tr><tr><td>train_average_precision</td><td>▁</td></tr><tr><td>train_f1</td><td>▁</td></tr><tr><td>train_precision</td><td>▁</td></tr><tr><td>train_recall</td><td>▁</td></tr><tr><td>train_roc_auc</td><td>▁</td></tr></table><br/></div><div class=\"wandb-col\"><h3>Run summary:</h3><br/><table class=\"wandb\"><tr><td>fit_time</td><td>113.63101</td></tr><tr><td>is_unbalance</td><td>True</td></tr><tr><td>learning_rate</td><td>0.00812</td></tr><tr><td>metric</td><td>average_precision</td></tr><tr><td>min_split_gain</td><td>0.03258</td></tr><tr><td>model_name</td><td>LGBMClassifier</td></tr><tr><td>n_estimators</td><td>2264</td></tr><tr><td>objective</td><td>binary</td></tr><tr><td>on_golden_test</td><td>False</td></tr><tr><td>score_time</td><td>55.56435</td></tr><tr><td>test_accuracy</td><td>0.99952</td></tr><tr><td>test_average_precision</td><td>0.84906</td></tr><tr><td>test_f1</td><td>0.85283</td></tr><tr><td>test_precision</td><td>0.90043</td></tr><tr><td>test_recall</td><td>0.81116</td></tr><tr><td>test_roc_auc</td><td>0.97679</td></tr><tr><td>train_accuracy</td><td>1.0</td></tr><tr><td>train_average_precision</td><td>1.0</td></tr><tr><td>train_f1</td><td>1.0</td></tr><tr><td>train_precision</td><td>1.0</td></tr><tr><td>train_recall</td><td>1.0</td></tr><tr><td>train_roc_auc</td><td>1.0</td></tr></table><br/></div></div>"
      ],
      "text/plain": [
       "<IPython.core.display.HTML object>"
      ]
     },
     "metadata": {},
     "output_type": "display_data"
    },
    {
     "data": {
      "text/html": [
       "Synced <strong style=\"color:#cdcd00\">clear-universe-244</strong>: <a href=\"https://wandb.ai/zuozhe/fraud_detection/runs/16oh0lep\" target=\"_blank\">https://wandb.ai/zuozhe/fraud_detection/runs/16oh0lep</a><br/>Synced 5 W&B file(s), 0 media file(s), 0 artifact file(s) and 0 other file(s)"
      ],
      "text/plain": [
       "<IPython.core.display.HTML object>"
      ]
     },
     "metadata": {},
     "output_type": "display_data"
    },
    {
     "data": {
      "text/html": [
       "Find logs at: <code>.\\wandb\\run-20220415_190510-16oh0lep\\logs</code>"
      ],
      "text/plain": [
       "<IPython.core.display.HTML object>"
      ]
     },
     "metadata": {},
     "output_type": "display_data"
    },
    {
     "data": {
      "text/html": [
       "Successfully finished last run (ID:16oh0lep). Initializing new run:<br/>"
      ],
      "text/plain": [
       "<IPython.core.display.HTML object>"
      ]
     },
     "metadata": {},
     "output_type": "display_data"
    },
    {
     "data": {
      "text/html": [
       "wandb version 0.12.14 is available!  To upgrade, please run:\n",
       " $ pip install wandb --upgrade"
      ],
      "text/plain": [
       "<IPython.core.display.HTML object>"
      ]
     },
     "metadata": {},
     "output_type": "display_data"
    },
    {
     "data": {
      "text/html": [
       "Tracking run with wandb version 0.12.12"
      ],
      "text/plain": [
       "<IPython.core.display.HTML object>"
      ]
     },
     "metadata": {},
     "output_type": "display_data"
    },
    {
     "data": {
      "text/html": [
       "Run data is saved locally in <code>C:\\Users\\teozz\\OneDrive\\Desktop\\vscode_workspace\\projects\\credit_card_fraud_detection\\wandb\\run-20220415_191537-34qqaul7</code>"
      ],
      "text/plain": [
       "<IPython.core.display.HTML object>"
      ]
     },
     "metadata": {},
     "output_type": "display_data"
    },
    {
     "data": {
      "text/html": [
       "Syncing run <strong><a href=\"https://wandb.ai/zuozhe/fraud_detection/runs/34qqaul7\" target=\"_blank\">decent-frog-245</a></strong> to <a href=\"https://wandb.ai/zuozhe/fraud_detection\" target=\"_blank\">Weights & Biases</a> (<a href=\"https://wandb.me/run\" target=\"_blank\">docs</a>)<br/>"
      ],
      "text/plain": [
       "<IPython.core.display.HTML object>"
      ]
     },
     "metadata": {},
     "output_type": "display_data"
    },
    {
     "name": "stderr",
     "output_type": "stream",
     "text": [
      "\u001b[32m[I 2022-04-15 19:27:33,632]\u001b[0m Trial 26 finished with value: 0.7636525026010609 and parameters: {'n_estimators': 2201, 'learning_rate': 0.0021545555780167983, 'min_split_gain': 0.02555991760117275, 'objective': 'binary', 'metric': 'average_precision', 'is_unbalance': True}. Best is trial 22 with value: 0.8543757574662607.\u001b[0m\n"
     ]
    },
    {
     "data": {
      "text/html": [
       "Finishing last run (ID:34qqaul7) before initializing another..."
      ],
      "text/plain": [
       "<IPython.core.display.HTML object>"
      ]
     },
     "metadata": {},
     "output_type": "display_data"
    },
    {
     "name": "stdout",
     "output_type": "stream",
     "text": [
      "\n"
     ]
    },
    {
     "data": {
      "text/html": [
       "Waiting for W&B process to finish... <strong style=\"color:green\">(success).</strong>"
      ],
      "text/plain": [
       "<IPython.core.display.HTML object>"
      ]
     },
     "metadata": {},
     "output_type": "display_data"
    },
    {
     "data": {
      "text/html": [
       "<style>\n",
       "    table.wandb td:nth-child(1) { padding: 0 10px; text-align: right }\n",
       "    .wandb-row { display: flex; flex-direction: row; flex-wrap: wrap; width: 100% }\n",
       "    .wandb-col { display: flex; flex-direction: column; flex-basis: 100%; flex: 1; padding: 10px; }\n",
       "    </style>\n",
       "<div class=\"wandb-row\"><div class=\"wandb-col\"><h3>Run history:</h3><br/><table class=\"wandb\"><tr><td>fit_time</td><td>▁</td></tr><tr><td>is_unbalance</td><td>▁</td></tr><tr><td>learning_rate</td><td>▁</td></tr><tr><td>min_split_gain</td><td>▁</td></tr><tr><td>n_estimators</td><td>▁</td></tr><tr><td>on_golden_test</td><td>▁</td></tr><tr><td>score_time</td><td>▁</td></tr><tr><td>test_accuracy</td><td>▁</td></tr><tr><td>test_average_precision</td><td>▁</td></tr><tr><td>test_f1</td><td>▁</td></tr><tr><td>test_precision</td><td>▁</td></tr><tr><td>test_recall</td><td>▁</td></tr><tr><td>test_roc_auc</td><td>▁</td></tr><tr><td>train_accuracy</td><td>▁</td></tr><tr><td>train_average_precision</td><td>▁</td></tr><tr><td>train_f1</td><td>▁</td></tr><tr><td>train_precision</td><td>▁</td></tr><tr><td>train_recall</td><td>▁</td></tr><tr><td>train_roc_auc</td><td>▁</td></tr></table><br/></div><div class=\"wandb-col\"><h3>Run summary:</h3><br/><table class=\"wandb\"><tr><td>fit_time</td><td>125.14128</td></tr><tr><td>is_unbalance</td><td>True</td></tr><tr><td>learning_rate</td><td>0.00215</td></tr><tr><td>metric</td><td>average_precision</td></tr><tr><td>min_split_gain</td><td>0.02556</td></tr><tr><td>model_name</td><td>LGBMClassifier</td></tr><tr><td>n_estimators</td><td>2201</td></tr><tr><td>objective</td><td>binary</td></tr><tr><td>on_golden_test</td><td>False</td></tr><tr><td>score_time</td><td>63.93631</td></tr><tr><td>test_accuracy</td><td>0.99926</td></tr><tr><td>test_average_precision</td><td>0.76365</td></tr><tr><td>test_f1</td><td>0.79569</td></tr><tr><td>test_precision</td><td>0.75913</td></tr><tr><td>test_recall</td><td>0.83749</td></tr><tr><td>test_roc_auc</td><td>0.97624</td></tr><tr><td>train_accuracy</td><td>0.99965</td></tr><tr><td>train_average_precision</td><td>0.90137</td></tr><tr><td>train_f1</td><td>0.90878</td></tr><tr><td>train_precision</td><td>0.83291</td></tr><tr><td>train_recall</td><td>1.0</td></tr><tr><td>train_roc_auc</td><td>0.99991</td></tr></table><br/></div></div>"
      ],
      "text/plain": [
       "<IPython.core.display.HTML object>"
      ]
     },
     "metadata": {},
     "output_type": "display_data"
    },
    {
     "data": {
      "text/html": [
       "Synced <strong style=\"color:#cdcd00\">decent-frog-245</strong>: <a href=\"https://wandb.ai/zuozhe/fraud_detection/runs/34qqaul7\" target=\"_blank\">https://wandb.ai/zuozhe/fraud_detection/runs/34qqaul7</a><br/>Synced 5 W&B file(s), 0 media file(s), 0 artifact file(s) and 0 other file(s)"
      ],
      "text/plain": [
       "<IPython.core.display.HTML object>"
      ]
     },
     "metadata": {},
     "output_type": "display_data"
    },
    {
     "data": {
      "text/html": [
       "Find logs at: <code>.\\wandb\\run-20220415_191537-34qqaul7\\logs</code>"
      ],
      "text/plain": [
       "<IPython.core.display.HTML object>"
      ]
     },
     "metadata": {},
     "output_type": "display_data"
    },
    {
     "data": {
      "text/html": [
       "Successfully finished last run (ID:34qqaul7). Initializing new run:<br/>"
      ],
      "text/plain": [
       "<IPython.core.display.HTML object>"
      ]
     },
     "metadata": {},
     "output_type": "display_data"
    },
    {
     "data": {
      "text/html": [
       "wandb version 0.12.14 is available!  To upgrade, please run:\n",
       " $ pip install wandb --upgrade"
      ],
      "text/plain": [
       "<IPython.core.display.HTML object>"
      ]
     },
     "metadata": {},
     "output_type": "display_data"
    },
    {
     "data": {
      "text/html": [
       "Tracking run with wandb version 0.12.12"
      ],
      "text/plain": [
       "<IPython.core.display.HTML object>"
      ]
     },
     "metadata": {},
     "output_type": "display_data"
    },
    {
     "data": {
      "text/html": [
       "Run data is saved locally in <code>C:\\Users\\teozz\\OneDrive\\Desktop\\vscode_workspace\\projects\\credit_card_fraud_detection\\wandb\\run-20220415_192733-2ma6mekn</code>"
      ],
      "text/plain": [
       "<IPython.core.display.HTML object>"
      ]
     },
     "metadata": {},
     "output_type": "display_data"
    },
    {
     "data": {
      "text/html": [
       "Syncing run <strong><a href=\"https://wandb.ai/zuozhe/fraud_detection/runs/2ma6mekn\" target=\"_blank\">tough-donkey-246</a></strong> to <a href=\"https://wandb.ai/zuozhe/fraud_detection\" target=\"_blank\">Weights & Biases</a> (<a href=\"https://wandb.me/run\" target=\"_blank\">docs</a>)<br/>"
      ],
      "text/plain": [
       "<IPython.core.display.HTML object>"
      ]
     },
     "metadata": {},
     "output_type": "display_data"
    },
    {
     "name": "stderr",
     "output_type": "stream",
     "text": [
      "\u001b[32m[I 2022-04-15 19:33:12,565]\u001b[0m Trial 27 finished with value: 0.8425562919245089 and parameters: {'n_estimators': 2153, 'learning_rate': 0.013295676764075979, 'min_split_gain': 0.03914799115806386, 'objective': 'binary', 'metric': 'average_precision', 'is_unbalance': True}. Best is trial 22 with value: 0.8543757574662607.\u001b[0m\n"
     ]
    },
    {
     "data": {
      "text/html": [
       "Finishing last run (ID:2ma6mekn) before initializing another..."
      ],
      "text/plain": [
       "<IPython.core.display.HTML object>"
      ]
     },
     "metadata": {},
     "output_type": "display_data"
    },
    {
     "name": "stdout",
     "output_type": "stream",
     "text": [
      "\n"
     ]
    },
    {
     "data": {
      "text/html": [
       "Waiting for W&B process to finish... <strong style=\"color:green\">(success).</strong>"
      ],
      "text/plain": [
       "<IPython.core.display.HTML object>"
      ]
     },
     "metadata": {},
     "output_type": "display_data"
    },
    {
     "data": {
      "text/html": [
       "<style>\n",
       "    table.wandb td:nth-child(1) { padding: 0 10px; text-align: right }\n",
       "    .wandb-row { display: flex; flex-direction: row; flex-wrap: wrap; width: 100% }\n",
       "    .wandb-col { display: flex; flex-direction: column; flex-basis: 100%; flex: 1; padding: 10px; }\n",
       "    </style>\n",
       "<div class=\"wandb-row\"><div class=\"wandb-col\"><h3>Run history:</h3><br/><table class=\"wandb\"><tr><td>fit_time</td><td>▁</td></tr><tr><td>is_unbalance</td><td>▁</td></tr><tr><td>learning_rate</td><td>▁</td></tr><tr><td>min_split_gain</td><td>▁</td></tr><tr><td>n_estimators</td><td>▁</td></tr><tr><td>on_golden_test</td><td>▁</td></tr><tr><td>score_time</td><td>▁</td></tr><tr><td>test_accuracy</td><td>▁</td></tr><tr><td>test_average_precision</td><td>▁</td></tr><tr><td>test_f1</td><td>▁</td></tr><tr><td>test_precision</td><td>▁</td></tr><tr><td>test_recall</td><td>▁</td></tr><tr><td>test_roc_auc</td><td>▁</td></tr><tr><td>train_accuracy</td><td>▁</td></tr><tr><td>train_average_precision</td><td>▁</td></tr><tr><td>train_f1</td><td>▁</td></tr><tr><td>train_precision</td><td>▁</td></tr><tr><td>train_recall</td><td>▁</td></tr><tr><td>train_roc_auc</td><td>▁</td></tr></table><br/></div><div class=\"wandb-col\"><h3>Run summary:</h3><br/><table class=\"wandb\"><tr><td>fit_time</td><td>77.32655</td></tr><tr><td>is_unbalance</td><td>True</td></tr><tr><td>learning_rate</td><td>0.0133</td></tr><tr><td>metric</td><td>average_precision</td></tr><tr><td>min_split_gain</td><td>0.03915</td></tr><tr><td>model_name</td><td>LGBMClassifier</td></tr><tr><td>n_estimators</td><td>2153</td></tr><tr><td>objective</td><td>binary</td></tr><tr><td>on_golden_test</td><td>False</td></tr><tr><td>score_time</td><td>27.46704</td></tr><tr><td>test_accuracy</td><td>0.9995</td></tr><tr><td>test_average_precision</td><td>0.84256</td></tr><tr><td>test_f1</td><td>0.84681</td></tr><tr><td>test_precision</td><td>0.89979</td></tr><tr><td>test_recall</td><td>0.80158</td></tr><tr><td>test_roc_auc</td><td>0.96776</td></tr><tr><td>train_accuracy</td><td>1.0</td></tr><tr><td>train_average_precision</td><td>1.0</td></tr><tr><td>train_f1</td><td>1.0</td></tr><tr><td>train_precision</td><td>1.0</td></tr><tr><td>train_recall</td><td>1.0</td></tr><tr><td>train_roc_auc</td><td>1.0</td></tr></table><br/></div></div>"
      ],
      "text/plain": [
       "<IPython.core.display.HTML object>"
      ]
     },
     "metadata": {},
     "output_type": "display_data"
    },
    {
     "data": {
      "text/html": [
       "Synced <strong style=\"color:#cdcd00\">tough-donkey-246</strong>: <a href=\"https://wandb.ai/zuozhe/fraud_detection/runs/2ma6mekn\" target=\"_blank\">https://wandb.ai/zuozhe/fraud_detection/runs/2ma6mekn</a><br/>Synced 5 W&B file(s), 0 media file(s), 0 artifact file(s) and 0 other file(s)"
      ],
      "text/plain": [
       "<IPython.core.display.HTML object>"
      ]
     },
     "metadata": {},
     "output_type": "display_data"
    },
    {
     "data": {
      "text/html": [
       "Find logs at: <code>.\\wandb\\run-20220415_192733-2ma6mekn\\logs</code>"
      ],
      "text/plain": [
       "<IPython.core.display.HTML object>"
      ]
     },
     "metadata": {},
     "output_type": "display_data"
    },
    {
     "data": {
      "text/html": [
       "Successfully finished last run (ID:2ma6mekn). Initializing new run:<br/>"
      ],
      "text/plain": [
       "<IPython.core.display.HTML object>"
      ]
     },
     "metadata": {},
     "output_type": "display_data"
    },
    {
     "data": {
      "text/html": [
       "wandb version 0.12.14 is available!  To upgrade, please run:\n",
       " $ pip install wandb --upgrade"
      ],
      "text/plain": [
       "<IPython.core.display.HTML object>"
      ]
     },
     "metadata": {},
     "output_type": "display_data"
    },
    {
     "data": {
      "text/html": [
       "Tracking run with wandb version 0.12.12"
      ],
      "text/plain": [
       "<IPython.core.display.HTML object>"
      ]
     },
     "metadata": {},
     "output_type": "display_data"
    },
    {
     "data": {
      "text/html": [
       "Run data is saved locally in <code>C:\\Users\\teozz\\OneDrive\\Desktop\\vscode_workspace\\projects\\credit_card_fraud_detection\\wandb\\run-20220415_193312-21xwltor</code>"
      ],
      "text/plain": [
       "<IPython.core.display.HTML object>"
      ]
     },
     "metadata": {},
     "output_type": "display_data"
    },
    {
     "data": {
      "text/html": [
       "Syncing run <strong><a href=\"https://wandb.ai/zuozhe/fraud_detection/runs/21xwltor\" target=\"_blank\">genial-moon-247</a></strong> to <a href=\"https://wandb.ai/zuozhe/fraud_detection\" target=\"_blank\">Weights & Biases</a> (<a href=\"https://wandb.me/run\" target=\"_blank\">docs</a>)<br/>"
      ],
      "text/plain": [
       "<IPython.core.display.HTML object>"
      ]
     },
     "metadata": {},
     "output_type": "display_data"
    },
    {
     "name": "stderr",
     "output_type": "stream",
     "text": [
      "\u001b[32m[I 2022-04-15 19:41:15,273]\u001b[0m Trial 28 finished with value: 0.8444260806492851 and parameters: {'n_estimators': 1971, 'learning_rate': 0.011572169866794976, 'min_split_gain': 0.007947634552758171, 'objective': 'binary', 'metric': 'average_precision', 'is_unbalance': True}. Best is trial 22 with value: 0.8543757574662607.\u001b[0m\n"
     ]
    },
    {
     "data": {
      "text/html": [
       "Finishing last run (ID:21xwltor) before initializing another..."
      ],
      "text/plain": [
       "<IPython.core.display.HTML object>"
      ]
     },
     "metadata": {},
     "output_type": "display_data"
    },
    {
     "name": "stdout",
     "output_type": "stream",
     "text": [
      "\n"
     ]
    },
    {
     "data": {
      "text/html": [
       "Waiting for W&B process to finish... <strong style=\"color:green\">(success).</strong>"
      ],
      "text/plain": [
       "<IPython.core.display.HTML object>"
      ]
     },
     "metadata": {},
     "output_type": "display_data"
    },
    {
     "data": {
      "text/html": [
       "<style>\n",
       "    table.wandb td:nth-child(1) { padding: 0 10px; text-align: right }\n",
       "    .wandb-row { display: flex; flex-direction: row; flex-wrap: wrap; width: 100% }\n",
       "    .wandb-col { display: flex; flex-direction: column; flex-basis: 100%; flex: 1; padding: 10px; }\n",
       "    </style>\n",
       "<div class=\"wandb-row\"><div class=\"wandb-col\"><h3>Run history:</h3><br/><table class=\"wandb\"><tr><td>fit_time</td><td>▁</td></tr><tr><td>is_unbalance</td><td>▁</td></tr><tr><td>learning_rate</td><td>▁</td></tr><tr><td>min_split_gain</td><td>▁</td></tr><tr><td>n_estimators</td><td>▁</td></tr><tr><td>on_golden_test</td><td>▁</td></tr><tr><td>score_time</td><td>▁</td></tr><tr><td>test_accuracy</td><td>▁</td></tr><tr><td>test_average_precision</td><td>▁</td></tr><tr><td>test_f1</td><td>▁</td></tr><tr><td>test_precision</td><td>▁</td></tr><tr><td>test_recall</td><td>▁</td></tr><tr><td>test_roc_auc</td><td>▁</td></tr><tr><td>train_accuracy</td><td>▁</td></tr><tr><td>train_average_precision</td><td>▁</td></tr><tr><td>train_f1</td><td>▁</td></tr><tr><td>train_precision</td><td>▁</td></tr><tr><td>train_recall</td><td>▁</td></tr><tr><td>train_roc_auc</td><td>▁</td></tr></table><br/></div><div class=\"wandb-col\"><h3>Run summary:</h3><br/><table class=\"wandb\"><tr><td>fit_time</td><td>89.51647</td></tr><tr><td>is_unbalance</td><td>True</td></tr><tr><td>learning_rate</td><td>0.01157</td></tr><tr><td>metric</td><td>average_precision</td></tr><tr><td>min_split_gain</td><td>0.00795</td></tr><tr><td>model_name</td><td>LGBMClassifier</td></tr><tr><td>n_estimators</td><td>1971</td></tr><tr><td>objective</td><td>binary</td></tr><tr><td>on_golden_test</td><td>False</td></tr><tr><td>score_time</td><td>43.1492</td></tr><tr><td>test_accuracy</td><td>0.99951</td></tr><tr><td>test_average_precision</td><td>0.84443</td></tr><tr><td>test_f1</td><td>0.84928</td></tr><tr><td>test_precision</td><td>0.91498</td></tr><tr><td>test_recall</td><td>0.79443</td></tr><tr><td>test_roc_auc</td><td>0.96997</td></tr><tr><td>train_accuracy</td><td>1.0</td></tr><tr><td>train_average_precision</td><td>1.0</td></tr><tr><td>train_f1</td><td>1.0</td></tr><tr><td>train_precision</td><td>1.0</td></tr><tr><td>train_recall</td><td>1.0</td></tr><tr><td>train_roc_auc</td><td>1.0</td></tr></table><br/></div></div>"
      ],
      "text/plain": [
       "<IPython.core.display.HTML object>"
      ]
     },
     "metadata": {},
     "output_type": "display_data"
    },
    {
     "data": {
      "text/html": [
       "Synced <strong style=\"color:#cdcd00\">genial-moon-247</strong>: <a href=\"https://wandb.ai/zuozhe/fraud_detection/runs/21xwltor\" target=\"_blank\">https://wandb.ai/zuozhe/fraud_detection/runs/21xwltor</a><br/>Synced 5 W&B file(s), 0 media file(s), 0 artifact file(s) and 0 other file(s)"
      ],
      "text/plain": [
       "<IPython.core.display.HTML object>"
      ]
     },
     "metadata": {},
     "output_type": "display_data"
    },
    {
     "data": {
      "text/html": [
       "Find logs at: <code>.\\wandb\\run-20220415_193312-21xwltor\\logs</code>"
      ],
      "text/plain": [
       "<IPython.core.display.HTML object>"
      ]
     },
     "metadata": {},
     "output_type": "display_data"
    },
    {
     "data": {
      "text/html": [
       "Successfully finished last run (ID:21xwltor). Initializing new run:<br/>"
      ],
      "text/plain": [
       "<IPython.core.display.HTML object>"
      ]
     },
     "metadata": {},
     "output_type": "display_data"
    },
    {
     "data": {
      "text/html": [
       "wandb version 0.12.14 is available!  To upgrade, please run:\n",
       " $ pip install wandb --upgrade"
      ],
      "text/plain": [
       "<IPython.core.display.HTML object>"
      ]
     },
     "metadata": {},
     "output_type": "display_data"
    },
    {
     "data": {
      "text/html": [
       "Tracking run with wandb version 0.12.12"
      ],
      "text/plain": [
       "<IPython.core.display.HTML object>"
      ]
     },
     "metadata": {},
     "output_type": "display_data"
    },
    {
     "data": {
      "text/html": [
       "Run data is saved locally in <code>C:\\Users\\teozz\\OneDrive\\Desktop\\vscode_workspace\\projects\\credit_card_fraud_detection\\wandb\\run-20220415_194115-2trjqu6q</code>"
      ],
      "text/plain": [
       "<IPython.core.display.HTML object>"
      ]
     },
     "metadata": {},
     "output_type": "display_data"
    },
    {
     "data": {
      "text/html": [
       "Syncing run <strong><a href=\"https://wandb.ai/zuozhe/fraud_detection/runs/2trjqu6q\" target=\"_blank\">atomic-firefly-248</a></strong> to <a href=\"https://wandb.ai/zuozhe/fraud_detection\" target=\"_blank\">Weights & Biases</a> (<a href=\"https://wandb.me/run\" target=\"_blank\">docs</a>)<br/>"
      ],
      "text/plain": [
       "<IPython.core.display.HTML object>"
      ]
     },
     "metadata": {},
     "output_type": "display_data"
    },
    {
     "name": "stderr",
     "output_type": "stream",
     "text": [
      "\u001b[32m[I 2022-04-15 19:50:16,107]\u001b[0m Trial 29 finished with value: 0.8438236711344616 and parameters: {'n_estimators': 1700, 'learning_rate': 0.005168479591766352, 'min_split_gain': 0.037121441058330235, 'objective': 'binary', 'metric': 'average_precision', 'is_unbalance': True}. Best is trial 22 with value: 0.8543757574662607.\u001b[0m\n"
     ]
    },
    {
     "data": {
      "text/html": [
       "Finishing last run (ID:2trjqu6q) before initializing another..."
      ],
      "text/plain": [
       "<IPython.core.display.HTML object>"
      ]
     },
     "metadata": {},
     "output_type": "display_data"
    },
    {
     "name": "stdout",
     "output_type": "stream",
     "text": [
      "\n"
     ]
    },
    {
     "data": {
      "text/html": [
       "Waiting for W&B process to finish... <strong style=\"color:green\">(success).</strong>"
      ],
      "text/plain": [
       "<IPython.core.display.HTML object>"
      ]
     },
     "metadata": {},
     "output_type": "display_data"
    },
    {
     "data": {
      "text/html": [
       "<style>\n",
       "    table.wandb td:nth-child(1) { padding: 0 10px; text-align: right }\n",
       "    .wandb-row { display: flex; flex-direction: row; flex-wrap: wrap; width: 100% }\n",
       "    .wandb-col { display: flex; flex-direction: column; flex-basis: 100%; flex: 1; padding: 10px; }\n",
       "    </style>\n",
       "<div class=\"wandb-row\"><div class=\"wandb-col\"><h3>Run history:</h3><br/><table class=\"wandb\"><tr><td>fit_time</td><td>▁</td></tr><tr><td>is_unbalance</td><td>▁</td></tr><tr><td>learning_rate</td><td>▁</td></tr><tr><td>min_split_gain</td><td>▁</td></tr><tr><td>n_estimators</td><td>▁</td></tr><tr><td>on_golden_test</td><td>▁</td></tr><tr><td>score_time</td><td>▁</td></tr><tr><td>test_accuracy</td><td>▁</td></tr><tr><td>test_average_precision</td><td>▁</td></tr><tr><td>test_f1</td><td>▁</td></tr><tr><td>test_precision</td><td>▁</td></tr><tr><td>test_recall</td><td>▁</td></tr><tr><td>test_roc_auc</td><td>▁</td></tr><tr><td>train_accuracy</td><td>▁</td></tr><tr><td>train_average_precision</td><td>▁</td></tr><tr><td>train_f1</td><td>▁</td></tr><tr><td>train_precision</td><td>▁</td></tr><tr><td>train_recall</td><td>▁</td></tr><tr><td>train_roc_auc</td><td>▁</td></tr></table><br/></div><div class=\"wandb-col\"><h3>Run summary:</h3><br/><table class=\"wandb\"><tr><td>fit_time</td><td>94.98978</td></tr><tr><td>is_unbalance</td><td>True</td></tr><tr><td>learning_rate</td><td>0.00517</td></tr><tr><td>metric</td><td>average_precision</td></tr><tr><td>min_split_gain</td><td>0.03712</td></tr><tr><td>model_name</td><td>LGBMClassifier</td></tr><tr><td>n_estimators</td><td>1700</td></tr><tr><td>objective</td><td>binary</td></tr><tr><td>on_golden_test</td><td>False</td></tr><tr><td>score_time</td><td>48.76796</td></tr><tr><td>test_accuracy</td><td>0.99947</td></tr><tr><td>test_average_precision</td><td>0.84382</td></tr><tr><td>test_f1</td><td>0.84389</td></tr><tr><td>test_precision</td><td>0.86597</td></tr><tr><td>test_recall</td><td>0.82553</td></tr><tr><td>test_roc_auc</td><td>0.97676</td></tr><tr><td>train_accuracy</td><td>0.99996</td></tr><tr><td>train_average_precision</td><td>1.0</td></tr><tr><td>train_f1</td><td>0.98849</td></tr><tr><td>train_precision</td><td>0.97728</td></tr><tr><td>train_recall</td><td>1.0</td></tr><tr><td>train_roc_auc</td><td>1.0</td></tr></table><br/></div></div>"
      ],
      "text/plain": [
       "<IPython.core.display.HTML object>"
      ]
     },
     "metadata": {},
     "output_type": "display_data"
    },
    {
     "data": {
      "text/html": [
       "Synced <strong style=\"color:#cdcd00\">atomic-firefly-248</strong>: <a href=\"https://wandb.ai/zuozhe/fraud_detection/runs/2trjqu6q\" target=\"_blank\">https://wandb.ai/zuozhe/fraud_detection/runs/2trjqu6q</a><br/>Synced 5 W&B file(s), 0 media file(s), 0 artifact file(s) and 0 other file(s)"
      ],
      "text/plain": [
       "<IPython.core.display.HTML object>"
      ]
     },
     "metadata": {},
     "output_type": "display_data"
    },
    {
     "data": {
      "text/html": [
       "Find logs at: <code>.\\wandb\\run-20220415_194115-2trjqu6q\\logs</code>"
      ],
      "text/plain": [
       "<IPython.core.display.HTML object>"
      ]
     },
     "metadata": {},
     "output_type": "display_data"
    },
    {
     "data": {
      "text/html": [
       "Successfully finished last run (ID:2trjqu6q). Initializing new run:<br/>"
      ],
      "text/plain": [
       "<IPython.core.display.HTML object>"
      ]
     },
     "metadata": {},
     "output_type": "display_data"
    },
    {
     "data": {
      "text/html": [
       "wandb version 0.12.14 is available!  To upgrade, please run:\n",
       " $ pip install wandb --upgrade"
      ],
      "text/plain": [
       "<IPython.core.display.HTML object>"
      ]
     },
     "metadata": {},
     "output_type": "display_data"
    },
    {
     "data": {
      "text/html": [
       "Tracking run with wandb version 0.12.12"
      ],
      "text/plain": [
       "<IPython.core.display.HTML object>"
      ]
     },
     "metadata": {},
     "output_type": "display_data"
    },
    {
     "data": {
      "text/html": [
       "Run data is saved locally in <code>C:\\Users\\teozz\\OneDrive\\Desktop\\vscode_workspace\\projects\\credit_card_fraud_detection\\wandb\\run-20220415_195016-21tbj9yw</code>"
      ],
      "text/plain": [
       "<IPython.core.display.HTML object>"
      ]
     },
     "metadata": {},
     "output_type": "display_data"
    },
    {
     "data": {
      "text/html": [
       "Syncing run <strong><a href=\"https://wandb.ai/zuozhe/fraud_detection/runs/21tbj9yw\" target=\"_blank\">feasible-microwave-249</a></strong> to <a href=\"https://wandb.ai/zuozhe/fraud_detection\" target=\"_blank\">Weights & Biases</a> (<a href=\"https://wandb.me/run\" target=\"_blank\">docs</a>)<br/>"
      ],
      "text/plain": [
       "<IPython.core.display.HTML object>"
      ]
     },
     "metadata": {},
     "output_type": "display_data"
    },
    {
     "name": "stderr",
     "output_type": "stream",
     "text": [
      "\u001b[32m[I 2022-04-15 19:58:01,339]\u001b[0m Trial 30 finished with value: 0.8471344399057431 and parameters: {'n_estimators': 1473, 'learning_rate': 0.009285646915415186, 'min_split_gain': 0.01553273147361081, 'objective': 'binary', 'metric': 'average_precision', 'is_unbalance': True}. Best is trial 22 with value: 0.8543757574662607.\u001b[0m\n"
     ]
    },
    {
     "data": {
      "text/html": [
       "Finishing last run (ID:21tbj9yw) before initializing another..."
      ],
      "text/plain": [
       "<IPython.core.display.HTML object>"
      ]
     },
     "metadata": {},
     "output_type": "display_data"
    },
    {
     "name": "stdout",
     "output_type": "stream",
     "text": [
      "\n"
     ]
    },
    {
     "data": {
      "text/html": [
       "Waiting for W&B process to finish... <strong style=\"color:green\">(success).</strong>"
      ],
      "text/plain": [
       "<IPython.core.display.HTML object>"
      ]
     },
     "metadata": {},
     "output_type": "display_data"
    },
    {
     "data": {
      "text/html": [
       "<style>\n",
       "    table.wandb td:nth-child(1) { padding: 0 10px; text-align: right }\n",
       "    .wandb-row { display: flex; flex-direction: row; flex-wrap: wrap; width: 100% }\n",
       "    .wandb-col { display: flex; flex-direction: column; flex-basis: 100%; flex: 1; padding: 10px; }\n",
       "    </style>\n",
       "<div class=\"wandb-row\"><div class=\"wandb-col\"><h3>Run history:</h3><br/><table class=\"wandb\"><tr><td>fit_time</td><td>▁</td></tr><tr><td>is_unbalance</td><td>▁</td></tr><tr><td>learning_rate</td><td>▁</td></tr><tr><td>min_split_gain</td><td>▁</td></tr><tr><td>n_estimators</td><td>▁</td></tr><tr><td>on_golden_test</td><td>▁</td></tr><tr><td>score_time</td><td>▁</td></tr><tr><td>test_accuracy</td><td>▁</td></tr><tr><td>test_average_precision</td><td>▁</td></tr><tr><td>test_f1</td><td>▁</td></tr><tr><td>test_precision</td><td>▁</td></tr><tr><td>test_recall</td><td>▁</td></tr><tr><td>test_roc_auc</td><td>▁</td></tr><tr><td>train_accuracy</td><td>▁</td></tr><tr><td>train_average_precision</td><td>▁</td></tr><tr><td>train_f1</td><td>▁</td></tr><tr><td>train_precision</td><td>▁</td></tr><tr><td>train_recall</td><td>▁</td></tr><tr><td>train_roc_auc</td><td>▁</td></tr></table><br/></div><div class=\"wandb-col\"><h3>Run summary:</h3><br/><table class=\"wandb\"><tr><td>fit_time</td><td>80.51086</td></tr><tr><td>is_unbalance</td><td>True</td></tr><tr><td>learning_rate</td><td>0.00929</td></tr><tr><td>metric</td><td>average_precision</td></tr><tr><td>min_split_gain</td><td>0.01553</td></tr><tr><td>model_name</td><td>LGBMClassifier</td></tr><tr><td>n_estimators</td><td>1473</td></tr><tr><td>objective</td><td>binary</td></tr><tr><td>on_golden_test</td><td>False</td></tr><tr><td>score_time</td><td>41.6433</td></tr><tr><td>test_accuracy</td><td>0.9995</td></tr><tr><td>test_average_precision</td><td>0.84713</td></tr><tr><td>test_f1</td><td>0.84751</td></tr><tr><td>test_precision</td><td>0.89728</td></tr><tr><td>test_recall</td><td>0.80399</td></tr><tr><td>test_roc_auc</td><td>0.97781</td></tr><tr><td>train_accuracy</td><td>1.0</td></tr><tr><td>train_average_precision</td><td>1.0</td></tr><tr><td>train_f1</td><td>1.0</td></tr><tr><td>train_precision</td><td>1.0</td></tr><tr><td>train_recall</td><td>1.0</td></tr><tr><td>train_roc_auc</td><td>1.0</td></tr></table><br/></div></div>"
      ],
      "text/plain": [
       "<IPython.core.display.HTML object>"
      ]
     },
     "metadata": {},
     "output_type": "display_data"
    },
    {
     "data": {
      "text/html": [
       "Synced <strong style=\"color:#cdcd00\">feasible-microwave-249</strong>: <a href=\"https://wandb.ai/zuozhe/fraud_detection/runs/21tbj9yw\" target=\"_blank\">https://wandb.ai/zuozhe/fraud_detection/runs/21tbj9yw</a><br/>Synced 5 W&B file(s), 0 media file(s), 0 artifact file(s) and 0 other file(s)"
      ],
      "text/plain": [
       "<IPython.core.display.HTML object>"
      ]
     },
     "metadata": {},
     "output_type": "display_data"
    },
    {
     "data": {
      "text/html": [
       "Find logs at: <code>.\\wandb\\run-20220415_195016-21tbj9yw\\logs</code>"
      ],
      "text/plain": [
       "<IPython.core.display.HTML object>"
      ]
     },
     "metadata": {},
     "output_type": "display_data"
    },
    {
     "data": {
      "text/html": [
       "Successfully finished last run (ID:21tbj9yw). Initializing new run:<br/>"
      ],
      "text/plain": [
       "<IPython.core.display.HTML object>"
      ]
     },
     "metadata": {},
     "output_type": "display_data"
    },
    {
     "data": {
      "text/html": [
       "wandb version 0.12.14 is available!  To upgrade, please run:\n",
       " $ pip install wandb --upgrade"
      ],
      "text/plain": [
       "<IPython.core.display.HTML object>"
      ]
     },
     "metadata": {},
     "output_type": "display_data"
    },
    {
     "data": {
      "text/html": [
       "Tracking run with wandb version 0.12.12"
      ],
      "text/plain": [
       "<IPython.core.display.HTML object>"
      ]
     },
     "metadata": {},
     "output_type": "display_data"
    },
    {
     "data": {
      "text/html": [
       "Run data is saved locally in <code>C:\\Users\\teozz\\OneDrive\\Desktop\\vscode_workspace\\projects\\credit_card_fraud_detection\\wandb\\run-20220415_195801-2mcrscxi</code>"
      ],
      "text/plain": [
       "<IPython.core.display.HTML object>"
      ]
     },
     "metadata": {},
     "output_type": "display_data"
    },
    {
     "data": {
      "text/html": [
       "Syncing run <strong><a href=\"https://wandb.ai/zuozhe/fraud_detection/runs/2mcrscxi\" target=\"_blank\">hearty-salad-250</a></strong> to <a href=\"https://wandb.ai/zuozhe/fraud_detection\" target=\"_blank\">Weights & Biases</a> (<a href=\"https://wandb.me/run\" target=\"_blank\">docs</a>)<br/>"
      ],
      "text/plain": [
       "<IPython.core.display.HTML object>"
      ]
     },
     "metadata": {},
     "output_type": "display_data"
    },
    {
     "name": "stderr",
     "output_type": "stream",
     "text": [
      "\u001b[32m[I 2022-04-15 20:08:06,399]\u001b[0m Trial 31 finished with value: 0.8487918151396616 and parameters: {'n_estimators': 1881, 'learning_rate': 0.005783172286587584, 'min_split_gain': 0.019920586731419297, 'objective': 'binary', 'metric': 'average_precision', 'is_unbalance': True}. Best is trial 22 with value: 0.8543757574662607.\u001b[0m\n"
     ]
    },
    {
     "data": {
      "text/html": [
       "Finishing last run (ID:2mcrscxi) before initializing another..."
      ],
      "text/plain": [
       "<IPython.core.display.HTML object>"
      ]
     },
     "metadata": {},
     "output_type": "display_data"
    },
    {
     "name": "stdout",
     "output_type": "stream",
     "text": [
      "\n"
     ]
    },
    {
     "data": {
      "text/html": [
       "Waiting for W&B process to finish... <strong style=\"color:green\">(success).</strong>"
      ],
      "text/plain": [
       "<IPython.core.display.HTML object>"
      ]
     },
     "metadata": {},
     "output_type": "display_data"
    },
    {
     "data": {
      "text/html": [
       "<style>\n",
       "    table.wandb td:nth-child(1) { padding: 0 10px; text-align: right }\n",
       "    .wandb-row { display: flex; flex-direction: row; flex-wrap: wrap; width: 100% }\n",
       "    .wandb-col { display: flex; flex-direction: column; flex-basis: 100%; flex: 1; padding: 10px; }\n",
       "    </style>\n",
       "<div class=\"wandb-row\"><div class=\"wandb-col\"><h3>Run history:</h3><br/><table class=\"wandb\"><tr><td>fit_time</td><td>▁</td></tr><tr><td>is_unbalance</td><td>▁</td></tr><tr><td>learning_rate</td><td>▁</td></tr><tr><td>min_split_gain</td><td>▁</td></tr><tr><td>n_estimators</td><td>▁</td></tr><tr><td>on_golden_test</td><td>▁</td></tr><tr><td>score_time</td><td>▁</td></tr><tr><td>test_accuracy</td><td>▁</td></tr><tr><td>test_average_precision</td><td>▁</td></tr><tr><td>test_f1</td><td>▁</td></tr><tr><td>test_precision</td><td>▁</td></tr><tr><td>test_recall</td><td>▁</td></tr><tr><td>test_roc_auc</td><td>▁</td></tr><tr><td>train_accuracy</td><td>▁</td></tr><tr><td>train_average_precision</td><td>▁</td></tr><tr><td>train_f1</td><td>▁</td></tr><tr><td>train_precision</td><td>▁</td></tr><tr><td>train_recall</td><td>▁</td></tr><tr><td>train_roc_auc</td><td>▁</td></tr></table><br/></div><div class=\"wandb-col\"><h3>Run summary:</h3><br/><table class=\"wandb\"><tr><td>fit_time</td><td>102.97718</td></tr><tr><td>is_unbalance</td><td>True</td></tr><tr><td>learning_rate</td><td>0.00578</td></tr><tr><td>metric</td><td>average_precision</td></tr><tr><td>min_split_gain</td><td>0.01992</td></tr><tr><td>model_name</td><td>LGBMClassifier</td></tr><tr><td>n_estimators</td><td>1881</td></tr><tr><td>objective</td><td>binary</td></tr><tr><td>on_golden_test</td><td>False</td></tr><tr><td>score_time</td><td>54.48063</td></tr><tr><td>test_accuracy</td><td>0.9995</td></tr><tr><td>test_average_precision</td><td>0.84879</td></tr><tr><td>test_f1</td><td>0.84992</td></tr><tr><td>test_precision</td><td>0.89473</td></tr><tr><td>test_recall</td><td>0.81113</td></tr><tr><td>test_roc_auc</td><td>0.97468</td></tr><tr><td>train_accuracy</td><td>1.0</td></tr><tr><td>train_average_precision</td><td>1.0</td></tr><tr><td>train_f1</td><td>1.0</td></tr><tr><td>train_precision</td><td>1.0</td></tr><tr><td>train_recall</td><td>1.0</td></tr><tr><td>train_roc_auc</td><td>1.0</td></tr></table><br/></div></div>"
      ],
      "text/plain": [
       "<IPython.core.display.HTML object>"
      ]
     },
     "metadata": {},
     "output_type": "display_data"
    },
    {
     "data": {
      "text/html": [
       "Synced <strong style=\"color:#cdcd00\">hearty-salad-250</strong>: <a href=\"https://wandb.ai/zuozhe/fraud_detection/runs/2mcrscxi\" target=\"_blank\">https://wandb.ai/zuozhe/fraud_detection/runs/2mcrscxi</a><br/>Synced 5 W&B file(s), 0 media file(s), 0 artifact file(s) and 0 other file(s)"
      ],
      "text/plain": [
       "<IPython.core.display.HTML object>"
      ]
     },
     "metadata": {},
     "output_type": "display_data"
    },
    {
     "data": {
      "text/html": [
       "Find logs at: <code>.\\wandb\\run-20220415_195801-2mcrscxi\\logs</code>"
      ],
      "text/plain": [
       "<IPython.core.display.HTML object>"
      ]
     },
     "metadata": {},
     "output_type": "display_data"
    },
    {
     "data": {
      "text/html": [
       "Successfully finished last run (ID:2mcrscxi). Initializing new run:<br/>"
      ],
      "text/plain": [
       "<IPython.core.display.HTML object>"
      ]
     },
     "metadata": {},
     "output_type": "display_data"
    },
    {
     "data": {
      "text/html": [
       "wandb version 0.12.14 is available!  To upgrade, please run:\n",
       " $ pip install wandb --upgrade"
      ],
      "text/plain": [
       "<IPython.core.display.HTML object>"
      ]
     },
     "metadata": {},
     "output_type": "display_data"
    },
    {
     "data": {
      "text/html": [
       "Tracking run with wandb version 0.12.12"
      ],
      "text/plain": [
       "<IPython.core.display.HTML object>"
      ]
     },
     "metadata": {},
     "output_type": "display_data"
    },
    {
     "data": {
      "text/html": [
       "Run data is saved locally in <code>C:\\Users\\teozz\\OneDrive\\Desktop\\vscode_workspace\\projects\\credit_card_fraud_detection\\wandb\\run-20220415_200806-33374xyl</code>"
      ],
      "text/plain": [
       "<IPython.core.display.HTML object>"
      ]
     },
     "metadata": {},
     "output_type": "display_data"
    },
    {
     "data": {
      "text/html": [
       "Syncing run <strong><a href=\"https://wandb.ai/zuozhe/fraud_detection/runs/33374xyl\" target=\"_blank\">feasible-water-251</a></strong> to <a href=\"https://wandb.ai/zuozhe/fraud_detection\" target=\"_blank\">Weights & Biases</a> (<a href=\"https://wandb.me/run\" target=\"_blank\">docs</a>)<br/>"
      ],
      "text/plain": [
       "<IPython.core.display.HTML object>"
      ]
     },
     "metadata": {},
     "output_type": "display_data"
    },
    {
     "name": "stderr",
     "output_type": "stream",
     "text": [
      "\u001b[32m[I 2022-04-15 20:17:38,273]\u001b[0m Trial 32 finished with value: 0.8483391544772461 and parameters: {'n_estimators': 1769, 'learning_rate': 0.007824612043439927, 'min_split_gain': 0.03304836926996146, 'objective': 'binary', 'metric': 'average_precision', 'is_unbalance': True}. Best is trial 22 with value: 0.8543757574662607.\u001b[0m\n"
     ]
    },
    {
     "data": {
      "text/html": [
       "Finishing last run (ID:33374xyl) before initializing another..."
      ],
      "text/plain": [
       "<IPython.core.display.HTML object>"
      ]
     },
     "metadata": {},
     "output_type": "display_data"
    },
    {
     "name": "stdout",
     "output_type": "stream",
     "text": [
      "\n"
     ]
    },
    {
     "data": {
      "text/html": [
       "Waiting for W&B process to finish... <strong style=\"color:green\">(success).</strong>"
      ],
      "text/plain": [
       "<IPython.core.display.HTML object>"
      ]
     },
     "metadata": {},
     "output_type": "display_data"
    },
    {
     "data": {
      "text/html": [
       "<style>\n",
       "    table.wandb td:nth-child(1) { padding: 0 10px; text-align: right }\n",
       "    .wandb-row { display: flex; flex-direction: row; flex-wrap: wrap; width: 100% }\n",
       "    .wandb-col { display: flex; flex-direction: column; flex-basis: 100%; flex: 1; padding: 10px; }\n",
       "    </style>\n",
       "<div class=\"wandb-row\"><div class=\"wandb-col\"><h3>Run history:</h3><br/><table class=\"wandb\"><tr><td>fit_time</td><td>▁</td></tr><tr><td>is_unbalance</td><td>▁</td></tr><tr><td>learning_rate</td><td>▁</td></tr><tr><td>min_split_gain</td><td>▁</td></tr><tr><td>n_estimators</td><td>▁</td></tr><tr><td>on_golden_test</td><td>▁</td></tr><tr><td>score_time</td><td>▁</td></tr><tr><td>test_accuracy</td><td>▁</td></tr><tr><td>test_average_precision</td><td>▁</td></tr><tr><td>test_f1</td><td>▁</td></tr><tr><td>test_precision</td><td>▁</td></tr><tr><td>test_recall</td><td>▁</td></tr><tr><td>test_roc_auc</td><td>▁</td></tr><tr><td>train_accuracy</td><td>▁</td></tr><tr><td>train_average_precision</td><td>▁</td></tr><tr><td>train_f1</td><td>▁</td></tr><tr><td>train_precision</td><td>▁</td></tr><tr><td>train_recall</td><td>▁</td></tr><tr><td>train_roc_auc</td><td>▁</td></tr></table><br/></div><div class=\"wandb-col\"><h3>Run summary:</h3><br/><table class=\"wandb\"><tr><td>fit_time</td><td>95.97147</td></tr><tr><td>is_unbalance</td><td>True</td></tr><tr><td>learning_rate</td><td>0.00782</td></tr><tr><td>metric</td><td>average_precision</td></tr><tr><td>min_split_gain</td><td>0.03305</td></tr><tr><td>model_name</td><td>LGBMClassifier</td></tr><tr><td>n_estimators</td><td>1769</td></tr><tr><td>objective</td><td>binary</td></tr><tr><td>on_golden_test</td><td>False</td></tr><tr><td>score_time</td><td>51.88604</td></tr><tr><td>test_accuracy</td><td>0.9995</td></tr><tr><td>test_average_precision</td><td>0.84834</td></tr><tr><td>test_f1</td><td>0.84944</td></tr><tr><td>test_precision</td><td>0.89663</td></tr><tr><td>test_recall</td><td>0.80875</td></tr><tr><td>test_roc_auc</td><td>0.97489</td></tr><tr><td>train_accuracy</td><td>1.0</td></tr><tr><td>train_average_precision</td><td>1.0</td></tr><tr><td>train_f1</td><td>1.0</td></tr><tr><td>train_precision</td><td>1.0</td></tr><tr><td>train_recall</td><td>1.0</td></tr><tr><td>train_roc_auc</td><td>1.0</td></tr></table><br/></div></div>"
      ],
      "text/plain": [
       "<IPython.core.display.HTML object>"
      ]
     },
     "metadata": {},
     "output_type": "display_data"
    },
    {
     "data": {
      "text/html": [
       "Synced <strong style=\"color:#cdcd00\">feasible-water-251</strong>: <a href=\"https://wandb.ai/zuozhe/fraud_detection/runs/33374xyl\" target=\"_blank\">https://wandb.ai/zuozhe/fraud_detection/runs/33374xyl</a><br/>Synced 5 W&B file(s), 0 media file(s), 0 artifact file(s) and 0 other file(s)"
      ],
      "text/plain": [
       "<IPython.core.display.HTML object>"
      ]
     },
     "metadata": {},
     "output_type": "display_data"
    },
    {
     "data": {
      "text/html": [
       "Find logs at: <code>.\\wandb\\run-20220415_200806-33374xyl\\logs</code>"
      ],
      "text/plain": [
       "<IPython.core.display.HTML object>"
      ]
     },
     "metadata": {},
     "output_type": "display_data"
    },
    {
     "data": {
      "text/html": [
       "Successfully finished last run (ID:33374xyl). Initializing new run:<br/>"
      ],
      "text/plain": [
       "<IPython.core.display.HTML object>"
      ]
     },
     "metadata": {},
     "output_type": "display_data"
    },
    {
     "data": {
      "text/html": [
       "wandb version 0.12.14 is available!  To upgrade, please run:\n",
       " $ pip install wandb --upgrade"
      ],
      "text/plain": [
       "<IPython.core.display.HTML object>"
      ]
     },
     "metadata": {},
     "output_type": "display_data"
    },
    {
     "data": {
      "text/html": [
       "Tracking run with wandb version 0.12.12"
      ],
      "text/plain": [
       "<IPython.core.display.HTML object>"
      ]
     },
     "metadata": {},
     "output_type": "display_data"
    },
    {
     "data": {
      "text/html": [
       "Run data is saved locally in <code>C:\\Users\\teozz\\OneDrive\\Desktop\\vscode_workspace\\projects\\credit_card_fraud_detection\\wandb\\run-20220415_201738-1ry6170a</code>"
      ],
      "text/plain": [
       "<IPython.core.display.HTML object>"
      ]
     },
     "metadata": {},
     "output_type": "display_data"
    },
    {
     "data": {
      "text/html": [
       "Syncing run <strong><a href=\"https://wandb.ai/zuozhe/fraud_detection/runs/1ry6170a\" target=\"_blank\">winter-planet-252</a></strong> to <a href=\"https://wandb.ai/zuozhe/fraud_detection\" target=\"_blank\">Weights & Biases</a> (<a href=\"https://wandb.me/run\" target=\"_blank\">docs</a>)<br/>"
      ],
      "text/plain": [
       "<IPython.core.display.HTML object>"
      ]
     },
     "metadata": {},
     "output_type": "display_data"
    },
    {
     "name": "stderr",
     "output_type": "stream",
     "text": [
      "\u001b[32m[I 2022-04-15 20:28:48,531]\u001b[0m Trial 33 finished with value: 0.8490906455407103 and parameters: {'n_estimators': 2019, 'learning_rate': 0.006776139612155908, 'min_split_gain': 0.023959162989161415, 'objective': 'binary', 'metric': 'average_precision', 'is_unbalance': True}. Best is trial 22 with value: 0.8543757574662607.\u001b[0m\n"
     ]
    },
    {
     "data": {
      "text/html": [
       "Finishing last run (ID:1ry6170a) before initializing another..."
      ],
      "text/plain": [
       "<IPython.core.display.HTML object>"
      ]
     },
     "metadata": {},
     "output_type": "display_data"
    },
    {
     "name": "stdout",
     "output_type": "stream",
     "text": [
      "\n"
     ]
    },
    {
     "data": {
      "text/html": [
       "Waiting for W&B process to finish... <strong style=\"color:green\">(success).</strong>"
      ],
      "text/plain": [
       "<IPython.core.display.HTML object>"
      ]
     },
     "metadata": {},
     "output_type": "display_data"
    },
    {
     "data": {
      "text/html": [
       "<style>\n",
       "    table.wandb td:nth-child(1) { padding: 0 10px; text-align: right }\n",
       "    .wandb-row { display: flex; flex-direction: row; flex-wrap: wrap; width: 100% }\n",
       "    .wandb-col { display: flex; flex-direction: column; flex-basis: 100%; flex: 1; padding: 10px; }\n",
       "    </style>\n",
       "<div class=\"wandb-row\"><div class=\"wandb-col\"><h3>Run history:</h3><br/><table class=\"wandb\"><tr><td>fit_time</td><td>▁</td></tr><tr><td>is_unbalance</td><td>▁</td></tr><tr><td>learning_rate</td><td>▁</td></tr><tr><td>min_split_gain</td><td>▁</td></tr><tr><td>n_estimators</td><td>▁</td></tr><tr><td>on_golden_test</td><td>▁</td></tr><tr><td>score_time</td><td>▁</td></tr><tr><td>test_accuracy</td><td>▁</td></tr><tr><td>test_average_precision</td><td>▁</td></tr><tr><td>test_f1</td><td>▁</td></tr><tr><td>test_precision</td><td>▁</td></tr><tr><td>test_recall</td><td>▁</td></tr><tr><td>test_roc_auc</td><td>▁</td></tr><tr><td>train_accuracy</td><td>▁</td></tr><tr><td>train_average_precision</td><td>▁</td></tr><tr><td>train_f1</td><td>▁</td></tr><tr><td>train_precision</td><td>▁</td></tr><tr><td>train_recall</td><td>▁</td></tr><tr><td>train_roc_auc</td><td>▁</td></tr></table><br/></div><div class=\"wandb-col\"><h3>Run summary:</h3><br/><table class=\"wandb\"><tr><td>fit_time</td><td>109.70024</td></tr><tr><td>is_unbalance</td><td>True</td></tr><tr><td>learning_rate</td><td>0.00678</td></tr><tr><td>metric</td><td>average_precision</td></tr><tr><td>min_split_gain</td><td>0.02396</td></tr><tr><td>model_name</td><td>LGBMClassifier</td></tr><tr><td>n_estimators</td><td>2019</td></tr><tr><td>objective</td><td>binary</td></tr><tr><td>on_golden_test</td><td>False</td></tr><tr><td>score_time</td><td>60.06054</td></tr><tr><td>test_accuracy</td><td>0.99953</td></tr><tr><td>test_average_precision</td><td>0.84909</td></tr><tr><td>test_f1</td><td>0.85615</td></tr><tr><td>test_precision</td><td>0.90801</td></tr><tr><td>test_recall</td><td>0.81116</td></tr><tr><td>test_roc_auc</td><td>0.97619</td></tr><tr><td>train_accuracy</td><td>1.0</td></tr><tr><td>train_average_precision</td><td>1.0</td></tr><tr><td>train_f1</td><td>1.0</td></tr><tr><td>train_precision</td><td>1.0</td></tr><tr><td>train_recall</td><td>1.0</td></tr><tr><td>train_roc_auc</td><td>1.0</td></tr></table><br/></div></div>"
      ],
      "text/plain": [
       "<IPython.core.display.HTML object>"
      ]
     },
     "metadata": {},
     "output_type": "display_data"
    },
    {
     "data": {
      "text/html": [
       "Synced <strong style=\"color:#cdcd00\">winter-planet-252</strong>: <a href=\"https://wandb.ai/zuozhe/fraud_detection/runs/1ry6170a\" target=\"_blank\">https://wandb.ai/zuozhe/fraud_detection/runs/1ry6170a</a><br/>Synced 5 W&B file(s), 0 media file(s), 0 artifact file(s) and 0 other file(s)"
      ],
      "text/plain": [
       "<IPython.core.display.HTML object>"
      ]
     },
     "metadata": {},
     "output_type": "display_data"
    },
    {
     "data": {
      "text/html": [
       "Find logs at: <code>.\\wandb\\run-20220415_201738-1ry6170a\\logs</code>"
      ],
      "text/plain": [
       "<IPython.core.display.HTML object>"
      ]
     },
     "metadata": {},
     "output_type": "display_data"
    },
    {
     "data": {
      "text/html": [
       "Successfully finished last run (ID:1ry6170a). Initializing new run:<br/>"
      ],
      "text/plain": [
       "<IPython.core.display.HTML object>"
      ]
     },
     "metadata": {},
     "output_type": "display_data"
    },
    {
     "data": {
      "text/html": [
       "wandb version 0.12.14 is available!  To upgrade, please run:\n",
       " $ pip install wandb --upgrade"
      ],
      "text/plain": [
       "<IPython.core.display.HTML object>"
      ]
     },
     "metadata": {},
     "output_type": "display_data"
    },
    {
     "data": {
      "text/html": [
       "Tracking run with wandb version 0.12.12"
      ],
      "text/plain": [
       "<IPython.core.display.HTML object>"
      ]
     },
     "metadata": {},
     "output_type": "display_data"
    },
    {
     "data": {
      "text/html": [
       "Run data is saved locally in <code>C:\\Users\\teozz\\OneDrive\\Desktop\\vscode_workspace\\projects\\credit_card_fraud_detection\\wandb\\run-20220415_202848-2o46q9km</code>"
      ],
      "text/plain": [
       "<IPython.core.display.HTML object>"
      ]
     },
     "metadata": {},
     "output_type": "display_data"
    },
    {
     "data": {
      "text/html": [
       "Syncing run <strong><a href=\"https://wandb.ai/zuozhe/fraud_detection/runs/2o46q9km\" target=\"_blank\">legendary-armadillo-253</a></strong> to <a href=\"https://wandb.ai/zuozhe/fraud_detection\" target=\"_blank\">Weights & Biases</a> (<a href=\"https://wandb.me/run\" target=\"_blank\">docs</a>)<br/>"
      ],
      "text/plain": [
       "<IPython.core.display.HTML object>"
      ]
     },
     "metadata": {},
     "output_type": "display_data"
    },
    {
     "name": "stderr",
     "output_type": "stream",
     "text": [
      "\u001b[32m[I 2022-04-15 20:39:13,696]\u001b[0m Trial 34 finished with value: 0.8501406200326247 and parameters: {'n_estimators': 1896, 'learning_rate': 0.0067715330717301086, 'min_split_gain': 0.03060035034726396, 'objective': 'binary', 'metric': 'average_precision', 'is_unbalance': True}. Best is trial 22 with value: 0.8543757574662607.\u001b[0m\n"
     ]
    },
    {
     "name": "stdout",
     "output_type": "stream",
     "text": [
      "\n"
     ]
    },
    {
     "data": {
      "text/html": [
       "Waiting for W&B process to finish... <strong style=\"color:green\">(success).</strong>"
      ],
      "text/plain": [
       "<IPython.core.display.HTML object>"
      ]
     },
     "metadata": {},
     "output_type": "display_data"
    },
    {
     "data": {
      "text/html": [
       "<style>\n",
       "    table.wandb td:nth-child(1) { padding: 0 10px; text-align: right }\n",
       "    .wandb-row { display: flex; flex-direction: row; flex-wrap: wrap; width: 100% }\n",
       "    .wandb-col { display: flex; flex-direction: column; flex-basis: 100%; flex: 1; padding: 10px; }\n",
       "    </style>\n",
       "<div class=\"wandb-row\"><div class=\"wandb-col\"><h3>Run history:</h3><br/><table class=\"wandb\"><tr><td>fit_time</td><td>▁</td></tr><tr><td>is_unbalance</td><td>▁▁</td></tr><tr><td>learning_rate</td><td>▁█</td></tr><tr><td>min_split_gain</td><td>█▁</td></tr><tr><td>n_estimators</td><td>▁█</td></tr><tr><td>on_golden_test</td><td>▁█</td></tr><tr><td>score_time</td><td>▁</td></tr><tr><td>test_accuracy</td><td>▁█</td></tr><tr><td>test_average_precision</td><td>▁█</td></tr><tr><td>test_f1</td><td>▁█</td></tr><tr><td>test_precision</td><td>▁█</td></tr><tr><td>test_recall</td><td>▁█</td></tr><tr><td>test_roc_auc</td><td>█▁</td></tr><tr><td>train_accuracy</td><td>▁▁</td></tr><tr><td>train_average_precision</td><td>▁▁</td></tr><tr><td>train_f1</td><td>▁▁</td></tr><tr><td>train_precision</td><td>▁▁</td></tr><tr><td>train_recall</td><td>▁▁</td></tr><tr><td>train_roc_auc</td><td>▁▁</td></tr></table><br/></div><div class=\"wandb-col\"><h3>Run summary:</h3><br/><table class=\"wandb\"><tr><td>fit_time</td><td>102.94919</td></tr><tr><td>is_unbalance</td><td>True</td></tr><tr><td>learning_rate</td><td>0.00679</td></tr><tr><td>metric</td><td>average_precision</td></tr><tr><td>min_split_gain</td><td>0.02711</td></tr><tr><td>model_name</td><td>LGBMClassifier</td></tr><tr><td>n_estimators</td><td>2280</td></tr><tr><td>objective</td><td>binary</td></tr><tr><td>on_golden_test</td><td>True</td></tr><tr><td>score_time</td><td>55.55262</td></tr><tr><td>test_accuracy</td><td>0.99956</td></tr><tr><td>test_average_precision</td><td>0.85749</td></tr><tr><td>test_f1</td><td>0.86525</td></tr><tr><td>test_precision</td><td>0.91045</td></tr><tr><td>test_recall</td><td>0.82432</td></tr><tr><td>test_roc_auc</td><td>0.97398</td></tr><tr><td>train_accuracy</td><td>1.0</td></tr><tr><td>train_average_precision</td><td>1.0</td></tr><tr><td>train_f1</td><td>1.0</td></tr><tr><td>train_precision</td><td>1.0</td></tr><tr><td>train_recall</td><td>1.0</td></tr><tr><td>train_roc_auc</td><td>1.0</td></tr></table><br/></div></div>"
      ],
      "text/plain": [
       "<IPython.core.display.HTML object>"
      ]
     },
     "metadata": {},
     "output_type": "display_data"
    },
    {
     "data": {
      "text/html": [
       "Synced <strong style=\"color:#cdcd00\">legendary-armadillo-253</strong>: <a href=\"https://wandb.ai/zuozhe/fraud_detection/runs/2o46q9km\" target=\"_blank\">https://wandb.ai/zuozhe/fraud_detection/runs/2o46q9km</a><br/>Synced 5 W&B file(s), 0 media file(s), 0 artifact file(s) and 0 other file(s)"
      ],
      "text/plain": [
       "<IPython.core.display.HTML object>"
      ]
     },
     "metadata": {},
     "output_type": "display_data"
    },
    {
     "data": {
      "text/html": [
       "Find logs at: <code>.\\wandb\\run-20220415_202848-2o46q9km\\logs</code>"
      ],
      "text/plain": [
       "<IPython.core.display.HTML object>"
      ]
     },
     "metadata": {},
     "output_type": "display_data"
    }
   ],
   "source": [
    "# full_metrics = production_trainer(\"LGBMClassifier\")"
   ]
  },
  {
   "cell_type": "markdown",
   "id": "8fdfc435",
   "metadata": {},
   "source": [
    "## Tuning on featurecross"
   ]
  },
  {
   "cell_type": "code",
   "execution_count": 20,
   "id": "5c3f5e28",
   "metadata": {},
   "outputs": [
    {
     "name": "stderr",
     "output_type": "stream",
     "text": [
      "\u001b[32m[I 2022-04-15 21:43:22,178]\u001b[0m A new study created in memory with name: no-name-60c2a00d-cf3b-40e6-80ea-6b6880a7f5a5\u001b[0m\n"
     ]
    },
    {
     "name": "stdout",
     "output_type": "stream",
     "text": [
      "\n",
      "Performing training on model LGBMClassifier\n"
     ]
    },
    {
     "data": {
      "text/html": [
       "wandb version 0.12.14 is available!  To upgrade, please run:\n",
       " $ pip install wandb --upgrade"
      ],
      "text/plain": [
       "<IPython.core.display.HTML object>"
      ]
     },
     "metadata": {},
     "output_type": "display_data"
    },
    {
     "data": {
      "text/html": [
       "Tracking run with wandb version 0.12.12"
      ],
      "text/plain": [
       "<IPython.core.display.HTML object>"
      ]
     },
     "metadata": {},
     "output_type": "display_data"
    },
    {
     "data": {
      "text/html": [
       "Run data is saved locally in <code>C:\\Users\\teozz\\OneDrive\\Desktop\\vscode_workspace\\projects\\credit_card_fraud_detection\\wandb\\run-20220415_214322-11e1bps7</code>"
      ],
      "text/plain": [
       "<IPython.core.display.HTML object>"
      ]
     },
     "metadata": {},
     "output_type": "display_data"
    },
    {
     "data": {
      "text/html": [
       "Syncing run <strong><a href=\"https://wandb.ai/zuozhe/fraud_detection/runs/11e1bps7\" target=\"_blank\">hopeful-dawn-256</a></strong> to <a href=\"https://wandb.ai/zuozhe/fraud_detection\" target=\"_blank\">Weights & Biases</a> (<a href=\"https://wandb.me/run\" target=\"_blank\">docs</a>)<br/>"
      ],
      "text/plain": [
       "<IPython.core.display.HTML object>"
      ]
     },
     "metadata": {},
     "output_type": "display_data"
    },
    {
     "name": "stderr",
     "output_type": "stream",
     "text": [
      "\u001b[32m[I 2022-04-15 22:31:36,430]\u001b[0m Trial 0 finished with value: 0.7488545938473739 and parameters: {'n_estimators': 2236, 'learning_rate': 0.0013953974516247205, 'min_split_gain': 0.045091668174920496, 'objective': 'binary', 'metric': 'average_precision', 'is_unbalance': True}. Best is trial 0 with value: 0.7488545938473739.\u001b[0m\n"
     ]
    },
    {
     "data": {
      "text/html": [
       "Finishing last run (ID:11e1bps7) before initializing another..."
      ],
      "text/plain": [
       "<IPython.core.display.HTML object>"
      ]
     },
     "metadata": {},
     "output_type": "display_data"
    },
    {
     "name": "stdout",
     "output_type": "stream",
     "text": [
      "\n"
     ]
    },
    {
     "data": {
      "text/html": [
       "Waiting for W&B process to finish... <strong style=\"color:green\">(success).</strong>"
      ],
      "text/plain": [
       "<IPython.core.display.HTML object>"
      ]
     },
     "metadata": {},
     "output_type": "display_data"
    },
    {
     "data": {
      "text/html": [
       "<style>\n",
       "    table.wandb td:nth-child(1) { padding: 0 10px; text-align: right }\n",
       "    .wandb-row { display: flex; flex-direction: row; flex-wrap: wrap; width: 100% }\n",
       "    .wandb-col { display: flex; flex-direction: column; flex-basis: 100%; flex: 1; padding: 10px; }\n",
       "    </style>\n",
       "<div class=\"wandb-row\"><div class=\"wandb-col\"><h3>Run history:</h3><br/><table class=\"wandb\"><tr><td>fit_time</td><td>▁</td></tr><tr><td>is_unbalance</td><td>▁</td></tr><tr><td>learning_rate</td><td>▁</td></tr><tr><td>min_split_gain</td><td>▁</td></tr><tr><td>n_estimators</td><td>▁</td></tr><tr><td>on_golden_test</td><td>▁</td></tr><tr><td>score_time</td><td>▁</td></tr><tr><td>test_accuracy</td><td>▁</td></tr><tr><td>test_average_precision</td><td>▁</td></tr><tr><td>test_f1</td><td>▁</td></tr><tr><td>test_precision</td><td>▁</td></tr><tr><td>test_recall</td><td>▁</td></tr><tr><td>test_roc_auc</td><td>▁</td></tr><tr><td>train_accuracy</td><td>▁</td></tr><tr><td>train_average_precision</td><td>▁</td></tr><tr><td>train_f1</td><td>▁</td></tr><tr><td>train_precision</td><td>▁</td></tr><tr><td>train_recall</td><td>▁</td></tr><tr><td>train_roc_auc</td><td>▁</td></tr></table><br/></div><div class=\"wandb-col\"><h3>Run summary:</h3><br/><table class=\"wandb\"><tr><td>fit_time</td><td>1396.93633</td></tr><tr><td>is_unbalance</td><td>True</td></tr><tr><td>learning_rate</td><td>0.0014</td></tr><tr><td>metric</td><td>average_precision</td></tr><tr><td>min_split_gain</td><td>0.04509</td></tr><tr><td>model_name</td><td>LGBMClassifier</td></tr><tr><td>n_estimators</td><td>2236</td></tr><tr><td>objective</td><td>binary</td></tr><tr><td>on_golden_test</td><td>False</td></tr><tr><td>score_time</td><td>64.77312</td></tr><tr><td>test_accuracy</td><td>0.99937</td></tr><tr><td>test_average_precision</td><td>0.74885</td></tr><tr><td>test_f1</td><td>0.81393</td></tr><tr><td>test_precision</td><td>0.82752</td></tr><tr><td>test_recall</td><td>0.80158</td></tr><tr><td>test_roc_auc</td><td>0.9745</td></tr><tr><td>train_accuracy</td><td>0.99975</td></tr><tr><td>train_average_precision</td><td>0.90493</td></tr><tr><td>train_f1</td><td>0.93284</td></tr><tr><td>train_precision</td><td>0.87422</td></tr><tr><td>train_recall</td><td>1.0</td></tr><tr><td>train_roc_auc</td><td>0.99991</td></tr></table><br/></div></div>"
      ],
      "text/plain": [
       "<IPython.core.display.HTML object>"
      ]
     },
     "metadata": {},
     "output_type": "display_data"
    },
    {
     "data": {
      "text/html": [
       "Synced <strong style=\"color:#cdcd00\">hopeful-dawn-256</strong>: <a href=\"https://wandb.ai/zuozhe/fraud_detection/runs/11e1bps7\" target=\"_blank\">https://wandb.ai/zuozhe/fraud_detection/runs/11e1bps7</a><br/>Synced 5 W&B file(s), 0 media file(s), 0 artifact file(s) and 0 other file(s)"
      ],
      "text/plain": [
       "<IPython.core.display.HTML object>"
      ]
     },
     "metadata": {},
     "output_type": "display_data"
    },
    {
     "data": {
      "text/html": [
       "Find logs at: <code>.\\wandb\\run-20220415_214322-11e1bps7\\logs</code>"
      ],
      "text/plain": [
       "<IPython.core.display.HTML object>"
      ]
     },
     "metadata": {},
     "output_type": "display_data"
    },
    {
     "data": {
      "text/html": [
       "Successfully finished last run (ID:11e1bps7). Initializing new run:<br/>"
      ],
      "text/plain": [
       "<IPython.core.display.HTML object>"
      ]
     },
     "metadata": {},
     "output_type": "display_data"
    },
    {
     "data": {
      "text/html": [
       "wandb version 0.12.14 is available!  To upgrade, please run:\n",
       " $ pip install wandb --upgrade"
      ],
      "text/plain": [
       "<IPython.core.display.HTML object>"
      ]
     },
     "metadata": {},
     "output_type": "display_data"
    },
    {
     "data": {
      "text/html": [
       "Tracking run with wandb version 0.12.12"
      ],
      "text/plain": [
       "<IPython.core.display.HTML object>"
      ]
     },
     "metadata": {},
     "output_type": "display_data"
    },
    {
     "data": {
      "text/html": [
       "Run data is saved locally in <code>C:\\Users\\teozz\\OneDrive\\Desktop\\vscode_workspace\\projects\\credit_card_fraud_detection\\wandb\\run-20220415_223136-3glbi4tf</code>"
      ],
      "text/plain": [
       "<IPython.core.display.HTML object>"
      ]
     },
     "metadata": {},
     "output_type": "display_data"
    },
    {
     "data": {
      "text/html": [
       "Syncing run <strong><a href=\"https://wandb.ai/zuozhe/fraud_detection/runs/3glbi4tf\" target=\"_blank\">firm-plant-257</a></strong> to <a href=\"https://wandb.ai/zuozhe/fraud_detection\" target=\"_blank\">Weights & Biases</a> (<a href=\"https://wandb.me/run\" target=\"_blank\">docs</a>)<br/>"
      ],
      "text/plain": [
       "<IPython.core.display.HTML object>"
      ]
     },
     "metadata": {},
     "output_type": "display_data"
    },
    {
     "name": "stderr",
     "output_type": "stream",
     "text": [
      "\u001b[32m[I 2022-04-15 22:47:51,549]\u001b[0m Trial 1 finished with value: 0.8356059929608044 and parameters: {'n_estimators': 1565, 'learning_rate': 0.01958874631174705, 'min_split_gain': 0.036061448726049605, 'objective': 'binary', 'metric': 'average_precision', 'is_unbalance': True}. Best is trial 1 with value: 0.8356059929608044.\u001b[0m\n"
     ]
    },
    {
     "data": {
      "text/html": [
       "Finishing last run (ID:3glbi4tf) before initializing another..."
      ],
      "text/plain": [
       "<IPython.core.display.HTML object>"
      ]
     },
     "metadata": {},
     "output_type": "display_data"
    },
    {
     "name": "stdout",
     "output_type": "stream",
     "text": [
      "\n"
     ]
    },
    {
     "data": {
      "text/html": [
       "Waiting for W&B process to finish... <strong style=\"color:green\">(success).</strong>"
      ],
      "text/plain": [
       "<IPython.core.display.HTML object>"
      ]
     },
     "metadata": {},
     "output_type": "display_data"
    },
    {
     "data": {
      "text/html": [
       "<style>\n",
       "    table.wandb td:nth-child(1) { padding: 0 10px; text-align: right }\n",
       "    .wandb-row { display: flex; flex-direction: row; flex-wrap: wrap; width: 100% }\n",
       "    .wandb-col { display: flex; flex-direction: column; flex-basis: 100%; flex: 1; padding: 10px; }\n",
       "    </style>\n",
       "<div class=\"wandb-row\"><div class=\"wandb-col\"><h3>Run history:</h3><br/><table class=\"wandb\"><tr><td>fit_time</td><td>▁</td></tr><tr><td>is_unbalance</td><td>▁</td></tr><tr><td>learning_rate</td><td>▁</td></tr><tr><td>min_split_gain</td><td>▁</td></tr><tr><td>n_estimators</td><td>▁</td></tr><tr><td>on_golden_test</td><td>▁</td></tr><tr><td>score_time</td><td>▁</td></tr><tr><td>test_accuracy</td><td>▁</td></tr><tr><td>test_average_precision</td><td>▁</td></tr><tr><td>test_f1</td><td>▁</td></tr><tr><td>test_precision</td><td>▁</td></tr><tr><td>test_recall</td><td>▁</td></tr><tr><td>test_roc_auc</td><td>▁</td></tr><tr><td>train_accuracy</td><td>▁</td></tr><tr><td>train_average_precision</td><td>▁</td></tr><tr><td>train_f1</td><td>▁</td></tr><tr><td>train_precision</td><td>▁</td></tr><tr><td>train_recall</td><td>▁</td></tr><tr><td>train_roc_auc</td><td>▁</td></tr></table><br/></div><div class=\"wandb-col\"><h3>Run summary:</h3><br/><table class=\"wandb\"><tr><td>fit_time</td><td>517.1057</td></tr><tr><td>is_unbalance</td><td>True</td></tr><tr><td>learning_rate</td><td>0.01959</td></tr><tr><td>metric</td><td>average_precision</td></tr><tr><td>min_split_gain</td><td>0.03606</td></tr><tr><td>model_name</td><td>LGBMClassifier</td></tr><tr><td>n_estimators</td><td>1565</td></tr><tr><td>objective</td><td>binary</td></tr><tr><td>on_golden_test</td><td>False</td></tr><tr><td>score_time</td><td>8.70983</td></tr><tr><td>test_accuracy</td><td>0.99955</td></tr><tr><td>test_average_precision</td><td>0.83561</td></tr><tr><td>test_f1</td><td>0.85852</td></tr><tr><td>test_precision</td><td>0.92672</td></tr><tr><td>test_recall</td><td>0.80164</td></tr><tr><td>test_roc_auc</td><td>0.94602</td></tr><tr><td>train_accuracy</td><td>1.0</td></tr><tr><td>train_average_precision</td><td>1.0</td></tr><tr><td>train_f1</td><td>1.0</td></tr><tr><td>train_precision</td><td>1.0</td></tr><tr><td>train_recall</td><td>1.0</td></tr><tr><td>train_roc_auc</td><td>1.0</td></tr></table><br/></div></div>"
      ],
      "text/plain": [
       "<IPython.core.display.HTML object>"
      ]
     },
     "metadata": {},
     "output_type": "display_data"
    },
    {
     "data": {
      "text/html": [
       "Synced <strong style=\"color:#cdcd00\">firm-plant-257</strong>: <a href=\"https://wandb.ai/zuozhe/fraud_detection/runs/3glbi4tf\" target=\"_blank\">https://wandb.ai/zuozhe/fraud_detection/runs/3glbi4tf</a><br/>Synced 5 W&B file(s), 0 media file(s), 0 artifact file(s) and 0 other file(s)"
      ],
      "text/plain": [
       "<IPython.core.display.HTML object>"
      ]
     },
     "metadata": {},
     "output_type": "display_data"
    },
    {
     "data": {
      "text/html": [
       "Find logs at: <code>.\\wandb\\run-20220415_223136-3glbi4tf\\logs</code>"
      ],
      "text/plain": [
       "<IPython.core.display.HTML object>"
      ]
     },
     "metadata": {},
     "output_type": "display_data"
    },
    {
     "data": {
      "text/html": [
       "Successfully finished last run (ID:3glbi4tf). Initializing new run:<br/>"
      ],
      "text/plain": [
       "<IPython.core.display.HTML object>"
      ]
     },
     "metadata": {},
     "output_type": "display_data"
    },
    {
     "data": {
      "text/html": [
       "wandb version 0.12.14 is available!  To upgrade, please run:\n",
       " $ pip install wandb --upgrade"
      ],
      "text/plain": [
       "<IPython.core.display.HTML object>"
      ]
     },
     "metadata": {},
     "output_type": "display_data"
    },
    {
     "data": {
      "text/html": [
       "Tracking run with wandb version 0.12.12"
      ],
      "text/plain": [
       "<IPython.core.display.HTML object>"
      ]
     },
     "metadata": {},
     "output_type": "display_data"
    },
    {
     "data": {
      "text/html": [
       "Run data is saved locally in <code>C:\\Users\\teozz\\OneDrive\\Desktop\\vscode_workspace\\projects\\credit_card_fraud_detection\\wandb\\run-20220415_224751-1ezv8m6d</code>"
      ],
      "text/plain": [
       "<IPython.core.display.HTML object>"
      ]
     },
     "metadata": {},
     "output_type": "display_data"
    },
    {
     "data": {
      "text/html": [
       "Syncing run <strong><a href=\"https://wandb.ai/zuozhe/fraud_detection/runs/1ezv8m6d\" target=\"_blank\">hardy-frog-258</a></strong> to <a href=\"https://wandb.ai/zuozhe/fraud_detection\" target=\"_blank\">Weights & Biases</a> (<a href=\"https://wandb.me/run\" target=\"_blank\">docs</a>)<br/>"
      ],
      "text/plain": [
       "<IPython.core.display.HTML object>"
      ]
     },
     "metadata": {},
     "output_type": "display_data"
    },
    {
     "name": "stderr",
     "output_type": "stream",
     "text": [
      "\u001b[32m[I 2022-04-15 23:18:12,686]\u001b[0m Trial 2 finished with value: 0.840964795799802 and parameters: {'n_estimators': 1420, 'learning_rate': 0.0058623130938176525, 'min_split_gain': 0.05031585339912516, 'objective': 'binary', 'metric': 'average_precision', 'is_unbalance': True}. Best is trial 2 with value: 0.840964795799802.\u001b[0m\n"
     ]
    },
    {
     "data": {
      "text/html": [
       "Finishing last run (ID:1ezv8m6d) before initializing another..."
      ],
      "text/plain": [
       "<IPython.core.display.HTML object>"
      ]
     },
     "metadata": {},
     "output_type": "display_data"
    },
    {
     "name": "stdout",
     "output_type": "stream",
     "text": [
      "\n"
     ]
    },
    {
     "data": {
      "text/html": [
       "Waiting for W&B process to finish... <strong style=\"color:green\">(success).</strong>"
      ],
      "text/plain": [
       "<IPython.core.display.HTML object>"
      ]
     },
     "metadata": {},
     "output_type": "display_data"
    },
    {
     "data": {
      "text/html": [
       "<style>\n",
       "    table.wandb td:nth-child(1) { padding: 0 10px; text-align: right }\n",
       "    .wandb-row { display: flex; flex-direction: row; flex-wrap: wrap; width: 100% }\n",
       "    .wandb-col { display: flex; flex-direction: column; flex-basis: 100%; flex: 1; padding: 10px; }\n",
       "    </style>\n",
       "<div class=\"wandb-row\"><div class=\"wandb-col\"><h3>Run history:</h3><br/><table class=\"wandb\"><tr><td>fit_time</td><td>▁</td></tr><tr><td>is_unbalance</td><td>▁</td></tr><tr><td>learning_rate</td><td>▁</td></tr><tr><td>min_split_gain</td><td>▁</td></tr><tr><td>n_estimators</td><td>▁</td></tr><tr><td>on_golden_test</td><td>▁</td></tr><tr><td>score_time</td><td>▁</td></tr><tr><td>test_accuracy</td><td>▁</td></tr><tr><td>test_average_precision</td><td>▁</td></tr><tr><td>test_f1</td><td>▁</td></tr><tr><td>test_precision</td><td>▁</td></tr><tr><td>test_recall</td><td>▁</td></tr><tr><td>test_roc_auc</td><td>▁</td></tr><tr><td>train_accuracy</td><td>▁</td></tr><tr><td>train_average_precision</td><td>▁</td></tr><tr><td>train_f1</td><td>▁</td></tr><tr><td>train_precision</td><td>▁</td></tr><tr><td>train_recall</td><td>▁</td></tr><tr><td>train_roc_auc</td><td>▁</td></tr></table><br/></div><div class=\"wandb-col\"><h3>Run summary:</h3><br/><table class=\"wandb\"><tr><td>fit_time</td><td>886.9489</td></tr><tr><td>is_unbalance</td><td>True</td></tr><tr><td>learning_rate</td><td>0.00586</td></tr><tr><td>metric</td><td>average_precision</td></tr><tr><td>min_split_gain</td><td>0.05032</td></tr><tr><td>model_name</td><td>LGBMClassifier</td></tr><tr><td>n_estimators</td><td>1420</td></tr><tr><td>objective</td><td>binary</td></tr><tr><td>on_golden_test</td><td>False</td></tr><tr><td>score_time</td><td>41.55427</td></tr><tr><td>test_accuracy</td><td>0.99951</td></tr><tr><td>test_average_precision</td><td>0.84096</td></tr><tr><td>test_f1</td><td>0.84765</td></tr><tr><td>test_precision</td><td>0.91058</td></tr><tr><td>test_recall</td><td>0.79443</td></tr><tr><td>test_roc_auc</td><td>0.96971</td></tr><tr><td>train_accuracy</td><td>0.99999</td></tr><tr><td>train_average_precision</td><td>1.0</td></tr><tr><td>train_f1</td><td>0.99672</td></tr><tr><td>train_precision</td><td>0.99347</td></tr><tr><td>train_recall</td><td>1.0</td></tr><tr><td>train_roc_auc</td><td>1.0</td></tr></table><br/></div></div>"
      ],
      "text/plain": [
       "<IPython.core.display.HTML object>"
      ]
     },
     "metadata": {},
     "output_type": "display_data"
    },
    {
     "data": {
      "text/html": [
       "Synced <strong style=\"color:#cdcd00\">hardy-frog-258</strong>: <a href=\"https://wandb.ai/zuozhe/fraud_detection/runs/1ezv8m6d\" target=\"_blank\">https://wandb.ai/zuozhe/fraud_detection/runs/1ezv8m6d</a><br/>Synced 5 W&B file(s), 0 media file(s), 0 artifact file(s) and 0 other file(s)"
      ],
      "text/plain": [
       "<IPython.core.display.HTML object>"
      ]
     },
     "metadata": {},
     "output_type": "display_data"
    },
    {
     "data": {
      "text/html": [
       "Find logs at: <code>.\\wandb\\run-20220415_224751-1ezv8m6d\\logs</code>"
      ],
      "text/plain": [
       "<IPython.core.display.HTML object>"
      ]
     },
     "metadata": {},
     "output_type": "display_data"
    },
    {
     "data": {
      "text/html": [
       "Successfully finished last run (ID:1ezv8m6d). Initializing new run:<br/>"
      ],
      "text/plain": [
       "<IPython.core.display.HTML object>"
      ]
     },
     "metadata": {},
     "output_type": "display_data"
    },
    {
     "data": {
      "text/html": [
       "wandb version 0.12.14 is available!  To upgrade, please run:\n",
       " $ pip install wandb --upgrade"
      ],
      "text/plain": [
       "<IPython.core.display.HTML object>"
      ]
     },
     "metadata": {},
     "output_type": "display_data"
    },
    {
     "data": {
      "text/html": [
       "Tracking run with wandb version 0.12.12"
      ],
      "text/plain": [
       "<IPython.core.display.HTML object>"
      ]
     },
     "metadata": {},
     "output_type": "display_data"
    },
    {
     "data": {
      "text/html": [
       "Run data is saved locally in <code>C:\\Users\\teozz\\OneDrive\\Desktop\\vscode_workspace\\projects\\credit_card_fraud_detection\\wandb\\run-20220415_231812-3kg1pr1i</code>"
      ],
      "text/plain": [
       "<IPython.core.display.HTML object>"
      ]
     },
     "metadata": {},
     "output_type": "display_data"
    },
    {
     "data": {
      "text/html": [
       "Syncing run <strong><a href=\"https://wandb.ai/zuozhe/fraud_detection/runs/3kg1pr1i\" target=\"_blank\">resilient-universe-259</a></strong> to <a href=\"https://wandb.ai/zuozhe/fraud_detection\" target=\"_blank\">Weights & Biases</a> (<a href=\"https://wandb.me/run\" target=\"_blank\">docs</a>)<br/>"
      ],
      "text/plain": [
       "<IPython.core.display.HTML object>"
      ]
     },
     "metadata": {},
     "output_type": "display_data"
    },
    {
     "name": "stderr",
     "output_type": "stream",
     "text": [
      "\u001b[32m[I 2022-04-15 23:50:15,131]\u001b[0m Trial 3 finished with value: 0.8288770586737282 and parameters: {'n_estimators': 1494, 'learning_rate': 0.004463630726117648, 'min_split_gain': 0.06551721645524333, 'objective': 'binary', 'metric': 'average_precision', 'is_unbalance': True}. Best is trial 2 with value: 0.840964795799802.\u001b[0m\n"
     ]
    },
    {
     "data": {
      "text/html": [
       "Finishing last run (ID:3kg1pr1i) before initializing another..."
      ],
      "text/plain": [
       "<IPython.core.display.HTML object>"
      ]
     },
     "metadata": {},
     "output_type": "display_data"
    },
    {
     "name": "stdout",
     "output_type": "stream",
     "text": [
      "\n"
     ]
    },
    {
     "data": {
      "text/html": [
       "Waiting for W&B process to finish... <strong style=\"color:green\">(success).</strong>"
      ],
      "text/plain": [
       "<IPython.core.display.HTML object>"
      ]
     },
     "metadata": {},
     "output_type": "display_data"
    },
    {
     "data": {
      "text/html": [
       "<style>\n",
       "    table.wandb td:nth-child(1) { padding: 0 10px; text-align: right }\n",
       "    .wandb-row { display: flex; flex-direction: row; flex-wrap: wrap; width: 100% }\n",
       "    .wandb-col { display: flex; flex-direction: column; flex-basis: 100%; flex: 1; padding: 10px; }\n",
       "    </style>\n",
       "<div class=\"wandb-row\"><div class=\"wandb-col\"><h3>Run history:</h3><br/><table class=\"wandb\"><tr><td>fit_time</td><td>▁</td></tr><tr><td>is_unbalance</td><td>▁</td></tr><tr><td>learning_rate</td><td>▁</td></tr><tr><td>min_split_gain</td><td>▁</td></tr><tr><td>n_estimators</td><td>▁</td></tr><tr><td>on_golden_test</td><td>▁</td></tr><tr><td>score_time</td><td>▁</td></tr><tr><td>test_accuracy</td><td>▁</td></tr><tr><td>test_average_precision</td><td>▁</td></tr><tr><td>test_f1</td><td>▁</td></tr><tr><td>test_precision</td><td>▁</td></tr><tr><td>test_recall</td><td>▁</td></tr><tr><td>test_roc_auc</td><td>▁</td></tr><tr><td>train_accuracy</td><td>▁</td></tr><tr><td>train_average_precision</td><td>▁</td></tr><tr><td>train_f1</td><td>▁</td></tr><tr><td>train_precision</td><td>▁</td></tr><tr><td>train_recall</td><td>▁</td></tr><tr><td>train_roc_auc</td><td>▁</td></tr></table><br/></div><div class=\"wandb-col\"><h3>Run summary:</h3><br/><table class=\"wandb\"><tr><td>fit_time</td><td>932.46684</td></tr><tr><td>is_unbalance</td><td>True</td></tr><tr><td>learning_rate</td><td>0.00446</td></tr><tr><td>metric</td><td>average_precision</td></tr><tr><td>min_split_gain</td><td>0.06552</td></tr><tr><td>model_name</td><td>LGBMClassifier</td></tr><tr><td>n_estimators</td><td>1494</td></tr><tr><td>objective</td><td>binary</td></tr><tr><td>on_golden_test</td><td>False</td></tr><tr><td>score_time</td><td>42.28323</td></tr><tr><td>test_accuracy</td><td>0.99947</td></tr><tr><td>test_average_precision</td><td>0.82888</td></tr><tr><td>test_f1</td><td>0.8373</td></tr><tr><td>test_precision</td><td>0.88449</td></tr><tr><td>test_recall</td><td>0.79679</td></tr><tr><td>test_roc_auc</td><td>0.9737</td></tr><tr><td>train_accuracy</td><td>0.99994</td></tr><tr><td>train_average_precision</td><td>0.99444</td></tr><tr><td>train_f1</td><td>0.9824</td></tr><tr><td>train_precision</td><td>0.96545</td></tr><tr><td>train_recall</td><td>1.0</td></tr><tr><td>train_roc_auc</td><td>0.99999</td></tr></table><br/></div></div>"
      ],
      "text/plain": [
       "<IPython.core.display.HTML object>"
      ]
     },
     "metadata": {},
     "output_type": "display_data"
    },
    {
     "data": {
      "text/html": [
       "Synced <strong style=\"color:#cdcd00\">resilient-universe-259</strong>: <a href=\"https://wandb.ai/zuozhe/fraud_detection/runs/3kg1pr1i\" target=\"_blank\">https://wandb.ai/zuozhe/fraud_detection/runs/3kg1pr1i</a><br/>Synced 5 W&B file(s), 0 media file(s), 0 artifact file(s) and 0 other file(s)"
      ],
      "text/plain": [
       "<IPython.core.display.HTML object>"
      ]
     },
     "metadata": {},
     "output_type": "display_data"
    },
    {
     "data": {
      "text/html": [
       "Find logs at: <code>.\\wandb\\run-20220415_231812-3kg1pr1i\\logs</code>"
      ],
      "text/plain": [
       "<IPython.core.display.HTML object>"
      ]
     },
     "metadata": {},
     "output_type": "display_data"
    },
    {
     "data": {
      "text/html": [
       "Successfully finished last run (ID:3kg1pr1i). Initializing new run:<br/>"
      ],
      "text/plain": [
       "<IPython.core.display.HTML object>"
      ]
     },
     "metadata": {},
     "output_type": "display_data"
    },
    {
     "data": {
      "text/html": [
       "wandb version 0.12.14 is available!  To upgrade, please run:\n",
       " $ pip install wandb --upgrade"
      ],
      "text/plain": [
       "<IPython.core.display.HTML object>"
      ]
     },
     "metadata": {},
     "output_type": "display_data"
    },
    {
     "data": {
      "text/html": [
       "Tracking run with wandb version 0.12.12"
      ],
      "text/plain": [
       "<IPython.core.display.HTML object>"
      ]
     },
     "metadata": {},
     "output_type": "display_data"
    },
    {
     "data": {
      "text/html": [
       "Run data is saved locally in <code>C:\\Users\\teozz\\OneDrive\\Desktop\\vscode_workspace\\projects\\credit_card_fraud_detection\\wandb\\run-20220415_235015-3ufrzaei</code>"
      ],
      "text/plain": [
       "<IPython.core.display.HTML object>"
      ]
     },
     "metadata": {},
     "output_type": "display_data"
    },
    {
     "data": {
      "text/html": [
       "Syncing run <strong><a href=\"https://wandb.ai/zuozhe/fraud_detection/runs/3ufrzaei\" target=\"_blank\">ethereal-totem-260</a></strong> to <a href=\"https://wandb.ai/zuozhe/fraud_detection\" target=\"_blank\">Weights & Biases</a> (<a href=\"https://wandb.me/run\" target=\"_blank\">docs</a>)<br/>"
      ],
      "text/plain": [
       "<IPython.core.display.HTML object>"
      ]
     },
     "metadata": {},
     "output_type": "display_data"
    },
    {
     "name": "stderr",
     "output_type": "stream",
     "text": [
      "\u001b[32m[I 2022-04-16 00:26:39,559]\u001b[0m Trial 4 finished with value: 0.8465887388314112 and parameters: {'n_estimators': 1691, 'learning_rate': 0.004989915450461666, 'min_split_gain': 0.02028276160762493, 'objective': 'binary', 'metric': 'average_precision', 'is_unbalance': True}. Best is trial 4 with value: 0.8465887388314112.\u001b[0m\n"
     ]
    },
    {
     "data": {
      "text/html": [
       "Finishing last run (ID:3ufrzaei) before initializing another..."
      ],
      "text/plain": [
       "<IPython.core.display.HTML object>"
      ]
     },
     "metadata": {},
     "output_type": "display_data"
    },
    {
     "name": "stdout",
     "output_type": "stream",
     "text": [
      "\n"
     ]
    },
    {
     "data": {
      "text/html": [
       "Waiting for W&B process to finish... <strong style=\"color:green\">(success).</strong>"
      ],
      "text/plain": [
       "<IPython.core.display.HTML object>"
      ]
     },
     "metadata": {},
     "output_type": "display_data"
    },
    {
     "data": {
      "text/html": [
       "<style>\n",
       "    table.wandb td:nth-child(1) { padding: 0 10px; text-align: right }\n",
       "    .wandb-row { display: flex; flex-direction: row; flex-wrap: wrap; width: 100% }\n",
       "    .wandb-col { display: flex; flex-direction: column; flex-basis: 100%; flex: 1; padding: 10px; }\n",
       "    </style>\n",
       "<div class=\"wandb-row\"><div class=\"wandb-col\"><h3>Run history:</h3><br/><table class=\"wandb\"><tr><td>fit_time</td><td>▁</td></tr><tr><td>is_unbalance</td><td>▁</td></tr><tr><td>learning_rate</td><td>▁</td></tr><tr><td>min_split_gain</td><td>▁</td></tr><tr><td>n_estimators</td><td>▁</td></tr><tr><td>on_golden_test</td><td>▁</td></tr><tr><td>score_time</td><td>▁</td></tr><tr><td>test_accuracy</td><td>▁</td></tr><tr><td>test_average_precision</td><td>▁</td></tr><tr><td>test_f1</td><td>▁</td></tr><tr><td>test_precision</td><td>▁</td></tr><tr><td>test_recall</td><td>▁</td></tr><tr><td>test_roc_auc</td><td>▁</td></tr><tr><td>train_accuracy</td><td>▁</td></tr><tr><td>train_average_precision</td><td>▁</td></tr><tr><td>train_f1</td><td>▁</td></tr><tr><td>train_precision</td><td>▁</td></tr><tr><td>train_recall</td><td>▁</td></tr><tr><td>train_roc_auc</td><td>▁</td></tr></table><br/></div><div class=\"wandb-col\"><h3>Run summary:</h3><br/><table class=\"wandb\"><tr><td>fit_time</td><td>1054.39761</td></tr><tr><td>is_unbalance</td><td>True</td></tr><tr><td>learning_rate</td><td>0.00499</td></tr><tr><td>metric</td><td>average_precision</td></tr><tr><td>min_split_gain</td><td>0.02028</td></tr><tr><td>model_name</td><td>LGBMClassifier</td></tr><tr><td>n_estimators</td><td>1691</td></tr><tr><td>objective</td><td>binary</td></tr><tr><td>on_golden_test</td><td>False</td></tr><tr><td>score_time</td><td>48.6692</td></tr><tr><td>test_accuracy</td><td>0.9995</td></tr><tr><td>test_average_precision</td><td>0.84659</td></tr><tr><td>test_f1</td><td>0.84394</td></tr><tr><td>test_precision</td><td>0.90511</td></tr><tr><td>test_recall</td><td>0.79203</td></tr><tr><td>test_roc_auc</td><td>0.97446</td></tr><tr><td>train_accuracy</td><td>0.99999</td></tr><tr><td>train_average_precision</td><td>1.0</td></tr><tr><td>train_f1</td><td>0.99702</td></tr><tr><td>train_precision</td><td>0.99406</td></tr><tr><td>train_recall</td><td>1.0</td></tr><tr><td>train_roc_auc</td><td>1.0</td></tr></table><br/></div></div>"
      ],
      "text/plain": [
       "<IPython.core.display.HTML object>"
      ]
     },
     "metadata": {},
     "output_type": "display_data"
    },
    {
     "data": {
      "text/html": [
       "Synced <strong style=\"color:#cdcd00\">ethereal-totem-260</strong>: <a href=\"https://wandb.ai/zuozhe/fraud_detection/runs/3ufrzaei\" target=\"_blank\">https://wandb.ai/zuozhe/fraud_detection/runs/3ufrzaei</a><br/>Synced 5 W&B file(s), 0 media file(s), 0 artifact file(s) and 0 other file(s)"
      ],
      "text/plain": [
       "<IPython.core.display.HTML object>"
      ]
     },
     "metadata": {},
     "output_type": "display_data"
    },
    {
     "data": {
      "text/html": [
       "Find logs at: <code>.\\wandb\\run-20220415_235015-3ufrzaei\\logs</code>"
      ],
      "text/plain": [
       "<IPython.core.display.HTML object>"
      ]
     },
     "metadata": {},
     "output_type": "display_data"
    },
    {
     "data": {
      "text/html": [
       "Successfully finished last run (ID:3ufrzaei). Initializing new run:<br/>"
      ],
      "text/plain": [
       "<IPython.core.display.HTML object>"
      ]
     },
     "metadata": {},
     "output_type": "display_data"
    },
    {
     "data": {
      "text/html": [
       "wandb version 0.12.14 is available!  To upgrade, please run:\n",
       " $ pip install wandb --upgrade"
      ],
      "text/plain": [
       "<IPython.core.display.HTML object>"
      ]
     },
     "metadata": {},
     "output_type": "display_data"
    },
    {
     "data": {
      "text/html": [
       "Tracking run with wandb version 0.12.12"
      ],
      "text/plain": [
       "<IPython.core.display.HTML object>"
      ]
     },
     "metadata": {},
     "output_type": "display_data"
    },
    {
     "data": {
      "text/html": [
       "Run data is saved locally in <code>C:\\Users\\teozz\\OneDrive\\Desktop\\vscode_workspace\\projects\\credit_card_fraud_detection\\wandb\\run-20220416_002639-hqnxux5d</code>"
      ],
      "text/plain": [
       "<IPython.core.display.HTML object>"
      ]
     },
     "metadata": {},
     "output_type": "display_data"
    },
    {
     "data": {
      "text/html": [
       "Syncing run <strong><a href=\"https://wandb.ai/zuozhe/fraud_detection/runs/hqnxux5d\" target=\"_blank\">copper-dust-261</a></strong> to <a href=\"https://wandb.ai/zuozhe/fraud_detection\" target=\"_blank\">Weights & Biases</a> (<a href=\"https://wandb.me/run\" target=\"_blank\">docs</a>)<br/>"
      ],
      "text/plain": [
       "<IPython.core.display.HTML object>"
      ]
     },
     "metadata": {},
     "output_type": "display_data"
    },
    {
     "name": "stderr",
     "output_type": "stream",
     "text": [
      "\u001b[32m[I 2022-04-16 00:44:48,509]\u001b[0m Trial 5 finished with value: 0.8331597414289007 and parameters: {'n_estimators': 1634, 'learning_rate': 0.017409817150110713, 'min_split_gain': 0.02898007358152141, 'objective': 'binary', 'metric': 'average_precision', 'is_unbalance': True}. Best is trial 4 with value: 0.8465887388314112.\u001b[0m\n"
     ]
    },
    {
     "data": {
      "text/html": [
       "Finishing last run (ID:hqnxux5d) before initializing another..."
      ],
      "text/plain": [
       "<IPython.core.display.HTML object>"
      ]
     },
     "metadata": {},
     "output_type": "display_data"
    },
    {
     "name": "stdout",
     "output_type": "stream",
     "text": [
      "\n"
     ]
    },
    {
     "data": {
      "text/html": [
       "Waiting for W&B process to finish... <strong style=\"color:green\">(success).</strong>"
      ],
      "text/plain": [
       "<IPython.core.display.HTML object>"
      ]
     },
     "metadata": {},
     "output_type": "display_data"
    },
    {
     "data": {
      "text/html": [
       "<style>\n",
       "    table.wandb td:nth-child(1) { padding: 0 10px; text-align: right }\n",
       "    .wandb-row { display: flex; flex-direction: row; flex-wrap: wrap; width: 100% }\n",
       "    .wandb-col { display: flex; flex-direction: column; flex-basis: 100%; flex: 1; padding: 10px; }\n",
       "    </style>\n",
       "<div class=\"wandb-row\"><div class=\"wandb-col\"><h3>Run history:</h3><br/><table class=\"wandb\"><tr><td>fit_time</td><td>▁</td></tr><tr><td>is_unbalance</td><td>▁</td></tr><tr><td>learning_rate</td><td>▁</td></tr><tr><td>min_split_gain</td><td>▁</td></tr><tr><td>n_estimators</td><td>▁</td></tr><tr><td>on_golden_test</td><td>▁</td></tr><tr><td>score_time</td><td>▁</td></tr><tr><td>test_accuracy</td><td>▁</td></tr><tr><td>test_average_precision</td><td>▁</td></tr><tr><td>test_f1</td><td>▁</td></tr><tr><td>test_precision</td><td>▁</td></tr><tr><td>test_recall</td><td>▁</td></tr><tr><td>test_roc_auc</td><td>▁</td></tr><tr><td>train_accuracy</td><td>▁</td></tr><tr><td>train_average_precision</td><td>▁</td></tr><tr><td>train_f1</td><td>▁</td></tr><tr><td>train_precision</td><td>▁</td></tr><tr><td>train_recall</td><td>▁</td></tr><tr><td>train_roc_auc</td><td>▁</td></tr></table><br/></div><div class=\"wandb-col\"><h3>Run summary:</h3><br/><table class=\"wandb\"><tr><td>fit_time</td><td>583.1214</td></tr><tr><td>is_unbalance</td><td>True</td></tr><tr><td>learning_rate</td><td>0.01741</td></tr><tr><td>metric</td><td>average_precision</td></tr><tr><td>min_split_gain</td><td>0.02898</td></tr><tr><td>model_name</td><td>LGBMClassifier</td></tr><tr><td>n_estimators</td><td>1634</td></tr><tr><td>objective</td><td>binary</td></tr><tr><td>on_golden_test</td><td>False</td></tr><tr><td>score_time</td><td>14.19694</td></tr><tr><td>test_accuracy</td><td>0.99954</td></tr><tr><td>test_average_precision</td><td>0.83316</td></tr><tr><td>test_f1</td><td>0.85538</td></tr><tr><td>test_precision</td><td>0.9263</td></tr><tr><td>test_recall</td><td>0.79684</td></tr><tr><td>test_roc_auc</td><td>0.94871</td></tr><tr><td>train_accuracy</td><td>1.0</td></tr><tr><td>train_average_precision</td><td>1.0</td></tr><tr><td>train_f1</td><td>1.0</td></tr><tr><td>train_precision</td><td>1.0</td></tr><tr><td>train_recall</td><td>1.0</td></tr><tr><td>train_roc_auc</td><td>1.0</td></tr></table><br/></div></div>"
      ],
      "text/plain": [
       "<IPython.core.display.HTML object>"
      ]
     },
     "metadata": {},
     "output_type": "display_data"
    },
    {
     "data": {
      "text/html": [
       "Synced <strong style=\"color:#cdcd00\">copper-dust-261</strong>: <a href=\"https://wandb.ai/zuozhe/fraud_detection/runs/hqnxux5d\" target=\"_blank\">https://wandb.ai/zuozhe/fraud_detection/runs/hqnxux5d</a><br/>Synced 5 W&B file(s), 0 media file(s), 0 artifact file(s) and 0 other file(s)"
      ],
      "text/plain": [
       "<IPython.core.display.HTML object>"
      ]
     },
     "metadata": {},
     "output_type": "display_data"
    },
    {
     "data": {
      "text/html": [
       "Find logs at: <code>.\\wandb\\run-20220416_002639-hqnxux5d\\logs</code>"
      ],
      "text/plain": [
       "<IPython.core.display.HTML object>"
      ]
     },
     "metadata": {},
     "output_type": "display_data"
    },
    {
     "data": {
      "text/html": [
       "Successfully finished last run (ID:hqnxux5d). Initializing new run:<br/>"
      ],
      "text/plain": [
       "<IPython.core.display.HTML object>"
      ]
     },
     "metadata": {},
     "output_type": "display_data"
    },
    {
     "data": {
      "text/html": [
       "wandb version 0.12.14 is available!  To upgrade, please run:\n",
       " $ pip install wandb --upgrade"
      ],
      "text/plain": [
       "<IPython.core.display.HTML object>"
      ]
     },
     "metadata": {},
     "output_type": "display_data"
    },
    {
     "data": {
      "text/html": [
       "Tracking run with wandb version 0.12.12"
      ],
      "text/plain": [
       "<IPython.core.display.HTML object>"
      ]
     },
     "metadata": {},
     "output_type": "display_data"
    },
    {
     "data": {
      "text/html": [
       "Run data is saved locally in <code>C:\\Users\\teozz\\OneDrive\\Desktop\\vscode_workspace\\projects\\credit_card_fraud_detection\\wandb\\run-20220416_004448-3va0dp9k</code>"
      ],
      "text/plain": [
       "<IPython.core.display.HTML object>"
      ]
     },
     "metadata": {},
     "output_type": "display_data"
    },
    {
     "data": {
      "text/html": [
       "Syncing run <strong><a href=\"https://wandb.ai/zuozhe/fraud_detection/runs/3va0dp9k\" target=\"_blank\">astral-dragon-262</a></strong> to <a href=\"https://wandb.ai/zuozhe/fraud_detection\" target=\"_blank\">Weights & Biases</a> (<a href=\"https://wandb.me/run\" target=\"_blank\">docs</a>)<br/>"
      ],
      "text/plain": [
       "<IPython.core.display.HTML object>"
      ]
     },
     "metadata": {},
     "output_type": "display_data"
    },
    {
     "name": "stderr",
     "output_type": "stream",
     "text": [
      "\u001b[32m[I 2022-04-16 01:04:33,781]\u001b[0m Trial 6 finished with value: 0.8343540765227283 and parameters: {'n_estimators': 2280, 'learning_rate': 0.020038028410029926, 'min_split_gain': 0.03234216719077987, 'objective': 'binary', 'metric': 'average_precision', 'is_unbalance': True}. Best is trial 4 with value: 0.8465887388314112.\u001b[0m\n"
     ]
    },
    {
     "data": {
      "text/html": [
       "Finishing last run (ID:3va0dp9k) before initializing another..."
      ],
      "text/plain": [
       "<IPython.core.display.HTML object>"
      ]
     },
     "metadata": {},
     "output_type": "display_data"
    },
    {
     "name": "stdout",
     "output_type": "stream",
     "text": [
      "\n"
     ]
    },
    {
     "data": {
      "text/html": [
       "Waiting for W&B process to finish... <strong style=\"color:green\">(success).</strong>"
      ],
      "text/plain": [
       "<IPython.core.display.HTML object>"
      ]
     },
     "metadata": {},
     "output_type": "display_data"
    },
    {
     "data": {
      "text/html": [
       "<style>\n",
       "    table.wandb td:nth-child(1) { padding: 0 10px; text-align: right }\n",
       "    .wandb-row { display: flex; flex-direction: row; flex-wrap: wrap; width: 100% }\n",
       "    .wandb-col { display: flex; flex-direction: column; flex-basis: 100%; flex: 1; padding: 10px; }\n",
       "    </style>\n",
       "<div class=\"wandb-row\"><div class=\"wandb-col\"><h3>Run history:</h3><br/><table class=\"wandb\"><tr><td>fit_time</td><td>▁</td></tr><tr><td>is_unbalance</td><td>▁</td></tr><tr><td>learning_rate</td><td>▁</td></tr><tr><td>min_split_gain</td><td>▁</td></tr><tr><td>n_estimators</td><td>▁</td></tr><tr><td>on_golden_test</td><td>▁</td></tr><tr><td>score_time</td><td>▁</td></tr><tr><td>test_accuracy</td><td>▁</td></tr><tr><td>test_average_precision</td><td>▁</td></tr><tr><td>test_f1</td><td>▁</td></tr><tr><td>test_precision</td><td>▁</td></tr><tr><td>test_recall</td><td>▁</td></tr><tr><td>test_roc_auc</td><td>▁</td></tr><tr><td>train_accuracy</td><td>▁</td></tr><tr><td>train_average_precision</td><td>▁</td></tr><tr><td>train_f1</td><td>▁</td></tr><tr><td>train_precision</td><td>▁</td></tr><tr><td>train_recall</td><td>▁</td></tr><tr><td>train_roc_auc</td><td>▁</td></tr></table><br/></div><div class=\"wandb-col\"><h3>Run summary:</h3><br/><table class=\"wandb\"><tr><td>fit_time</td><td>653.62021</td></tr><tr><td>is_unbalance</td><td>True</td></tr><tr><td>learning_rate</td><td>0.02004</td></tr><tr><td>metric</td><td>average_precision</td></tr><tr><td>min_split_gain</td><td>0.03234</td></tr><tr><td>model_name</td><td>LGBMClassifier</td></tr><tr><td>n_estimators</td><td>2280</td></tr><tr><td>objective</td><td>binary</td></tr><tr><td>on_golden_test</td><td>False</td></tr><tr><td>score_time</td><td>9.69691</td></tr><tr><td>test_accuracy</td><td>0.99953</td></tr><tr><td>test_average_precision</td><td>0.83435</td></tr><tr><td>test_f1</td><td>0.85413</td></tr><tr><td>test_precision</td><td>0.91642</td></tr><tr><td>test_recall</td><td>0.80161</td></tr><tr><td>test_roc_auc</td><td>0.94128</td></tr><tr><td>train_accuracy</td><td>1.0</td></tr><tr><td>train_average_precision</td><td>1.0</td></tr><tr><td>train_f1</td><td>1.0</td></tr><tr><td>train_precision</td><td>1.0</td></tr><tr><td>train_recall</td><td>1.0</td></tr><tr><td>train_roc_auc</td><td>1.0</td></tr></table><br/></div></div>"
      ],
      "text/plain": [
       "<IPython.core.display.HTML object>"
      ]
     },
     "metadata": {},
     "output_type": "display_data"
    },
    {
     "data": {
      "text/html": [
       "Synced <strong style=\"color:#cdcd00\">astral-dragon-262</strong>: <a href=\"https://wandb.ai/zuozhe/fraud_detection/runs/3va0dp9k\" target=\"_blank\">https://wandb.ai/zuozhe/fraud_detection/runs/3va0dp9k</a><br/>Synced 5 W&B file(s), 0 media file(s), 0 artifact file(s) and 0 other file(s)"
      ],
      "text/plain": [
       "<IPython.core.display.HTML object>"
      ]
     },
     "metadata": {},
     "output_type": "display_data"
    },
    {
     "data": {
      "text/html": [
       "Find logs at: <code>.\\wandb\\run-20220416_004448-3va0dp9k\\logs</code>"
      ],
      "text/plain": [
       "<IPython.core.display.HTML object>"
      ]
     },
     "metadata": {},
     "output_type": "display_data"
    },
    {
     "data": {
      "text/html": [
       "Successfully finished last run (ID:3va0dp9k). Initializing new run:<br/>"
      ],
      "text/plain": [
       "<IPython.core.display.HTML object>"
      ]
     },
     "metadata": {},
     "output_type": "display_data"
    },
    {
     "data": {
      "text/html": [
       "wandb version 0.12.14 is available!  To upgrade, please run:\n",
       " $ pip install wandb --upgrade"
      ],
      "text/plain": [
       "<IPython.core.display.HTML object>"
      ]
     },
     "metadata": {},
     "output_type": "display_data"
    },
    {
     "data": {
      "text/html": [
       "Tracking run with wandb version 0.12.12"
      ],
      "text/plain": [
       "<IPython.core.display.HTML object>"
      ]
     },
     "metadata": {},
     "output_type": "display_data"
    },
    {
     "data": {
      "text/html": [
       "Run data is saved locally in <code>C:\\Users\\teozz\\OneDrive\\Desktop\\vscode_workspace\\projects\\credit_card_fraud_detection\\wandb\\run-20220416_010433-3v5zhmwi</code>"
      ],
      "text/plain": [
       "<IPython.core.display.HTML object>"
      ]
     },
     "metadata": {},
     "output_type": "display_data"
    },
    {
     "data": {
      "text/html": [
       "Syncing run <strong><a href=\"https://wandb.ai/zuozhe/fraud_detection/runs/3v5zhmwi\" target=\"_blank\">copper-wind-263</a></strong> to <a href=\"https://wandb.ai/zuozhe/fraud_detection\" target=\"_blank\">Weights & Biases</a> (<a href=\"https://wandb.me/run\" target=\"_blank\">docs</a>)<br/>"
      ],
      "text/plain": [
       "<IPython.core.display.HTML object>"
      ]
     },
     "metadata": {},
     "output_type": "display_data"
    },
    {
     "name": "stderr",
     "output_type": "stream",
     "text": [
      "\u001b[32m[I 2022-04-16 01:25:03,349]\u001b[0m Trial 7 finished with value: 0.8306316686109548 and parameters: {'n_estimators': 2131, 'learning_rate': 0.016897085144722258, 'min_split_gain': 0.04757366599919995, 'objective': 'binary', 'metric': 'average_precision', 'is_unbalance': True}. Best is trial 4 with value: 0.8465887388314112.\u001b[0m\n"
     ]
    },
    {
     "data": {
      "text/html": [
       "Finishing last run (ID:3v5zhmwi) before initializing another..."
      ],
      "text/plain": [
       "<IPython.core.display.HTML object>"
      ]
     },
     "metadata": {},
     "output_type": "display_data"
    },
    {
     "name": "stdout",
     "output_type": "stream",
     "text": [
      "\n"
     ]
    },
    {
     "data": {
      "text/html": [
       "Waiting for W&B process to finish... <strong style=\"color:green\">(success).</strong>"
      ],
      "text/plain": [
       "<IPython.core.display.HTML object>"
      ]
     },
     "metadata": {},
     "output_type": "display_data"
    },
    {
     "data": {
      "text/html": [
       "<style>\n",
       "    table.wandb td:nth-child(1) { padding: 0 10px; text-align: right }\n",
       "    .wandb-row { display: flex; flex-direction: row; flex-wrap: wrap; width: 100% }\n",
       "    .wandb-col { display: flex; flex-direction: column; flex-basis: 100%; flex: 1; padding: 10px; }\n",
       "    </style>\n",
       "<div class=\"wandb-row\"><div class=\"wandb-col\"><h3>Run history:</h3><br/><table class=\"wandb\"><tr><td>fit_time</td><td>▁</td></tr><tr><td>is_unbalance</td><td>▁</td></tr><tr><td>learning_rate</td><td>▁</td></tr><tr><td>min_split_gain</td><td>▁</td></tr><tr><td>n_estimators</td><td>▁</td></tr><tr><td>on_golden_test</td><td>▁</td></tr><tr><td>score_time</td><td>▁</td></tr><tr><td>test_accuracy</td><td>▁</td></tr><tr><td>test_average_precision</td><td>▁</td></tr><tr><td>test_f1</td><td>▁</td></tr><tr><td>test_precision</td><td>▁</td></tr><tr><td>test_recall</td><td>▁</td></tr><tr><td>test_roc_auc</td><td>▁</td></tr><tr><td>train_accuracy</td><td>▁</td></tr><tr><td>train_average_precision</td><td>▁</td></tr><tr><td>train_f1</td><td>▁</td></tr><tr><td>train_precision</td><td>▁</td></tr><tr><td>train_recall</td><td>▁</td></tr><tr><td>train_roc_auc</td><td>▁</td></tr></table><br/></div><div class=\"wandb-col\"><h3>Run summary:</h3><br/><table class=\"wandb\"><tr><td>fit_time</td><td>666.31925</td></tr><tr><td>is_unbalance</td><td>True</td></tr><tr><td>learning_rate</td><td>0.0169</td></tr><tr><td>metric</td><td>average_precision</td></tr><tr><td>min_split_gain</td><td>0.04757</td></tr><tr><td>model_name</td><td>LGBMClassifier</td></tr><tr><td>n_estimators</td><td>2131</td></tr><tr><td>objective</td><td>binary</td></tr><tr><td>on_golden_test</td><td>False</td></tr><tr><td>score_time</td><td>12.86073</td></tr><tr><td>test_accuracy</td><td>0.99954</td></tr><tr><td>test_average_precision</td><td>0.83063</td></tr><tr><td>test_f1</td><td>0.85598</td></tr><tr><td>test_precision</td><td>0.92392</td></tr><tr><td>test_recall</td><td>0.79923</td></tr><tr><td>test_roc_auc</td><td>0.94725</td></tr><tr><td>train_accuracy</td><td>1.0</td></tr><tr><td>train_average_precision</td><td>1.0</td></tr><tr><td>train_f1</td><td>1.0</td></tr><tr><td>train_precision</td><td>1.0</td></tr><tr><td>train_recall</td><td>1.0</td></tr><tr><td>train_roc_auc</td><td>1.0</td></tr></table><br/></div></div>"
      ],
      "text/plain": [
       "<IPython.core.display.HTML object>"
      ]
     },
     "metadata": {},
     "output_type": "display_data"
    },
    {
     "data": {
      "text/html": [
       "Synced <strong style=\"color:#cdcd00\">copper-wind-263</strong>: <a href=\"https://wandb.ai/zuozhe/fraud_detection/runs/3v5zhmwi\" target=\"_blank\">https://wandb.ai/zuozhe/fraud_detection/runs/3v5zhmwi</a><br/>Synced 5 W&B file(s), 0 media file(s), 0 artifact file(s) and 0 other file(s)"
      ],
      "text/plain": [
       "<IPython.core.display.HTML object>"
      ]
     },
     "metadata": {},
     "output_type": "display_data"
    },
    {
     "data": {
      "text/html": [
       "Find logs at: <code>.\\wandb\\run-20220416_010433-3v5zhmwi\\logs</code>"
      ],
      "text/plain": [
       "<IPython.core.display.HTML object>"
      ]
     },
     "metadata": {},
     "output_type": "display_data"
    },
    {
     "data": {
      "text/html": [
       "Successfully finished last run (ID:3v5zhmwi). Initializing new run:<br/>"
      ],
      "text/plain": [
       "<IPython.core.display.HTML object>"
      ]
     },
     "metadata": {},
     "output_type": "display_data"
    },
    {
     "data": {
      "text/html": [
       "wandb version 0.12.14 is available!  To upgrade, please run:\n",
       " $ pip install wandb --upgrade"
      ],
      "text/plain": [
       "<IPython.core.display.HTML object>"
      ]
     },
     "metadata": {},
     "output_type": "display_data"
    },
    {
     "data": {
      "text/html": [
       "Tracking run with wandb version 0.12.12"
      ],
      "text/plain": [
       "<IPython.core.display.HTML object>"
      ]
     },
     "metadata": {},
     "output_type": "display_data"
    },
    {
     "data": {
      "text/html": [
       "Run data is saved locally in <code>C:\\Users\\teozz\\OneDrive\\Desktop\\vscode_workspace\\projects\\credit_card_fraud_detection\\wandb\\run-20220416_012503-36izbi3b</code>"
      ],
      "text/plain": [
       "<IPython.core.display.HTML object>"
      ]
     },
     "metadata": {},
     "output_type": "display_data"
    },
    {
     "data": {
      "text/html": [
       "Syncing run <strong><a href=\"https://wandb.ai/zuozhe/fraud_detection/runs/36izbi3b\" target=\"_blank\">logical-fog-264</a></strong> to <a href=\"https://wandb.ai/zuozhe/fraud_detection\" target=\"_blank\">Weights & Biases</a> (<a href=\"https://wandb.me/run\" target=\"_blank\">docs</a>)<br/>"
      ],
      "text/plain": [
       "<IPython.core.display.HTML object>"
      ]
     },
     "metadata": {},
     "output_type": "display_data"
    },
    {
     "name": "stderr",
     "output_type": "stream",
     "text": [
      "\u001b[32m[I 2022-04-16 01:48:41,900]\u001b[0m Trial 8 finished with value: 0.83419700026464 and parameters: {'n_estimators': 1924, 'learning_rate': 0.01288204741116064, 'min_split_gain': 0.03827606041789319, 'objective': 'binary', 'metric': 'average_precision', 'is_unbalance': True}. Best is trial 4 with value: 0.8465887388314112.\u001b[0m\n"
     ]
    },
    {
     "data": {
      "text/html": [
       "Finishing last run (ID:36izbi3b) before initializing another..."
      ],
      "text/plain": [
       "<IPython.core.display.HTML object>"
      ]
     },
     "metadata": {},
     "output_type": "display_data"
    },
    {
     "name": "stdout",
     "output_type": "stream",
     "text": [
      "\n"
     ]
    },
    {
     "data": {
      "text/html": [
       "Waiting for W&B process to finish... <strong style=\"color:green\">(success).</strong>"
      ],
      "text/plain": [
       "<IPython.core.display.HTML object>"
      ]
     },
     "metadata": {},
     "output_type": "display_data"
    },
    {
     "data": {
      "text/html": [
       "<style>\n",
       "    table.wandb td:nth-child(1) { padding: 0 10px; text-align: right }\n",
       "    .wandb-row { display: flex; flex-direction: row; flex-wrap: wrap; width: 100% }\n",
       "    .wandb-col { display: flex; flex-direction: column; flex-basis: 100%; flex: 1; padding: 10px; }\n",
       "    </style>\n",
       "<div class=\"wandb-row\"><div class=\"wandb-col\"><h3>Run history:</h3><br/><table class=\"wandb\"><tr><td>fit_time</td><td>▁</td></tr><tr><td>is_unbalance</td><td>▁</td></tr><tr><td>learning_rate</td><td>▁</td></tr><tr><td>min_split_gain</td><td>▁</td></tr><tr><td>n_estimators</td><td>▁</td></tr><tr><td>on_golden_test</td><td>▁</td></tr><tr><td>score_time</td><td>▁</td></tr><tr><td>test_accuracy</td><td>▁</td></tr><tr><td>test_average_precision</td><td>▁</td></tr><tr><td>test_f1</td><td>▁</td></tr><tr><td>test_precision</td><td>▁</td></tr><tr><td>test_recall</td><td>▁</td></tr><tr><td>test_roc_auc</td><td>▁</td></tr><tr><td>train_accuracy</td><td>▁</td></tr><tr><td>train_average_precision</td><td>▁</td></tr><tr><td>train_f1</td><td>▁</td></tr><tr><td>train_precision</td><td>▁</td></tr><tr><td>train_recall</td><td>▁</td></tr><tr><td>train_roc_auc</td><td>▁</td></tr></table><br/></div><div class=\"wandb-col\"><h3>Run summary:</h3><br/><table class=\"wandb\"><tr><td>fit_time</td><td>733.01369</td></tr><tr><td>is_unbalance</td><td>True</td></tr><tr><td>learning_rate</td><td>0.01288</td></tr><tr><td>metric</td><td>average_precision</td></tr><tr><td>min_split_gain</td><td>0.03828</td></tr><tr><td>model_name</td><td>LGBMClassifier</td></tr><tr><td>n_estimators</td><td>1924</td></tr><tr><td>objective</td><td>binary</td></tr><tr><td>on_golden_test</td><td>False</td></tr><tr><td>score_time</td><td>23.12358</td></tr><tr><td>test_accuracy</td><td>0.99953</td></tr><tr><td>test_average_precision</td><td>0.8342</td></tr><tr><td>test_f1</td><td>0.85326</td></tr><tr><td>test_precision</td><td>0.92068</td></tr><tr><td>test_recall</td><td>0.79682</td></tr><tr><td>test_roc_auc</td><td>0.96639</td></tr><tr><td>train_accuracy</td><td>1.0</td></tr><tr><td>train_average_precision</td><td>1.0</td></tr><tr><td>train_f1</td><td>1.0</td></tr><tr><td>train_precision</td><td>1.0</td></tr><tr><td>train_recall</td><td>1.0</td></tr><tr><td>train_roc_auc</td><td>1.0</td></tr></table><br/></div></div>"
      ],
      "text/plain": [
       "<IPython.core.display.HTML object>"
      ]
     },
     "metadata": {},
     "output_type": "display_data"
    },
    {
     "data": {
      "text/html": [
       "Synced <strong style=\"color:#cdcd00\">logical-fog-264</strong>: <a href=\"https://wandb.ai/zuozhe/fraud_detection/runs/36izbi3b\" target=\"_blank\">https://wandb.ai/zuozhe/fraud_detection/runs/36izbi3b</a><br/>Synced 5 W&B file(s), 0 media file(s), 0 artifact file(s) and 0 other file(s)"
      ],
      "text/plain": [
       "<IPython.core.display.HTML object>"
      ]
     },
     "metadata": {},
     "output_type": "display_data"
    },
    {
     "data": {
      "text/html": [
       "Find logs at: <code>.\\wandb\\run-20220416_012503-36izbi3b\\logs</code>"
      ],
      "text/plain": [
       "<IPython.core.display.HTML object>"
      ]
     },
     "metadata": {},
     "output_type": "display_data"
    },
    {
     "data": {
      "text/html": [
       "Successfully finished last run (ID:36izbi3b). Initializing new run:<br/>"
      ],
      "text/plain": [
       "<IPython.core.display.HTML object>"
      ]
     },
     "metadata": {},
     "output_type": "display_data"
    },
    {
     "data": {
      "text/html": [
       "wandb version 0.12.14 is available!  To upgrade, please run:\n",
       " $ pip install wandb --upgrade"
      ],
      "text/plain": [
       "<IPython.core.display.HTML object>"
      ]
     },
     "metadata": {},
     "output_type": "display_data"
    },
    {
     "data": {
      "text/html": [
       "Tracking run with wandb version 0.12.12"
      ],
      "text/plain": [
       "<IPython.core.display.HTML object>"
      ]
     },
     "metadata": {},
     "output_type": "display_data"
    },
    {
     "data": {
      "text/html": [
       "Run data is saved locally in <code>C:\\Users\\teozz\\OneDrive\\Desktop\\vscode_workspace\\projects\\credit_card_fraud_detection\\wandb\\run-20220416_014841-g7ovau98</code>"
      ],
      "text/plain": [
       "<IPython.core.display.HTML object>"
      ]
     },
     "metadata": {},
     "output_type": "display_data"
    },
    {
     "data": {
      "text/html": [
       "Syncing run <strong><a href=\"https://wandb.ai/zuozhe/fraud_detection/runs/g7ovau98\" target=\"_blank\">vivid-spaceship-265</a></strong> to <a href=\"https://wandb.ai/zuozhe/fraud_detection\" target=\"_blank\">Weights & Biases</a> (<a href=\"https://wandb.me/run\" target=\"_blank\">docs</a>)<br/>"
      ],
      "text/plain": [
       "<IPython.core.display.HTML object>"
      ]
     },
     "metadata": {},
     "output_type": "display_data"
    },
    {
     "name": "stderr",
     "output_type": "stream",
     "text": [
      "\u001b[32m[I 2022-04-16 02:05:22,907]\u001b[0m Trial 9 finished with value: 0.8254364782634902 and parameters: {'n_estimators': 1978, 'learning_rate': 0.021255492283296793, 'min_split_gain': 0.06979956686029551, 'objective': 'binary', 'metric': 'average_precision', 'is_unbalance': True}. Best is trial 4 with value: 0.8465887388314112.\u001b[0m\n"
     ]
    },
    {
     "data": {
      "text/html": [
       "Finishing last run (ID:g7ovau98) before initializing another..."
      ],
      "text/plain": [
       "<IPython.core.display.HTML object>"
      ]
     },
     "metadata": {},
     "output_type": "display_data"
    },
    {
     "name": "stdout",
     "output_type": "stream",
     "text": [
      "\n"
     ]
    },
    {
     "data": {
      "text/html": [
       "Waiting for W&B process to finish... <strong style=\"color:green\">(success).</strong>"
      ],
      "text/plain": [
       "<IPython.core.display.HTML object>"
      ]
     },
     "metadata": {},
     "output_type": "display_data"
    },
    {
     "data": {
      "text/html": [
       "<style>\n",
       "    table.wandb td:nth-child(1) { padding: 0 10px; text-align: right }\n",
       "    .wandb-row { display: flex; flex-direction: row; flex-wrap: wrap; width: 100% }\n",
       "    .wandb-col { display: flex; flex-direction: column; flex-basis: 100%; flex: 1; padding: 10px; }\n",
       "    </style>\n",
       "<div class=\"wandb-row\"><div class=\"wandb-col\"><h3>Run history:</h3><br/><table class=\"wandb\"><tr><td>fit_time</td><td>▁</td></tr><tr><td>is_unbalance</td><td>▁</td></tr><tr><td>learning_rate</td><td>▁</td></tr><tr><td>min_split_gain</td><td>▁</td></tr><tr><td>n_estimators</td><td>▁</td></tr><tr><td>on_golden_test</td><td>▁</td></tr><tr><td>score_time</td><td>▁</td></tr><tr><td>test_accuracy</td><td>▁</td></tr><tr><td>test_average_precision</td><td>▁</td></tr><tr><td>test_f1</td><td>▁</td></tr><tr><td>test_precision</td><td>▁</td></tr><tr><td>test_recall</td><td>▁</td></tr><tr><td>test_roc_auc</td><td>▁</td></tr><tr><td>train_accuracy</td><td>▁</td></tr><tr><td>train_average_precision</td><td>▁</td></tr><tr><td>train_f1</td><td>▁</td></tr><tr><td>train_precision</td><td>▁</td></tr><tr><td>train_recall</td><td>▁</td></tr><tr><td>train_roc_auc</td><td>▁</td></tr></table><br/></div><div class=\"wandb-col\"><h3>Run summary:</h3><br/><table class=\"wandb\"><tr><td>fit_time</td><td>560.01763</td></tr><tr><td>is_unbalance</td><td>True</td></tr><tr><td>learning_rate</td><td>0.02126</td></tr><tr><td>metric</td><td>average_precision</td></tr><tr><td>min_split_gain</td><td>0.0698</td></tr><tr><td>model_name</td><td>LGBMClassifier</td></tr><tr><td>n_estimators</td><td>1978</td></tr><tr><td>objective</td><td>binary</td></tr><tr><td>on_golden_test</td><td>False</td></tr><tr><td>score_time</td><td>6.86304</td></tr><tr><td>test_accuracy</td><td>0.9995</td></tr><tr><td>test_average_precision</td><td>0.82544</td></tr><tr><td>test_f1</td><td>0.84503</td></tr><tr><td>test_precision</td><td>0.90155</td></tr><tr><td>test_recall</td><td>0.79684</td></tr><tr><td>test_roc_auc</td><td>0.94061</td></tr><tr><td>train_accuracy</td><td>1.0</td></tr><tr><td>train_average_precision</td><td>1.0</td></tr><tr><td>train_f1</td><td>1.0</td></tr><tr><td>train_precision</td><td>1.0</td></tr><tr><td>train_recall</td><td>1.0</td></tr><tr><td>train_roc_auc</td><td>1.0</td></tr></table><br/></div></div>"
      ],
      "text/plain": [
       "<IPython.core.display.HTML object>"
      ]
     },
     "metadata": {},
     "output_type": "display_data"
    },
    {
     "data": {
      "text/html": [
       "Synced <strong style=\"color:#cdcd00\">vivid-spaceship-265</strong>: <a href=\"https://wandb.ai/zuozhe/fraud_detection/runs/g7ovau98\" target=\"_blank\">https://wandb.ai/zuozhe/fraud_detection/runs/g7ovau98</a><br/>Synced 5 W&B file(s), 0 media file(s), 0 artifact file(s) and 0 other file(s)"
      ],
      "text/plain": [
       "<IPython.core.display.HTML object>"
      ]
     },
     "metadata": {},
     "output_type": "display_data"
    },
    {
     "data": {
      "text/html": [
       "Find logs at: <code>.\\wandb\\run-20220416_014841-g7ovau98\\logs</code>"
      ],
      "text/plain": [
       "<IPython.core.display.HTML object>"
      ]
     },
     "metadata": {},
     "output_type": "display_data"
    },
    {
     "data": {
      "text/html": [
       "Successfully finished last run (ID:g7ovau98). Initializing new run:<br/>"
      ],
      "text/plain": [
       "<IPython.core.display.HTML object>"
      ]
     },
     "metadata": {},
     "output_type": "display_data"
    },
    {
     "data": {
      "text/html": [
       "wandb version 0.12.14 is available!  To upgrade, please run:\n",
       " $ pip install wandb --upgrade"
      ],
      "text/plain": [
       "<IPython.core.display.HTML object>"
      ]
     },
     "metadata": {},
     "output_type": "display_data"
    },
    {
     "data": {
      "text/html": [
       "Tracking run with wandb version 0.12.12"
      ],
      "text/plain": [
       "<IPython.core.display.HTML object>"
      ]
     },
     "metadata": {},
     "output_type": "display_data"
    },
    {
     "data": {
      "text/html": [
       "Run data is saved locally in <code>C:\\Users\\teozz\\OneDrive\\Desktop\\vscode_workspace\\projects\\credit_card_fraud_detection\\wandb\\run-20220416_020523-2d2d9gt7</code>"
      ],
      "text/plain": [
       "<IPython.core.display.HTML object>"
      ]
     },
     "metadata": {},
     "output_type": "display_data"
    },
    {
     "data": {
      "text/html": [
       "Syncing run <strong><a href=\"https://wandb.ai/zuozhe/fraud_detection/runs/2d2d9gt7\" target=\"_blank\">major-sky-266</a></strong> to <a href=\"https://wandb.ai/zuozhe/fraud_detection\" target=\"_blank\">Weights & Biases</a> (<a href=\"https://wandb.me/run\" target=\"_blank\">docs</a>)<br/>"
      ],
      "text/plain": [
       "<IPython.core.display.HTML object>"
      ]
     },
     "metadata": {},
     "output_type": "display_data"
    },
    {
     "name": "stderr",
     "output_type": "stream",
     "text": [
      "\u001b[32m[I 2022-04-16 02:38:55,951]\u001b[0m Trial 10 finished with value: 0.8484471995950422 and parameters: {'n_estimators': 1757, 'learning_rate': 0.009879244589125669, 'min_split_gain': 0.003109779416285152, 'objective': 'binary', 'metric': 'average_precision', 'is_unbalance': True}. Best is trial 10 with value: 0.8484471995950422.\u001b[0m\n"
     ]
    },
    {
     "data": {
      "text/html": [
       "Finishing last run (ID:2d2d9gt7) before initializing another..."
      ],
      "text/plain": [
       "<IPython.core.display.HTML object>"
      ]
     },
     "metadata": {},
     "output_type": "display_data"
    },
    {
     "name": "stdout",
     "output_type": "stream",
     "text": [
      "\n"
     ]
    },
    {
     "data": {
      "text/html": [
       "Waiting for W&B process to finish... <strong style=\"color:green\">(success).</strong>"
      ],
      "text/plain": [
       "<IPython.core.display.HTML object>"
      ]
     },
     "metadata": {},
     "output_type": "display_data"
    },
    {
     "data": {
      "text/html": [
       "<style>\n",
       "    table.wandb td:nth-child(1) { padding: 0 10px; text-align: right }\n",
       "    .wandb-row { display: flex; flex-direction: row; flex-wrap: wrap; width: 100% }\n",
       "    .wandb-col { display: flex; flex-direction: column; flex-basis: 100%; flex: 1; padding: 10px; }\n",
       "    </style>\n",
       "<div class=\"wandb-row\"><div class=\"wandb-col\"><h3>Run history:</h3><br/><table class=\"wandb\"><tr><td>fit_time</td><td>▁</td></tr><tr><td>is_unbalance</td><td>▁</td></tr><tr><td>learning_rate</td><td>▁</td></tr><tr><td>min_split_gain</td><td>▁</td></tr><tr><td>n_estimators</td><td>▁</td></tr><tr><td>on_golden_test</td><td>▁</td></tr><tr><td>score_time</td><td>▁</td></tr><tr><td>test_accuracy</td><td>▁</td></tr><tr><td>test_average_precision</td><td>▁</td></tr><tr><td>test_f1</td><td>▁</td></tr><tr><td>test_precision</td><td>▁</td></tr><tr><td>test_recall</td><td>▁</td></tr><tr><td>test_roc_auc</td><td>▁</td></tr><tr><td>train_accuracy</td><td>▁</td></tr><tr><td>train_average_precision</td><td>▁</td></tr><tr><td>train_f1</td><td>▁</td></tr><tr><td>train_precision</td><td>▁</td></tr><tr><td>train_recall</td><td>▁</td></tr><tr><td>train_roc_auc</td><td>▁</td></tr></table><br/></div><div class=\"wandb-col\"><h3>Run summary:</h3><br/><table class=\"wandb\"><tr><td>fit_time</td><td>955.18986</td></tr><tr><td>is_unbalance</td><td>True</td></tr><tr><td>learning_rate</td><td>0.00988</td></tr><tr><td>metric</td><td>average_precision</td></tr><tr><td>min_split_gain</td><td>0.00311</td></tr><tr><td>model_name</td><td>LGBMClassifier</td></tr><tr><td>n_estimators</td><td>1757</td></tr><tr><td>objective</td><td>binary</td></tr><tr><td>on_golden_test</td><td>False</td></tr><tr><td>score_time</td><td>46.90035</td></tr><tr><td>test_accuracy</td><td>0.99956</td></tr><tr><td>test_average_precision</td><td>0.84845</td></tr><tr><td>test_f1</td><td>0.86136</td></tr><tr><td>test_precision</td><td>0.9362</td></tr><tr><td>test_recall</td><td>0.79923</td></tr><tr><td>test_roc_auc</td><td>0.97236</td></tr><tr><td>train_accuracy</td><td>1.0</td></tr><tr><td>train_average_precision</td><td>1.0</td></tr><tr><td>train_f1</td><td>1.0</td></tr><tr><td>train_precision</td><td>1.0</td></tr><tr><td>train_recall</td><td>1.0</td></tr><tr><td>train_roc_auc</td><td>1.0</td></tr></table><br/></div></div>"
      ],
      "text/plain": [
       "<IPython.core.display.HTML object>"
      ]
     },
     "metadata": {},
     "output_type": "display_data"
    },
    {
     "data": {
      "text/html": [
       "Synced <strong style=\"color:#cdcd00\">major-sky-266</strong>: <a href=\"https://wandb.ai/zuozhe/fraud_detection/runs/2d2d9gt7\" target=\"_blank\">https://wandb.ai/zuozhe/fraud_detection/runs/2d2d9gt7</a><br/>Synced 5 W&B file(s), 0 media file(s), 0 artifact file(s) and 0 other file(s)"
      ],
      "text/plain": [
       "<IPython.core.display.HTML object>"
      ]
     },
     "metadata": {},
     "output_type": "display_data"
    },
    {
     "data": {
      "text/html": [
       "Find logs at: <code>.\\wandb\\run-20220416_020523-2d2d9gt7\\logs</code>"
      ],
      "text/plain": [
       "<IPython.core.display.HTML object>"
      ]
     },
     "metadata": {},
     "output_type": "display_data"
    },
    {
     "data": {
      "text/html": [
       "Successfully finished last run (ID:2d2d9gt7). Initializing new run:<br/>"
      ],
      "text/plain": [
       "<IPython.core.display.HTML object>"
      ]
     },
     "metadata": {},
     "output_type": "display_data"
    },
    {
     "data": {
      "text/html": [
       "wandb version 0.12.14 is available!  To upgrade, please run:\n",
       " $ pip install wandb --upgrade"
      ],
      "text/plain": [
       "<IPython.core.display.HTML object>"
      ]
     },
     "metadata": {},
     "output_type": "display_data"
    },
    {
     "data": {
      "text/html": [
       "Tracking run with wandb version 0.12.12"
      ],
      "text/plain": [
       "<IPython.core.display.HTML object>"
      ]
     },
     "metadata": {},
     "output_type": "display_data"
    },
    {
     "data": {
      "text/html": [
       "Run data is saved locally in <code>C:\\Users\\teozz\\OneDrive\\Desktop\\vscode_workspace\\projects\\credit_card_fraud_detection\\wandb\\run-20220416_023856-3hd1fs4j</code>"
      ],
      "text/plain": [
       "<IPython.core.display.HTML object>"
      ]
     },
     "metadata": {},
     "output_type": "display_data"
    },
    {
     "data": {
      "text/html": [
       "Syncing run <strong><a href=\"https://wandb.ai/zuozhe/fraud_detection/runs/3hd1fs4j\" target=\"_blank\">northern-hill-267</a></strong> to <a href=\"https://wandb.ai/zuozhe/fraud_detection\" target=\"_blank\">Weights & Biases</a> (<a href=\"https://wandb.me/run\" target=\"_blank\">docs</a>)<br/>"
      ],
      "text/plain": [
       "<IPython.core.display.HTML object>"
      ]
     },
     "metadata": {},
     "output_type": "display_data"
    },
    {
     "name": "stderr",
     "output_type": "stream",
     "text": [
      "\u001b[32m[I 2022-04-16 03:11:47,630]\u001b[0m Trial 11 finished with value: 0.8461680866032708 and parameters: {'n_estimators': 1732, 'learning_rate': 0.009841517652579625, 'min_split_gain': 0.004097548220125879, 'objective': 'binary', 'metric': 'average_precision', 'is_unbalance': True}. Best is trial 10 with value: 0.8484471995950422.\u001b[0m\n"
     ]
    },
    {
     "data": {
      "text/html": [
       "Finishing last run (ID:3hd1fs4j) before initializing another..."
      ],
      "text/plain": [
       "<IPython.core.display.HTML object>"
      ]
     },
     "metadata": {},
     "output_type": "display_data"
    },
    {
     "name": "stdout",
     "output_type": "stream",
     "text": [
      "\n"
     ]
    },
    {
     "data": {
      "text/html": [
       "Waiting for W&B process to finish... <strong style=\"color:green\">(success).</strong>"
      ],
      "text/plain": [
       "<IPython.core.display.HTML object>"
      ]
     },
     "metadata": {},
     "output_type": "display_data"
    },
    {
     "data": {
      "text/html": [
       "<style>\n",
       "    table.wandb td:nth-child(1) { padding: 0 10px; text-align: right }\n",
       "    .wandb-row { display: flex; flex-direction: row; flex-wrap: wrap; width: 100% }\n",
       "    .wandb-col { display: flex; flex-direction: column; flex-basis: 100%; flex: 1; padding: 10px; }\n",
       "    </style>\n",
       "<div class=\"wandb-row\"><div class=\"wandb-col\"><h3>Run history:</h3><br/><table class=\"wandb\"><tr><td>fit_time</td><td>▁</td></tr><tr><td>is_unbalance</td><td>▁</td></tr><tr><td>learning_rate</td><td>▁</td></tr><tr><td>min_split_gain</td><td>▁</td></tr><tr><td>n_estimators</td><td>▁</td></tr><tr><td>on_golden_test</td><td>▁</td></tr><tr><td>score_time</td><td>▁</td></tr><tr><td>test_accuracy</td><td>▁</td></tr><tr><td>test_average_precision</td><td>▁</td></tr><tr><td>test_f1</td><td>▁</td></tr><tr><td>test_precision</td><td>▁</td></tr><tr><td>test_recall</td><td>▁</td></tr><tr><td>test_roc_auc</td><td>▁</td></tr><tr><td>train_accuracy</td><td>▁</td></tr><tr><td>train_average_precision</td><td>▁</td></tr><tr><td>train_f1</td><td>▁</td></tr><tr><td>train_precision</td><td>▁</td></tr><tr><td>train_recall</td><td>▁</td></tr><tr><td>train_roc_auc</td><td>▁</td></tr></table><br/></div><div class=\"wandb-col\"><h3>Run summary:</h3><br/><table class=\"wandb\"><tr><td>fit_time</td><td>945.85933</td></tr><tr><td>is_unbalance</td><td>True</td></tr><tr><td>learning_rate</td><td>0.00984</td></tr><tr><td>metric</td><td>average_precision</td></tr><tr><td>min_split_gain</td><td>0.0041</td></tr><tr><td>model_name</td><td>LGBMClassifier</td></tr><tr><td>n_estimators</td><td>1732</td></tr><tr><td>objective</td><td>binary</td></tr><tr><td>on_golden_test</td><td>False</td></tr><tr><td>score_time</td><td>45.90938</td></tr><tr><td>test_accuracy</td><td>0.99956</td></tr><tr><td>test_average_precision</td><td>0.84617</td></tr><tr><td>test_f1</td><td>0.8629</td></tr><tr><td>test_precision</td><td>0.93694</td></tr><tr><td>test_recall</td><td>0.80164</td></tr><tr><td>test_roc_auc</td><td>0.97044</td></tr><tr><td>train_accuracy</td><td>1.0</td></tr><tr><td>train_average_precision</td><td>1.0</td></tr><tr><td>train_f1</td><td>1.0</td></tr><tr><td>train_precision</td><td>1.0</td></tr><tr><td>train_recall</td><td>1.0</td></tr><tr><td>train_roc_auc</td><td>1.0</td></tr></table><br/></div></div>"
      ],
      "text/plain": [
       "<IPython.core.display.HTML object>"
      ]
     },
     "metadata": {},
     "output_type": "display_data"
    },
    {
     "data": {
      "text/html": [
       "Synced <strong style=\"color:#cdcd00\">northern-hill-267</strong>: <a href=\"https://wandb.ai/zuozhe/fraud_detection/runs/3hd1fs4j\" target=\"_blank\">https://wandb.ai/zuozhe/fraud_detection/runs/3hd1fs4j</a><br/>Synced 5 W&B file(s), 0 media file(s), 0 artifact file(s) and 0 other file(s)"
      ],
      "text/plain": [
       "<IPython.core.display.HTML object>"
      ]
     },
     "metadata": {},
     "output_type": "display_data"
    },
    {
     "data": {
      "text/html": [
       "Find logs at: <code>.\\wandb\\run-20220416_023856-3hd1fs4j\\logs</code>"
      ],
      "text/plain": [
       "<IPython.core.display.HTML object>"
      ]
     },
     "metadata": {},
     "output_type": "display_data"
    },
    {
     "data": {
      "text/html": [
       "Successfully finished last run (ID:3hd1fs4j). Initializing new run:<br/>"
      ],
      "text/plain": [
       "<IPython.core.display.HTML object>"
      ]
     },
     "metadata": {},
     "output_type": "display_data"
    },
    {
     "data": {
      "text/html": [
       "wandb version 0.12.14 is available!  To upgrade, please run:\n",
       " $ pip install wandb --upgrade"
      ],
      "text/plain": [
       "<IPython.core.display.HTML object>"
      ]
     },
     "metadata": {},
     "output_type": "display_data"
    },
    {
     "data": {
      "text/html": [
       "Tracking run with wandb version 0.12.12"
      ],
      "text/plain": [
       "<IPython.core.display.HTML object>"
      ]
     },
     "metadata": {},
     "output_type": "display_data"
    },
    {
     "data": {
      "text/html": [
       "Run data is saved locally in <code>C:\\Users\\teozz\\OneDrive\\Desktop\\vscode_workspace\\projects\\credit_card_fraud_detection\\wandb\\run-20220416_031147-3a30mlrk</code>"
      ],
      "text/plain": [
       "<IPython.core.display.HTML object>"
      ]
     },
     "metadata": {},
     "output_type": "display_data"
    },
    {
     "data": {
      "text/html": [
       "Syncing run <strong><a href=\"https://wandb.ai/zuozhe/fraud_detection/runs/3a30mlrk\" target=\"_blank\">misty-cherry-268</a></strong> to <a href=\"https://wandb.ai/zuozhe/fraud_detection\" target=\"_blank\">Weights & Biases</a> (<a href=\"https://wandb.me/run\" target=\"_blank\">docs</a>)<br/>"
      ],
      "text/plain": [
       "<IPython.core.display.HTML object>"
      ]
     },
     "metadata": {},
     "output_type": "display_data"
    },
    {
     "name": "stderr",
     "output_type": "stream",
     "text": [
      "\u001b[32m[I 2022-04-16 03:45:33,028]\u001b[0m Trial 12 finished with value: 0.8465087117321864 and parameters: {'n_estimators': 1763, 'learning_rate': 0.009461052432402268, 'min_split_gain': 0.004848424084650554, 'objective': 'binary', 'metric': 'average_precision', 'is_unbalance': True}. Best is trial 10 with value: 0.8484471995950422.\u001b[0m\n"
     ]
    },
    {
     "data": {
      "text/html": [
       "Finishing last run (ID:3a30mlrk) before initializing another..."
      ],
      "text/plain": [
       "<IPython.core.display.HTML object>"
      ]
     },
     "metadata": {},
     "output_type": "display_data"
    },
    {
     "name": "stdout",
     "output_type": "stream",
     "text": [
      "\n"
     ]
    },
    {
     "data": {
      "text/html": [
       "Waiting for W&B process to finish... <strong style=\"color:green\">(success).</strong>"
      ],
      "text/plain": [
       "<IPython.core.display.HTML object>"
      ]
     },
     "metadata": {},
     "output_type": "display_data"
    },
    {
     "data": {
      "text/html": [
       "<style>\n",
       "    table.wandb td:nth-child(1) { padding: 0 10px; text-align: right }\n",
       "    .wandb-row { display: flex; flex-direction: row; flex-wrap: wrap; width: 100% }\n",
       "    .wandb-col { display: flex; flex-direction: column; flex-basis: 100%; flex: 1; padding: 10px; }\n",
       "    </style>\n",
       "<div class=\"wandb-row\"><div class=\"wandb-col\"><h3>Run history:</h3><br/><table class=\"wandb\"><tr><td>fit_time</td><td>▁</td></tr><tr><td>is_unbalance</td><td>▁</td></tr><tr><td>learning_rate</td><td>▁</td></tr><tr><td>min_split_gain</td><td>▁</td></tr><tr><td>n_estimators</td><td>▁</td></tr><tr><td>on_golden_test</td><td>▁</td></tr><tr><td>score_time</td><td>▁</td></tr><tr><td>test_accuracy</td><td>▁</td></tr><tr><td>test_average_precision</td><td>▁</td></tr><tr><td>test_f1</td><td>▁</td></tr><tr><td>test_precision</td><td>▁</td></tr><tr><td>test_recall</td><td>▁</td></tr><tr><td>test_roc_auc</td><td>▁</td></tr><tr><td>train_accuracy</td><td>▁</td></tr><tr><td>train_average_precision</td><td>▁</td></tr><tr><td>train_f1</td><td>▁</td></tr><tr><td>train_precision</td><td>▁</td></tr><tr><td>train_recall</td><td>▁</td></tr><tr><td>train_roc_auc</td><td>▁</td></tr></table><br/></div><div class=\"wandb-col\"><h3>Run summary:</h3><br/><table class=\"wandb\"><tr><td>fit_time</td><td>962.95212</td></tr><tr><td>is_unbalance</td><td>True</td></tr><tr><td>learning_rate</td><td>0.00946</td></tr><tr><td>metric</td><td>average_precision</td></tr><tr><td>min_split_gain</td><td>0.00485</td></tr><tr><td>model_name</td><td>LGBMClassifier</td></tr><tr><td>n_estimators</td><td>1763</td></tr><tr><td>objective</td><td>binary</td></tr><tr><td>on_golden_test</td><td>False</td></tr><tr><td>score_time</td><td>47.64075</td></tr><tr><td>test_accuracy</td><td>0.99956</td></tr><tr><td>test_average_precision</td><td>0.84651</td></tr><tr><td>test_f1</td><td>0.86333</td></tr><tr><td>test_precision</td><td>0.93438</td></tr><tr><td>test_recall</td><td>0.80402</td></tr><tr><td>test_roc_auc</td><td>0.97082</td></tr><tr><td>train_accuracy</td><td>1.0</td></tr><tr><td>train_average_precision</td><td>1.0</td></tr><tr><td>train_f1</td><td>1.0</td></tr><tr><td>train_precision</td><td>1.0</td></tr><tr><td>train_recall</td><td>1.0</td></tr><tr><td>train_roc_auc</td><td>1.0</td></tr></table><br/></div></div>"
      ],
      "text/plain": [
       "<IPython.core.display.HTML object>"
      ]
     },
     "metadata": {},
     "output_type": "display_data"
    },
    {
     "data": {
      "text/html": [
       "Synced <strong style=\"color:#cdcd00\">misty-cherry-268</strong>: <a href=\"https://wandb.ai/zuozhe/fraud_detection/runs/3a30mlrk\" target=\"_blank\">https://wandb.ai/zuozhe/fraud_detection/runs/3a30mlrk</a><br/>Synced 5 W&B file(s), 0 media file(s), 0 artifact file(s) and 0 other file(s)"
      ],
      "text/plain": [
       "<IPython.core.display.HTML object>"
      ]
     },
     "metadata": {},
     "output_type": "display_data"
    },
    {
     "data": {
      "text/html": [
       "Find logs at: <code>.\\wandb\\run-20220416_031147-3a30mlrk\\logs</code>"
      ],
      "text/plain": [
       "<IPython.core.display.HTML object>"
      ]
     },
     "metadata": {},
     "output_type": "display_data"
    },
    {
     "data": {
      "text/html": [
       "Successfully finished last run (ID:3a30mlrk). Initializing new run:<br/>"
      ],
      "text/plain": [
       "<IPython.core.display.HTML object>"
      ]
     },
     "metadata": {},
     "output_type": "display_data"
    },
    {
     "data": {
      "text/html": [
       "wandb version 0.12.14 is available!  To upgrade, please run:\n",
       " $ pip install wandb --upgrade"
      ],
      "text/plain": [
       "<IPython.core.display.HTML object>"
      ]
     },
     "metadata": {},
     "output_type": "display_data"
    },
    {
     "data": {
      "text/html": [
       "Tracking run with wandb version 0.12.12"
      ],
      "text/plain": [
       "<IPython.core.display.HTML object>"
      ]
     },
     "metadata": {},
     "output_type": "display_data"
    },
    {
     "data": {
      "text/html": [
       "Run data is saved locally in <code>C:\\Users\\teozz\\OneDrive\\Desktop\\vscode_workspace\\projects\\credit_card_fraud_detection\\wandb\\run-20220416_034533-nteyil4x</code>"
      ],
      "text/plain": [
       "<IPython.core.display.HTML object>"
      ]
     },
     "metadata": {},
     "output_type": "display_data"
    },
    {
     "data": {
      "text/html": [
       "Syncing run <strong><a href=\"https://wandb.ai/zuozhe/fraud_detection/runs/nteyil4x\" target=\"_blank\">lucky-dawn-269</a></strong> to <a href=\"https://wandb.ai/zuozhe/fraud_detection\" target=\"_blank\">Weights & Biases</a> (<a href=\"https://wandb.me/run\" target=\"_blank\">docs</a>)<br/>"
      ],
      "text/plain": [
       "<IPython.core.display.HTML object>"
      ]
     },
     "metadata": {},
     "output_type": "display_data"
    },
    {
     "name": "stderr",
     "output_type": "stream",
     "text": [
      "\u001b[32m[I 2022-04-16 04:00:53,972]\u001b[0m Trial 13 finished with value: 0.8065528268005668 and parameters: {'n_estimators': 1820, 'learning_rate': 0.024982163231438138, 'min_split_gain': 0.016734245613638603, 'objective': 'binary', 'metric': 'average_precision', 'is_unbalance': True}. Best is trial 10 with value: 0.8484471995950422.\u001b[0m\n"
     ]
    },
    {
     "data": {
      "text/html": [
       "Finishing last run (ID:nteyil4x) before initializing another..."
      ],
      "text/plain": [
       "<IPython.core.display.HTML object>"
      ]
     },
     "metadata": {},
     "output_type": "display_data"
    },
    {
     "name": "stdout",
     "output_type": "stream",
     "text": [
      "\n"
     ]
    },
    {
     "data": {
      "text/html": [
       "Waiting for W&B process to finish... <strong style=\"color:green\">(success).</strong>"
      ],
      "text/plain": [
       "<IPython.core.display.HTML object>"
      ]
     },
     "metadata": {},
     "output_type": "display_data"
    },
    {
     "data": {
      "text/html": [
       "<style>\n",
       "    table.wandb td:nth-child(1) { padding: 0 10px; text-align: right }\n",
       "    .wandb-row { display: flex; flex-direction: row; flex-wrap: wrap; width: 100% }\n",
       "    .wandb-col { display: flex; flex-direction: column; flex-basis: 100%; flex: 1; padding: 10px; }\n",
       "    </style>\n",
       "<div class=\"wandb-row\"><div class=\"wandb-col\"><h3>Run history:</h3><br/><table class=\"wandb\"><tr><td>fit_time</td><td>▁</td></tr><tr><td>is_unbalance</td><td>▁</td></tr><tr><td>learning_rate</td><td>▁</td></tr><tr><td>min_split_gain</td><td>▁</td></tr><tr><td>n_estimators</td><td>▁</td></tr><tr><td>on_golden_test</td><td>▁</td></tr><tr><td>score_time</td><td>▁</td></tr><tr><td>test_accuracy</td><td>▁</td></tr><tr><td>test_average_precision</td><td>▁</td></tr><tr><td>test_f1</td><td>▁</td></tr><tr><td>test_precision</td><td>▁</td></tr><tr><td>test_recall</td><td>▁</td></tr><tr><td>test_roc_auc</td><td>▁</td></tr><tr><td>train_accuracy</td><td>▁</td></tr><tr><td>train_average_precision</td><td>▁</td></tr><tr><td>train_f1</td><td>▁</td></tr><tr><td>train_precision</td><td>▁</td></tr><tr><td>train_recall</td><td>▁</td></tr><tr><td>train_roc_auc</td><td>▁</td></tr></table><br/></div><div class=\"wandb-col\"><h3>Run summary:</h3><br/><table class=\"wandb\"><tr><td>fit_time</td><td>515.82081</td></tr><tr><td>is_unbalance</td><td>True</td></tr><tr><td>learning_rate</td><td>0.02498</td></tr><tr><td>metric</td><td>average_precision</td></tr><tr><td>min_split_gain</td><td>0.01673</td></tr><tr><td>model_name</td><td>LGBMClassifier</td></tr><tr><td>n_estimators</td><td>1820</td></tr><tr><td>objective</td><td>binary</td></tr><tr><td>on_golden_test</td><td>False</td></tr><tr><td>score_time</td><td>5.10488</td></tr><tr><td>test_accuracy</td><td>0.99929</td></tr><tr><td>test_average_precision</td><td>0.80655</td></tr><tr><td>test_f1</td><td>0.79733</td></tr><tr><td>test_precision</td><td>0.80069</td></tr><tr><td>test_recall</td><td>0.79917</td></tr><tr><td>test_roc_auc</td><td>0.92776</td></tr><tr><td>train_accuracy</td><td>1.0</td></tr><tr><td>train_average_precision</td><td>1.0</td></tr><tr><td>train_f1</td><td>1.0</td></tr><tr><td>train_precision</td><td>1.0</td></tr><tr><td>train_recall</td><td>1.0</td></tr><tr><td>train_roc_auc</td><td>1.0</td></tr></table><br/></div></div>"
      ],
      "text/plain": [
       "<IPython.core.display.HTML object>"
      ]
     },
     "metadata": {},
     "output_type": "display_data"
    },
    {
     "data": {
      "text/html": [
       "Synced <strong style=\"color:#cdcd00\">lucky-dawn-269</strong>: <a href=\"https://wandb.ai/zuozhe/fraud_detection/runs/nteyil4x\" target=\"_blank\">https://wandb.ai/zuozhe/fraud_detection/runs/nteyil4x</a><br/>Synced 5 W&B file(s), 0 media file(s), 0 artifact file(s) and 0 other file(s)"
      ],
      "text/plain": [
       "<IPython.core.display.HTML object>"
      ]
     },
     "metadata": {},
     "output_type": "display_data"
    },
    {
     "data": {
      "text/html": [
       "Find logs at: <code>.\\wandb\\run-20220416_034533-nteyil4x\\logs</code>"
      ],
      "text/plain": [
       "<IPython.core.display.HTML object>"
      ]
     },
     "metadata": {},
     "output_type": "display_data"
    },
    {
     "data": {
      "text/html": [
       "Successfully finished last run (ID:nteyil4x). Initializing new run:<br/>"
      ],
      "text/plain": [
       "<IPython.core.display.HTML object>"
      ]
     },
     "metadata": {},
     "output_type": "display_data"
    },
    {
     "data": {
      "text/html": [
       "wandb version 0.12.14 is available!  To upgrade, please run:\n",
       " $ pip install wandb --upgrade"
      ],
      "text/plain": [
       "<IPython.core.display.HTML object>"
      ]
     },
     "metadata": {},
     "output_type": "display_data"
    },
    {
     "data": {
      "text/html": [
       "Tracking run with wandb version 0.12.12"
      ],
      "text/plain": [
       "<IPython.core.display.HTML object>"
      ]
     },
     "metadata": {},
     "output_type": "display_data"
    },
    {
     "data": {
      "text/html": [
       "Run data is saved locally in <code>C:\\Users\\teozz\\OneDrive\\Desktop\\vscode_workspace\\projects\\credit_card_fraud_detection\\wandb\\run-20220416_040054-3aqvbphg</code>"
      ],
      "text/plain": [
       "<IPython.core.display.HTML object>"
      ]
     },
     "metadata": {},
     "output_type": "display_data"
    },
    {
     "data": {
      "text/html": [
       "Syncing run <strong><a href=\"https://wandb.ai/zuozhe/fraud_detection/runs/3aqvbphg\" target=\"_blank\">honest-shadow-270</a></strong> to <a href=\"https://wandb.ai/zuozhe/fraud_detection\" target=\"_blank\">Weights & Biases</a> (<a href=\"https://wandb.me/run\" target=\"_blank\">docs</a>)<br/>"
      ],
      "text/plain": [
       "<IPython.core.display.HTML object>"
      ]
     },
     "metadata": {},
     "output_type": "display_data"
    },
    {
     "name": "stderr",
     "output_type": "stream",
     "text": [
      "\u001b[32m[I 2022-04-16 04:35:33,812]\u001b[0m Trial 14 finished with value: 0.7299657435652708 and parameters: {'n_estimators': 1665, 'learning_rate': 0.0006164312757860465, 'min_split_gain': 0.016320093311189637, 'objective': 'binary', 'metric': 'average_precision', 'is_unbalance': True}. Best is trial 10 with value: 0.8484471995950422.\u001b[0m\n"
     ]
    },
    {
     "data": {
      "text/html": [
       "Finishing last run (ID:3aqvbphg) before initializing another..."
      ],
      "text/plain": [
       "<IPython.core.display.HTML object>"
      ]
     },
     "metadata": {},
     "output_type": "display_data"
    },
    {
     "name": "stdout",
     "output_type": "stream",
     "text": [
      "\n"
     ]
    },
    {
     "data": {
      "text/html": [
       "Waiting for W&B process to finish... <strong style=\"color:green\">(success).</strong>"
      ],
      "text/plain": [
       "<IPython.core.display.HTML object>"
      ]
     },
     "metadata": {},
     "output_type": "display_data"
    },
    {
     "data": {
      "text/html": [
       "<style>\n",
       "    table.wandb td:nth-child(1) { padding: 0 10px; text-align: right }\n",
       "    .wandb-row { display: flex; flex-direction: row; flex-wrap: wrap; width: 100% }\n",
       "    .wandb-col { display: flex; flex-direction: column; flex-basis: 100%; flex: 1; padding: 10px; }\n",
       "    </style>\n",
       "<div class=\"wandb-row\"><div class=\"wandb-col\"><h3>Run history:</h3><br/><table class=\"wandb\"><tr><td>fit_time</td><td>▁</td></tr><tr><td>is_unbalance</td><td>▁</td></tr><tr><td>learning_rate</td><td>▁</td></tr><tr><td>min_split_gain</td><td>▁</td></tr><tr><td>n_estimators</td><td>▁</td></tr><tr><td>on_golden_test</td><td>▁</td></tr><tr><td>score_time</td><td>▁</td></tr><tr><td>test_accuracy</td><td>▁</td></tr><tr><td>test_average_precision</td><td>▁</td></tr><tr><td>test_f1</td><td>▁</td></tr><tr><td>test_precision</td><td>▁</td></tr><tr><td>test_recall</td><td>▁</td></tr><tr><td>test_roc_auc</td><td>▁</td></tr><tr><td>train_accuracy</td><td>▁</td></tr><tr><td>train_average_precision</td><td>▁</td></tr><tr><td>train_f1</td><td>▁</td></tr><tr><td>train_precision</td><td>▁</td></tr><tr><td>train_recall</td><td>▁</td></tr><tr><td>train_roc_auc</td><td>▁</td></tr></table><br/></div><div class=\"wandb-col\"><h3>Run summary:</h3><br/><table class=\"wandb\"><tr><td>fit_time</td><td>1022.6845</td></tr><tr><td>is_unbalance</td><td>True</td></tr><tr><td>learning_rate</td><td>0.00062</td></tr><tr><td>metric</td><td>average_precision</td></tr><tr><td>min_split_gain</td><td>0.01632</td></tr><tr><td>model_name</td><td>LGBMClassifier</td></tr><tr><td>n_estimators</td><td>1665</td></tr><tr><td>objective</td><td>binary</td></tr><tr><td>on_golden_test</td><td>False</td></tr><tr><td>score_time</td><td>43.03754</td></tr><tr><td>test_accuracy</td><td>0.99933</td></tr><tr><td>test_average_precision</td><td>0.72997</td></tr><tr><td>test_f1</td><td>0.79049</td></tr><tr><td>test_precision</td><td>0.85051</td></tr><tr><td>test_recall</td><td>0.7393</td></tr><tr><td>test_roc_auc</td><td>0.97347</td></tr><tr><td>train_accuracy</td><td>0.99979</td></tr><tr><td>train_average_precision</td><td>0.90319</td></tr><tr><td>train_f1</td><td>0.94283</td></tr><tr><td>train_precision</td><td>0.89193</td></tr><tr><td>train_recall</td><td>1.0</td></tr><tr><td>train_roc_auc</td><td>0.99991</td></tr></table><br/></div></div>"
      ],
      "text/plain": [
       "<IPython.core.display.HTML object>"
      ]
     },
     "metadata": {},
     "output_type": "display_data"
    },
    {
     "data": {
      "text/html": [
       "Synced <strong style=\"color:#cdcd00\">honest-shadow-270</strong>: <a href=\"https://wandb.ai/zuozhe/fraud_detection/runs/3aqvbphg\" target=\"_blank\">https://wandb.ai/zuozhe/fraud_detection/runs/3aqvbphg</a><br/>Synced 5 W&B file(s), 0 media file(s), 0 artifact file(s) and 0 other file(s)"
      ],
      "text/plain": [
       "<IPython.core.display.HTML object>"
      ]
     },
     "metadata": {},
     "output_type": "display_data"
    },
    {
     "data": {
      "text/html": [
       "Find logs at: <code>.\\wandb\\run-20220416_040054-3aqvbphg\\logs</code>"
      ],
      "text/plain": [
       "<IPython.core.display.HTML object>"
      ]
     },
     "metadata": {},
     "output_type": "display_data"
    },
    {
     "data": {
      "text/html": [
       "Successfully finished last run (ID:3aqvbphg). Initializing new run:<br/>"
      ],
      "text/plain": [
       "<IPython.core.display.HTML object>"
      ]
     },
     "metadata": {},
     "output_type": "display_data"
    },
    {
     "data": {
      "text/html": [
       "wandb version 0.12.14 is available!  To upgrade, please run:\n",
       " $ pip install wandb --upgrade"
      ],
      "text/plain": [
       "<IPython.core.display.HTML object>"
      ]
     },
     "metadata": {},
     "output_type": "display_data"
    },
    {
     "data": {
      "text/html": [
       "Tracking run with wandb version 0.12.12"
      ],
      "text/plain": [
       "<IPython.core.display.HTML object>"
      ]
     },
     "metadata": {},
     "output_type": "display_data"
    },
    {
     "data": {
      "text/html": [
       "Run data is saved locally in <code>C:\\Users\\teozz\\OneDrive\\Desktop\\vscode_workspace\\projects\\credit_card_fraud_detection\\wandb\\run-20220416_043533-2sphmx10</code>"
      ],
      "text/plain": [
       "<IPython.core.display.HTML object>"
      ]
     },
     "metadata": {},
     "output_type": "display_data"
    },
    {
     "data": {
      "text/html": [
       "Syncing run <strong><a href=\"https://wandb.ai/zuozhe/fraud_detection/runs/2sphmx10\" target=\"_blank\">comfy-river-271</a></strong> to <a href=\"https://wandb.ai/zuozhe/fraud_detection\" target=\"_blank\">Weights & Biases</a> (<a href=\"https://wandb.me/run\" target=\"_blank\">docs</a>)<br/>"
      ],
      "text/plain": [
       "<IPython.core.display.HTML object>"
      ]
     },
     "metadata": {},
     "output_type": "display_data"
    },
    {
     "name": "stderr",
     "output_type": "stream",
     "text": [
      "\u001b[32m[I 2022-04-16 05:15:37,375]\u001b[0m Trial 15 finished with value: 0.8530553390096308 and parameters: {'n_estimators': 1931, 'learning_rate': 0.006484613439981817, 'min_split_gain': 0.017974665925677744, 'objective': 'binary', 'metric': 'average_precision', 'is_unbalance': True}. Best is trial 15 with value: 0.8530553390096308.\u001b[0m\n"
     ]
    },
    {
     "data": {
      "text/html": [
       "Finishing last run (ID:2sphmx10) before initializing another..."
      ],
      "text/plain": [
       "<IPython.core.display.HTML object>"
      ]
     },
     "metadata": {},
     "output_type": "display_data"
    },
    {
     "name": "stdout",
     "output_type": "stream",
     "text": [
      "\n"
     ]
    },
    {
     "data": {
      "text/html": [
       "Waiting for W&B process to finish... <strong style=\"color:green\">(success).</strong>"
      ],
      "text/plain": [
       "<IPython.core.display.HTML object>"
      ]
     },
     "metadata": {},
     "output_type": "display_data"
    },
    {
     "data": {
      "text/html": [
       "<style>\n",
       "    table.wandb td:nth-child(1) { padding: 0 10px; text-align: right }\n",
       "    .wandb-row { display: flex; flex-direction: row; flex-wrap: wrap; width: 100% }\n",
       "    .wandb-col { display: flex; flex-direction: column; flex-basis: 100%; flex: 1; padding: 10px; }\n",
       "    </style>\n",
       "<div class=\"wandb-row\"><div class=\"wandb-col\"><h3>Run history:</h3><br/><table class=\"wandb\"><tr><td>fit_time</td><td>▁</td></tr><tr><td>is_unbalance</td><td>▁</td></tr><tr><td>learning_rate</td><td>▁</td></tr><tr><td>min_split_gain</td><td>▁</td></tr><tr><td>n_estimators</td><td>▁</td></tr><tr><td>on_golden_test</td><td>▁</td></tr><tr><td>score_time</td><td>▁</td></tr><tr><td>test_accuracy</td><td>▁</td></tr><tr><td>test_average_precision</td><td>▁</td></tr><tr><td>test_f1</td><td>▁</td></tr><tr><td>test_precision</td><td>▁</td></tr><tr><td>test_recall</td><td>▁</td></tr><tr><td>test_roc_auc</td><td>▁</td></tr><tr><td>train_accuracy</td><td>▁</td></tr><tr><td>train_average_precision</td><td>▁</td></tr><tr><td>train_f1</td><td>▁</td></tr><tr><td>train_precision</td><td>▁</td></tr><tr><td>train_recall</td><td>▁</td></tr><tr><td>train_roc_auc</td><td>▁</td></tr></table><br/></div><div class=\"wandb-col\"><h3>Run summary:</h3><br/><table class=\"wandb\"><tr><td>fit_time</td><td>1149.09269</td></tr><tr><td>is_unbalance</td><td>True</td></tr><tr><td>learning_rate</td><td>0.00648</td></tr><tr><td>metric</td><td>average_precision</td></tr><tr><td>min_split_gain</td><td>0.01797</td></tr><tr><td>model_name</td><td>LGBMClassifier</td></tr><tr><td>n_estimators</td><td>1931</td></tr><tr><td>objective</td><td>binary</td></tr><tr><td>on_golden_test</td><td>False</td></tr><tr><td>score_time</td><td>55.74245</td></tr><tr><td>test_accuracy</td><td>0.99954</td></tr><tr><td>test_average_precision</td><td>0.85306</td></tr><tr><td>test_f1</td><td>0.85516</td></tr><tr><td>test_precision</td><td>0.92823</td></tr><tr><td>test_recall</td><td>0.79441</td></tr><tr><td>test_roc_auc</td><td>0.97394</td></tr><tr><td>train_accuracy</td><td>1.0</td></tr><tr><td>train_average_precision</td><td>1.0</td></tr><tr><td>train_f1</td><td>1.0</td></tr><tr><td>train_precision</td><td>1.0</td></tr><tr><td>train_recall</td><td>1.0</td></tr><tr><td>train_roc_auc</td><td>1.0</td></tr></table><br/></div></div>"
      ],
      "text/plain": [
       "<IPython.core.display.HTML object>"
      ]
     },
     "metadata": {},
     "output_type": "display_data"
    },
    {
     "data": {
      "text/html": [
       "Synced <strong style=\"color:#cdcd00\">comfy-river-271</strong>: <a href=\"https://wandb.ai/zuozhe/fraud_detection/runs/2sphmx10\" target=\"_blank\">https://wandb.ai/zuozhe/fraud_detection/runs/2sphmx10</a><br/>Synced 5 W&B file(s), 0 media file(s), 0 artifact file(s) and 0 other file(s)"
      ],
      "text/plain": [
       "<IPython.core.display.HTML object>"
      ]
     },
     "metadata": {},
     "output_type": "display_data"
    },
    {
     "data": {
      "text/html": [
       "Find logs at: <code>.\\wandb\\run-20220416_043533-2sphmx10\\logs</code>"
      ],
      "text/plain": [
       "<IPython.core.display.HTML object>"
      ]
     },
     "metadata": {},
     "output_type": "display_data"
    },
    {
     "data": {
      "text/html": [
       "Successfully finished last run (ID:2sphmx10). Initializing new run:<br/>"
      ],
      "text/plain": [
       "<IPython.core.display.HTML object>"
      ]
     },
     "metadata": {},
     "output_type": "display_data"
    },
    {
     "data": {
      "text/html": [
       "wandb version 0.12.14 is available!  To upgrade, please run:\n",
       " $ pip install wandb --upgrade"
      ],
      "text/plain": [
       "<IPython.core.display.HTML object>"
      ]
     },
     "metadata": {},
     "output_type": "display_data"
    },
    {
     "data": {
      "text/html": [
       "Tracking run with wandb version 0.12.12"
      ],
      "text/plain": [
       "<IPython.core.display.HTML object>"
      ]
     },
     "metadata": {},
     "output_type": "display_data"
    },
    {
     "data": {
      "text/html": [
       "Run data is saved locally in <code>C:\\Users\\teozz\\OneDrive\\Desktop\\vscode_workspace\\projects\\credit_card_fraud_detection\\wandb\\run-20220416_051537-2uw92tc0</code>"
      ],
      "text/plain": [
       "<IPython.core.display.HTML object>"
      ]
     },
     "metadata": {},
     "output_type": "display_data"
    },
    {
     "data": {
      "text/html": [
       "Syncing run <strong><a href=\"https://wandb.ai/zuozhe/fraud_detection/runs/2uw92tc0\" target=\"_blank\">misunderstood-fire-272</a></strong> to <a href=\"https://wandb.ai/zuozhe/fraud_detection\" target=\"_blank\">Weights & Biases</a> (<a href=\"https://wandb.me/run\" target=\"_blank\">docs</a>)<br/>"
      ],
      "text/plain": [
       "<IPython.core.display.HTML object>"
      ]
     },
     "metadata": {},
     "output_type": "display_data"
    },
    {
     "name": "stderr",
     "output_type": "stream",
     "text": [
      "\u001b[32m[I 2022-04-16 05:49:14,072]\u001b[0m Trial 16 finished with value: 0.8487992538996837 and parameters: {'n_estimators': 2026, 'learning_rate': 0.01212310779807274, 'min_split_gain': 0.00034621058681273296, 'objective': 'binary', 'metric': 'average_precision', 'is_unbalance': True}. Best is trial 15 with value: 0.8530553390096308.\u001b[0m\n"
     ]
    },
    {
     "data": {
      "text/html": [
       "Finishing last run (ID:2uw92tc0) before initializing another..."
      ],
      "text/plain": [
       "<IPython.core.display.HTML object>"
      ]
     },
     "metadata": {},
     "output_type": "display_data"
    },
    {
     "name": "stdout",
     "output_type": "stream",
     "text": [
      "\n"
     ]
    },
    {
     "data": {
      "text/html": [
       "Waiting for W&B process to finish... <strong style=\"color:green\">(success).</strong>"
      ],
      "text/plain": [
       "<IPython.core.display.HTML object>"
      ]
     },
     "metadata": {},
     "output_type": "display_data"
    },
    {
     "data": {
      "text/html": [
       "<style>\n",
       "    table.wandb td:nth-child(1) { padding: 0 10px; text-align: right }\n",
       "    .wandb-row { display: flex; flex-direction: row; flex-wrap: wrap; width: 100% }\n",
       "    .wandb-col { display: flex; flex-direction: column; flex-basis: 100%; flex: 1; padding: 10px; }\n",
       "    </style>\n",
       "<div class=\"wandb-row\"><div class=\"wandb-col\"><h3>Run history:</h3><br/><table class=\"wandb\"><tr><td>fit_time</td><td>▁</td></tr><tr><td>is_unbalance</td><td>▁</td></tr><tr><td>learning_rate</td><td>▁</td></tr><tr><td>min_split_gain</td><td>▁</td></tr><tr><td>n_estimators</td><td>▁</td></tr><tr><td>on_golden_test</td><td>▁</td></tr><tr><td>score_time</td><td>▁</td></tr><tr><td>test_accuracy</td><td>▁</td></tr><tr><td>test_average_precision</td><td>▁</td></tr><tr><td>test_f1</td><td>▁</td></tr><tr><td>test_precision</td><td>▁</td></tr><tr><td>test_recall</td><td>▁</td></tr><tr><td>test_roc_auc</td><td>▁</td></tr><tr><td>train_accuracy</td><td>▁</td></tr><tr><td>train_average_precision</td><td>▁</td></tr><tr><td>train_f1</td><td>▁</td></tr><tr><td>train_precision</td><td>▁</td></tr><tr><td>train_recall</td><td>▁</td></tr><tr><td>train_roc_auc</td><td>▁</td></tr></table><br/></div><div class=\"wandb-col\"><h3>Run summary:</h3><br/><table class=\"wandb\"><tr><td>fit_time</td><td>986.73472</td></tr><tr><td>is_unbalance</td><td>True</td></tr><tr><td>learning_rate</td><td>0.01212</td></tr><tr><td>metric</td><td>average_precision</td></tr><tr><td>min_split_gain</td><td>0.00035</td></tr><tr><td>model_name</td><td>LGBMClassifier</td></tr><tr><td>n_estimators</td><td>2026</td></tr><tr><td>objective</td><td>binary</td></tr><tr><td>on_golden_test</td><td>False</td></tr><tr><td>score_time</td><td>42.96527</td></tr><tr><td>test_accuracy</td><td>0.99957</td></tr><tr><td>test_average_precision</td><td>0.8488</td></tr><tr><td>test_f1</td><td>0.86359</td></tr><tr><td>test_precision</td><td>0.94142</td></tr><tr><td>test_recall</td><td>0.79923</td></tr><tr><td>test_roc_auc</td><td>0.97122</td></tr><tr><td>train_accuracy</td><td>1.0</td></tr><tr><td>train_average_precision</td><td>1.0</td></tr><tr><td>train_f1</td><td>1.0</td></tr><tr><td>train_precision</td><td>1.0</td></tr><tr><td>train_recall</td><td>1.0</td></tr><tr><td>train_roc_auc</td><td>1.0</td></tr></table><br/></div></div>"
      ],
      "text/plain": [
       "<IPython.core.display.HTML object>"
      ]
     },
     "metadata": {},
     "output_type": "display_data"
    },
    {
     "data": {
      "text/html": [
       "Synced <strong style=\"color:#cdcd00\">misunderstood-fire-272</strong>: <a href=\"https://wandb.ai/zuozhe/fraud_detection/runs/2uw92tc0\" target=\"_blank\">https://wandb.ai/zuozhe/fraud_detection/runs/2uw92tc0</a><br/>Synced 5 W&B file(s), 0 media file(s), 0 artifact file(s) and 0 other file(s)"
      ],
      "text/plain": [
       "<IPython.core.display.HTML object>"
      ]
     },
     "metadata": {},
     "output_type": "display_data"
    },
    {
     "data": {
      "text/html": [
       "Find logs at: <code>.\\wandb\\run-20220416_051537-2uw92tc0\\logs</code>"
      ],
      "text/plain": [
       "<IPython.core.display.HTML object>"
      ]
     },
     "metadata": {},
     "output_type": "display_data"
    },
    {
     "data": {
      "text/html": [
       "Successfully finished last run (ID:2uw92tc0). Initializing new run:<br/>"
      ],
      "text/plain": [
       "<IPython.core.display.HTML object>"
      ]
     },
     "metadata": {},
     "output_type": "display_data"
    },
    {
     "data": {
      "text/html": [
       "wandb version 0.12.14 is available!  To upgrade, please run:\n",
       " $ pip install wandb --upgrade"
      ],
      "text/plain": [
       "<IPython.core.display.HTML object>"
      ]
     },
     "metadata": {},
     "output_type": "display_data"
    },
    {
     "data": {
      "text/html": [
       "Tracking run with wandb version 0.12.12"
      ],
      "text/plain": [
       "<IPython.core.display.HTML object>"
      ]
     },
     "metadata": {},
     "output_type": "display_data"
    },
    {
     "data": {
      "text/html": [
       "Run data is saved locally in <code>C:\\Users\\teozz\\OneDrive\\Desktop\\vscode_workspace\\projects\\credit_card_fraud_detection\\wandb\\run-20220416_054914-2avmdc19</code>"
      ],
      "text/plain": [
       "<IPython.core.display.HTML object>"
      ]
     },
     "metadata": {},
     "output_type": "display_data"
    },
    {
     "data": {
      "text/html": [
       "Syncing run <strong><a href=\"https://wandb.ai/zuozhe/fraud_detection/runs/2avmdc19\" target=\"_blank\">upbeat-planet-273</a></strong> to <a href=\"https://wandb.ai/zuozhe/fraud_detection\" target=\"_blank\">Weights & Biases</a> (<a href=\"https://wandb.me/run\" target=\"_blank\">docs</a>)<br/>"
      ],
      "text/plain": [
       "<IPython.core.display.HTML object>"
      ]
     },
     "metadata": {},
     "output_type": "display_data"
    },
    {
     "name": "stderr",
     "output_type": "stream",
     "text": [
      "\u001b[32m[I 2022-04-16 06:15:50,632]\u001b[0m Trial 17 finished with value: 0.8394687717234909 and parameters: {'n_estimators': 2073, 'learning_rate': 0.012788765996154144, 'min_split_gain': 0.011498134035337499, 'objective': 'binary', 'metric': 'average_precision', 'is_unbalance': True}. Best is trial 15 with value: 0.8530553390096308.\u001b[0m\n"
     ]
    },
    {
     "data": {
      "text/html": [
       "Finishing last run (ID:2avmdc19) before initializing another..."
      ],
      "text/plain": [
       "<IPython.core.display.HTML object>"
      ]
     },
     "metadata": {},
     "output_type": "display_data"
    },
    {
     "name": "stdout",
     "output_type": "stream",
     "text": [
      "\n"
     ]
    },
    {
     "data": {
      "text/html": [
       "Waiting for W&B process to finish... <strong style=\"color:green\">(success).</strong>"
      ],
      "text/plain": [
       "<IPython.core.display.HTML object>"
      ]
     },
     "metadata": {},
     "output_type": "display_data"
    },
    {
     "data": {
      "text/html": [
       "<style>\n",
       "    table.wandb td:nth-child(1) { padding: 0 10px; text-align: right }\n",
       "    .wandb-row { display: flex; flex-direction: row; flex-wrap: wrap; width: 100% }\n",
       "    .wandb-col { display: flex; flex-direction: column; flex-basis: 100%; flex: 1; padding: 10px; }\n",
       "    </style>\n",
       "<div class=\"wandb-row\"><div class=\"wandb-col\"><h3>Run history:</h3><br/><table class=\"wandb\"><tr><td>fit_time</td><td>▁</td></tr><tr><td>is_unbalance</td><td>▁</td></tr><tr><td>learning_rate</td><td>▁</td></tr><tr><td>min_split_gain</td><td>▁</td></tr><tr><td>n_estimators</td><td>▁</td></tr><tr><td>on_golden_test</td><td>▁</td></tr><tr><td>score_time</td><td>▁</td></tr><tr><td>test_accuracy</td><td>▁</td></tr><tr><td>test_average_precision</td><td>▁</td></tr><tr><td>test_f1</td><td>▁</td></tr><tr><td>test_precision</td><td>▁</td></tr><tr><td>test_recall</td><td>▁</td></tr><tr><td>test_roc_auc</td><td>▁</td></tr><tr><td>train_accuracy</td><td>▁</td></tr><tr><td>train_average_precision</td><td>▁</td></tr><tr><td>train_f1</td><td>▁</td></tr><tr><td>train_precision</td><td>▁</td></tr><tr><td>train_recall</td><td>▁</td></tr><tr><td>train_roc_auc</td><td>▁</td></tr></table><br/></div><div class=\"wandb-col\"><h3>Run summary:</h3><br/><table class=\"wandb\"><tr><td>fit_time</td><td>817.30923</td></tr><tr><td>is_unbalance</td><td>True</td></tr><tr><td>learning_rate</td><td>0.01279</td></tr><tr><td>metric</td><td>average_precision</td></tr><tr><td>min_split_gain</td><td>0.0115</td></tr><tr><td>model_name</td><td>LGBMClassifier</td></tr><tr><td>n_estimators</td><td>2073</td></tr><tr><td>objective</td><td>binary</td></tr><tr><td>on_golden_test</td><td>False</td></tr><tr><td>score_time</td><td>26.74427</td></tr><tr><td>test_accuracy</td><td>0.99955</td></tr><tr><td>test_average_precision</td><td>0.83947</td></tr><tr><td>test_f1</td><td>0.86006</td></tr><tr><td>test_precision</td><td>0.92408</td></tr><tr><td>test_recall</td><td>0.80645</td></tr><tr><td>test_roc_auc</td><td>0.96805</td></tr><tr><td>train_accuracy</td><td>1.0</td></tr><tr><td>train_average_precision</td><td>1.0</td></tr><tr><td>train_f1</td><td>1.0</td></tr><tr><td>train_precision</td><td>1.0</td></tr><tr><td>train_recall</td><td>1.0</td></tr><tr><td>train_roc_auc</td><td>1.0</td></tr></table><br/></div></div>"
      ],
      "text/plain": [
       "<IPython.core.display.HTML object>"
      ]
     },
     "metadata": {},
     "output_type": "display_data"
    },
    {
     "data": {
      "text/html": [
       "Synced <strong style=\"color:#cdcd00\">upbeat-planet-273</strong>: <a href=\"https://wandb.ai/zuozhe/fraud_detection/runs/2avmdc19\" target=\"_blank\">https://wandb.ai/zuozhe/fraud_detection/runs/2avmdc19</a><br/>Synced 5 W&B file(s), 0 media file(s), 0 artifact file(s) and 0 other file(s)"
      ],
      "text/plain": [
       "<IPython.core.display.HTML object>"
      ]
     },
     "metadata": {},
     "output_type": "display_data"
    },
    {
     "data": {
      "text/html": [
       "Find logs at: <code>.\\wandb\\run-20220416_054914-2avmdc19\\logs</code>"
      ],
      "text/plain": [
       "<IPython.core.display.HTML object>"
      ]
     },
     "metadata": {},
     "output_type": "display_data"
    },
    {
     "data": {
      "text/html": [
       "Successfully finished last run (ID:2avmdc19). Initializing new run:<br/>"
      ],
      "text/plain": [
       "<IPython.core.display.HTML object>"
      ]
     },
     "metadata": {},
     "output_type": "display_data"
    },
    {
     "data": {
      "text/html": [
       "wandb version 0.12.14 is available!  To upgrade, please run:\n",
       " $ pip install wandb --upgrade"
      ],
      "text/plain": [
       "<IPython.core.display.HTML object>"
      ]
     },
     "metadata": {},
     "output_type": "display_data"
    },
    {
     "data": {
      "text/html": [
       "Tracking run with wandb version 0.12.12"
      ],
      "text/plain": [
       "<IPython.core.display.HTML object>"
      ]
     },
     "metadata": {},
     "output_type": "display_data"
    },
    {
     "data": {
      "text/html": [
       "Run data is saved locally in <code>C:\\Users\\teozz\\OneDrive\\Desktop\\vscode_workspace\\projects\\credit_card_fraud_detection\\wandb\\run-20220416_061550-w5jlsy69</code>"
      ],
      "text/plain": [
       "<IPython.core.display.HTML object>"
      ]
     },
     "metadata": {},
     "output_type": "display_data"
    },
    {
     "data": {
      "text/html": [
       "Syncing run <strong><a href=\"https://wandb.ai/zuozhe/fraud_detection/runs/w5jlsy69\" target=\"_blank\">jolly-hill-274</a></strong> to <a href=\"https://wandb.ai/zuozhe/fraud_detection\" target=\"_blank\">Weights & Biases</a> (<a href=\"https://wandb.me/run\" target=\"_blank\">docs</a>)<br/>"
      ],
      "text/plain": [
       "<IPython.core.display.HTML object>"
      ]
     },
     "metadata": {},
     "output_type": "display_data"
    },
    {
     "name": "stderr",
     "output_type": "stream",
     "text": [
      "\u001b[32m[I 2022-04-16 06:53:26,865]\u001b[0m Trial 18 finished with value: 0.8539735272819154 and parameters: {'n_estimators': 1945, 'learning_rate': 0.0070564854213390526, 'min_split_gain': 0.023358767170507284, 'objective': 'binary', 'metric': 'average_precision', 'is_unbalance': True}. Best is trial 18 with value: 0.8539735272819154.\u001b[0m\n"
     ]
    },
    {
     "data": {
      "text/html": [
       "Finishing last run (ID:w5jlsy69) before initializing another..."
      ],
      "text/plain": [
       "<IPython.core.display.HTML object>"
      ]
     },
     "metadata": {},
     "output_type": "display_data"
    },
    {
     "name": "stdout",
     "output_type": "stream",
     "text": [
      "\n"
     ]
    },
    {
     "data": {
      "text/html": [
       "Waiting for W&B process to finish... <strong style=\"color:green\">(success).</strong>"
      ],
      "text/plain": [
       "<IPython.core.display.HTML object>"
      ]
     },
     "metadata": {},
     "output_type": "display_data"
    },
    {
     "data": {
      "text/html": [
       "<style>\n",
       "    table.wandb td:nth-child(1) { padding: 0 10px; text-align: right }\n",
       "    .wandb-row { display: flex; flex-direction: row; flex-wrap: wrap; width: 100% }\n",
       "    .wandb-col { display: flex; flex-direction: column; flex-basis: 100%; flex: 1; padding: 10px; }\n",
       "    </style>\n",
       "<div class=\"wandb-row\"><div class=\"wandb-col\"><h3>Run history:</h3><br/><table class=\"wandb\"><tr><td>fit_time</td><td>▁</td></tr><tr><td>is_unbalance</td><td>▁</td></tr><tr><td>learning_rate</td><td>▁</td></tr><tr><td>min_split_gain</td><td>▁</td></tr><tr><td>n_estimators</td><td>▁</td></tr><tr><td>on_golden_test</td><td>▁</td></tr><tr><td>score_time</td><td>▁</td></tr><tr><td>test_accuracy</td><td>▁</td></tr><tr><td>test_average_precision</td><td>▁</td></tr><tr><td>test_f1</td><td>▁</td></tr><tr><td>test_precision</td><td>▁</td></tr><tr><td>test_recall</td><td>▁</td></tr><tr><td>test_roc_auc</td><td>▁</td></tr><tr><td>train_accuracy</td><td>▁</td></tr><tr><td>train_average_precision</td><td>▁</td></tr><tr><td>train_f1</td><td>▁</td></tr><tr><td>train_precision</td><td>▁</td></tr><tr><td>train_recall</td><td>▁</td></tr><tr><td>train_roc_auc</td><td>▁</td></tr></table><br/></div><div class=\"wandb-col\"><h3>Run summary:</h3><br/><table class=\"wandb\"><tr><td>fit_time</td><td>1065.67691</td></tr><tr><td>is_unbalance</td><td>True</td></tr><tr><td>learning_rate</td><td>0.00706</td></tr><tr><td>metric</td><td>average_precision</td></tr><tr><td>min_split_gain</td><td>0.02336</td></tr><tr><td>model_name</td><td>LGBMClassifier</td></tr><tr><td>n_estimators</td><td>1945</td></tr><tr><td>objective</td><td>binary</td></tr><tr><td>on_golden_test</td><td>False</td></tr><tr><td>score_time</td><td>54.5045</td></tr><tr><td>test_accuracy</td><td>0.99954</td></tr><tr><td>test_average_precision</td><td>0.85397</td></tr><tr><td>test_f1</td><td>0.85556</td></tr><tr><td>test_precision</td><td>0.92612</td></tr><tr><td>test_recall</td><td>0.79682</td></tr><tr><td>test_roc_auc</td><td>0.97183</td></tr><tr><td>train_accuracy</td><td>1.0</td></tr><tr><td>train_average_precision</td><td>1.0</td></tr><tr><td>train_f1</td><td>1.0</td></tr><tr><td>train_precision</td><td>1.0</td></tr><tr><td>train_recall</td><td>1.0</td></tr><tr><td>train_roc_auc</td><td>1.0</td></tr></table><br/></div></div>"
      ],
      "text/plain": [
       "<IPython.core.display.HTML object>"
      ]
     },
     "metadata": {},
     "output_type": "display_data"
    },
    {
     "data": {
      "text/html": [
       "Synced <strong style=\"color:#cdcd00\">jolly-hill-274</strong>: <a href=\"https://wandb.ai/zuozhe/fraud_detection/runs/w5jlsy69\" target=\"_blank\">https://wandb.ai/zuozhe/fraud_detection/runs/w5jlsy69</a><br/>Synced 5 W&B file(s), 0 media file(s), 0 artifact file(s) and 0 other file(s)"
      ],
      "text/plain": [
       "<IPython.core.display.HTML object>"
      ]
     },
     "metadata": {},
     "output_type": "display_data"
    },
    {
     "data": {
      "text/html": [
       "Find logs at: <code>.\\wandb\\run-20220416_061550-w5jlsy69\\logs</code>"
      ],
      "text/plain": [
       "<IPython.core.display.HTML object>"
      ]
     },
     "metadata": {},
     "output_type": "display_data"
    },
    {
     "data": {
      "text/html": [
       "Successfully finished last run (ID:w5jlsy69). Initializing new run:<br/>"
      ],
      "text/plain": [
       "<IPython.core.display.HTML object>"
      ]
     },
     "metadata": {},
     "output_type": "display_data"
    },
    {
     "data": {
      "text/html": [
       "wandb version 0.12.14 is available!  To upgrade, please run:\n",
       " $ pip install wandb --upgrade"
      ],
      "text/plain": [
       "<IPython.core.display.HTML object>"
      ]
     },
     "metadata": {},
     "output_type": "display_data"
    },
    {
     "data": {
      "text/html": [
       "Tracking run with wandb version 0.12.12"
      ],
      "text/plain": [
       "<IPython.core.display.HTML object>"
      ]
     },
     "metadata": {},
     "output_type": "display_data"
    },
    {
     "data": {
      "text/html": [
       "Run data is saved locally in <code>C:\\Users\\teozz\\OneDrive\\Desktop\\vscode_workspace\\projects\\credit_card_fraud_detection\\wandb\\run-20220416_065326-343pehlj</code>"
      ],
      "text/plain": [
       "<IPython.core.display.HTML object>"
      ]
     },
     "metadata": {},
     "output_type": "display_data"
    },
    {
     "data": {
      "text/html": [
       "Syncing run <strong><a href=\"https://wandb.ai/zuozhe/fraud_detection/runs/343pehlj\" target=\"_blank\">fresh-forest-275</a></strong> to <a href=\"https://wandb.ai/zuozhe/fraud_detection\" target=\"_blank\">Weights & Biases</a> (<a href=\"https://wandb.me/run\" target=\"_blank\">docs</a>)<br/>"
      ],
      "text/plain": [
       "<IPython.core.display.HTML object>"
      ]
     },
     "metadata": {},
     "output_type": "display_data"
    },
    {
     "name": "stderr",
     "output_type": "stream",
     "text": [
      "\u001b[32m[I 2022-04-16 07:31:13,726]\u001b[0m Trial 19 finished with value: 0.8528020074224946 and parameters: {'n_estimators': 1872, 'learning_rate': 0.006758764454667806, 'min_split_gain': 0.0255068562956186, 'objective': 'binary', 'metric': 'average_precision', 'is_unbalance': True}. Best is trial 18 with value: 0.8539735272819154.\u001b[0m\n"
     ]
    },
    {
     "data": {
      "text/html": [
       "Finishing last run (ID:343pehlj) before initializing another..."
      ],
      "text/plain": [
       "<IPython.core.display.HTML object>"
      ]
     },
     "metadata": {},
     "output_type": "display_data"
    },
    {
     "name": "stdout",
     "output_type": "stream",
     "text": [
      "\n"
     ]
    },
    {
     "data": {
      "text/html": [
       "Waiting for W&B process to finish... <strong style=\"color:green\">(success).</strong>"
      ],
      "text/plain": [
       "<IPython.core.display.HTML object>"
      ]
     },
     "metadata": {},
     "output_type": "display_data"
    },
    {
     "data": {
      "text/html": [
       "<style>\n",
       "    table.wandb td:nth-child(1) { padding: 0 10px; text-align: right }\n",
       "    .wandb-row { display: flex; flex-direction: row; flex-wrap: wrap; width: 100% }\n",
       "    .wandb-col { display: flex; flex-direction: column; flex-basis: 100%; flex: 1; padding: 10px; }\n",
       "    </style>\n",
       "<div class=\"wandb-row\"><div class=\"wandb-col\"><h3>Run history:</h3><br/><table class=\"wandb\"><tr><td>fit_time</td><td>▁</td></tr><tr><td>is_unbalance</td><td>▁</td></tr><tr><td>learning_rate</td><td>▁</td></tr><tr><td>min_split_gain</td><td>▁</td></tr><tr><td>n_estimators</td><td>▁</td></tr><tr><td>on_golden_test</td><td>▁</td></tr><tr><td>score_time</td><td>▁</td></tr><tr><td>test_accuracy</td><td>▁</td></tr><tr><td>test_average_precision</td><td>▁</td></tr><tr><td>test_f1</td><td>▁</td></tr><tr><td>test_precision</td><td>▁</td></tr><tr><td>test_recall</td><td>▁</td></tr><tr><td>test_roc_auc</td><td>▁</td></tr><tr><td>train_accuracy</td><td>▁</td></tr><tr><td>train_average_precision</td><td>▁</td></tr><tr><td>train_f1</td><td>▁</td></tr><tr><td>train_precision</td><td>▁</td></tr><tr><td>train_recall</td><td>▁</td></tr><tr><td>train_roc_auc</td><td>▁</td></tr></table><br/></div><div class=\"wandb-col\"><h3>Run summary:</h3><br/><table class=\"wandb\"><tr><td>fit_time</td><td>1077.51223</td></tr><tr><td>is_unbalance</td><td>True</td></tr><tr><td>learning_rate</td><td>0.00676</td></tr><tr><td>metric</td><td>average_precision</td></tr><tr><td>min_split_gain</td><td>0.02551</td></tr><tr><td>model_name</td><td>LGBMClassifier</td></tr><tr><td>n_estimators</td><td>1872</td></tr><tr><td>objective</td><td>binary</td></tr><tr><td>on_golden_test</td><td>False</td></tr><tr><td>score_time</td><td>53.41503</td></tr><tr><td>test_accuracy</td><td>0.99954</td></tr><tr><td>test_average_precision</td><td>0.8528</td></tr><tr><td>test_f1</td><td>0.85516</td></tr><tr><td>test_precision</td><td>0.92823</td></tr><tr><td>test_recall</td><td>0.79441</td></tr><tr><td>test_roc_auc</td><td>0.97318</td></tr><tr><td>train_accuracy</td><td>1.0</td></tr><tr><td>train_average_precision</td><td>1.0</td></tr><tr><td>train_f1</td><td>1.0</td></tr><tr><td>train_precision</td><td>1.0</td></tr><tr><td>train_recall</td><td>1.0</td></tr><tr><td>train_roc_auc</td><td>1.0</td></tr></table><br/></div></div>"
      ],
      "text/plain": [
       "<IPython.core.display.HTML object>"
      ]
     },
     "metadata": {},
     "output_type": "display_data"
    },
    {
     "data": {
      "text/html": [
       "Synced <strong style=\"color:#cdcd00\">fresh-forest-275</strong>: <a href=\"https://wandb.ai/zuozhe/fraud_detection/runs/343pehlj\" target=\"_blank\">https://wandb.ai/zuozhe/fraud_detection/runs/343pehlj</a><br/>Synced 5 W&B file(s), 0 media file(s), 0 artifact file(s) and 0 other file(s)"
      ],
      "text/plain": [
       "<IPython.core.display.HTML object>"
      ]
     },
     "metadata": {},
     "output_type": "display_data"
    },
    {
     "data": {
      "text/html": [
       "Find logs at: <code>.\\wandb\\run-20220416_065326-343pehlj\\logs</code>"
      ],
      "text/plain": [
       "<IPython.core.display.HTML object>"
      ]
     },
     "metadata": {},
     "output_type": "display_data"
    },
    {
     "data": {
      "text/html": [
       "Successfully finished last run (ID:343pehlj). Initializing new run:<br/>"
      ],
      "text/plain": [
       "<IPython.core.display.HTML object>"
      ]
     },
     "metadata": {},
     "output_type": "display_data"
    },
    {
     "data": {
      "text/html": [
       "wandb version 0.12.14 is available!  To upgrade, please run:\n",
       " $ pip install wandb --upgrade"
      ],
      "text/plain": [
       "<IPython.core.display.HTML object>"
      ]
     },
     "metadata": {},
     "output_type": "display_data"
    },
    {
     "data": {
      "text/html": [
       "Tracking run with wandb version 0.12.12"
      ],
      "text/plain": [
       "<IPython.core.display.HTML object>"
      ]
     },
     "metadata": {},
     "output_type": "display_data"
    },
    {
     "data": {
      "text/html": [
       "Run data is saved locally in <code>C:\\Users\\teozz\\OneDrive\\Desktop\\vscode_workspace\\projects\\credit_card_fraud_detection\\wandb\\run-20220416_073113-k6ppbvwc</code>"
      ],
      "text/plain": [
       "<IPython.core.display.HTML object>"
      ]
     },
     "metadata": {},
     "output_type": "display_data"
    },
    {
     "data": {
      "text/html": [
       "Syncing run <strong><a href=\"https://wandb.ai/zuozhe/fraud_detection/runs/k6ppbvwc\" target=\"_blank\">lilac-deluge-276</a></strong> to <a href=\"https://wandb.ai/zuozhe/fraud_detection\" target=\"_blank\">Weights & Biases</a> (<a href=\"https://wandb.me/run\" target=\"_blank\">docs</a>)<br/>"
      ],
      "text/plain": [
       "<IPython.core.display.HTML object>"
      ]
     },
     "metadata": {},
     "output_type": "display_data"
    },
    {
     "name": "stderr",
     "output_type": "stream",
     "text": [
      "\u001b[32m[I 2022-04-16 08:16:22,662]\u001b[0m Trial 20 finished with value: 0.8269471387278007 and parameters: {'n_estimators': 2111, 'learning_rate': 0.0029831698724625305, 'min_split_gain': 0.024114342226604753, 'objective': 'binary', 'metric': 'average_precision', 'is_unbalance': True}. Best is trial 18 with value: 0.8539735272819154.\u001b[0m\n"
     ]
    },
    {
     "data": {
      "text/html": [
       "Finishing last run (ID:k6ppbvwc) before initializing another..."
      ],
      "text/plain": [
       "<IPython.core.display.HTML object>"
      ]
     },
     "metadata": {},
     "output_type": "display_data"
    },
    {
     "name": "stdout",
     "output_type": "stream",
     "text": [
      "\n"
     ]
    },
    {
     "data": {
      "text/html": [
       "Waiting for W&B process to finish... <strong style=\"color:green\">(success).</strong>"
      ],
      "text/plain": [
       "<IPython.core.display.HTML object>"
      ]
     },
     "metadata": {},
     "output_type": "display_data"
    },
    {
     "data": {
      "text/html": [
       "<style>\n",
       "    table.wandb td:nth-child(1) { padding: 0 10px; text-align: right }\n",
       "    .wandb-row { display: flex; flex-direction: row; flex-wrap: wrap; width: 100% }\n",
       "    .wandb-col { display: flex; flex-direction: column; flex-basis: 100%; flex: 1; padding: 10px; }\n",
       "    </style>\n",
       "<div class=\"wandb-row\"><div class=\"wandb-col\"><h3>Run history:</h3><br/><table class=\"wandb\"><tr><td>fit_time</td><td>▁</td></tr><tr><td>is_unbalance</td><td>▁</td></tr><tr><td>learning_rate</td><td>▁</td></tr><tr><td>min_split_gain</td><td>▁</td></tr><tr><td>n_estimators</td><td>▁</td></tr><tr><td>on_golden_test</td><td>▁</td></tr><tr><td>score_time</td><td>▁</td></tr><tr><td>test_accuracy</td><td>▁</td></tr><tr><td>test_average_precision</td><td>▁</td></tr><tr><td>test_f1</td><td>▁</td></tr><tr><td>test_precision</td><td>▁</td></tr><tr><td>test_recall</td><td>▁</td></tr><tr><td>test_roc_auc</td><td>▁</td></tr><tr><td>train_accuracy</td><td>▁</td></tr><tr><td>train_average_precision</td><td>▁</td></tr><tr><td>train_f1</td><td>▁</td></tr><tr><td>train_precision</td><td>▁</td></tr><tr><td>train_recall</td><td>▁</td></tr><tr><td>train_roc_auc</td><td>▁</td></tr></table><br/></div><div class=\"wandb-col\"><h3>Run summary:</h3><br/><table class=\"wandb\"><tr><td>fit_time</td><td>1299.09644</td></tr><tr><td>is_unbalance</td><td>True</td></tr><tr><td>learning_rate</td><td>0.00298</td></tr><tr><td>metric</td><td>average_precision</td></tr><tr><td>min_split_gain</td><td>0.02411</td></tr><tr><td>model_name</td><td>LGBMClassifier</td></tr><tr><td>n_estimators</td><td>2111</td></tr><tr><td>objective</td><td>binary</td></tr><tr><td>on_golden_test</td><td>False</td></tr><tr><td>score_time</td><td>61.71012</td></tr><tr><td>test_accuracy</td><td>0.99945</td></tr><tr><td>test_average_precision</td><td>0.82695</td></tr><tr><td>test_f1</td><td>0.83056</td></tr><tr><td>test_precision</td><td>0.87876</td></tr><tr><td>test_recall</td><td>0.78959</td></tr><tr><td>test_roc_auc</td><td>0.97816</td></tr><tr><td>train_accuracy</td><td>0.99991</td></tr><tr><td>train_average_precision</td><td>0.98954</td></tr><tr><td>train_f1</td><td>0.97476</td></tr><tr><td>train_precision</td><td>0.95095</td></tr><tr><td>train_recall</td><td>1.0</td></tr><tr><td>train_roc_auc</td><td>0.99999</td></tr></table><br/></div></div>"
      ],
      "text/plain": [
       "<IPython.core.display.HTML object>"
      ]
     },
     "metadata": {},
     "output_type": "display_data"
    },
    {
     "data": {
      "text/html": [
       "Synced <strong style=\"color:#cdcd00\">lilac-deluge-276</strong>: <a href=\"https://wandb.ai/zuozhe/fraud_detection/runs/k6ppbvwc\" target=\"_blank\">https://wandb.ai/zuozhe/fraud_detection/runs/k6ppbvwc</a><br/>Synced 5 W&B file(s), 0 media file(s), 0 artifact file(s) and 0 other file(s)"
      ],
      "text/plain": [
       "<IPython.core.display.HTML object>"
      ]
     },
     "metadata": {},
     "output_type": "display_data"
    },
    {
     "data": {
      "text/html": [
       "Find logs at: <code>.\\wandb\\run-20220416_073113-k6ppbvwc\\logs</code>"
      ],
      "text/plain": [
       "<IPython.core.display.HTML object>"
      ]
     },
     "metadata": {},
     "output_type": "display_data"
    },
    {
     "data": {
      "text/html": [
       "Successfully finished last run (ID:k6ppbvwc). Initializing new run:<br/>"
      ],
      "text/plain": [
       "<IPython.core.display.HTML object>"
      ]
     },
     "metadata": {},
     "output_type": "display_data"
    },
    {
     "data": {
      "text/html": [
       "wandb version 0.12.14 is available!  To upgrade, please run:\n",
       " $ pip install wandb --upgrade"
      ],
      "text/plain": [
       "<IPython.core.display.HTML object>"
      ]
     },
     "metadata": {},
     "output_type": "display_data"
    },
    {
     "data": {
      "text/html": [
       "Tracking run with wandb version 0.12.12"
      ],
      "text/plain": [
       "<IPython.core.display.HTML object>"
      ]
     },
     "metadata": {},
     "output_type": "display_data"
    },
    {
     "data": {
      "text/html": [
       "Run data is saved locally in <code>C:\\Users\\teozz\\OneDrive\\Desktop\\vscode_workspace\\projects\\credit_card_fraud_detection\\wandb\\run-20220416_081622-svlmtvl5</code>"
      ],
      "text/plain": [
       "<IPython.core.display.HTML object>"
      ]
     },
     "metadata": {},
     "output_type": "display_data"
    },
    {
     "data": {
      "text/html": [
       "Syncing run <strong><a href=\"https://wandb.ai/zuozhe/fraud_detection/runs/svlmtvl5\" target=\"_blank\">driven-plant-277</a></strong> to <a href=\"https://wandb.ai/zuozhe/fraud_detection\" target=\"_blank\">Weights & Biases</a> (<a href=\"https://wandb.me/run\" target=\"_blank\">docs</a>)<br/>"
      ],
      "text/plain": [
       "<IPython.core.display.HTML object>"
      ]
     },
     "metadata": {},
     "output_type": "display_data"
    },
    {
     "name": "stderr",
     "output_type": "stream",
     "text": [
      "\u001b[32m[I 2022-04-16 08:53:43,703]\u001b[0m Trial 21 finished with value: 0.8534737451723432 and parameters: {'n_estimators': 1904, 'learning_rate': 0.0068711132720446055, 'min_split_gain': 0.028878596029769967, 'objective': 'binary', 'metric': 'average_precision', 'is_unbalance': True}. Best is trial 18 with value: 0.8539735272819154.\u001b[0m\n"
     ]
    },
    {
     "data": {
      "text/html": [
       "Finishing last run (ID:svlmtvl5) before initializing another..."
      ],
      "text/plain": [
       "<IPython.core.display.HTML object>"
      ]
     },
     "metadata": {},
     "output_type": "display_data"
    },
    {
     "name": "stdout",
     "output_type": "stream",
     "text": [
      "\n"
     ]
    },
    {
     "data": {
      "text/html": [
       "Waiting for W&B process to finish... <strong style=\"color:green\">(success).</strong>"
      ],
      "text/plain": [
       "<IPython.core.display.HTML object>"
      ]
     },
     "metadata": {},
     "output_type": "display_data"
    },
    {
     "data": {
      "text/html": [
       "<style>\n",
       "    table.wandb td:nth-child(1) { padding: 0 10px; text-align: right }\n",
       "    .wandb-row { display: flex; flex-direction: row; flex-wrap: wrap; width: 100% }\n",
       "    .wandb-col { display: flex; flex-direction: column; flex-basis: 100%; flex: 1; padding: 10px; }\n",
       "    </style>\n",
       "<div class=\"wandb-row\"><div class=\"wandb-col\"><h3>Run history:</h3><br/><table class=\"wandb\"><tr><td>fit_time</td><td>▁</td></tr><tr><td>is_unbalance</td><td>▁</td></tr><tr><td>learning_rate</td><td>▁</td></tr><tr><td>min_split_gain</td><td>▁</td></tr><tr><td>n_estimators</td><td>▁</td></tr><tr><td>on_golden_test</td><td>▁</td></tr><tr><td>score_time</td><td>▁</td></tr><tr><td>test_accuracy</td><td>▁</td></tr><tr><td>test_average_precision</td><td>▁</td></tr><tr><td>test_f1</td><td>▁</td></tr><tr><td>test_precision</td><td>▁</td></tr><tr><td>test_recall</td><td>▁</td></tr><tr><td>test_roc_auc</td><td>▁</td></tr><tr><td>train_accuracy</td><td>▁</td></tr><tr><td>train_average_precision</td><td>▁</td></tr><tr><td>train_f1</td><td>▁</td></tr><tr><td>train_precision</td><td>▁</td></tr><tr><td>train_recall</td><td>▁</td></tr><tr><td>train_roc_auc</td><td>▁</td></tr></table><br/></div><div class=\"wandb-col\"><h3>Run summary:</h3><br/><table class=\"wandb\"><tr><td>fit_time</td><td>1064.43934</td></tr><tr><td>is_unbalance</td><td>True</td></tr><tr><td>learning_rate</td><td>0.00687</td></tr><tr><td>metric</td><td>average_precision</td></tr><tr><td>min_split_gain</td><td>0.02888</td></tr><tr><td>model_name</td><td>LGBMClassifier</td></tr><tr><td>n_estimators</td><td>1904</td></tr><tr><td>objective</td><td>binary</td></tr><tr><td>on_golden_test</td><td>False</td></tr><tr><td>score_time</td><td>53.66603</td></tr><tr><td>test_accuracy</td><td>0.99953</td></tr><tr><td>test_average_precision</td><td>0.85347</td></tr><tr><td>test_f1</td><td>0.853</td></tr><tr><td>test_precision</td><td>0.92325</td></tr><tr><td>test_recall</td><td>0.79441</td></tr><tr><td>test_roc_auc</td><td>0.974</td></tr><tr><td>train_accuracy</td><td>1.0</td></tr><tr><td>train_average_precision</td><td>1.0</td></tr><tr><td>train_f1</td><td>1.0</td></tr><tr><td>train_precision</td><td>1.0</td></tr><tr><td>train_recall</td><td>1.0</td></tr><tr><td>train_roc_auc</td><td>1.0</td></tr></table><br/></div></div>"
      ],
      "text/plain": [
       "<IPython.core.display.HTML object>"
      ]
     },
     "metadata": {},
     "output_type": "display_data"
    },
    {
     "data": {
      "text/html": [
       "Synced <strong style=\"color:#cdcd00\">driven-plant-277</strong>: <a href=\"https://wandb.ai/zuozhe/fraud_detection/runs/svlmtvl5\" target=\"_blank\">https://wandb.ai/zuozhe/fraud_detection/runs/svlmtvl5</a><br/>Synced 5 W&B file(s), 0 media file(s), 0 artifact file(s) and 0 other file(s)"
      ],
      "text/plain": [
       "<IPython.core.display.HTML object>"
      ]
     },
     "metadata": {},
     "output_type": "display_data"
    },
    {
     "data": {
      "text/html": [
       "Find logs at: <code>.\\wandb\\run-20220416_081622-svlmtvl5\\logs</code>"
      ],
      "text/plain": [
       "<IPython.core.display.HTML object>"
      ]
     },
     "metadata": {},
     "output_type": "display_data"
    },
    {
     "data": {
      "text/html": [
       "Successfully finished last run (ID:svlmtvl5). Initializing new run:<br/>"
      ],
      "text/plain": [
       "<IPython.core.display.HTML object>"
      ]
     },
     "metadata": {},
     "output_type": "display_data"
    },
    {
     "data": {
      "text/html": [
       "wandb version 0.12.14 is available!  To upgrade, please run:\n",
       " $ pip install wandb --upgrade"
      ],
      "text/plain": [
       "<IPython.core.display.HTML object>"
      ]
     },
     "metadata": {},
     "output_type": "display_data"
    },
    {
     "data": {
      "text/html": [
       "Tracking run with wandb version 0.12.12"
      ],
      "text/plain": [
       "<IPython.core.display.HTML object>"
      ]
     },
     "metadata": {},
     "output_type": "display_data"
    },
    {
     "data": {
      "text/html": [
       "Run data is saved locally in <code>C:\\Users\\teozz\\OneDrive\\Desktop\\vscode_workspace\\projects\\credit_card_fraud_detection\\wandb\\run-20220416_085343-2x6r1gt4</code>"
      ],
      "text/plain": [
       "<IPython.core.display.HTML object>"
      ]
     },
     "metadata": {},
     "output_type": "display_data"
    },
    {
     "data": {
      "text/html": [
       "Syncing run <strong><a href=\"https://wandb.ai/zuozhe/fraud_detection/runs/2x6r1gt4\" target=\"_blank\">zany-silence-278</a></strong> to <a href=\"https://wandb.ai/zuozhe/fraud_detection\" target=\"_blank\">Weights & Biases</a> (<a href=\"https://wandb.me/run\" target=\"_blank\">docs</a>)<br/>"
      ],
      "text/plain": [
       "<IPython.core.display.HTML object>"
      ]
     },
     "metadata": {},
     "output_type": "display_data"
    },
    {
     "name": "stderr",
     "output_type": "stream",
     "text": [
      "\u001b[32m[I 2022-04-16 09:30:19,805]\u001b[0m Trial 22 finished with value: 0.8533458925198272 and parameters: {'n_estimators': 1919, 'learning_rate': 0.007863824526269464, 'min_split_gain': 0.013190615390839225, 'objective': 'binary', 'metric': 'average_precision', 'is_unbalance': True}. Best is trial 18 with value: 0.8539735272819154.\u001b[0m\n"
     ]
    },
    {
     "data": {
      "text/html": [
       "Finishing last run (ID:2x6r1gt4) before initializing another..."
      ],
      "text/plain": [
       "<IPython.core.display.HTML object>"
      ]
     },
     "metadata": {},
     "output_type": "display_data"
    },
    {
     "name": "stdout",
     "output_type": "stream",
     "text": [
      "\n"
     ]
    },
    {
     "data": {
      "text/html": [
       "Waiting for W&B process to finish... <strong style=\"color:green\">(success).</strong>"
      ],
      "text/plain": [
       "<IPython.core.display.HTML object>"
      ]
     },
     "metadata": {},
     "output_type": "display_data"
    },
    {
     "data": {
      "text/html": [
       "<style>\n",
       "    table.wandb td:nth-child(1) { padding: 0 10px; text-align: right }\n",
       "    .wandb-row { display: flex; flex-direction: row; flex-wrap: wrap; width: 100% }\n",
       "    .wandb-col { display: flex; flex-direction: column; flex-basis: 100%; flex: 1; padding: 10px; }\n",
       "    </style>\n",
       "<div class=\"wandb-row\"><div class=\"wandb-col\"><h3>Run history:</h3><br/><table class=\"wandb\"><tr><td>fit_time</td><td>▁</td></tr><tr><td>is_unbalance</td><td>▁</td></tr><tr><td>learning_rate</td><td>▁</td></tr><tr><td>min_split_gain</td><td>▁</td></tr><tr><td>n_estimators</td><td>▁</td></tr><tr><td>on_golden_test</td><td>▁</td></tr><tr><td>score_time</td><td>▁</td></tr><tr><td>test_accuracy</td><td>▁</td></tr><tr><td>test_average_precision</td><td>▁</td></tr><tr><td>test_f1</td><td>▁</td></tr><tr><td>test_precision</td><td>▁</td></tr><tr><td>test_recall</td><td>▁</td></tr><tr><td>test_roc_auc</td><td>▁</td></tr><tr><td>train_accuracy</td><td>▁</td></tr><tr><td>train_average_precision</td><td>▁</td></tr><tr><td>train_f1</td><td>▁</td></tr><tr><td>train_precision</td><td>▁</td></tr><tr><td>train_recall</td><td>▁</td></tr><tr><td>train_roc_auc</td><td>▁</td></tr></table><br/></div><div class=\"wandb-col\"><h3>Run summary:</h3><br/><table class=\"wandb\"><tr><td>fit_time</td><td>1034.89256</td></tr><tr><td>is_unbalance</td><td>True</td></tr><tr><td>learning_rate</td><td>0.00786</td></tr><tr><td>metric</td><td>average_precision</td></tr><tr><td>min_split_gain</td><td>0.01319</td></tr><tr><td>model_name</td><td>LGBMClassifier</td></tr><tr><td>n_estimators</td><td>1919</td></tr><tr><td>objective</td><td>binary</td></tr><tr><td>on_golden_test</td><td>False</td></tr><tr><td>score_time</td><td>53.02857</td></tr><tr><td>test_accuracy</td><td>0.99957</td></tr><tr><td>test_average_precision</td><td>0.85335</td></tr><tr><td>test_f1</td><td>0.86432</td></tr><tr><td>test_precision</td><td>0.93584</td></tr><tr><td>test_recall</td><td>0.80404</td></tr><tr><td>test_roc_auc</td><td>0.97398</td></tr><tr><td>train_accuracy</td><td>1.0</td></tr><tr><td>train_average_precision</td><td>1.0</td></tr><tr><td>train_f1</td><td>1.0</td></tr><tr><td>train_precision</td><td>1.0</td></tr><tr><td>train_recall</td><td>1.0</td></tr><tr><td>train_roc_auc</td><td>1.0</td></tr></table><br/></div></div>"
      ],
      "text/plain": [
       "<IPython.core.display.HTML object>"
      ]
     },
     "metadata": {},
     "output_type": "display_data"
    },
    {
     "data": {
      "text/html": [
       "Synced <strong style=\"color:#cdcd00\">zany-silence-278</strong>: <a href=\"https://wandb.ai/zuozhe/fraud_detection/runs/2x6r1gt4\" target=\"_blank\">https://wandb.ai/zuozhe/fraud_detection/runs/2x6r1gt4</a><br/>Synced 5 W&B file(s), 0 media file(s), 0 artifact file(s) and 0 other file(s)"
      ],
      "text/plain": [
       "<IPython.core.display.HTML object>"
      ]
     },
     "metadata": {},
     "output_type": "display_data"
    },
    {
     "data": {
      "text/html": [
       "Find logs at: <code>.\\wandb\\run-20220416_085343-2x6r1gt4\\logs</code>"
      ],
      "text/plain": [
       "<IPython.core.display.HTML object>"
      ]
     },
     "metadata": {},
     "output_type": "display_data"
    },
    {
     "data": {
      "text/html": [
       "Successfully finished last run (ID:2x6r1gt4). Initializing new run:<br/>"
      ],
      "text/plain": [
       "<IPython.core.display.HTML object>"
      ]
     },
     "metadata": {},
     "output_type": "display_data"
    },
    {
     "data": {
      "text/html": [
       "wandb version 0.12.14 is available!  To upgrade, please run:\n",
       " $ pip install wandb --upgrade"
      ],
      "text/plain": [
       "<IPython.core.display.HTML object>"
      ]
     },
     "metadata": {},
     "output_type": "display_data"
    },
    {
     "data": {
      "text/html": [
       "Tracking run with wandb version 0.12.12"
      ],
      "text/plain": [
       "<IPython.core.display.HTML object>"
      ]
     },
     "metadata": {},
     "output_type": "display_data"
    },
    {
     "data": {
      "text/html": [
       "Run data is saved locally in <code>C:\\Users\\teozz\\OneDrive\\Desktop\\vscode_workspace\\projects\\credit_card_fraud_detection\\wandb\\run-20220416_093019-20rrjq7s</code>"
      ],
      "text/plain": [
       "<IPython.core.display.HTML object>"
      ]
     },
     "metadata": {},
     "output_type": "display_data"
    },
    {
     "data": {
      "text/html": [
       "Syncing run <strong><a href=\"https://wandb.ai/zuozhe/fraud_detection/runs/20rrjq7s\" target=\"_blank\">driven-morning-279</a></strong> to <a href=\"https://wandb.ai/zuozhe/fraud_detection\" target=\"_blank\">Weights & Biases</a> (<a href=\"https://wandb.me/run\" target=\"_blank\">docs</a>)<br/>"
      ],
      "text/plain": [
       "<IPython.core.display.HTML object>"
      ]
     },
     "metadata": {},
     "output_type": "display_data"
    },
    {
     "name": "stderr",
     "output_type": "stream",
     "text": [
      "\u001b[32m[I 2022-04-16 10:06:30,146]\u001b[0m Trial 23 finished with value: 0.8499277341336272 and parameters: {'n_estimators': 1847, 'learning_rate': 0.008204538128372105, 'min_split_gain': 0.008717071741934288, 'objective': 'binary', 'metric': 'average_precision', 'is_unbalance': True}. Best is trial 18 with value: 0.8539735272819154.\u001b[0m\n"
     ]
    },
    {
     "data": {
      "text/html": [
       "Finishing last run (ID:20rrjq7s) before initializing another..."
      ],
      "text/plain": [
       "<IPython.core.display.HTML object>"
      ]
     },
     "metadata": {},
     "output_type": "display_data"
    },
    {
     "name": "stdout",
     "output_type": "stream",
     "text": [
      "\n"
     ]
    },
    {
     "data": {
      "text/html": [
       "Waiting for W&B process to finish... <strong style=\"color:green\">(success).</strong>"
      ],
      "text/plain": [
       "<IPython.core.display.HTML object>"
      ]
     },
     "metadata": {},
     "output_type": "display_data"
    },
    {
     "data": {
      "text/html": [
       "<style>\n",
       "    table.wandb td:nth-child(1) { padding: 0 10px; text-align: right }\n",
       "    .wandb-row { display: flex; flex-direction: row; flex-wrap: wrap; width: 100% }\n",
       "    .wandb-col { display: flex; flex-direction: column; flex-basis: 100%; flex: 1; padding: 10px; }\n",
       "    </style>\n",
       "<div class=\"wandb-row\"><div class=\"wandb-col\"><h3>Run history:</h3><br/><table class=\"wandb\"><tr><td>fit_time</td><td>▁</td></tr><tr><td>is_unbalance</td><td>▁</td></tr><tr><td>learning_rate</td><td>▁</td></tr><tr><td>min_split_gain</td><td>▁</td></tr><tr><td>n_estimators</td><td>▁</td></tr><tr><td>on_golden_test</td><td>▁</td></tr><tr><td>score_time</td><td>▁</td></tr><tr><td>test_accuracy</td><td>▁</td></tr><tr><td>test_average_precision</td><td>▁</td></tr><tr><td>test_f1</td><td>▁</td></tr><tr><td>test_precision</td><td>▁</td></tr><tr><td>test_recall</td><td>▁</td></tr><tr><td>test_roc_auc</td><td>▁</td></tr><tr><td>train_accuracy</td><td>▁</td></tr><tr><td>train_average_precision</td><td>▁</td></tr><tr><td>train_f1</td><td>▁</td></tr><tr><td>train_precision</td><td>▁</td></tr><tr><td>train_recall</td><td>▁</td></tr><tr><td>train_roc_auc</td><td>▁</td></tr></table><br/></div><div class=\"wandb-col\"><h3>Run summary:</h3><br/><table class=\"wandb\"><tr><td>fit_time</td><td>1032.61662</td></tr><tr><td>is_unbalance</td><td>True</td></tr><tr><td>learning_rate</td><td>0.0082</td></tr><tr><td>metric</td><td>average_precision</td></tr><tr><td>min_split_gain</td><td>0.00872</td></tr><tr><td>model_name</td><td>LGBMClassifier</td></tr><tr><td>n_estimators</td><td>1847</td></tr><tr><td>objective</td><td>binary</td></tr><tr><td>on_golden_test</td><td>False</td></tr><tr><td>score_time</td><td>51.68774</td></tr><tr><td>test_accuracy</td><td>0.99956</td></tr><tr><td>test_average_precision</td><td>0.84993</td></tr><tr><td>test_f1</td><td>0.86316</td></tr><tr><td>test_precision</td><td>0.93348</td></tr><tr><td>test_recall</td><td>0.80404</td></tr><tr><td>test_roc_auc</td><td>0.97044</td></tr><tr><td>train_accuracy</td><td>1.0</td></tr><tr><td>train_average_precision</td><td>1.0</td></tr><tr><td>train_f1</td><td>1.0</td></tr><tr><td>train_precision</td><td>1.0</td></tr><tr><td>train_recall</td><td>1.0</td></tr><tr><td>train_roc_auc</td><td>1.0</td></tr></table><br/></div></div>"
      ],
      "text/plain": [
       "<IPython.core.display.HTML object>"
      ]
     },
     "metadata": {},
     "output_type": "display_data"
    },
    {
     "data": {
      "text/html": [
       "Synced <strong style=\"color:#cdcd00\">driven-morning-279</strong>: <a href=\"https://wandb.ai/zuozhe/fraud_detection/runs/20rrjq7s\" target=\"_blank\">https://wandb.ai/zuozhe/fraud_detection/runs/20rrjq7s</a><br/>Synced 5 W&B file(s), 0 media file(s), 0 artifact file(s) and 0 other file(s)"
      ],
      "text/plain": [
       "<IPython.core.display.HTML object>"
      ]
     },
     "metadata": {},
     "output_type": "display_data"
    },
    {
     "data": {
      "text/html": [
       "Find logs at: <code>.\\wandb\\run-20220416_093019-20rrjq7s\\logs</code>"
      ],
      "text/plain": [
       "<IPython.core.display.HTML object>"
      ]
     },
     "metadata": {},
     "output_type": "display_data"
    },
    {
     "data": {
      "text/html": [
       "Successfully finished last run (ID:20rrjq7s). Initializing new run:<br/>"
      ],
      "text/plain": [
       "<IPython.core.display.HTML object>"
      ]
     },
     "metadata": {},
     "output_type": "display_data"
    },
    {
     "data": {
      "text/html": [
       "wandb version 0.12.14 is available!  To upgrade, please run:\n",
       " $ pip install wandb --upgrade"
      ],
      "text/plain": [
       "<IPython.core.display.HTML object>"
      ]
     },
     "metadata": {},
     "output_type": "display_data"
    },
    {
     "data": {
      "text/html": [
       "Tracking run with wandb version 0.12.12"
      ],
      "text/plain": [
       "<IPython.core.display.HTML object>"
      ]
     },
     "metadata": {},
     "output_type": "display_data"
    },
    {
     "data": {
      "text/html": [
       "Run data is saved locally in <code>C:\\Users\\teozz\\OneDrive\\Desktop\\vscode_workspace\\projects\\credit_card_fraud_detection\\wandb\\run-20220416_100630-35num008</code>"
      ],
      "text/plain": [
       "<IPython.core.display.HTML object>"
      ]
     },
     "metadata": {},
     "output_type": "display_data"
    },
    {
     "data": {
      "text/html": [
       "Syncing run <strong><a href=\"https://wandb.ai/zuozhe/fraud_detection/runs/35num008\" target=\"_blank\">ancient-shape-280</a></strong> to <a href=\"https://wandb.ai/zuozhe/fraud_detection\" target=\"_blank\">Weights & Biases</a> (<a href=\"https://wandb.me/run\" target=\"_blank\">docs</a>)<br/>"
      ],
      "text/plain": [
       "<IPython.core.display.HTML object>"
      ]
     },
     "metadata": {},
     "output_type": "display_data"
    },
    {
     "name": "stderr",
     "output_type": "stream",
     "text": [
      "\u001b[32m[I 2022-04-16 10:49:33,518]\u001b[0m Trial 24 finished with value: 0.834877307727982 and parameters: {'n_estimators': 2003, 'learning_rate': 0.003703442524216761, 'min_split_gain': 0.012008392215356583, 'objective': 'binary', 'metric': 'average_precision', 'is_unbalance': True}. Best is trial 18 with value: 0.8539735272819154.\u001b[0m\n"
     ]
    },
    {
     "name": "stdout",
     "output_type": "stream",
     "text": [
      "\n"
     ]
    },
    {
     "data": {
      "text/html": [
       "Waiting for W&B process to finish... <strong style=\"color:green\">(success).</strong>"
      ],
      "text/plain": [
       "<IPython.core.display.HTML object>"
      ]
     },
     "metadata": {},
     "output_type": "display_data"
    },
    {
     "data": {
      "text/html": [
       "<style>\n",
       "    table.wandb td:nth-child(1) { padding: 0 10px; text-align: right }\n",
       "    .wandb-row { display: flex; flex-direction: row; flex-wrap: wrap; width: 100% }\n",
       "    .wandb-col { display: flex; flex-direction: column; flex-basis: 100%; flex: 1; padding: 10px; }\n",
       "    </style>\n",
       "<div class=\"wandb-row\"><div class=\"wandb-col\"><h3>Run history:</h3><br/><table class=\"wandb\"><tr><td>fit_time</td><td>▁</td></tr><tr><td>is_unbalance</td><td>▁▁</td></tr><tr><td>learning_rate</td><td>▁█</td></tr><tr><td>min_split_gain</td><td>▁█</td></tr><tr><td>n_estimators</td><td>█▁</td></tr><tr><td>on_golden_test</td><td>▁█</td></tr><tr><td>score_time</td><td>▁</td></tr><tr><td>test_accuracy</td><td>█▁</td></tr><tr><td>test_average_precision</td><td>█▁</td></tr><tr><td>test_f1</td><td>▁█</td></tr><tr><td>test_precision</td><td>█▁</td></tr><tr><td>test_recall</td><td>▁█</td></tr><tr><td>test_roc_auc</td><td>█▁</td></tr><tr><td>train_accuracy</td><td>▁█</td></tr><tr><td>train_average_precision</td><td>▁█</td></tr><tr><td>train_f1</td><td>▁█</td></tr><tr><td>train_precision</td><td>▁█</td></tr><tr><td>train_recall</td><td>▁▁</td></tr><tr><td>train_roc_auc</td><td>▁█</td></tr></table><br/></div><div class=\"wandb-col\"><h3>Run summary:</h3><br/><table class=\"wandb\"><tr><td>fit_time</td><td>1245.40328</td></tr><tr><td>is_unbalance</td><td>True</td></tr><tr><td>learning_rate</td><td>0.00706</td></tr><tr><td>metric</td><td>average_precision</td></tr><tr><td>min_split_gain</td><td>0.02336</td></tr><tr><td>model_name</td><td>LGBMClassifier</td></tr><tr><td>n_estimators</td><td>1945</td></tr><tr><td>objective</td><td>binary</td></tr><tr><td>on_golden_test</td><td>True</td></tr><tr><td>score_time</td><td>57.69208</td></tr><tr><td>test_accuracy</td><td>0.99949</td></tr><tr><td>test_average_precision</td><td>0.83461</td></tr><tr><td>test_f1</td><td>0.84286</td></tr><tr><td>test_precision</td><td>0.89394</td></tr><tr><td>test_recall</td><td>0.7973</td></tr><tr><td>test_roc_auc</td><td>0.97352</td></tr><tr><td>train_accuracy</td><td>1.0</td></tr><tr><td>train_average_precision</td><td>1.0</td></tr><tr><td>train_f1</td><td>1.0</td></tr><tr><td>train_precision</td><td>1.0</td></tr><tr><td>train_recall</td><td>1.0</td></tr><tr><td>train_roc_auc</td><td>1.0</td></tr></table><br/></div></div>"
      ],
      "text/plain": [
       "<IPython.core.display.HTML object>"
      ]
     },
     "metadata": {},
     "output_type": "display_data"
    },
    {
     "data": {
      "text/html": [
       "Synced <strong style=\"color:#cdcd00\">ancient-shape-280</strong>: <a href=\"https://wandb.ai/zuozhe/fraud_detection/runs/35num008\" target=\"_blank\">https://wandb.ai/zuozhe/fraud_detection/runs/35num008</a><br/>Synced 5 W&B file(s), 0 media file(s), 0 artifact file(s) and 0 other file(s)"
      ],
      "text/plain": [
       "<IPython.core.display.HTML object>"
      ]
     },
     "metadata": {},
     "output_type": "display_data"
    },
    {
     "data": {
      "text/html": [
       "Find logs at: <code>.\\wandb\\run-20220416_100630-35num008\\logs</code>"
      ],
      "text/plain": [
       "<IPython.core.display.HTML object>"
      ]
     },
     "metadata": {},
     "output_type": "display_data"
    }
   ],
   "source": [
    "full_metrics_feature_cross = production_trainer(\"LGBMClassifier\", train_data_fp=\"data/train_feature_cross.csv\", golden_data_fp=\"data/golden_feature_cross.csv\")"
   ]
  },
  {
   "cell_type": "code",
   "execution_count": null,
   "id": "6f80554d",
   "metadata": {},
   "outputs": [],
   "source": []
  }
 ],
 "metadata": {
  "kernelspec": {
   "display_name": "Python 3 (ipykernel)",
   "language": "python",
   "name": "python3"
  },
  "language_info": {
   "codemirror_mode": {
    "name": "ipython",
    "version": 3
   },
   "file_extension": ".py",
   "mimetype": "text/x-python",
   "name": "python",
   "nbconvert_exporter": "python",
   "pygments_lexer": "ipython3",
   "version": "3.8.6"
  },
  "varInspector": {
   "cols": {
    "lenName": 16,
    "lenType": 16,
    "lenVar": 40
   },
   "kernels_config": {
    "python": {
     "delete_cmd_postfix": "",
     "delete_cmd_prefix": "del ",
     "library": "var_list.py",
     "varRefreshCmd": "print(var_dic_list())"
    },
    "r": {
     "delete_cmd_postfix": ") ",
     "delete_cmd_prefix": "rm(",
     "library": "var_list.r",
     "varRefreshCmd": "cat(var_dic_list()) "
    }
   },
   "types_to_exclude": [
    "module",
    "function",
    "builtin_function_or_method",
    "instance",
    "_Feature"
   ],
   "window_display": false
  }
 },
 "nbformat": 4,
 "nbformat_minor": 5
}
