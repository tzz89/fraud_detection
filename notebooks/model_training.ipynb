{
 "cells": [
  {
   "cell_type": "code",
   "execution_count": 1,
   "id": "d701fb1f",
   "metadata": {},
   "outputs": [],
   "source": [
    "import os\n",
    "os.chdir(\"..\")"
   ]
  },
  {
   "cell_type": "code",
   "execution_count": 2,
   "id": "6ed52f96",
   "metadata": {},
   "outputs": [],
   "source": [
    "from src.model_trainer import trainer"
   ]
  },
  {
   "cell_type": "code",
   "execution_count": 3,
   "id": "11ea350a",
   "metadata": {},
   "outputs": [
    {
     "name": "stdout",
     "output_type": "stream",
     "text": [
      "\n",
      "Performing training on model LGBMClassifier\n"
     ]
    },
    {
     "name": "stderr",
     "output_type": "stream",
     "text": [
      "\u001b[34m\u001b[1mwandb\u001b[0m: Currently logged in as: \u001b[33mzuozhe\u001b[0m (use `wandb login --relogin` to force relogin)\n"
     ]
    },
    {
     "data": {
      "text/html": [
       "Tracking run with wandb version 0.12.12"
      ],
      "text/plain": [
       "<IPython.core.display.HTML object>"
      ]
     },
     "metadata": {},
     "output_type": "display_data"
    },
    {
     "data": {
      "text/html": [
       "Run data is saved locally in <code>C:\\Users\\teozz\\OneDrive\\Desktop\\vscode_workspace\\projects\\credit_card_fraud_detection\\wandb\\run-20220407_173753-25tv3z8u</code>"
      ],
      "text/plain": [
       "<IPython.core.display.HTML object>"
      ]
     },
     "metadata": {},
     "output_type": "display_data"
    },
    {
     "data": {
      "text/html": [
       "Syncing run <strong><a href=\"https://wandb.ai/zuozhe/fraud_detection/runs/25tv3z8u\" target=\"_blank\">bright-lion-103</a></strong> to <a href=\"https://wandb.ai/zuozhe/fraud_detection\" target=\"_blank\">Weights & Biases</a> (<a href=\"https://wandb.me/run\" target=\"_blank\">docs</a>)<br/>"
      ],
      "text/plain": [
       "<IPython.core.display.HTML object>"
      ]
     },
     "metadata": {},
     "output_type": "display_data"
    },
    {
     "name": "stdout",
     "output_type": "stream",
     "text": [
      "Params {'is_unbalance': True, 'learning_rate': 0.01, 'metric': 'average_precision', 'n_estimators': 500, 'objective': 'binary'}\n"
     ]
    },
    {
     "data": {
      "text/html": [
       "Finishing last run (ID:25tv3z8u) before initializing another..."
      ],
      "text/plain": [
       "<IPython.core.display.HTML object>"
      ]
     },
     "metadata": {},
     "output_type": "display_data"
    },
    {
     "name": "stdout",
     "output_type": "stream",
     "text": [
      "\n"
     ]
    },
    {
     "data": {
      "text/html": [
       "Waiting for W&B process to finish... <strong style=\"color:green\">(success).</strong>"
      ],
      "text/plain": [
       "<IPython.core.display.HTML object>"
      ]
     },
     "metadata": {},
     "output_type": "display_data"
    },
    {
     "data": {
      "text/html": [
       "<style>\n",
       "    table.wandb td:nth-child(1) { padding: 0 10px; text-align: right }\n",
       "    .wandb-row { display: flex; flex-direction: row; flex-wrap: wrap; width: 100% }\n",
       "    .wandb-col { display: flex; flex-direction: column; flex-basis: 100%; flex: 1; padding: 10px; }\n",
       "    </style>\n",
       "<div class=\"wandb-row\"><div class=\"wandb-col\"><h3>Run history:</h3><br/><table class=\"wandb\"><tr><td>fit_time</td><td>▁</td></tr><tr><td>is_unbalance</td><td>▁</td></tr><tr><td>learning_rate</td><td>▁</td></tr><tr><td>n_estimators</td><td>▁</td></tr><tr><td>on_golden_test</td><td>▁</td></tr><tr><td>score_time</td><td>▁</td></tr><tr><td>test_accuracy</td><td>▁</td></tr><tr><td>test_average_precision</td><td>▁</td></tr><tr><td>test_f1</td><td>▁</td></tr><tr><td>test_precision</td><td>▁</td></tr><tr><td>test_recall</td><td>▁</td></tr><tr><td>test_roc_auc</td><td>▁</td></tr><tr><td>train_accuracy</td><td>▁</td></tr><tr><td>train_average_precision</td><td>▁</td></tr><tr><td>train_f1</td><td>▁</td></tr><tr><td>train_precision</td><td>▁</td></tr><tr><td>train_recall</td><td>▁</td></tr><tr><td>train_roc_auc</td><td>▁</td></tr></table><br/></div><div class=\"wandb-col\"><h3>Run summary:</h3><br/><table class=\"wandb\"><tr><td>fit_time</td><td>33.02111</td></tr><tr><td>is_unbalance</td><td>True</td></tr><tr><td>learning_rate</td><td>0.01</td></tr><tr><td>metric</td><td>average_precision</td></tr><tr><td>model_name</td><td>LGBMClassifier</td></tr><tr><td>n_estimators</td><td>500</td></tr><tr><td>objective</td><td>binary</td></tr><tr><td>on_golden_test</td><td>False</td></tr><tr><td>score_time</td><td>11.05569</td></tr><tr><td>test_accuracy</td><td>0.99914</td></tr><tr><td>test_average_precision</td><td>0.75384</td></tr><tr><td>test_f1</td><td>0.7677</td></tr><tr><td>test_precision</td><td>0.72172</td></tr><tr><td>test_recall</td><td>0.82071</td></tr><tr><td>test_roc_auc</td><td>0.96779</td></tr><tr><td>train_accuracy</td><td>0.99962</td></tr><tr><td>train_average_precision</td><td>0.91452</td></tr><tr><td>train_f1</td><td>0.90022</td></tr><tr><td>train_precision</td><td>0.81867</td></tr><tr><td>train_recall</td><td>1.0</td></tr><tr><td>train_roc_auc</td><td>0.99992</td></tr></table><br/></div></div>"
      ],
      "text/plain": [
       "<IPython.core.display.HTML object>"
      ]
     },
     "metadata": {},
     "output_type": "display_data"
    },
    {
     "data": {
      "text/html": [
       "Synced <strong style=\"color:#cdcd00\">bright-lion-103</strong>: <a href=\"https://wandb.ai/zuozhe/fraud_detection/runs/25tv3z8u\" target=\"_blank\">https://wandb.ai/zuozhe/fraud_detection/runs/25tv3z8u</a><br/>Synced 5 W&B file(s), 0 media file(s), 0 artifact file(s) and 0 other file(s)"
      ],
      "text/plain": [
       "<IPython.core.display.HTML object>"
      ]
     },
     "metadata": {},
     "output_type": "display_data"
    },
    {
     "data": {
      "text/html": [
       "Find logs at: <code>.\\wandb\\run-20220407_173753-25tv3z8u\\logs</code>"
      ],
      "text/plain": [
       "<IPython.core.display.HTML object>"
      ]
     },
     "metadata": {},
     "output_type": "display_data"
    },
    {
     "data": {
      "text/html": [
       "Successfully finished last run (ID:25tv3z8u). Initializing new run:<br/>"
      ],
      "text/plain": [
       "<IPython.core.display.HTML object>"
      ]
     },
     "metadata": {},
     "output_type": "display_data"
    },
    {
     "data": {
      "text/html": [
       "Tracking run with wandb version 0.12.12"
      ],
      "text/plain": [
       "<IPython.core.display.HTML object>"
      ]
     },
     "metadata": {},
     "output_type": "display_data"
    },
    {
     "data": {
      "text/html": [
       "Run data is saved locally in <code>C:\\Users\\teozz\\OneDrive\\Desktop\\vscode_workspace\\projects\\credit_card_fraud_detection\\wandb\\run-20220407_174011-zgavnsb4</code>"
      ],
      "text/plain": [
       "<IPython.core.display.HTML object>"
      ]
     },
     "metadata": {},
     "output_type": "display_data"
    },
    {
     "data": {
      "text/html": [
       "Syncing run <strong><a href=\"https://wandb.ai/zuozhe/fraud_detection/runs/zgavnsb4\" target=\"_blank\">olive-mountain-104</a></strong> to <a href=\"https://wandb.ai/zuozhe/fraud_detection\" target=\"_blank\">Weights & Biases</a> (<a href=\"https://wandb.me/run\" target=\"_blank\">docs</a>)<br/>"
      ],
      "text/plain": [
       "<IPython.core.display.HTML object>"
      ]
     },
     "metadata": {},
     "output_type": "display_data"
    },
    {
     "name": "stdout",
     "output_type": "stream",
     "text": [
      "Params {'is_unbalance': True, 'learning_rate': 0.01, 'metric': 'average_precision', 'n_estimators': 700, 'objective': 'binary'}\n"
     ]
    },
    {
     "data": {
      "text/html": [
       "Finishing last run (ID:zgavnsb4) before initializing another..."
      ],
      "text/plain": [
       "<IPython.core.display.HTML object>"
      ]
     },
     "metadata": {},
     "output_type": "display_data"
    },
    {
     "name": "stdout",
     "output_type": "stream",
     "text": [
      "\n"
     ]
    },
    {
     "data": {
      "text/html": [
       "Waiting for W&B process to finish... <strong style=\"color:green\">(success).</strong>"
      ],
      "text/plain": [
       "<IPython.core.display.HTML object>"
      ]
     },
     "metadata": {},
     "output_type": "display_data"
    },
    {
     "data": {
      "text/html": [
       "<style>\n",
       "    table.wandb td:nth-child(1) { padding: 0 10px; text-align: right }\n",
       "    .wandb-row { display: flex; flex-direction: row; flex-wrap: wrap; width: 100% }\n",
       "    .wandb-col { display: flex; flex-direction: column; flex-basis: 100%; flex: 1; padding: 10px; }\n",
       "    </style>\n",
       "<div class=\"wandb-row\"><div class=\"wandb-col\"><h3>Run history:</h3><br/><table class=\"wandb\"><tr><td>fit_time</td><td>▁</td></tr><tr><td>is_unbalance</td><td>▁</td></tr><tr><td>learning_rate</td><td>▁</td></tr><tr><td>n_estimators</td><td>▁</td></tr><tr><td>on_golden_test</td><td>▁</td></tr><tr><td>score_time</td><td>▁</td></tr><tr><td>test_accuracy</td><td>▁</td></tr><tr><td>test_average_precision</td><td>▁</td></tr><tr><td>test_f1</td><td>▁</td></tr><tr><td>test_precision</td><td>▁</td></tr><tr><td>test_recall</td><td>▁</td></tr><tr><td>test_roc_auc</td><td>▁</td></tr><tr><td>train_accuracy</td><td>▁</td></tr><tr><td>train_average_precision</td><td>▁</td></tr><tr><td>train_f1</td><td>▁</td></tr><tr><td>train_precision</td><td>▁</td></tr><tr><td>train_recall</td><td>▁</td></tr><tr><td>train_roc_auc</td><td>▁</td></tr></table><br/></div><div class=\"wandb-col\"><h3>Run summary:</h3><br/><table class=\"wandb\"><tr><td>fit_time</td><td>42.1884</td></tr><tr><td>is_unbalance</td><td>True</td></tr><tr><td>learning_rate</td><td>0.01</td></tr><tr><td>metric</td><td>average_precision</td></tr><tr><td>model_name</td><td>LGBMClassifier</td></tr><tr><td>n_estimators</td><td>700</td></tr><tr><td>objective</td><td>binary</td></tr><tr><td>on_golden_test</td><td>False</td></tr><tr><td>score_time</td><td>16.0606</td></tr><tr><td>test_accuracy</td><td>0.99936</td></tr><tr><td>test_average_precision</td><td>0.80544</td></tr><tr><td>test_f1</td><td>0.81151</td></tr><tr><td>test_precision</td><td>0.82088</td></tr><tr><td>test_recall</td><td>0.80402</td></tr><tr><td>test_roc_auc</td><td>0.96907</td></tr><tr><td>train_accuracy</td><td>0.99988</td></tr><tr><td>train_average_precision</td><td>0.989</td></tr><tr><td>train_f1</td><td>0.96572</td></tr><tr><td>train_precision</td><td>0.93383</td></tr><tr><td>train_recall</td><td>1.0</td></tr><tr><td>train_roc_auc</td><td>0.99999</td></tr></table><br/></div></div>"
      ],
      "text/plain": [
       "<IPython.core.display.HTML object>"
      ]
     },
     "metadata": {},
     "output_type": "display_data"
    },
    {
     "data": {
      "text/html": [
       "Synced <strong style=\"color:#cdcd00\">olive-mountain-104</strong>: <a href=\"https://wandb.ai/zuozhe/fraud_detection/runs/zgavnsb4\" target=\"_blank\">https://wandb.ai/zuozhe/fraud_detection/runs/zgavnsb4</a><br/>Synced 5 W&B file(s), 0 media file(s), 0 artifact file(s) and 0 other file(s)"
      ],
      "text/plain": [
       "<IPython.core.display.HTML object>"
      ]
     },
     "metadata": {},
     "output_type": "display_data"
    },
    {
     "data": {
      "text/html": [
       "Find logs at: <code>.\\wandb\\run-20220407_174011-zgavnsb4\\logs</code>"
      ],
      "text/plain": [
       "<IPython.core.display.HTML object>"
      ]
     },
     "metadata": {},
     "output_type": "display_data"
    },
    {
     "data": {
      "text/html": [
       "Successfully finished last run (ID:zgavnsb4). Initializing new run:<br/>"
      ],
      "text/plain": [
       "<IPython.core.display.HTML object>"
      ]
     },
     "metadata": {},
     "output_type": "display_data"
    },
    {
     "data": {
      "text/html": [
       "Tracking run with wandb version 0.12.12"
      ],
      "text/plain": [
       "<IPython.core.display.HTML object>"
      ]
     },
     "metadata": {},
     "output_type": "display_data"
    },
    {
     "data": {
      "text/html": [
       "Run data is saved locally in <code>C:\\Users\\teozz\\OneDrive\\Desktop\\vscode_workspace\\projects\\credit_card_fraud_detection\\wandb\\run-20220407_174329-3jn2ejhf</code>"
      ],
      "text/plain": [
       "<IPython.core.display.HTML object>"
      ]
     },
     "metadata": {},
     "output_type": "display_data"
    },
    {
     "data": {
      "text/html": [
       "Syncing run <strong><a href=\"https://wandb.ai/zuozhe/fraud_detection/runs/3jn2ejhf\" target=\"_blank\">clean-deluge-105</a></strong> to <a href=\"https://wandb.ai/zuozhe/fraud_detection\" target=\"_blank\">Weights & Biases</a> (<a href=\"https://wandb.me/run\" target=\"_blank\">docs</a>)<br/>"
      ],
      "text/plain": [
       "<IPython.core.display.HTML object>"
      ]
     },
     "metadata": {},
     "output_type": "display_data"
    },
    {
     "name": "stdout",
     "output_type": "stream",
     "text": [
      "Params {'is_unbalance': True, 'learning_rate': 0.01, 'metric': 'average_precision', 'n_estimators': 1000, 'objective': 'binary'}\n"
     ]
    },
    {
     "name": "stderr",
     "output_type": "stream",
     "text": [
      "\u001b[34m\u001b[1mwandb\u001b[0m: \n",
      "\u001b[34m\u001b[1mwandb\u001b[0m: Plotting LGBMClassifier.\n",
      "c:\\users\\teozz\\onedrive\\desktop\\vscode_workspace\\projects\\credit_card_fraud_detection\\venv\\lib\\site-packages\\sklearn\\base.py:450: UserWarning: X does not have valid feature names, but RobustScaler was fitted with feature names\n",
      "  warnings.warn(\n",
      "\u001b[34m\u001b[1mwandb\u001b[0m: \u001b[33mWARNING\u001b[0m could not find any of attributes feature_importances_, feature_log_prob_, coef_ on classifier. Cannot plot feature importances.\n",
      "\u001b[34m\u001b[1mwandb\u001b[0m: Logged feature importances.\n",
      "\u001b[34m\u001b[1mwandb\u001b[0m: Logged confusion matrix.\n",
      "c:\\users\\teozz\\onedrive\\desktop\\vscode_workspace\\projects\\credit_card_fraud_detection\\venv\\lib\\site-packages\\sklearn\\base.py:450: UserWarning: X does not have valid feature names, but RobustScaler was fitted with feature names\n",
      "  warnings.warn(\n",
      "\u001b[34m\u001b[1mwandb\u001b[0m: Logged summary metrics.\n",
      "\u001b[34m\u001b[1mwandb\u001b[0m: Logged class proportions.\n",
      "c:\\users\\teozz\\onedrive\\desktop\\vscode_workspace\\projects\\credit_card_fraud_detection\\venv\\lib\\site-packages\\sklearn\\base.py:450: UserWarning: X does not have valid feature names, but RobustScaler was fitted with feature names\n",
      "  warnings.warn(\n",
      "c:\\users\\teozz\\onedrive\\desktop\\vscode_workspace\\projects\\credit_card_fraud_detection\\venv\\lib\\site-packages\\sklearn\\linear_model\\_logistic.py:814: ConvergenceWarning: lbfgs failed to converge (status=1):\n",
      "STOP: TOTAL NO. of ITERATIONS REACHED LIMIT.\n",
      "\n",
      "Increase the number of iterations (max_iter) or scale the data as shown in:\n",
      "    https://scikit-learn.org/stable/modules/preprocessing.html\n",
      "Please also refer to the documentation for alternative solver options:\n",
      "    https://scikit-learn.org/stable/modules/linear_model.html#logistic-regression\n",
      "  n_iter_i = _check_optimize_result(\n",
      "\u001b[34m\u001b[1mwandb\u001b[0m: Logged calibration curve.\n",
      "\u001b[34m\u001b[1mwandb\u001b[0m: \u001b[33mWARNING\u001b[0m wandb.plots.* functions are deprecated and will be removed in a future release. Please use wandb.plot.* instead.\n",
      "\u001b[34m\u001b[1mwandb\u001b[0m: Logged roc curve.\n",
      "\u001b[34m\u001b[1mwandb\u001b[0m: Logged precision-recall curve.\n"
     ]
    },
    {
     "name": "stdout",
     "output_type": "stream",
     "text": [
      "\n",
      "Performing training on model RandomForestClassifier\n"
     ]
    },
    {
     "data": {
      "text/html": [
       "Finishing last run (ID:3jn2ejhf) before initializing another..."
      ],
      "text/plain": [
       "<IPython.core.display.HTML object>"
      ]
     },
     "metadata": {},
     "output_type": "display_data"
    },
    {
     "name": "stdout",
     "output_type": "stream",
     "text": [
      "\n"
     ]
    },
    {
     "data": {
      "text/html": [
       "Waiting for W&B process to finish... <strong style=\"color:green\">(success).</strong>"
      ],
      "text/plain": [
       "<IPython.core.display.HTML object>"
      ]
     },
     "metadata": {},
     "output_type": "display_data"
    },
    {
     "data": {
      "text/html": [
       "<style>\n",
       "    table.wandb td:nth-child(1) { padding: 0 10px; text-align: right }\n",
       "    .wandb-row { display: flex; flex-direction: row; flex-wrap: wrap; width: 100% }\n",
       "    .wandb-col { display: flex; flex-direction: column; flex-basis: 100%; flex: 1; padding: 10px; }\n",
       "    </style>\n",
       "<div class=\"wandb-row\"><div class=\"wandb-col\"><h3>Run history:</h3><br/><table class=\"wandb\"><tr><td>fit_time</td><td>▁</td></tr><tr><td>is_unbalance</td><td>▁▁</td></tr><tr><td>learning_rate</td><td>▁▁</td></tr><tr><td>n_estimators</td><td>▁▁</td></tr><tr><td>on_golden_test</td><td>▁█</td></tr><tr><td>score_time</td><td>▁</td></tr><tr><td>test_accuracy</td><td>█▁</td></tr><tr><td>test_average_precision</td><td>▁█</td></tr><tr><td>test_f1</td><td>█▁</td></tr><tr><td>test_precision</td><td>█▁</td></tr><tr><td>test_recall</td><td>▁█</td></tr><tr><td>test_roc_auc</td><td>▁█</td></tr><tr><td>train_accuracy</td><td>█▁</td></tr><tr><td>train_average_precision</td><td>▁▁</td></tr><tr><td>train_f1</td><td>█▁</td></tr><tr><td>train_precision</td><td>█▁</td></tr><tr><td>train_recall</td><td>▁▁</td></tr><tr><td>train_roc_auc</td><td>▁▁</td></tr></table><br/></div><div class=\"wandb-col\"><h3>Run summary:</h3><br/><table class=\"wandb\"><tr><td>fit_time</td><td>57.214</td></tr><tr><td>is_unbalance</td><td>True</td></tr><tr><td>learning_rate</td><td>0.01</td></tr><tr><td>metric</td><td>average_precision</td></tr><tr><td>model_name</td><td>LGBMClassifier</td></tr><tr><td>n_estimators</td><td>1000</td></tr><tr><td>objective</td><td>binary</td></tr><tr><td>on_golden_test</td><td>True</td></tr><tr><td>score_time</td><td>32.85926</td></tr><tr><td>test_accuracy</td><td>0.99939</td></tr><tr><td>test_average_precision</td><td>0.85199</td></tr><tr><td>test_f1</td><td>0.82192</td></tr><tr><td>test_precision</td><td>0.83333</td></tr><tr><td>test_recall</td><td>0.81081</td></tr><tr><td>test_roc_auc</td><td>0.97616</td></tr><tr><td>train_accuracy</td><td>1.0</td></tr><tr><td>train_average_precision</td><td>1.0</td></tr><tr><td>train_f1</td><td>0.99881</td></tr><tr><td>train_precision</td><td>0.99761</td></tr><tr><td>train_recall</td><td>1.0</td></tr><tr><td>train_roc_auc</td><td>1.0</td></tr></table><br/></div></div>"
      ],
      "text/plain": [
       "<IPython.core.display.HTML object>"
      ]
     },
     "metadata": {},
     "output_type": "display_data"
    },
    {
     "data": {
      "text/html": [
       "Synced <strong style=\"color:#cdcd00\">clean-deluge-105</strong>: <a href=\"https://wandb.ai/zuozhe/fraud_detection/runs/3jn2ejhf\" target=\"_blank\">https://wandb.ai/zuozhe/fraud_detection/runs/3jn2ejhf</a><br/>Synced 5 W&B file(s), 6 media file(s), 6 artifact file(s) and 0 other file(s)"
      ],
      "text/plain": [
       "<IPython.core.display.HTML object>"
      ]
     },
     "metadata": {},
     "output_type": "display_data"
    },
    {
     "data": {
      "text/html": [
       "Find logs at: <code>.\\wandb\\run-20220407_174329-3jn2ejhf\\logs</code>"
      ],
      "text/plain": [
       "<IPython.core.display.HTML object>"
      ]
     },
     "metadata": {},
     "output_type": "display_data"
    },
    {
     "data": {
      "text/html": [
       "Successfully finished last run (ID:3jn2ejhf). Initializing new run:<br/>"
      ],
      "text/plain": [
       "<IPython.core.display.HTML object>"
      ]
     },
     "metadata": {},
     "output_type": "display_data"
    },
    {
     "data": {
      "text/html": [
       "Tracking run with wandb version 0.12.12"
      ],
      "text/plain": [
       "<IPython.core.display.HTML object>"
      ]
     },
     "metadata": {},
     "output_type": "display_data"
    },
    {
     "data": {
      "text/html": [
       "Run data is saved locally in <code>C:\\Users\\teozz\\OneDrive\\Desktop\\vscode_workspace\\projects\\credit_card_fraud_detection\\wandb\\run-20220407_175032-35x5x4h7</code>"
      ],
      "text/plain": [
       "<IPython.core.display.HTML object>"
      ]
     },
     "metadata": {},
     "output_type": "display_data"
    },
    {
     "data": {
      "text/html": [
       "Syncing run <strong><a href=\"https://wandb.ai/zuozhe/fraud_detection/runs/35x5x4h7\" target=\"_blank\">solar-glitter-106</a></strong> to <a href=\"https://wandb.ai/zuozhe/fraud_detection\" target=\"_blank\">Weights & Biases</a> (<a href=\"https://wandb.me/run\" target=\"_blank\">docs</a>)<br/>"
      ],
      "text/plain": [
       "<IPython.core.display.HTML object>"
      ]
     },
     "metadata": {},
     "output_type": "display_data"
    },
    {
     "name": "stdout",
     "output_type": "stream",
     "text": [
      "Params {'n_estimators': 100}\n"
     ]
    },
    {
     "data": {
      "text/html": [
       "Finishing last run (ID:35x5x4h7) before initializing another..."
      ],
      "text/plain": [
       "<IPython.core.display.HTML object>"
      ]
     },
     "metadata": {},
     "output_type": "display_data"
    },
    {
     "name": "stdout",
     "output_type": "stream",
     "text": [
      "\n"
     ]
    },
    {
     "data": {
      "text/html": [
       "Waiting for W&B process to finish... <strong style=\"color:green\">(success).</strong>"
      ],
      "text/plain": [
       "<IPython.core.display.HTML object>"
      ]
     },
     "metadata": {},
     "output_type": "display_data"
    },
    {
     "data": {
      "text/html": [
       "<style>\n",
       "    table.wandb td:nth-child(1) { padding: 0 10px; text-align: right }\n",
       "    .wandb-row { display: flex; flex-direction: row; flex-wrap: wrap; width: 100% }\n",
       "    .wandb-col { display: flex; flex-direction: column; flex-basis: 100%; flex: 1; padding: 10px; }\n",
       "    </style>\n",
       "<div class=\"wandb-row\"><div class=\"wandb-col\"><h3>Run history:</h3><br/><table class=\"wandb\"><tr><td>fit_time</td><td>▁</td></tr><tr><td>n_estimators</td><td>▁</td></tr><tr><td>on_golden_test</td><td>▁</td></tr><tr><td>score_time</td><td>▁</td></tr><tr><td>test_accuracy</td><td>▁</td></tr><tr><td>test_average_precision</td><td>▁</td></tr><tr><td>test_f1</td><td>▁</td></tr><tr><td>test_precision</td><td>▁</td></tr><tr><td>test_recall</td><td>▁</td></tr><tr><td>test_roc_auc</td><td>▁</td></tr><tr><td>train_accuracy</td><td>▁</td></tr><tr><td>train_average_precision</td><td>▁</td></tr><tr><td>train_f1</td><td>▁</td></tr><tr><td>train_precision</td><td>▁</td></tr><tr><td>train_recall</td><td>▁</td></tr><tr><td>train_roc_auc</td><td>▁</td></tr></table><br/></div><div class=\"wandb-col\"><h3>Run summary:</h3><br/><table class=\"wandb\"><tr><td>fit_time</td><td>238.80327</td></tr><tr><td>model_name</td><td>RandomForestClassifi...</td></tr><tr><td>n_estimators</td><td>100</td></tr><tr><td>on_golden_test</td><td>False</td></tr><tr><td>score_time</td><td>1.5068</td></tr><tr><td>test_accuracy</td><td>0.99954</td></tr><tr><td>test_average_precision</td><td>0.84257</td></tr><tr><td>test_f1</td><td>0.85247</td></tr><tr><td>test_precision</td><td>0.94534</td></tr><tr><td>test_recall</td><td>0.77768</td></tr><tr><td>test_roc_auc</td><td>0.9434</td></tr><tr><td>train_accuracy</td><td>1.0</td></tr><tr><td>train_average_precision</td><td>1.0</td></tr><tr><td>train_f1</td><td>0.9997</td></tr><tr><td>train_precision</td><td>1.0</td></tr><tr><td>train_recall</td><td>0.9994</td></tr><tr><td>train_roc_auc</td><td>1.0</td></tr></table><br/></div></div>"
      ],
      "text/plain": [
       "<IPython.core.display.HTML object>"
      ]
     },
     "metadata": {},
     "output_type": "display_data"
    },
    {
     "data": {
      "text/html": [
       "Synced <strong style=\"color:#cdcd00\">solar-glitter-106</strong>: <a href=\"https://wandb.ai/zuozhe/fraud_detection/runs/35x5x4h7\" target=\"_blank\">https://wandb.ai/zuozhe/fraud_detection/runs/35x5x4h7</a><br/>Synced 5 W&B file(s), 0 media file(s), 0 artifact file(s) and 0 other file(s)"
      ],
      "text/plain": [
       "<IPython.core.display.HTML object>"
      ]
     },
     "metadata": {},
     "output_type": "display_data"
    },
    {
     "data": {
      "text/html": [
       "Find logs at: <code>.\\wandb\\run-20220407_175032-35x5x4h7\\logs</code>"
      ],
      "text/plain": [
       "<IPython.core.display.HTML object>"
      ]
     },
     "metadata": {},
     "output_type": "display_data"
    },
    {
     "data": {
      "text/html": [
       "Successfully finished last run (ID:35x5x4h7). Initializing new run:<br/>"
      ],
      "text/plain": [
       "<IPython.core.display.HTML object>"
      ]
     },
     "metadata": {},
     "output_type": "display_data"
    },
    {
     "data": {
      "text/html": [
       "Tracking run with wandb version 0.12.12"
      ],
      "text/plain": [
       "<IPython.core.display.HTML object>"
      ]
     },
     "metadata": {},
     "output_type": "display_data"
    },
    {
     "data": {
      "text/html": [
       "Run data is saved locally in <code>C:\\Users\\teozz\\OneDrive\\Desktop\\vscode_workspace\\projects\\credit_card_fraud_detection\\wandb\\run-20220407_175801-9siaalmr</code>"
      ],
      "text/plain": [
       "<IPython.core.display.HTML object>"
      ]
     },
     "metadata": {},
     "output_type": "display_data"
    },
    {
     "data": {
      "text/html": [
       "Syncing run <strong><a href=\"https://wandb.ai/zuozhe/fraud_detection/runs/9siaalmr\" target=\"_blank\">lunar-firebrand-107</a></strong> to <a href=\"https://wandb.ai/zuozhe/fraud_detection\" target=\"_blank\">Weights & Biases</a> (<a href=\"https://wandb.me/run\" target=\"_blank\">docs</a>)<br/>"
      ],
      "text/plain": [
       "<IPython.core.display.HTML object>"
      ]
     },
     "metadata": {},
     "output_type": "display_data"
    },
    {
     "name": "stdout",
     "output_type": "stream",
     "text": [
      "Params {'n_estimators': 125}\n"
     ]
    },
    {
     "name": "stderr",
     "output_type": "stream",
     "text": [
      "\u001b[34m\u001b[1mwandb\u001b[0m: \n",
      "\u001b[34m\u001b[1mwandb\u001b[0m: Plotting RandomForestClassifier.\n",
      "c:\\users\\teozz\\onedrive\\desktop\\vscode_workspace\\projects\\credit_card_fraud_detection\\venv\\lib\\site-packages\\sklearn\\base.py:450: UserWarning: X does not have valid feature names, but RobustScaler was fitted with feature names\n",
      "  warnings.warn(\n",
      "\u001b[34m\u001b[1mwandb\u001b[0m: \u001b[33mWARNING\u001b[0m could not find any of attributes feature_importances_, feature_log_prob_, coef_ on classifier. Cannot plot feature importances.\n",
      "\u001b[34m\u001b[1mwandb\u001b[0m: Logged feature importances.\n",
      "\u001b[34m\u001b[1mwandb\u001b[0m: Logged confusion matrix.\n",
      "c:\\users\\teozz\\onedrive\\desktop\\vscode_workspace\\projects\\credit_card_fraud_detection\\venv\\lib\\site-packages\\sklearn\\base.py:450: UserWarning: X does not have valid feature names, but RobustScaler was fitted with feature names\n",
      "  warnings.warn(\n",
      "\u001b[34m\u001b[1mwandb\u001b[0m: Logged summary metrics.\n",
      "\u001b[34m\u001b[1mwandb\u001b[0m: Logged class proportions.\n",
      "c:\\users\\teozz\\onedrive\\desktop\\vscode_workspace\\projects\\credit_card_fraud_detection\\venv\\lib\\site-packages\\sklearn\\base.py:450: UserWarning: X does not have valid feature names, but RobustScaler was fitted with feature names\n",
      "  warnings.warn(\n",
      "c:\\users\\teozz\\onedrive\\desktop\\vscode_workspace\\projects\\credit_card_fraud_detection\\venv\\lib\\site-packages\\sklearn\\linear_model\\_logistic.py:814: ConvergenceWarning: lbfgs failed to converge (status=1):\n",
      "STOP: TOTAL NO. of ITERATIONS REACHED LIMIT.\n",
      "\n",
      "Increase the number of iterations (max_iter) or scale the data as shown in:\n",
      "    https://scikit-learn.org/stable/modules/preprocessing.html\n",
      "Please also refer to the documentation for alternative solver options:\n",
      "    https://scikit-learn.org/stable/modules/linear_model.html#logistic-regression\n",
      "  n_iter_i = _check_optimize_result(\n",
      "\u001b[34m\u001b[1mwandb\u001b[0m: Logged calibration curve.\n",
      "\u001b[34m\u001b[1mwandb\u001b[0m: Logged roc curve.\n",
      "\u001b[34m\u001b[1mwandb\u001b[0m: Logged precision-recall curve.\n"
     ]
    },
    {
     "name": "stdout",
     "output_type": "stream",
     "text": [
      "\n",
      "Performing training on model LogisticRegression\n"
     ]
    },
    {
     "data": {
      "text/html": [
       "Finishing last run (ID:9siaalmr) before initializing another..."
      ],
      "text/plain": [
       "<IPython.core.display.HTML object>"
      ]
     },
     "metadata": {},
     "output_type": "display_data"
    },
    {
     "name": "stdout",
     "output_type": "stream",
     "text": [
      "\n"
     ]
    },
    {
     "data": {
      "text/html": [
       "Waiting for W&B process to finish... <strong style=\"color:green\">(success).</strong>"
      ],
      "text/plain": [
       "<IPython.core.display.HTML object>"
      ]
     },
     "metadata": {},
     "output_type": "display_data"
    },
    {
     "data": {
      "text/html": [
       "<style>\n",
       "    table.wandb td:nth-child(1) { padding: 0 10px; text-align: right }\n",
       "    .wandb-row { display: flex; flex-direction: row; flex-wrap: wrap; width: 100% }\n",
       "    .wandb-col { display: flex; flex-direction: column; flex-basis: 100%; flex: 1; padding: 10px; }\n",
       "    </style>\n",
       "<div class=\"wandb-row\"><div class=\"wandb-col\"><h3>Run history:</h3><br/><table class=\"wandb\"><tr><td>fit_time</td><td>▁</td></tr><tr><td>n_estimators</td><td>▁▁</td></tr><tr><td>on_golden_test</td><td>▁█</td></tr><tr><td>score_time</td><td>▁</td></tr><tr><td>test_accuracy</td><td>▁█</td></tr><tr><td>test_average_precision</td><td>█▁</td></tr><tr><td>test_f1</td><td>▁█</td></tr><tr><td>test_precision</td><td>▁█</td></tr><tr><td>test_recall</td><td>▁█</td></tr><tr><td>test_roc_auc</td><td>█▁</td></tr><tr><td>train_accuracy</td><td>▁█</td></tr><tr><td>train_average_precision</td><td>▁▁</td></tr><tr><td>train_f1</td><td>▁█</td></tr><tr><td>train_precision</td><td>▁▁</td></tr><tr><td>train_recall</td><td>▁█</td></tr><tr><td>train_roc_auc</td><td>▁▁</td></tr></table><br/></div><div class=\"wandb-col\"><h3>Run summary:</h3><br/><table class=\"wandb\"><tr><td>fit_time</td><td>317.74285</td></tr><tr><td>model_name</td><td>RandomForestClassifi...</td></tr><tr><td>n_estimators</td><td>125</td></tr><tr><td>on_golden_test</td><td>True</td></tr><tr><td>score_time</td><td>1.9792</td></tr><tr><td>test_accuracy</td><td>0.99956</td></tr><tr><td>test_average_precision</td><td>0.82191</td></tr><tr><td>test_f1</td><td>0.86131</td></tr><tr><td>test_precision</td><td>0.93651</td></tr><tr><td>test_recall</td><td>0.7973</td></tr><tr><td>test_roc_auc</td><td>0.93706</td></tr><tr><td>train_accuracy</td><td>1.0</td></tr><tr><td>train_average_precision</td><td>1.0</td></tr><tr><td>train_f1</td><td>1.0</td></tr><tr><td>train_precision</td><td>1.0</td></tr><tr><td>train_recall</td><td>1.0</td></tr><tr><td>train_roc_auc</td><td>1.0</td></tr></table><br/></div></div>"
      ],
      "text/plain": [
       "<IPython.core.display.HTML object>"
      ]
     },
     "metadata": {},
     "output_type": "display_data"
    },
    {
     "data": {
      "text/html": [
       "Synced <strong style=\"color:#cdcd00\">lunar-firebrand-107</strong>: <a href=\"https://wandb.ai/zuozhe/fraud_detection/runs/9siaalmr\" target=\"_blank\">https://wandb.ai/zuozhe/fraud_detection/runs/9siaalmr</a><br/>Synced 5 W&B file(s), 6 media file(s), 6 artifact file(s) and 0 other file(s)"
      ],
      "text/plain": [
       "<IPython.core.display.HTML object>"
      ]
     },
     "metadata": {},
     "output_type": "display_data"
    },
    {
     "data": {
      "text/html": [
       "Find logs at: <code>.\\wandb\\run-20220407_175801-9siaalmr\\logs</code>"
      ],
      "text/plain": [
       "<IPython.core.display.HTML object>"
      ]
     },
     "metadata": {},
     "output_type": "display_data"
    },
    {
     "data": {
      "text/html": [
       "Successfully finished last run (ID:9siaalmr). Initializing new run:<br/>"
      ],
      "text/plain": [
       "<IPython.core.display.HTML object>"
      ]
     },
     "metadata": {},
     "output_type": "display_data"
    },
    {
     "data": {
      "text/html": [
       "Tracking run with wandb version 0.12.12"
      ],
      "text/plain": [
       "<IPython.core.display.HTML object>"
      ]
     },
     "metadata": {},
     "output_type": "display_data"
    },
    {
     "data": {
      "text/html": [
       "Run data is saved locally in <code>C:\\Users\\teozz\\OneDrive\\Desktop\\vscode_workspace\\projects\\credit_card_fraud_detection\\wandb\\run-20220407_181222-39t2ayoq</code>"
      ],
      "text/plain": [
       "<IPython.core.display.HTML object>"
      ]
     },
     "metadata": {},
     "output_type": "display_data"
    },
    {
     "data": {
      "text/html": [
       "Syncing run <strong><a href=\"https://wandb.ai/zuozhe/fraud_detection/runs/39t2ayoq\" target=\"_blank\">worthy-planet-108</a></strong> to <a href=\"https://wandb.ai/zuozhe/fraud_detection\" target=\"_blank\">Weights & Biases</a> (<a href=\"https://wandb.me/run\" target=\"_blank\">docs</a>)<br/>"
      ],
      "text/plain": [
       "<IPython.core.display.HTML object>"
      ]
     },
     "metadata": {},
     "output_type": "display_data"
    },
    {
     "name": "stdout",
     "output_type": "stream",
     "text": [
      "Params {'C': 0.8, 'fit_intercept': True, 'penalty': 'l2'}\n"
     ]
    },
    {
     "data": {
      "text/html": [
       "Finishing last run (ID:39t2ayoq) before initializing another..."
      ],
      "text/plain": [
       "<IPython.core.display.HTML object>"
      ]
     },
     "metadata": {},
     "output_type": "display_data"
    },
    {
     "name": "stdout",
     "output_type": "stream",
     "text": [
      "\n"
     ]
    },
    {
     "data": {
      "text/html": [
       "Waiting for W&B process to finish... <strong style=\"color:green\">(success).</strong>"
      ],
      "text/plain": [
       "<IPython.core.display.HTML object>"
      ]
     },
     "metadata": {},
     "output_type": "display_data"
    },
    {
     "data": {
      "text/html": [
       "<style>\n",
       "    table.wandb td:nth-child(1) { padding: 0 10px; text-align: right }\n",
       "    .wandb-row { display: flex; flex-direction: row; flex-wrap: wrap; width: 100% }\n",
       "    .wandb-col { display: flex; flex-direction: column; flex-basis: 100%; flex: 1; padding: 10px; }\n",
       "    </style>\n",
       "<div class=\"wandb-row\"><div class=\"wandb-col\"><h3>Run history:</h3><br/><table class=\"wandb\"><tr><td>C</td><td>▁</td></tr><tr><td>fit_intercept</td><td>▁</td></tr><tr><td>fit_time</td><td>▁</td></tr><tr><td>on_golden_test</td><td>▁</td></tr><tr><td>score_time</td><td>▁</td></tr><tr><td>test_accuracy</td><td>▁</td></tr><tr><td>test_average_precision</td><td>▁</td></tr><tr><td>test_f1</td><td>▁</td></tr><tr><td>test_precision</td><td>▁</td></tr><tr><td>test_recall</td><td>▁</td></tr><tr><td>test_roc_auc</td><td>▁</td></tr><tr><td>train_accuracy</td><td>▁</td></tr><tr><td>train_average_precision</td><td>▁</td></tr><tr><td>train_f1</td><td>▁</td></tr><tr><td>train_precision</td><td>▁</td></tr><tr><td>train_recall</td><td>▁</td></tr><tr><td>train_roc_auc</td><td>▁</td></tr></table><br/></div><div class=\"wandb-col\"><h3>Run summary:</h3><br/><table class=\"wandb\"><tr><td>C</td><td>0.8</td></tr><tr><td>fit_intercept</td><td>True</td></tr><tr><td>fit_time</td><td>4.2114</td></tr><tr><td>model_name</td><td>LogisticRegression</td></tr><tr><td>on_golden_test</td><td>False</td></tr><tr><td>penalty</td><td>l2</td></tr><tr><td>score_time</td><td>0.1522</td></tr><tr><td>test_accuracy</td><td>0.99926</td></tr><tr><td>test_average_precision</td><td>0.7751</td></tr><tr><td>test_f1</td><td>0.7511</td></tr><tr><td>test_precision</td><td>0.88593</td></tr><tr><td>test_recall</td><td>0.65812</td></tr><tr><td>test_roc_auc</td><td>0.98007</td></tr><tr><td>train_accuracy</td><td>0.99927</td></tr><tr><td>train_average_precision</td><td>0.78372</td></tr><tr><td>train_f1</td><td>0.75544</td></tr><tr><td>train_precision</td><td>0.89034</td></tr><tr><td>train_recall</td><td>0.6561</td></tr><tr><td>train_roc_auc</td><td>0.98339</td></tr></table><br/></div></div>"
      ],
      "text/plain": [
       "<IPython.core.display.HTML object>"
      ]
     },
     "metadata": {},
     "output_type": "display_data"
    },
    {
     "data": {
      "text/html": [
       "Synced <strong style=\"color:#cdcd00\">worthy-planet-108</strong>: <a href=\"https://wandb.ai/zuozhe/fraud_detection/runs/39t2ayoq\" target=\"_blank\">https://wandb.ai/zuozhe/fraud_detection/runs/39t2ayoq</a><br/>Synced 5 W&B file(s), 0 media file(s), 0 artifact file(s) and 0 other file(s)"
      ],
      "text/plain": [
       "<IPython.core.display.HTML object>"
      ]
     },
     "metadata": {},
     "output_type": "display_data"
    },
    {
     "data": {
      "text/html": [
       "Find logs at: <code>.\\wandb\\run-20220407_181222-39t2ayoq\\logs</code>"
      ],
      "text/plain": [
       "<IPython.core.display.HTML object>"
      ]
     },
     "metadata": {},
     "output_type": "display_data"
    },
    {
     "data": {
      "text/html": [
       "Successfully finished last run (ID:39t2ayoq). Initializing new run:<br/>"
      ],
      "text/plain": [
       "<IPython.core.display.HTML object>"
      ]
     },
     "metadata": {},
     "output_type": "display_data"
    },
    {
     "data": {
      "text/html": [
       "Tracking run with wandb version 0.12.12"
      ],
      "text/plain": [
       "<IPython.core.display.HTML object>"
      ]
     },
     "metadata": {},
     "output_type": "display_data"
    },
    {
     "data": {
      "text/html": [
       "Run data is saved locally in <code>C:\\Users\\teozz\\OneDrive\\Desktop\\vscode_workspace\\projects\\credit_card_fraud_detection\\wandb\\run-20220407_181246-28ya0v1c</code>"
      ],
      "text/plain": [
       "<IPython.core.display.HTML object>"
      ]
     },
     "metadata": {},
     "output_type": "display_data"
    },
    {
     "data": {
      "text/html": [
       "Syncing run <strong><a href=\"https://wandb.ai/zuozhe/fraud_detection/runs/28ya0v1c\" target=\"_blank\">resilient-cherry-109</a></strong> to <a href=\"https://wandb.ai/zuozhe/fraud_detection\" target=\"_blank\">Weights & Biases</a> (<a href=\"https://wandb.me/run\" target=\"_blank\">docs</a>)<br/>"
      ],
      "text/plain": [
       "<IPython.core.display.HTML object>"
      ]
     },
     "metadata": {},
     "output_type": "display_data"
    },
    {
     "name": "stdout",
     "output_type": "stream",
     "text": [
      "Params {'C': 0.8, 'fit_intercept': False, 'penalty': 'l2'}\n"
     ]
    },
    {
     "data": {
      "text/html": [
       "Finishing last run (ID:28ya0v1c) before initializing another..."
      ],
      "text/plain": [
       "<IPython.core.display.HTML object>"
      ]
     },
     "metadata": {},
     "output_type": "display_data"
    },
    {
     "name": "stdout",
     "output_type": "stream",
     "text": [
      "\n"
     ]
    },
    {
     "data": {
      "text/html": [
       "Waiting for W&B process to finish... <strong style=\"color:green\">(success).</strong>"
      ],
      "text/plain": [
       "<IPython.core.display.HTML object>"
      ]
     },
     "metadata": {},
     "output_type": "display_data"
    },
    {
     "data": {
      "text/html": [
       "<style>\n",
       "    table.wandb td:nth-child(1) { padding: 0 10px; text-align: right }\n",
       "    .wandb-row { display: flex; flex-direction: row; flex-wrap: wrap; width: 100% }\n",
       "    .wandb-col { display: flex; flex-direction: column; flex-basis: 100%; flex: 1; padding: 10px; }\n",
       "    </style>\n",
       "<div class=\"wandb-row\"><div class=\"wandb-col\"><h3>Run history:</h3><br/><table class=\"wandb\"><tr><td>C</td><td>▁</td></tr><tr><td>fit_intercept</td><td>▁</td></tr><tr><td>fit_time</td><td>▁</td></tr><tr><td>on_golden_test</td><td>▁</td></tr><tr><td>score_time</td><td>▁</td></tr><tr><td>test_accuracy</td><td>▁</td></tr><tr><td>test_average_precision</td><td>▁</td></tr><tr><td>test_f1</td><td>▁</td></tr><tr><td>test_precision</td><td>▁</td></tr><tr><td>test_recall</td><td>▁</td></tr><tr><td>test_roc_auc</td><td>▁</td></tr><tr><td>train_accuracy</td><td>▁</td></tr><tr><td>train_average_precision</td><td>▁</td></tr><tr><td>train_f1</td><td>▁</td></tr><tr><td>train_precision</td><td>▁</td></tr><tr><td>train_recall</td><td>▁</td></tr><tr><td>train_roc_auc</td><td>▁</td></tr></table><br/></div><div class=\"wandb-col\"><h3>Run summary:</h3><br/><table class=\"wandb\"><tr><td>C</td><td>0.8</td></tr><tr><td>fit_intercept</td><td>False</td></tr><tr><td>fit_time</td><td>2.997</td></tr><tr><td>model_name</td><td>LogisticRegression</td></tr><tr><td>on_golden_test</td><td>False</td></tr><tr><td>penalty</td><td>l2</td></tr><tr><td>score_time</td><td>0.1694</td></tr><tr><td>test_accuracy</td><td>0.9972</td></tr><tr><td>test_average_precision</td><td>0.32341</td></tr><tr><td>test_f1</td><td>0.43981</td></tr><tr><td>test_precision</td><td>0.33758</td></tr><tr><td>test_recall</td><td>0.63408</td></tr><tr><td>test_roc_auc</td><td>0.76777</td></tr><tr><td>train_accuracy</td><td>0.99719</td></tr><tr><td>train_average_precision</td><td>0.31489</td></tr><tr><td>train_f1</td><td>0.4351</td></tr><tr><td>train_precision</td><td>0.33305</td></tr><tr><td>train_recall</td><td>0.6274</td></tr><tr><td>train_roc_auc</td><td>0.76847</td></tr></table><br/></div></div>"
      ],
      "text/plain": [
       "<IPython.core.display.HTML object>"
      ]
     },
     "metadata": {},
     "output_type": "display_data"
    },
    {
     "data": {
      "text/html": [
       "Synced <strong style=\"color:#cdcd00\">resilient-cherry-109</strong>: <a href=\"https://wandb.ai/zuozhe/fraud_detection/runs/28ya0v1c\" target=\"_blank\">https://wandb.ai/zuozhe/fraud_detection/runs/28ya0v1c</a><br/>Synced 5 W&B file(s), 0 media file(s), 0 artifact file(s) and 0 other file(s)"
      ],
      "text/plain": [
       "<IPython.core.display.HTML object>"
      ]
     },
     "metadata": {},
     "output_type": "display_data"
    },
    {
     "data": {
      "text/html": [
       "Find logs at: <code>.\\wandb\\run-20220407_181246-28ya0v1c\\logs</code>"
      ],
      "text/plain": [
       "<IPython.core.display.HTML object>"
      ]
     },
     "metadata": {},
     "output_type": "display_data"
    },
    {
     "data": {
      "text/html": [
       "Successfully finished last run (ID:28ya0v1c). Initializing new run:<br/>"
      ],
      "text/plain": [
       "<IPython.core.display.HTML object>"
      ]
     },
     "metadata": {},
     "output_type": "display_data"
    },
    {
     "data": {
      "text/html": [
       "Tracking run with wandb version 0.12.12"
      ],
      "text/plain": [
       "<IPython.core.display.HTML object>"
      ]
     },
     "metadata": {},
     "output_type": "display_data"
    },
    {
     "data": {
      "text/html": [
       "Run data is saved locally in <code>C:\\Users\\teozz\\OneDrive\\Desktop\\vscode_workspace\\projects\\credit_card_fraud_detection\\wandb\\run-20220407_181300-1okzbgfa</code>"
      ],
      "text/plain": [
       "<IPython.core.display.HTML object>"
      ]
     },
     "metadata": {},
     "output_type": "display_data"
    },
    {
     "data": {
      "text/html": [
       "Syncing run <strong><a href=\"https://wandb.ai/zuozhe/fraud_detection/runs/1okzbgfa\" target=\"_blank\">dark-blaze-110</a></strong> to <a href=\"https://wandb.ai/zuozhe/fraud_detection\" target=\"_blank\">Weights & Biases</a> (<a href=\"https://wandb.me/run\" target=\"_blank\">docs</a>)<br/>"
      ],
      "text/plain": [
       "<IPython.core.display.HTML object>"
      ]
     },
     "metadata": {},
     "output_type": "display_data"
    },
    {
     "name": "stdout",
     "output_type": "stream",
     "text": [
      "Params {'C': 1.0, 'fit_intercept': True, 'penalty': 'l2'}\n"
     ]
    },
    {
     "data": {
      "text/html": [
       "Finishing last run (ID:1okzbgfa) before initializing another..."
      ],
      "text/plain": [
       "<IPython.core.display.HTML object>"
      ]
     },
     "metadata": {},
     "output_type": "display_data"
    },
    {
     "name": "stdout",
     "output_type": "stream",
     "text": [
      "\n"
     ]
    },
    {
     "data": {
      "text/html": [
       "Waiting for W&B process to finish... <strong style=\"color:green\">(success).</strong>"
      ],
      "text/plain": [
       "<IPython.core.display.HTML object>"
      ]
     },
     "metadata": {},
     "output_type": "display_data"
    },
    {
     "data": {
      "text/html": [
       "<style>\n",
       "    table.wandb td:nth-child(1) { padding: 0 10px; text-align: right }\n",
       "    .wandb-row { display: flex; flex-direction: row; flex-wrap: wrap; width: 100% }\n",
       "    .wandb-col { display: flex; flex-direction: column; flex-basis: 100%; flex: 1; padding: 10px; }\n",
       "    </style>\n",
       "<div class=\"wandb-row\"><div class=\"wandb-col\"><h3>Run history:</h3><br/><table class=\"wandb\"><tr><td>C</td><td>▁</td></tr><tr><td>fit_intercept</td><td>▁</td></tr><tr><td>fit_time</td><td>▁</td></tr><tr><td>on_golden_test</td><td>▁</td></tr><tr><td>score_time</td><td>▁</td></tr><tr><td>test_accuracy</td><td>▁</td></tr><tr><td>test_average_precision</td><td>▁</td></tr><tr><td>test_f1</td><td>▁</td></tr><tr><td>test_precision</td><td>▁</td></tr><tr><td>test_recall</td><td>▁</td></tr><tr><td>test_roc_auc</td><td>▁</td></tr><tr><td>train_accuracy</td><td>▁</td></tr><tr><td>train_average_precision</td><td>▁</td></tr><tr><td>train_f1</td><td>▁</td></tr><tr><td>train_precision</td><td>▁</td></tr><tr><td>train_recall</td><td>▁</td></tr><tr><td>train_roc_auc</td><td>▁</td></tr></table><br/></div><div class=\"wandb-col\"><h3>Run summary:</h3><br/><table class=\"wandb\"><tr><td>C</td><td>1.0</td></tr><tr><td>fit_intercept</td><td>True</td></tr><tr><td>fit_time</td><td>5.2508</td></tr><tr><td>model_name</td><td>LogisticRegression</td></tr><tr><td>on_golden_test</td><td>False</td></tr><tr><td>penalty</td><td>l2</td></tr><tr><td>score_time</td><td>0.2062</td></tr><tr><td>test_accuracy</td><td>0.99926</td></tr><tr><td>test_average_precision</td><td>0.77529</td></tr><tr><td>test_f1</td><td>0.7511</td></tr><tr><td>test_precision</td><td>0.88593</td></tr><tr><td>test_recall</td><td>0.65812</td></tr><tr><td>test_roc_auc</td><td>0.98003</td></tr><tr><td>train_accuracy</td><td>0.99927</td></tr><tr><td>train_average_precision</td><td>0.78371</td></tr><tr><td>train_f1</td><td>0.75544</td></tr><tr><td>train_precision</td><td>0.89034</td></tr><tr><td>train_recall</td><td>0.6561</td></tr><tr><td>train_roc_auc</td><td>0.98334</td></tr></table><br/></div></div>"
      ],
      "text/plain": [
       "<IPython.core.display.HTML object>"
      ]
     },
     "metadata": {},
     "output_type": "display_data"
    },
    {
     "data": {
      "text/html": [
       "Synced <strong style=\"color:#cdcd00\">dark-blaze-110</strong>: <a href=\"https://wandb.ai/zuozhe/fraud_detection/runs/1okzbgfa\" target=\"_blank\">https://wandb.ai/zuozhe/fraud_detection/runs/1okzbgfa</a><br/>Synced 5 W&B file(s), 0 media file(s), 0 artifact file(s) and 0 other file(s)"
      ],
      "text/plain": [
       "<IPython.core.display.HTML object>"
      ]
     },
     "metadata": {},
     "output_type": "display_data"
    },
    {
     "data": {
      "text/html": [
       "Find logs at: <code>.\\wandb\\run-20220407_181300-1okzbgfa\\logs</code>"
      ],
      "text/plain": [
       "<IPython.core.display.HTML object>"
      ]
     },
     "metadata": {},
     "output_type": "display_data"
    },
    {
     "data": {
      "text/html": [
       "Successfully finished last run (ID:1okzbgfa). Initializing new run:<br/>"
      ],
      "text/plain": [
       "<IPython.core.display.HTML object>"
      ]
     },
     "metadata": {},
     "output_type": "display_data"
    },
    {
     "data": {
      "text/html": [
       "Tracking run with wandb version 0.12.12"
      ],
      "text/plain": [
       "<IPython.core.display.HTML object>"
      ]
     },
     "metadata": {},
     "output_type": "display_data"
    },
    {
     "data": {
      "text/html": [
       "Run data is saved locally in <code>C:\\Users\\teozz\\OneDrive\\Desktop\\vscode_workspace\\projects\\credit_card_fraud_detection\\wandb\\run-20220407_181317-oixq517t</code>"
      ],
      "text/plain": [
       "<IPython.core.display.HTML object>"
      ]
     },
     "metadata": {},
     "output_type": "display_data"
    },
    {
     "data": {
      "text/html": [
       "Syncing run <strong><a href=\"https://wandb.ai/zuozhe/fraud_detection/runs/oixq517t\" target=\"_blank\">graceful-vortex-111</a></strong> to <a href=\"https://wandb.ai/zuozhe/fraud_detection\" target=\"_blank\">Weights & Biases</a> (<a href=\"https://wandb.me/run\" target=\"_blank\">docs</a>)<br/>"
      ],
      "text/plain": [
       "<IPython.core.display.HTML object>"
      ]
     },
     "metadata": {},
     "output_type": "display_data"
    },
    {
     "name": "stdout",
     "output_type": "stream",
     "text": [
      "Params {'C': 1.0, 'fit_intercept': False, 'penalty': 'l2'}\n"
     ]
    },
    {
     "data": {
      "text/html": [
       "Finishing last run (ID:oixq517t) before initializing another..."
      ],
      "text/plain": [
       "<IPython.core.display.HTML object>"
      ]
     },
     "metadata": {},
     "output_type": "display_data"
    },
    {
     "name": "stdout",
     "output_type": "stream",
     "text": [
      "\n"
     ]
    },
    {
     "data": {
      "text/html": [
       "Waiting for W&B process to finish... <strong style=\"color:green\">(success).</strong>"
      ],
      "text/plain": [
       "<IPython.core.display.HTML object>"
      ]
     },
     "metadata": {},
     "output_type": "display_data"
    },
    {
     "data": {
      "text/html": [
       "<style>\n",
       "    table.wandb td:nth-child(1) { padding: 0 10px; text-align: right }\n",
       "    .wandb-row { display: flex; flex-direction: row; flex-wrap: wrap; width: 100% }\n",
       "    .wandb-col { display: flex; flex-direction: column; flex-basis: 100%; flex: 1; padding: 10px; }\n",
       "    </style>\n",
       "<div class=\"wandb-row\"><div class=\"wandb-col\"><h3>Run history:</h3><br/><table class=\"wandb\"><tr><td>C</td><td>▁</td></tr><tr><td>fit_intercept</td><td>▁</td></tr><tr><td>fit_time</td><td>▁</td></tr><tr><td>on_golden_test</td><td>▁</td></tr><tr><td>score_time</td><td>▁</td></tr><tr><td>test_accuracy</td><td>▁</td></tr><tr><td>test_average_precision</td><td>▁</td></tr><tr><td>test_f1</td><td>▁</td></tr><tr><td>test_precision</td><td>▁</td></tr><tr><td>test_recall</td><td>▁</td></tr><tr><td>test_roc_auc</td><td>▁</td></tr><tr><td>train_accuracy</td><td>▁</td></tr><tr><td>train_average_precision</td><td>▁</td></tr><tr><td>train_f1</td><td>▁</td></tr><tr><td>train_precision</td><td>▁</td></tr><tr><td>train_recall</td><td>▁</td></tr><tr><td>train_roc_auc</td><td>▁</td></tr></table><br/></div><div class=\"wandb-col\"><h3>Run summary:</h3><br/><table class=\"wandb\"><tr><td>C</td><td>1.0</td></tr><tr><td>fit_intercept</td><td>False</td></tr><tr><td>fit_time</td><td>2.451</td></tr><tr><td>model_name</td><td>LogisticRegression</td></tr><tr><td>on_golden_test</td><td>False</td></tr><tr><td>penalty</td><td>l2</td></tr><tr><td>score_time</td><td>0.1478</td></tr><tr><td>test_accuracy</td><td>0.99723</td></tr><tr><td>test_average_precision</td><td>0.32589</td></tr><tr><td>test_f1</td><td>0.44297</td></tr><tr><td>test_precision</td><td>0.34143</td></tr><tr><td>test_recall</td><td>0.63408</td></tr><tr><td>test_roc_auc</td><td>0.76833</td></tr><tr><td>train_accuracy</td><td>0.99723</td></tr><tr><td>train_average_precision</td><td>0.31733</td></tr><tr><td>train_f1</td><td>0.43992</td></tr><tr><td>train_precision</td><td>0.33822</td></tr><tr><td>train_recall</td><td>0.62919</td></tr><tr><td>train_roc_auc</td><td>0.76896</td></tr></table><br/></div></div>"
      ],
      "text/plain": [
       "<IPython.core.display.HTML object>"
      ]
     },
     "metadata": {},
     "output_type": "display_data"
    },
    {
     "data": {
      "text/html": [
       "Synced <strong style=\"color:#cdcd00\">graceful-vortex-111</strong>: <a href=\"https://wandb.ai/zuozhe/fraud_detection/runs/oixq517t\" target=\"_blank\">https://wandb.ai/zuozhe/fraud_detection/runs/oixq517t</a><br/>Synced 5 W&B file(s), 0 media file(s), 0 artifact file(s) and 0 other file(s)"
      ],
      "text/plain": [
       "<IPython.core.display.HTML object>"
      ]
     },
     "metadata": {},
     "output_type": "display_data"
    },
    {
     "data": {
      "text/html": [
       "Find logs at: <code>.\\wandb\\run-20220407_181317-oixq517t\\logs</code>"
      ],
      "text/plain": [
       "<IPython.core.display.HTML object>"
      ]
     },
     "metadata": {},
     "output_type": "display_data"
    },
    {
     "data": {
      "text/html": [
       "Successfully finished last run (ID:oixq517t). Initializing new run:<br/>"
      ],
      "text/plain": [
       "<IPython.core.display.HTML object>"
      ]
     },
     "metadata": {},
     "output_type": "display_data"
    },
    {
     "data": {
      "text/html": [
       "Tracking run with wandb version 0.12.12"
      ],
      "text/plain": [
       "<IPython.core.display.HTML object>"
      ]
     },
     "metadata": {},
     "output_type": "display_data"
    },
    {
     "data": {
      "text/html": [
       "Run data is saved locally in <code>C:\\Users\\teozz\\OneDrive\\Desktop\\vscode_workspace\\projects\\credit_card_fraud_detection\\wandb\\run-20220407_181331-1y6zz3ux</code>"
      ],
      "text/plain": [
       "<IPython.core.display.HTML object>"
      ]
     },
     "metadata": {},
     "output_type": "display_data"
    },
    {
     "data": {
      "text/html": [
       "Syncing run <strong><a href=\"https://wandb.ai/zuozhe/fraud_detection/runs/1y6zz3ux\" target=\"_blank\">lively-valley-112</a></strong> to <a href=\"https://wandb.ai/zuozhe/fraud_detection\" target=\"_blank\">Weights & Biases</a> (<a href=\"https://wandb.me/run\" target=\"_blank\">docs</a>)<br/>"
      ],
      "text/plain": [
       "<IPython.core.display.HTML object>"
      ]
     },
     "metadata": {},
     "output_type": "display_data"
    },
    {
     "name": "stdout",
     "output_type": "stream",
     "text": [
      "Params {'C': 1.2, 'fit_intercept': True, 'penalty': 'l2'}\n"
     ]
    },
    {
     "data": {
      "text/html": [
       "Finishing last run (ID:1y6zz3ux) before initializing another..."
      ],
      "text/plain": [
       "<IPython.core.display.HTML object>"
      ]
     },
     "metadata": {},
     "output_type": "display_data"
    },
    {
     "name": "stdout",
     "output_type": "stream",
     "text": [
      "\n"
     ]
    },
    {
     "data": {
      "text/html": [
       "Waiting for W&B process to finish... <strong style=\"color:green\">(success).</strong>"
      ],
      "text/plain": [
       "<IPython.core.display.HTML object>"
      ]
     },
     "metadata": {},
     "output_type": "display_data"
    },
    {
     "data": {
      "text/html": [
       "<style>\n",
       "    table.wandb td:nth-child(1) { padding: 0 10px; text-align: right }\n",
       "    .wandb-row { display: flex; flex-direction: row; flex-wrap: wrap; width: 100% }\n",
       "    .wandb-col { display: flex; flex-direction: column; flex-basis: 100%; flex: 1; padding: 10px; }\n",
       "    </style>\n",
       "<div class=\"wandb-row\"><div class=\"wandb-col\"><h3>Run history:</h3><br/><table class=\"wandb\"><tr><td>C</td><td>▁</td></tr><tr><td>fit_intercept</td><td>▁</td></tr><tr><td>fit_time</td><td>▁</td></tr><tr><td>on_golden_test</td><td>▁</td></tr><tr><td>score_time</td><td>▁</td></tr><tr><td>test_accuracy</td><td>▁</td></tr><tr><td>test_average_precision</td><td>▁</td></tr><tr><td>test_f1</td><td>▁</td></tr><tr><td>test_precision</td><td>▁</td></tr><tr><td>test_recall</td><td>▁</td></tr><tr><td>test_roc_auc</td><td>▁</td></tr><tr><td>train_accuracy</td><td>▁</td></tr><tr><td>train_average_precision</td><td>▁</td></tr><tr><td>train_f1</td><td>▁</td></tr><tr><td>train_precision</td><td>▁</td></tr><tr><td>train_recall</td><td>▁</td></tr><tr><td>train_roc_auc</td><td>▁</td></tr></table><br/></div><div class=\"wandb-col\"><h3>Run summary:</h3><br/><table class=\"wandb\"><tr><td>C</td><td>1.2</td></tr><tr><td>fit_intercept</td><td>True</td></tr><tr><td>fit_time</td><td>4.5896</td></tr><tr><td>model_name</td><td>LogisticRegression</td></tr><tr><td>on_golden_test</td><td>False</td></tr><tr><td>penalty</td><td>l2</td></tr><tr><td>score_time</td><td>0.151</td></tr><tr><td>test_accuracy</td><td>0.99926</td></tr><tr><td>test_average_precision</td><td>0.77525</td></tr><tr><td>test_f1</td><td>0.7511</td></tr><tr><td>test_precision</td><td>0.88593</td></tr><tr><td>test_recall</td><td>0.65812</td></tr><tr><td>test_roc_auc</td><td>0.98</td></tr><tr><td>train_accuracy</td><td>0.99927</td></tr><tr><td>train_average_precision</td><td>0.78366</td></tr><tr><td>train_f1</td><td>0.75544</td></tr><tr><td>train_precision</td><td>0.89034</td></tr><tr><td>train_recall</td><td>0.6561</td></tr><tr><td>train_roc_auc</td><td>0.98332</td></tr></table><br/></div></div>"
      ],
      "text/plain": [
       "<IPython.core.display.HTML object>"
      ]
     },
     "metadata": {},
     "output_type": "display_data"
    },
    {
     "data": {
      "text/html": [
       "Synced <strong style=\"color:#cdcd00\">lively-valley-112</strong>: <a href=\"https://wandb.ai/zuozhe/fraud_detection/runs/1y6zz3ux\" target=\"_blank\">https://wandb.ai/zuozhe/fraud_detection/runs/1y6zz3ux</a><br/>Synced 5 W&B file(s), 0 media file(s), 0 artifact file(s) and 0 other file(s)"
      ],
      "text/plain": [
       "<IPython.core.display.HTML object>"
      ]
     },
     "metadata": {},
     "output_type": "display_data"
    },
    {
     "data": {
      "text/html": [
       "Find logs at: <code>.\\wandb\\run-20220407_181331-1y6zz3ux\\logs</code>"
      ],
      "text/plain": [
       "<IPython.core.display.HTML object>"
      ]
     },
     "metadata": {},
     "output_type": "display_data"
    },
    {
     "data": {
      "text/html": [
       "Successfully finished last run (ID:1y6zz3ux). Initializing new run:<br/>"
      ],
      "text/plain": [
       "<IPython.core.display.HTML object>"
      ]
     },
     "metadata": {},
     "output_type": "display_data"
    },
    {
     "data": {
      "text/html": [
       "Tracking run with wandb version 0.12.12"
      ],
      "text/plain": [
       "<IPython.core.display.HTML object>"
      ]
     },
     "metadata": {},
     "output_type": "display_data"
    },
    {
     "data": {
      "text/html": [
       "Run data is saved locally in <code>C:\\Users\\teozz\\OneDrive\\Desktop\\vscode_workspace\\projects\\credit_card_fraud_detection\\wandb\\run-20220407_181348-yk75h38h</code>"
      ],
      "text/plain": [
       "<IPython.core.display.HTML object>"
      ]
     },
     "metadata": {},
     "output_type": "display_data"
    },
    {
     "data": {
      "text/html": [
       "Syncing run <strong><a href=\"https://wandb.ai/zuozhe/fraud_detection/runs/yk75h38h\" target=\"_blank\">wandering-vortex-113</a></strong> to <a href=\"https://wandb.ai/zuozhe/fraud_detection\" target=\"_blank\">Weights & Biases</a> (<a href=\"https://wandb.me/run\" target=\"_blank\">docs</a>)<br/>"
      ],
      "text/plain": [
       "<IPython.core.display.HTML object>"
      ]
     },
     "metadata": {},
     "output_type": "display_data"
    },
    {
     "name": "stdout",
     "output_type": "stream",
     "text": [
      "Params {'C': 1.2, 'fit_intercept': False, 'penalty': 'l2'}\n"
     ]
    },
    {
     "name": "stderr",
     "output_type": "stream",
     "text": [
      "c:\\users\\teozz\\onedrive\\desktop\\vscode_workspace\\projects\\credit_card_fraud_detection\\venv\\lib\\site-packages\\sklearn\\linear_model\\_logistic.py:814: ConvergenceWarning: lbfgs failed to converge (status=1):\n",
      "STOP: TOTAL NO. of ITERATIONS REACHED LIMIT.\n",
      "\n",
      "Increase the number of iterations (max_iter) or scale the data as shown in:\n",
      "    https://scikit-learn.org/stable/modules/preprocessing.html\n",
      "Please also refer to the documentation for alternative solver options:\n",
      "    https://scikit-learn.org/stable/modules/linear_model.html#logistic-regression\n",
      "  n_iter_i = _check_optimize_result(\n",
      "\u001b[34m\u001b[1mwandb\u001b[0m: \n",
      "\u001b[34m\u001b[1mwandb\u001b[0m: Plotting LogisticRegression.\n",
      "c:\\users\\teozz\\onedrive\\desktop\\vscode_workspace\\projects\\credit_card_fraud_detection\\venv\\lib\\site-packages\\sklearn\\base.py:450: UserWarning: X does not have valid feature names, but RobustScaler was fitted with feature names\n",
      "  warnings.warn(\n",
      "\u001b[34m\u001b[1mwandb\u001b[0m: \u001b[33mWARNING\u001b[0m could not find any of attributes feature_importances_, feature_log_prob_, coef_ on classifier. Cannot plot feature importances.\n",
      "\u001b[34m\u001b[1mwandb\u001b[0m: Logged feature importances.\n",
      "\u001b[34m\u001b[1mwandb\u001b[0m: Logged confusion matrix.\n",
      "c:\\users\\teozz\\onedrive\\desktop\\vscode_workspace\\projects\\credit_card_fraud_detection\\venv\\lib\\site-packages\\sklearn\\base.py:450: UserWarning: X does not have valid feature names, but RobustScaler was fitted with feature names\n",
      "  warnings.warn(\n",
      "\u001b[34m\u001b[1mwandb\u001b[0m: Logged summary metrics.\n",
      "\u001b[34m\u001b[1mwandb\u001b[0m: Logged class proportions.\n",
      "c:\\users\\teozz\\onedrive\\desktop\\vscode_workspace\\projects\\credit_card_fraud_detection\\venv\\lib\\site-packages\\sklearn\\base.py:450: UserWarning: X does not have valid feature names, but RobustScaler was fitted with feature names\n",
      "  warnings.warn(\n",
      "c:\\users\\teozz\\onedrive\\desktop\\vscode_workspace\\projects\\credit_card_fraud_detection\\venv\\lib\\site-packages\\sklearn\\linear_model\\_logistic.py:814: ConvergenceWarning: lbfgs failed to converge (status=1):\n",
      "STOP: TOTAL NO. of ITERATIONS REACHED LIMIT.\n",
      "\n",
      "Increase the number of iterations (max_iter) or scale the data as shown in:\n",
      "    https://scikit-learn.org/stable/modules/preprocessing.html\n",
      "Please also refer to the documentation for alternative solver options:\n",
      "    https://scikit-learn.org/stable/modules/linear_model.html#logistic-regression\n",
      "  n_iter_i = _check_optimize_result(\n",
      "c:\\users\\teozz\\onedrive\\desktop\\vscode_workspace\\projects\\credit_card_fraud_detection\\venv\\lib\\site-packages\\sklearn\\linear_model\\_logistic.py:814: ConvergenceWarning: lbfgs failed to converge (status=1):\n",
      "STOP: TOTAL NO. of ITERATIONS REACHED LIMIT.\n",
      "\n",
      "Increase the number of iterations (max_iter) or scale the data as shown in:\n",
      "    https://scikit-learn.org/stable/modules/preprocessing.html\n",
      "Please also refer to the documentation for alternative solver options:\n",
      "    https://scikit-learn.org/stable/modules/linear_model.html#logistic-regression\n",
      "  n_iter_i = _check_optimize_result(\n",
      "c:\\users\\teozz\\onedrive\\desktop\\vscode_workspace\\projects\\credit_card_fraud_detection\\venv\\lib\\site-packages\\sklearn\\linear_model\\_logistic.py:814: ConvergenceWarning: lbfgs failed to converge (status=1):\n",
      "STOP: TOTAL NO. of ITERATIONS REACHED LIMIT.\n",
      "\n",
      "Increase the number of iterations (max_iter) or scale the data as shown in:\n",
      "    https://scikit-learn.org/stable/modules/preprocessing.html\n",
      "Please also refer to the documentation for alternative solver options:\n",
      "    https://scikit-learn.org/stable/modules/linear_model.html#logistic-regression\n",
      "  n_iter_i = _check_optimize_result(\n",
      "\u001b[34m\u001b[1mwandb\u001b[0m: Logged calibration curve.\n",
      "\u001b[34m\u001b[1mwandb\u001b[0m: Logged roc curve.\n",
      "\u001b[34m\u001b[1mwandb\u001b[0m: Logged precision-recall curve.\n"
     ]
    },
    {
     "name": "stdout",
     "output_type": "stream",
     "text": [
      "\n",
      "Performing training on model LinearSVC\n"
     ]
    },
    {
     "data": {
      "text/html": [
       "Finishing last run (ID:yk75h38h) before initializing another..."
      ],
      "text/plain": [
       "<IPython.core.display.HTML object>"
      ]
     },
     "metadata": {},
     "output_type": "display_data"
    },
    {
     "name": "stdout",
     "output_type": "stream",
     "text": [
      "\n"
     ]
    },
    {
     "data": {
      "text/html": [
       "Waiting for W&B process to finish... <strong style=\"color:green\">(success).</strong>"
      ],
      "text/plain": [
       "<IPython.core.display.HTML object>"
      ]
     },
     "metadata": {},
     "output_type": "display_data"
    },
    {
     "data": {
      "text/html": [
       "<style>\n",
       "    table.wandb td:nth-child(1) { padding: 0 10px; text-align: right }\n",
       "    .wandb-row { display: flex; flex-direction: row; flex-wrap: wrap; width: 100% }\n",
       "    .wandb-col { display: flex; flex-direction: column; flex-basis: 100%; flex: 1; padding: 10px; }\n",
       "    </style>\n",
       "<div class=\"wandb-row\"><div class=\"wandb-col\"><h3>Run history:</h3><br/><table class=\"wandb\"><tr><td>C</td><td>█▁</td></tr><tr><td>fit_intercept</td><td>▁█</td></tr><tr><td>fit_time</td><td>▁</td></tr><tr><td>on_golden_test</td><td>▁█</td></tr><tr><td>score_time</td><td>▁</td></tr><tr><td>test_accuracy</td><td>▁█</td></tr><tr><td>test_average_precision</td><td>▁█</td></tr><tr><td>test_f1</td><td>▁█</td></tr><tr><td>test_precision</td><td>▁█</td></tr><tr><td>test_recall</td><td>▁█</td></tr><tr><td>test_roc_auc</td><td>▁█</td></tr><tr><td>train_accuracy</td><td>▁█</td></tr><tr><td>train_average_precision</td><td>▁█</td></tr><tr><td>train_f1</td><td>▁█</td></tr><tr><td>train_precision</td><td>▁█</td></tr><tr><td>train_recall</td><td>▁█</td></tr><tr><td>train_roc_auc</td><td>▁█</td></tr></table><br/></div><div class=\"wandb-col\"><h3>Run summary:</h3><br/><table class=\"wandb\"><tr><td>C</td><td>1.0</td></tr><tr><td>fit_intercept</td><td>True</td></tr><tr><td>fit_time</td><td>2.7986</td></tr><tr><td>model_name</td><td>LogisticRegression</td></tr><tr><td>on_golden_test</td><td>True</td></tr><tr><td>penalty</td><td>l2</td></tr><tr><td>score_time</td><td>0.1384</td></tr><tr><td>test_accuracy</td><td>0.99916</td></tr><tr><td>test_average_precision</td><td>0.7018</td></tr><tr><td>test_f1</td><td>0.73134</td></tr><tr><td>test_precision</td><td>0.81667</td></tr><tr><td>test_recall</td><td>0.66216</td></tr><tr><td>test_roc_auc</td><td>0.94554</td></tr><tr><td>train_accuracy</td><td>0.99928</td></tr><tr><td>train_average_precision</td><td>0.78266</td></tr><tr><td>train_f1</td><td>0.75928</td></tr><tr><td>train_precision</td><td>0.8932</td></tr><tr><td>train_recall</td><td>0.66029</td></tr><tr><td>train_roc_auc</td><td>0.98327</td></tr></table><br/></div></div>"
      ],
      "text/plain": [
       "<IPython.core.display.HTML object>"
      ]
     },
     "metadata": {},
     "output_type": "display_data"
    },
    {
     "data": {
      "text/html": [
       "Synced <strong style=\"color:#cdcd00\">wandering-vortex-113</strong>: <a href=\"https://wandb.ai/zuozhe/fraud_detection/runs/yk75h38h\" target=\"_blank\">https://wandb.ai/zuozhe/fraud_detection/runs/yk75h38h</a><br/>Synced 5 W&B file(s), 6 media file(s), 6 artifact file(s) and 0 other file(s)"
      ],
      "text/plain": [
       "<IPython.core.display.HTML object>"
      ]
     },
     "metadata": {},
     "output_type": "display_data"
    },
    {
     "data": {
      "text/html": [
       "Find logs at: <code>.\\wandb\\run-20220407_181348-yk75h38h\\logs</code>"
      ],
      "text/plain": [
       "<IPython.core.display.HTML object>"
      ]
     },
     "metadata": {},
     "output_type": "display_data"
    },
    {
     "data": {
      "text/html": [
       "Successfully finished last run (ID:yk75h38h). Initializing new run:<br/>"
      ],
      "text/plain": [
       "<IPython.core.display.HTML object>"
      ]
     },
     "metadata": {},
     "output_type": "display_data"
    },
    {
     "data": {
      "text/html": [
       "Tracking run with wandb version 0.12.12"
      ],
      "text/plain": [
       "<IPython.core.display.HTML object>"
      ]
     },
     "metadata": {},
     "output_type": "display_data"
    },
    {
     "data": {
      "text/html": [
       "Run data is saved locally in <code>C:\\Users\\teozz\\OneDrive\\Desktop\\vscode_workspace\\projects\\credit_card_fraud_detection\\wandb\\run-20220407_181414-3ctyl8dn</code>"
      ],
      "text/plain": [
       "<IPython.core.display.HTML object>"
      ]
     },
     "metadata": {},
     "output_type": "display_data"
    },
    {
     "data": {
      "text/html": [
       "Syncing run <strong><a href=\"https://wandb.ai/zuozhe/fraud_detection/runs/3ctyl8dn\" target=\"_blank\">glad-monkey-114</a></strong> to <a href=\"https://wandb.ai/zuozhe/fraud_detection\" target=\"_blank\">Weights & Biases</a> (<a href=\"https://wandb.me/run\" target=\"_blank\">docs</a>)<br/>"
      ],
      "text/plain": [
       "<IPython.core.display.HTML object>"
      ]
     },
     "metadata": {},
     "output_type": "display_data"
    },
    {
     "name": "stdout",
     "output_type": "stream",
     "text": [
      "Params {'C': 0.8, 'fit_intercept': True, 'penalty': 'l2'}\n"
     ]
    },
    {
     "data": {
      "text/html": [
       "Finishing last run (ID:3ctyl8dn) before initializing another..."
      ],
      "text/plain": [
       "<IPython.core.display.HTML object>"
      ]
     },
     "metadata": {},
     "output_type": "display_data"
    },
    {
     "name": "stdout",
     "output_type": "stream",
     "text": [
      "\n"
     ]
    },
    {
     "data": {
      "text/html": [
       "Waiting for W&B process to finish... <strong style=\"color:green\">(success).</strong>"
      ],
      "text/plain": [
       "<IPython.core.display.HTML object>"
      ]
     },
     "metadata": {},
     "output_type": "display_data"
    },
    {
     "data": {
      "text/html": [
       "<style>\n",
       "    table.wandb td:nth-child(1) { padding: 0 10px; text-align: right }\n",
       "    .wandb-row { display: flex; flex-direction: row; flex-wrap: wrap; width: 100% }\n",
       "    .wandb-col { display: flex; flex-direction: column; flex-basis: 100%; flex: 1; padding: 10px; }\n",
       "    </style>\n",
       "<div class=\"wandb-row\"><div class=\"wandb-col\"><h3>Run history:</h3><br/><table class=\"wandb\"><tr><td>C</td><td>▁</td></tr><tr><td>fit_intercept</td><td>▁</td></tr><tr><td>fit_time</td><td>▁</td></tr><tr><td>on_golden_test</td><td>▁</td></tr><tr><td>score_time</td><td>▁</td></tr><tr><td>test_accuracy</td><td>▁</td></tr><tr><td>test_average_precision</td><td>▁</td></tr><tr><td>test_f1</td><td>▁</td></tr><tr><td>test_precision</td><td>▁</td></tr><tr><td>test_recall</td><td>▁</td></tr><tr><td>test_roc_auc</td><td>▁</td></tr><tr><td>train_accuracy</td><td>▁</td></tr><tr><td>train_average_precision</td><td>▁</td></tr><tr><td>train_f1</td><td>▁</td></tr><tr><td>train_precision</td><td>▁</td></tr><tr><td>train_recall</td><td>▁</td></tr><tr><td>train_roc_auc</td><td>▁</td></tr></table><br/></div><div class=\"wandb-col\"><h3>Run summary:</h3><br/><table class=\"wandb\"><tr><td>C</td><td>0.8</td></tr><tr><td>fit_intercept</td><td>True</td></tr><tr><td>fit_time</td><td>73.16863</td></tr><tr><td>model_name</td><td>LinearSVC</td></tr><tr><td>on_golden_test</td><td>False</td></tr><tr><td>penalty</td><td>l2</td></tr><tr><td>score_time</td><td>0.1216</td></tr><tr><td>test_accuracy</td><td>0.99942</td></tr><tr><td>test_average_precision</td><td>0.77579</td></tr><tr><td>test_f1</td><td>0.81539</td></tr><tr><td>test_precision</td><td>0.89899</td></tr><tr><td>test_recall</td><td>0.74905</td></tr><tr><td>test_roc_auc</td><td>0.9793</td></tr><tr><td>train_accuracy</td><td>0.99941</td></tr><tr><td>train_average_precision</td><td>0.78182</td></tr><tr><td>train_f1</td><td>0.81289</td></tr><tr><td>train_precision</td><td>0.88882</td></tr><tr><td>train_recall</td><td>0.74938</td></tr><tr><td>train_roc_auc</td><td>0.98253</td></tr></table><br/></div></div>"
      ],
      "text/plain": [
       "<IPython.core.display.HTML object>"
      ]
     },
     "metadata": {},
     "output_type": "display_data"
    },
    {
     "data": {
      "text/html": [
       "Synced <strong style=\"color:#cdcd00\">glad-monkey-114</strong>: <a href=\"https://wandb.ai/zuozhe/fraud_detection/runs/3ctyl8dn\" target=\"_blank\">https://wandb.ai/zuozhe/fraud_detection/runs/3ctyl8dn</a><br/>Synced 5 W&B file(s), 0 media file(s), 0 artifact file(s) and 0 other file(s)"
      ],
      "text/plain": [
       "<IPython.core.display.HTML object>"
      ]
     },
     "metadata": {},
     "output_type": "display_data"
    },
    {
     "data": {
      "text/html": [
       "Find logs at: <code>.\\wandb\\run-20220407_181414-3ctyl8dn\\logs</code>"
      ],
      "text/plain": [
       "<IPython.core.display.HTML object>"
      ]
     },
     "metadata": {},
     "output_type": "display_data"
    },
    {
     "data": {
      "text/html": [
       "Successfully finished last run (ID:3ctyl8dn). Initializing new run:<br/>"
      ],
      "text/plain": [
       "<IPython.core.display.HTML object>"
      ]
     },
     "metadata": {},
     "output_type": "display_data"
    },
    {
     "data": {
      "text/html": [
       "Tracking run with wandb version 0.12.12"
      ],
      "text/plain": [
       "<IPython.core.display.HTML object>"
      ]
     },
     "metadata": {},
     "output_type": "display_data"
    },
    {
     "data": {
      "text/html": [
       "Run data is saved locally in <code>C:\\Users\\teozz\\OneDrive\\Desktop\\vscode_workspace\\projects\\credit_card_fraud_detection\\wandb\\run-20220407_181634-3qwbvio7</code>"
      ],
      "text/plain": [
       "<IPython.core.display.HTML object>"
      ]
     },
     "metadata": {},
     "output_type": "display_data"
    },
    {
     "data": {
      "text/html": [
       "Syncing run <strong><a href=\"https://wandb.ai/zuozhe/fraud_detection/runs/3qwbvio7\" target=\"_blank\">fragrant-sunset-115</a></strong> to <a href=\"https://wandb.ai/zuozhe/fraud_detection\" target=\"_blank\">Weights & Biases</a> (<a href=\"https://wandb.me/run\" target=\"_blank\">docs</a>)<br/>"
      ],
      "text/plain": [
       "<IPython.core.display.HTML object>"
      ]
     },
     "metadata": {},
     "output_type": "display_data"
    },
    {
     "name": "stdout",
     "output_type": "stream",
     "text": [
      "Params {'C': 0.8, 'fit_intercept': False, 'penalty': 'l2'}\n"
     ]
    },
    {
     "data": {
      "text/html": [
       "Finishing last run (ID:3qwbvio7) before initializing another..."
      ],
      "text/plain": [
       "<IPython.core.display.HTML object>"
      ]
     },
     "metadata": {},
     "output_type": "display_data"
    },
    {
     "name": "stdout",
     "output_type": "stream",
     "text": [
      "\n"
     ]
    },
    {
     "data": {
      "text/html": [
       "Waiting for W&B process to finish... <strong style=\"color:green\">(success).</strong>"
      ],
      "text/plain": [
       "<IPython.core.display.HTML object>"
      ]
     },
     "metadata": {},
     "output_type": "display_data"
    },
    {
     "data": {
      "text/html": [
       "<style>\n",
       "    table.wandb td:nth-child(1) { padding: 0 10px; text-align: right }\n",
       "    .wandb-row { display: flex; flex-direction: row; flex-wrap: wrap; width: 100% }\n",
       "    .wandb-col { display: flex; flex-direction: column; flex-basis: 100%; flex: 1; padding: 10px; }\n",
       "    </style>\n",
       "<div class=\"wandb-row\"><div class=\"wandb-col\"><h3>Run history:</h3><br/><table class=\"wandb\"><tr><td>C</td><td>▁</td></tr><tr><td>fit_intercept</td><td>▁</td></tr><tr><td>fit_time</td><td>▁</td></tr><tr><td>on_golden_test</td><td>▁</td></tr><tr><td>score_time</td><td>▁</td></tr><tr><td>test_accuracy</td><td>▁</td></tr><tr><td>test_average_precision</td><td>▁</td></tr><tr><td>test_f1</td><td>▁</td></tr><tr><td>test_precision</td><td>▁</td></tr><tr><td>test_recall</td><td>▁</td></tr><tr><td>test_roc_auc</td><td>▁</td></tr><tr><td>train_accuracy</td><td>▁</td></tr><tr><td>train_average_precision</td><td>▁</td></tr><tr><td>train_f1</td><td>▁</td></tr><tr><td>train_precision</td><td>▁</td></tr><tr><td>train_recall</td><td>▁</td></tr><tr><td>train_roc_auc</td><td>▁</td></tr></table><br/></div><div class=\"wandb-col\"><h3>Run summary:</h3><br/><table class=\"wandb\"><tr><td>C</td><td>0.8</td></tr><tr><td>fit_intercept</td><td>False</td></tr><tr><td>fit_time</td><td>79.6618</td></tr><tr><td>model_name</td><td>LinearSVC</td></tr><tr><td>on_golden_test</td><td>False</td></tr><tr><td>penalty</td><td>l2</td></tr><tr><td>score_time</td><td>0.1196</td></tr><tr><td>test_accuracy</td><td>0.99425</td></tr><tr><td>test_average_precision</td><td>0.26152</td></tr><tr><td>test_f1</td><td>0.28843</td></tr><tr><td>test_precision</td><td>0.18393</td></tr><tr><td>test_recall</td><td>0.67223</td></tr><tr><td>test_roc_auc</td><td>0.79485</td></tr><tr><td>train_accuracy</td><td>0.99432</td></tr><tr><td>train_average_precision</td><td>0.24999</td></tr><tr><td>train_f1</td><td>0.28927</td></tr><tr><td>train_precision</td><td>0.18463</td></tr><tr><td>train_recall</td><td>0.66808</td></tr><tr><td>train_roc_auc</td><td>0.79553</td></tr></table><br/></div></div>"
      ],
      "text/plain": [
       "<IPython.core.display.HTML object>"
      ]
     },
     "metadata": {},
     "output_type": "display_data"
    },
    {
     "data": {
      "text/html": [
       "Synced <strong style=\"color:#cdcd00\">fragrant-sunset-115</strong>: <a href=\"https://wandb.ai/zuozhe/fraud_detection/runs/3qwbvio7\" target=\"_blank\">https://wandb.ai/zuozhe/fraud_detection/runs/3qwbvio7</a><br/>Synced 5 W&B file(s), 0 media file(s), 0 artifact file(s) and 0 other file(s)"
      ],
      "text/plain": [
       "<IPython.core.display.HTML object>"
      ]
     },
     "metadata": {},
     "output_type": "display_data"
    },
    {
     "data": {
      "text/html": [
       "Find logs at: <code>.\\wandb\\run-20220407_181634-3qwbvio7\\logs</code>"
      ],
      "text/plain": [
       "<IPython.core.display.HTML object>"
      ]
     },
     "metadata": {},
     "output_type": "display_data"
    },
    {
     "data": {
      "text/html": [
       "Successfully finished last run (ID:3qwbvio7). Initializing new run:<br/>"
      ],
      "text/plain": [
       "<IPython.core.display.HTML object>"
      ]
     },
     "metadata": {},
     "output_type": "display_data"
    },
    {
     "data": {
      "text/html": [
       "Tracking run with wandb version 0.12.12"
      ],
      "text/plain": [
       "<IPython.core.display.HTML object>"
      ]
     },
     "metadata": {},
     "output_type": "display_data"
    },
    {
     "data": {
      "text/html": [
       "Run data is saved locally in <code>C:\\Users\\teozz\\OneDrive\\Desktop\\vscode_workspace\\projects\\credit_card_fraud_detection\\wandb\\run-20220407_181905-322t5z28</code>"
      ],
      "text/plain": [
       "<IPython.core.display.HTML object>"
      ]
     },
     "metadata": {},
     "output_type": "display_data"
    },
    {
     "data": {
      "text/html": [
       "Syncing run <strong><a href=\"https://wandb.ai/zuozhe/fraud_detection/runs/322t5z28\" target=\"_blank\">lilac-fog-116</a></strong> to <a href=\"https://wandb.ai/zuozhe/fraud_detection\" target=\"_blank\">Weights & Biases</a> (<a href=\"https://wandb.me/run\" target=\"_blank\">docs</a>)<br/>"
      ],
      "text/plain": [
       "<IPython.core.display.HTML object>"
      ]
     },
     "metadata": {},
     "output_type": "display_data"
    },
    {
     "name": "stdout",
     "output_type": "stream",
     "text": [
      "Params {'C': 1.0, 'fit_intercept': True, 'penalty': 'l2'}\n"
     ]
    },
    {
     "data": {
      "text/html": [
       "Finishing last run (ID:322t5z28) before initializing another..."
      ],
      "text/plain": [
       "<IPython.core.display.HTML object>"
      ]
     },
     "metadata": {},
     "output_type": "display_data"
    },
    {
     "name": "stdout",
     "output_type": "stream",
     "text": [
      "\n"
     ]
    },
    {
     "data": {
      "text/html": [
       "Waiting for W&B process to finish... <strong style=\"color:green\">(success).</strong>"
      ],
      "text/plain": [
       "<IPython.core.display.HTML object>"
      ]
     },
     "metadata": {},
     "output_type": "display_data"
    },
    {
     "data": {
      "text/html": [
       "<style>\n",
       "    table.wandb td:nth-child(1) { padding: 0 10px; text-align: right }\n",
       "    .wandb-row { display: flex; flex-direction: row; flex-wrap: wrap; width: 100% }\n",
       "    .wandb-col { display: flex; flex-direction: column; flex-basis: 100%; flex: 1; padding: 10px; }\n",
       "    </style>\n",
       "<div class=\"wandb-row\"><div class=\"wandb-col\"><h3>Run history:</h3><br/><table class=\"wandb\"><tr><td>C</td><td>▁</td></tr><tr><td>fit_intercept</td><td>▁</td></tr><tr><td>fit_time</td><td>▁</td></tr><tr><td>on_golden_test</td><td>▁</td></tr><tr><td>score_time</td><td>▁</td></tr><tr><td>test_accuracy</td><td>▁</td></tr><tr><td>test_average_precision</td><td>▁</td></tr><tr><td>test_f1</td><td>▁</td></tr><tr><td>test_precision</td><td>▁</td></tr><tr><td>test_recall</td><td>▁</td></tr><tr><td>test_roc_auc</td><td>▁</td></tr><tr><td>train_accuracy</td><td>▁</td></tr><tr><td>train_average_precision</td><td>▁</td></tr><tr><td>train_f1</td><td>▁</td></tr><tr><td>train_precision</td><td>▁</td></tr><tr><td>train_recall</td><td>▁</td></tr><tr><td>train_roc_auc</td><td>▁</td></tr></table><br/></div><div class=\"wandb-col\"><h3>Run summary:</h3><br/><table class=\"wandb\"><tr><td>C</td><td>1.0</td></tr><tr><td>fit_intercept</td><td>True</td></tr><tr><td>fit_time</td><td>68.9996</td></tr><tr><td>model_name</td><td>LinearSVC</td></tr><tr><td>on_golden_test</td><td>False</td></tr><tr><td>penalty</td><td>l2</td></tr><tr><td>score_time</td><td>0.1224</td></tr><tr><td>test_accuracy</td><td>0.99941</td></tr><tr><td>test_average_precision</td><td>0.77708</td></tr><tr><td>test_f1</td><td>0.81375</td></tr><tr><td>test_precision</td><td>0.89435</td></tr><tr><td>test_recall</td><td>0.749</td></tr><tr><td>test_roc_auc</td><td>0.97921</td></tr><tr><td>train_accuracy</td><td>0.99941</td></tr><tr><td>train_average_precision</td><td>0.78172</td></tr><tr><td>train_f1</td><td>0.8134</td></tr><tr><td>train_precision</td><td>0.88703</td></tr><tr><td>train_recall</td><td>0.75119</td></tr><tr><td>train_roc_auc</td><td>0.98264</td></tr></table><br/></div></div>"
      ],
      "text/plain": [
       "<IPython.core.display.HTML object>"
      ]
     },
     "metadata": {},
     "output_type": "display_data"
    },
    {
     "data": {
      "text/html": [
       "Synced <strong style=\"color:#cdcd00\">lilac-fog-116</strong>: <a href=\"https://wandb.ai/zuozhe/fraud_detection/runs/322t5z28\" target=\"_blank\">https://wandb.ai/zuozhe/fraud_detection/runs/322t5z28</a><br/>Synced 5 W&B file(s), 0 media file(s), 0 artifact file(s) and 0 other file(s)"
      ],
      "text/plain": [
       "<IPython.core.display.HTML object>"
      ]
     },
     "metadata": {},
     "output_type": "display_data"
    },
    {
     "data": {
      "text/html": [
       "Find logs at: <code>.\\wandb\\run-20220407_181905-322t5z28\\logs</code>"
      ],
      "text/plain": [
       "<IPython.core.display.HTML object>"
      ]
     },
     "metadata": {},
     "output_type": "display_data"
    },
    {
     "data": {
      "text/html": [
       "Successfully finished last run (ID:322t5z28). Initializing new run:<br/>"
      ],
      "text/plain": [
       "<IPython.core.display.HTML object>"
      ]
     },
     "metadata": {},
     "output_type": "display_data"
    },
    {
     "data": {
      "text/html": [
       "Tracking run with wandb version 0.12.12"
      ],
      "text/plain": [
       "<IPython.core.display.HTML object>"
      ]
     },
     "metadata": {},
     "output_type": "display_data"
    },
    {
     "data": {
      "text/html": [
       "Run data is saved locally in <code>C:\\Users\\teozz\\OneDrive\\Desktop\\vscode_workspace\\projects\\credit_card_fraud_detection\\wandb\\run-20220407_182114-s875kwfa</code>"
      ],
      "text/plain": [
       "<IPython.core.display.HTML object>"
      ]
     },
     "metadata": {},
     "output_type": "display_data"
    },
    {
     "data": {
      "text/html": [
       "Syncing run <strong><a href=\"https://wandb.ai/zuozhe/fraud_detection/runs/s875kwfa\" target=\"_blank\">revived-snowball-117</a></strong> to <a href=\"https://wandb.ai/zuozhe/fraud_detection\" target=\"_blank\">Weights & Biases</a> (<a href=\"https://wandb.me/run\" target=\"_blank\">docs</a>)<br/>"
      ],
      "text/plain": [
       "<IPython.core.display.HTML object>"
      ]
     },
     "metadata": {},
     "output_type": "display_data"
    },
    {
     "name": "stdout",
     "output_type": "stream",
     "text": [
      "Params {'C': 1.0, 'fit_intercept': False, 'penalty': 'l2'}\n"
     ]
    },
    {
     "data": {
      "text/html": [
       "Finishing last run (ID:s875kwfa) before initializing another..."
      ],
      "text/plain": [
       "<IPython.core.display.HTML object>"
      ]
     },
     "metadata": {},
     "output_type": "display_data"
    },
    {
     "name": "stdout",
     "output_type": "stream",
     "text": [
      "\n"
     ]
    },
    {
     "data": {
      "text/html": [
       "Waiting for W&B process to finish... <strong style=\"color:green\">(success).</strong>"
      ],
      "text/plain": [
       "<IPython.core.display.HTML object>"
      ]
     },
     "metadata": {},
     "output_type": "display_data"
    },
    {
     "data": {
      "text/html": [
       "<style>\n",
       "    table.wandb td:nth-child(1) { padding: 0 10px; text-align: right }\n",
       "    .wandb-row { display: flex; flex-direction: row; flex-wrap: wrap; width: 100% }\n",
       "    .wandb-col { display: flex; flex-direction: column; flex-basis: 100%; flex: 1; padding: 10px; }\n",
       "    </style>\n",
       "<div class=\"wandb-row\"><div class=\"wandb-col\"><h3>Run history:</h3><br/><table class=\"wandb\"><tr><td>C</td><td>▁</td></tr><tr><td>fit_intercept</td><td>▁</td></tr><tr><td>fit_time</td><td>▁</td></tr><tr><td>on_golden_test</td><td>▁</td></tr><tr><td>score_time</td><td>▁</td></tr><tr><td>test_accuracy</td><td>▁</td></tr><tr><td>test_average_precision</td><td>▁</td></tr><tr><td>test_f1</td><td>▁</td></tr><tr><td>test_precision</td><td>▁</td></tr><tr><td>test_recall</td><td>▁</td></tr><tr><td>test_roc_auc</td><td>▁</td></tr><tr><td>train_accuracy</td><td>▁</td></tr><tr><td>train_average_precision</td><td>▁</td></tr><tr><td>train_f1</td><td>▁</td></tr><tr><td>train_precision</td><td>▁</td></tr><tr><td>train_recall</td><td>▁</td></tr><tr><td>train_roc_auc</td><td>▁</td></tr></table><br/></div><div class=\"wandb-col\"><h3>Run summary:</h3><br/><table class=\"wandb\"><tr><td>C</td><td>1.0</td></tr><tr><td>fit_intercept</td><td>False</td></tr><tr><td>fit_time</td><td>79.24197</td></tr><tr><td>model_name</td><td>LinearSVC</td></tr><tr><td>on_golden_test</td><td>False</td></tr><tr><td>penalty</td><td>l2</td></tr><tr><td>score_time</td><td>0.125</td></tr><tr><td>test_accuracy</td><td>0.9945</td></tr><tr><td>test_average_precision</td><td>0.25326</td></tr><tr><td>test_f1</td><td>0.2933</td></tr><tr><td>test_precision</td><td>0.18881</td></tr><tr><td>test_recall</td><td>0.66021</td></tr><tr><td>test_roc_auc</td><td>0.78203</td></tr><tr><td>train_accuracy</td><td>0.9945</td></tr><tr><td>train_average_precision</td><td>0.25157</td></tr><tr><td>train_f1</td><td>0.2918</td></tr><tr><td>train_precision</td><td>0.18759</td></tr><tr><td>train_recall</td><td>0.65733</td></tr><tr><td>train_roc_auc</td><td>0.78719</td></tr></table><br/></div></div>"
      ],
      "text/plain": [
       "<IPython.core.display.HTML object>"
      ]
     },
     "metadata": {},
     "output_type": "display_data"
    },
    {
     "data": {
      "text/html": [
       "Synced <strong style=\"color:#cdcd00\">revived-snowball-117</strong>: <a href=\"https://wandb.ai/zuozhe/fraud_detection/runs/s875kwfa\" target=\"_blank\">https://wandb.ai/zuozhe/fraud_detection/runs/s875kwfa</a><br/>Synced 5 W&B file(s), 0 media file(s), 0 artifact file(s) and 0 other file(s)"
      ],
      "text/plain": [
       "<IPython.core.display.HTML object>"
      ]
     },
     "metadata": {},
     "output_type": "display_data"
    },
    {
     "data": {
      "text/html": [
       "Find logs at: <code>.\\wandb\\run-20220407_182114-s875kwfa\\logs</code>"
      ],
      "text/plain": [
       "<IPython.core.display.HTML object>"
      ]
     },
     "metadata": {},
     "output_type": "display_data"
    },
    {
     "data": {
      "text/html": [
       "Successfully finished last run (ID:s875kwfa). Initializing new run:<br/>"
      ],
      "text/plain": [
       "<IPython.core.display.HTML object>"
      ]
     },
     "metadata": {},
     "output_type": "display_data"
    },
    {
     "data": {
      "text/html": [
       "Tracking run with wandb version 0.12.12"
      ],
      "text/plain": [
       "<IPython.core.display.HTML object>"
      ]
     },
     "metadata": {},
     "output_type": "display_data"
    },
    {
     "data": {
      "text/html": [
       "Run data is saved locally in <code>C:\\Users\\teozz\\OneDrive\\Desktop\\vscode_workspace\\projects\\credit_card_fraud_detection\\wandb\\run-20220407_182343-t6yrkoh4</code>"
      ],
      "text/plain": [
       "<IPython.core.display.HTML object>"
      ]
     },
     "metadata": {},
     "output_type": "display_data"
    },
    {
     "data": {
      "text/html": [
       "Syncing run <strong><a href=\"https://wandb.ai/zuozhe/fraud_detection/runs/t6yrkoh4\" target=\"_blank\">expert-donkey-118</a></strong> to <a href=\"https://wandb.ai/zuozhe/fraud_detection\" target=\"_blank\">Weights & Biases</a> (<a href=\"https://wandb.me/run\" target=\"_blank\">docs</a>)<br/>"
      ],
      "text/plain": [
       "<IPython.core.display.HTML object>"
      ]
     },
     "metadata": {},
     "output_type": "display_data"
    },
    {
     "name": "stdout",
     "output_type": "stream",
     "text": [
      "Params {'C': 1.2, 'fit_intercept': True, 'penalty': 'l2'}\n"
     ]
    },
    {
     "data": {
      "text/html": [
       "Finishing last run (ID:t6yrkoh4) before initializing another..."
      ],
      "text/plain": [
       "<IPython.core.display.HTML object>"
      ]
     },
     "metadata": {},
     "output_type": "display_data"
    },
    {
     "name": "stdout",
     "output_type": "stream",
     "text": [
      "\n"
     ]
    },
    {
     "data": {
      "text/html": [
       "Waiting for W&B process to finish... <strong style=\"color:green\">(success).</strong>"
      ],
      "text/plain": [
       "<IPython.core.display.HTML object>"
      ]
     },
     "metadata": {},
     "output_type": "display_data"
    },
    {
     "data": {
      "text/html": [
       "<style>\n",
       "    table.wandb td:nth-child(1) { padding: 0 10px; text-align: right }\n",
       "    .wandb-row { display: flex; flex-direction: row; flex-wrap: wrap; width: 100% }\n",
       "    .wandb-col { display: flex; flex-direction: column; flex-basis: 100%; flex: 1; padding: 10px; }\n",
       "    </style>\n",
       "<div class=\"wandb-row\"><div class=\"wandb-col\"><h3>Run history:</h3><br/><table class=\"wandb\"><tr><td>C</td><td>▁</td></tr><tr><td>fit_intercept</td><td>▁</td></tr><tr><td>fit_time</td><td>▁</td></tr><tr><td>on_golden_test</td><td>▁</td></tr><tr><td>score_time</td><td>▁</td></tr><tr><td>test_accuracy</td><td>▁</td></tr><tr><td>test_average_precision</td><td>▁</td></tr><tr><td>test_f1</td><td>▁</td></tr><tr><td>test_precision</td><td>▁</td></tr><tr><td>test_recall</td><td>▁</td></tr><tr><td>test_roc_auc</td><td>▁</td></tr><tr><td>train_accuracy</td><td>▁</td></tr><tr><td>train_average_precision</td><td>▁</td></tr><tr><td>train_f1</td><td>▁</td></tr><tr><td>train_precision</td><td>▁</td></tr><tr><td>train_recall</td><td>▁</td></tr><tr><td>train_roc_auc</td><td>▁</td></tr></table><br/></div><div class=\"wandb-col\"><h3>Run summary:</h3><br/><table class=\"wandb\"><tr><td>C</td><td>1.2</td></tr><tr><td>fit_intercept</td><td>True</td></tr><tr><td>fit_time</td><td>69.76</td></tr><tr><td>model_name</td><td>LinearSVC</td></tr><tr><td>on_golden_test</td><td>False</td></tr><tr><td>penalty</td><td>l2</td></tr><tr><td>score_time</td><td>0.1388</td></tr><tr><td>test_accuracy</td><td>0.99934</td></tr><tr><td>test_average_precision</td><td>0.76035</td></tr><tr><td>test_f1</td><td>0.79218</td></tr><tr><td>test_precision</td><td>0.86603</td></tr><tr><td>test_recall</td><td>0.7348</td></tr><tr><td>test_roc_auc</td><td>0.98028</td></tr><tr><td>train_accuracy</td><td>0.99932</td></tr><tr><td>train_average_precision</td><td>0.75016</td></tr><tr><td>train_f1</td><td>0.78749</td></tr><tr><td>train_precision</td><td>0.85318</td></tr><tr><td>train_recall</td><td>0.73143</td></tr><tr><td>train_roc_auc</td><td>0.98119</td></tr></table><br/></div></div>"
      ],
      "text/plain": [
       "<IPython.core.display.HTML object>"
      ]
     },
     "metadata": {},
     "output_type": "display_data"
    },
    {
     "data": {
      "text/html": [
       "Synced <strong style=\"color:#cdcd00\">expert-donkey-118</strong>: <a href=\"https://wandb.ai/zuozhe/fraud_detection/runs/t6yrkoh4\" target=\"_blank\">https://wandb.ai/zuozhe/fraud_detection/runs/t6yrkoh4</a><br/>Synced 5 W&B file(s), 0 media file(s), 0 artifact file(s) and 0 other file(s)"
      ],
      "text/plain": [
       "<IPython.core.display.HTML object>"
      ]
     },
     "metadata": {},
     "output_type": "display_data"
    },
    {
     "data": {
      "text/html": [
       "Find logs at: <code>.\\wandb\\run-20220407_182343-t6yrkoh4\\logs</code>"
      ],
      "text/plain": [
       "<IPython.core.display.HTML object>"
      ]
     },
     "metadata": {},
     "output_type": "display_data"
    },
    {
     "data": {
      "text/html": [
       "Successfully finished last run (ID:t6yrkoh4). Initializing new run:<br/>"
      ],
      "text/plain": [
       "<IPython.core.display.HTML object>"
      ]
     },
     "metadata": {},
     "output_type": "display_data"
    },
    {
     "data": {
      "text/html": [
       "Tracking run with wandb version 0.12.12"
      ],
      "text/plain": [
       "<IPython.core.display.HTML object>"
      ]
     },
     "metadata": {},
     "output_type": "display_data"
    },
    {
     "data": {
      "text/html": [
       "Run data is saved locally in <code>C:\\Users\\teozz\\OneDrive\\Desktop\\vscode_workspace\\projects\\credit_card_fraud_detection\\wandb\\run-20220407_182554-3de1f76m</code>"
      ],
      "text/plain": [
       "<IPython.core.display.HTML object>"
      ]
     },
     "metadata": {},
     "output_type": "display_data"
    },
    {
     "data": {
      "text/html": [
       "Syncing run <strong><a href=\"https://wandb.ai/zuozhe/fraud_detection/runs/3de1f76m\" target=\"_blank\">hardy-donkey-119</a></strong> to <a href=\"https://wandb.ai/zuozhe/fraud_detection\" target=\"_blank\">Weights & Biases</a> (<a href=\"https://wandb.me/run\" target=\"_blank\">docs</a>)<br/>"
      ],
      "text/plain": [
       "<IPython.core.display.HTML object>"
      ]
     },
     "metadata": {},
     "output_type": "display_data"
    },
    {
     "name": "stdout",
     "output_type": "stream",
     "text": [
      "Params {'C': 1.2, 'fit_intercept': False, 'penalty': 'l2'}\n"
     ]
    },
    {
     "name": "stderr",
     "output_type": "stream",
     "text": [
      "c:\\users\\teozz\\onedrive\\desktop\\vscode_workspace\\projects\\credit_card_fraud_detection\\venv\\lib\\site-packages\\sklearn\\svm\\_base.py:1206: ConvergenceWarning: Liblinear failed to converge, increase the number of iterations.\n",
      "  warnings.warn(\n",
      "\u001b[34m\u001b[1mwandb\u001b[0m: \n",
      "\u001b[34m\u001b[1mwandb\u001b[0m: Plotting LinearSVC.\n",
      "c:\\users\\teozz\\onedrive\\desktop\\vscode_workspace\\projects\\credit_card_fraud_detection\\venv\\lib\\site-packages\\sklearn\\base.py:450: UserWarning: X does not have valid feature names, but RobustScaler was fitted with feature names\n",
      "  warnings.warn(\n",
      "\u001b[34m\u001b[1mwandb\u001b[0m: \u001b[33mWARNING\u001b[0m could not find any of attributes feature_importances_, feature_log_prob_, coef_ on classifier. Cannot plot feature importances.\n",
      "\u001b[34m\u001b[1mwandb\u001b[0m: Logged feature importances.\n",
      "\u001b[34m\u001b[1mwandb\u001b[0m: Logged confusion matrix.\n",
      "c:\\users\\teozz\\onedrive\\desktop\\vscode_workspace\\projects\\credit_card_fraud_detection\\venv\\lib\\site-packages\\sklearn\\base.py:450: UserWarning: X does not have valid feature names, but RobustScaler was fitted with feature names\n",
      "  warnings.warn(\n",
      "\u001b[34m\u001b[1mwandb\u001b[0m: Logged summary metrics.\n",
      "\u001b[34m\u001b[1mwandb\u001b[0m: Logged class proportions.\n",
      "c:\\users\\teozz\\onedrive\\desktop\\vscode_workspace\\projects\\credit_card_fraud_detection\\venv\\lib\\site-packages\\sklearn\\base.py:450: UserWarning: X does not have valid feature names, but RobustScaler was fitted with feature names\n",
      "  warnings.warn(\n",
      "c:\\users\\teozz\\onedrive\\desktop\\vscode_workspace\\projects\\credit_card_fraud_detection\\venv\\lib\\site-packages\\sklearn\\linear_model\\_logistic.py:814: ConvergenceWarning: lbfgs failed to converge (status=1):\n",
      "STOP: TOTAL NO. of ITERATIONS REACHED LIMIT.\n",
      "\n",
      "Increase the number of iterations (max_iter) or scale the data as shown in:\n",
      "    https://scikit-learn.org/stable/modules/preprocessing.html\n",
      "Please also refer to the documentation for alternative solver options:\n",
      "    https://scikit-learn.org/stable/modules/linear_model.html#logistic-regression\n",
      "  n_iter_i = _check_optimize_result(\n",
      "c:\\users\\teozz\\onedrive\\desktop\\vscode_workspace\\projects\\credit_card_fraud_detection\\venv\\lib\\site-packages\\sklearn\\svm\\_base.py:1206: ConvergenceWarning: Liblinear failed to converge, increase the number of iterations.\n",
      "  warnings.warn(\n",
      "c:\\users\\teozz\\onedrive\\desktop\\vscode_workspace\\projects\\credit_card_fraud_detection\\venv\\lib\\site-packages\\sklearn\\svm\\_base.py:1206: ConvergenceWarning: Liblinear failed to converge, increase the number of iterations.\n",
      "  warnings.warn(\n",
      "c:\\users\\teozz\\onedrive\\desktop\\vscode_workspace\\projects\\credit_card_fraud_detection\\venv\\lib\\site-packages\\sklearn\\svm\\_base.py:1206: ConvergenceWarning: Liblinear failed to converge, increase the number of iterations.\n",
      "  warnings.warn(\n",
      "c:\\users\\teozz\\onedrive\\desktop\\vscode_workspace\\projects\\credit_card_fraud_detection\\venv\\lib\\site-packages\\sklearn\\svm\\_base.py:1206: ConvergenceWarning: Liblinear failed to converge, increase the number of iterations.\n",
      "  warnings.warn(\n",
      "\u001b[34m\u001b[1mwandb\u001b[0m: Logged calibration curve.\n",
      "\u001b[34m\u001b[1mwandb\u001b[0m: Logged roc curve.\n",
      "\u001b[34m\u001b[1mwandb\u001b[0m: Logged precision-recall curve.\n"
     ]
    },
    {
     "name": "stdout",
     "output_type": "stream",
     "text": [
      "\n"
     ]
    },
    {
     "data": {
      "text/html": [
       "Waiting for W&B process to finish... <strong style=\"color:green\">(success).</strong>"
      ],
      "text/plain": [
       "<IPython.core.display.HTML object>"
      ]
     },
     "metadata": {},
     "output_type": "display_data"
    },
    {
     "data": {
      "text/html": [
       "<style>\n",
       "    table.wandb td:nth-child(1) { padding: 0 10px; text-align: right }\n",
       "    .wandb-row { display: flex; flex-direction: row; flex-wrap: wrap; width: 100% }\n",
       "    .wandb-col { display: flex; flex-direction: column; flex-basis: 100%; flex: 1; padding: 10px; }\n",
       "    </style>\n",
       "<div class=\"wandb-row\"><div class=\"wandb-col\"><h3>Run history:</h3><br/><table class=\"wandb\"><tr><td>C</td><td>█▁</td></tr><tr><td>fit_intercept</td><td>▁█</td></tr><tr><td>fit_time</td><td>▁</td></tr><tr><td>on_golden_test</td><td>▁█</td></tr><tr><td>score_time</td><td>▁</td></tr><tr><td>test_accuracy</td><td>▁█</td></tr><tr><td>test_average_precision</td><td>▁█</td></tr><tr><td>test_f1</td><td>▁█</td></tr><tr><td>test_precision</td><td>▁█</td></tr><tr><td>test_recall</td><td>▁█</td></tr><tr><td>test_roc_auc</td><td>▁█</td></tr><tr><td>train_accuracy</td><td>▁█</td></tr><tr><td>train_average_precision</td><td>▁█</td></tr><tr><td>train_f1</td><td>▁█</td></tr><tr><td>train_precision</td><td>▁█</td></tr><tr><td>train_recall</td><td>▁█</td></tr><tr><td>train_roc_auc</td><td>▁█</td></tr></table><br/></div><div class=\"wandb-col\"><h3>Run summary:</h3><br/><table class=\"wandb\"><tr><td>C</td><td>1.0</td></tr><tr><td>fit_intercept</td><td>True</td></tr><tr><td>fit_time</td><td>93.26781</td></tr><tr><td>model_name</td><td>LinearSVC</td></tr><tr><td>on_golden_test</td><td>True</td></tr><tr><td>penalty</td><td>l2</td></tr><tr><td>score_time</td><td>0.1824</td></tr><tr><td>test_accuracy</td><td>0.9992</td></tr><tr><td>test_average_precision</td><td>0.58442</td></tr><tr><td>test_f1</td><td>0.76389</td></tr><tr><td>test_precision</td><td>0.78571</td></tr><tr><td>test_recall</td><td>0.74324</td></tr><tr><td>test_roc_auc</td><td>0.87145</td></tr><tr><td>train_accuracy</td><td>0.9994</td></tr><tr><td>train_average_precision</td><td>0.66345</td></tr><tr><td>train_f1</td><td>0.81095</td></tr><tr><td>train_precision</td><td>0.89112</td></tr><tr><td>train_recall</td><td>0.74402</td></tr><tr><td>train_roc_auc</td><td>0.87193</td></tr></table><br/></div></div>"
      ],
      "text/plain": [
       "<IPython.core.display.HTML object>"
      ]
     },
     "metadata": {},
     "output_type": "display_data"
    },
    {
     "data": {
      "text/html": [
       "Synced <strong style=\"color:#cdcd00\">hardy-donkey-119</strong>: <a href=\"https://wandb.ai/zuozhe/fraud_detection/runs/3de1f76m\" target=\"_blank\">https://wandb.ai/zuozhe/fraud_detection/runs/3de1f76m</a><br/>Synced 5 W&B file(s), 6 media file(s), 6 artifact file(s) and 0 other file(s)"
      ],
      "text/plain": [
       "<IPython.core.display.HTML object>"
      ]
     },
     "metadata": {},
     "output_type": "display_data"
    },
    {
     "data": {
      "text/html": [
       "Find logs at: <code>.\\wandb\\run-20220407_182554-3de1f76m\\logs</code>"
      ],
      "text/plain": [
       "<IPython.core.display.HTML object>"
      ]
     },
     "metadata": {},
     "output_type": "display_data"
    },
    {
     "data": {
      "text/html": [
       "<div>\n",
       "<style scoped>\n",
       "    .dataframe tbody tr th:only-of-type {\n",
       "        vertical-align: middle;\n",
       "    }\n",
       "\n",
       "    .dataframe tbody tr th {\n",
       "        vertical-align: top;\n",
       "    }\n",
       "\n",
       "    .dataframe thead th {\n",
       "        text-align: right;\n",
       "    }\n",
       "</style>\n",
       "<table border=\"1\" class=\"dataframe\">\n",
       "  <thead>\n",
       "    <tr style=\"text-align: right;\">\n",
       "      <th></th>\n",
       "      <th>LGBMClassifier</th>\n",
       "      <th>RandomForestClassifier</th>\n",
       "      <th>LogisticRegression</th>\n",
       "      <th>LinearSVC</th>\n",
       "    </tr>\n",
       "  </thead>\n",
       "  <tbody>\n",
       "    <tr>\n",
       "      <th>train_average_precision</th>\n",
       "      <td>1.000000</td>\n",
       "      <td>1.000000</td>\n",
       "      <td>0.782658</td>\n",
       "      <td>0.663450</td>\n",
       "    </tr>\n",
       "    <tr>\n",
       "      <th>train_f1</th>\n",
       "      <td>0.998805</td>\n",
       "      <td>1.000000</td>\n",
       "      <td>0.759285</td>\n",
       "      <td>0.810952</td>\n",
       "    </tr>\n",
       "    <tr>\n",
       "      <th>train_precision</th>\n",
       "      <td>0.997613</td>\n",
       "      <td>1.000000</td>\n",
       "      <td>0.893204</td>\n",
       "      <td>0.891117</td>\n",
       "    </tr>\n",
       "    <tr>\n",
       "      <th>train_recall</th>\n",
       "      <td>1.000000</td>\n",
       "      <td>1.000000</td>\n",
       "      <td>0.660287</td>\n",
       "      <td>0.744019</td>\n",
       "    </tr>\n",
       "    <tr>\n",
       "      <th>train_roc_auc</th>\n",
       "      <td>1.000000</td>\n",
       "      <td>1.000000</td>\n",
       "      <td>0.983267</td>\n",
       "      <td>0.871931</td>\n",
       "    </tr>\n",
       "    <tr>\n",
       "      <th>train_accuracy</th>\n",
       "      <td>0.999996</td>\n",
       "      <td>1.000000</td>\n",
       "      <td>0.999277</td>\n",
       "      <td>0.999401</td>\n",
       "    </tr>\n",
       "    <tr>\n",
       "      <th>test_average_precision</th>\n",
       "      <td>0.851988</td>\n",
       "      <td>0.821915</td>\n",
       "      <td>0.701800</td>\n",
       "      <td>0.584422</td>\n",
       "    </tr>\n",
       "    <tr>\n",
       "      <th>test_f1</th>\n",
       "      <td>0.821918</td>\n",
       "      <td>0.861314</td>\n",
       "      <td>0.731343</td>\n",
       "      <td>0.763889</td>\n",
       "    </tr>\n",
       "    <tr>\n",
       "      <th>test_precision</th>\n",
       "      <td>0.833333</td>\n",
       "      <td>0.936508</td>\n",
       "      <td>0.816667</td>\n",
       "      <td>0.785714</td>\n",
       "    </tr>\n",
       "    <tr>\n",
       "      <th>test_recall</th>\n",
       "      <td>0.810811</td>\n",
       "      <td>0.797297</td>\n",
       "      <td>0.662162</td>\n",
       "      <td>0.743243</td>\n",
       "    </tr>\n",
       "    <tr>\n",
       "      <th>test_roc_auc</th>\n",
       "      <td>0.976164</td>\n",
       "      <td>0.937061</td>\n",
       "      <td>0.945542</td>\n",
       "      <td>0.871446</td>\n",
       "    </tr>\n",
       "    <tr>\n",
       "      <th>test_accuracy</th>\n",
       "      <td>0.999391</td>\n",
       "      <td>0.999555</td>\n",
       "      <td>0.999157</td>\n",
       "      <td>0.999204</td>\n",
       "    </tr>\n",
       "  </tbody>\n",
       "</table>\n",
       "</div>"
      ],
      "text/plain": [
       "                         LGBMClassifier  RandomForestClassifier  LogisticRegression  LinearSVC\n",
       "train_average_precision        1.000000                1.000000            0.782658   0.663450\n",
       "train_f1                       0.998805                1.000000            0.759285   0.810952\n",
       "train_precision                0.997613                1.000000            0.893204   0.891117\n",
       "train_recall                   1.000000                1.000000            0.660287   0.744019\n",
       "train_roc_auc                  1.000000                1.000000            0.983267   0.871931\n",
       "train_accuracy                 0.999996                1.000000            0.999277   0.999401\n",
       "test_average_precision         0.851988                0.821915            0.701800   0.584422\n",
       "test_f1                        0.821918                0.861314            0.731343   0.763889\n",
       "test_precision                 0.833333                0.936508            0.816667   0.785714\n",
       "test_recall                    0.810811                0.797297            0.662162   0.743243\n",
       "test_roc_auc                   0.976164                0.937061            0.945542   0.871446\n",
       "test_accuracy                  0.999391                0.999555            0.999157   0.999204"
      ]
     },
     "execution_count": 3,
     "metadata": {},
     "output_type": "execute_result"
    }
   ],
   "source": [
    "trainer()"
   ]
  },
  {
   "cell_type": "code",
   "execution_count": null,
   "id": "bca3a216",
   "metadata": {},
   "outputs": [],
   "source": []
  }
 ],
 "metadata": {
  "kernelspec": {
   "display_name": "Python 3 (ipykernel)",
   "language": "python",
   "name": "python3"
  },
  "language_info": {
   "codemirror_mode": {
    "name": "ipython",
    "version": 3
   },
   "file_extension": ".py",
   "mimetype": "text/x-python",
   "name": "python",
   "nbconvert_exporter": "python",
   "pygments_lexer": "ipython3",
   "version": "3.8.6"
  },
  "varInspector": {
   "cols": {
    "lenName": 16,
    "lenType": 16,
    "lenVar": 40
   },
   "kernels_config": {
    "python": {
     "delete_cmd_postfix": "",
     "delete_cmd_prefix": "del ",
     "library": "var_list.py",
     "varRefreshCmd": "print(var_dic_list())"
    },
    "r": {
     "delete_cmd_postfix": ") ",
     "delete_cmd_prefix": "rm(",
     "library": "var_list.r",
     "varRefreshCmd": "cat(var_dic_list()) "
    }
   },
   "types_to_exclude": [
    "module",
    "function",
    "builtin_function_or_method",
    "instance",
    "_Feature"
   ],
   "window_display": false
  }
 },
 "nbformat": 4,
 "nbformat_minor": 5
}
